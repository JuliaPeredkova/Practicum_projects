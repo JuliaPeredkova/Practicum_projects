{
 "cells": [
  {
   "cell_type": "markdown",
   "metadata": {
    "toc": true
   },
   "source": [
    "<h1>Содержание<span class=\"tocSkip\"></span></h1>\n",
    "<div class=\"toc\"><ul class=\"toc-item\"><li><span><a href=\"#Подготовка\" data-toc-modified-id=\"Подготовка-1\"><span class=\"toc-item-num\">1&nbsp;&nbsp;</span>Подготовка</a></span><ul class=\"toc-item\"><li><span><a href=\"#Установка-необходимых-версий,-загрузки-библиотек-и-объявление-констант\" data-toc-modified-id=\"Установка-необходимых-версий,-загрузки-библиотек-и-объявление-констант-1.1\"><span class=\"toc-item-num\">1.1&nbsp;&nbsp;</span>Установка необходимых версий, загрузки библиотек и объявление констант</a></span></li><li><span><a href=\"#Загрузка-данных-из-файла\" data-toc-modified-id=\"Загрузка-данных-из-файла-1.2\"><span class=\"toc-item-num\">1.2&nbsp;&nbsp;</span>Загрузка данных из файла</a></span></li></ul></li><li><span><a href=\"#Анализ\" data-toc-modified-id=\"Анализ-2\"><span class=\"toc-item-num\">2&nbsp;&nbsp;</span>Анализ</a></span><ul class=\"toc-item\"><li><span><a href=\"#Построим-график-заказов-и-посмотрим-на-скользящее-среднее\" data-toc-modified-id=\"Построим-график-заказов-и-посмотрим-на-скользящее-среднее-2.1\"><span class=\"toc-item-num\">2.1&nbsp;&nbsp;</span>Построим график заказов и посмотрим на скользящее среднее</a></span></li><li><span><a href=\"#Посмотрим-на-тренды-и-сезонность\" data-toc-modified-id=\"Посмотрим-на-тренды-и-сезонность-2.2\"><span class=\"toc-item-num\">2.2&nbsp;&nbsp;</span>Посмотрим на тренды и сезонность</a></span></li><li><span><a href=\"#Создадим-новые-признаки\" data-toc-modified-id=\"Создадим-новые-признаки-2.3\"><span class=\"toc-item-num\">2.3&nbsp;&nbsp;</span>Создадим новые признаки</a></span></li><li><span><a href=\"#Разделим-выборку-на-тренировочную-и-тестовую-выборку\" data-toc-modified-id=\"Разделим-выборку-на-тренировочную-и-тестовую-выборку-2.4\"><span class=\"toc-item-num\">2.4&nbsp;&nbsp;</span>Разделим выборку на тренировочную и тестовую выборку</a></span></li></ul></li><li><span><a href=\"#Обучение\" data-toc-modified-id=\"Обучение-3\"><span class=\"toc-item-num\">3&nbsp;&nbsp;</span>Обучение</a></span></li><li><span><a href=\"#Тестирование\" data-toc-modified-id=\"Тестирование-4\"><span class=\"toc-item-num\">4&nbsp;&nbsp;</span>Тестирование</a></span></li><li><span><a href=\"#Вывод\" data-toc-modified-id=\"Вывод-5\"><span class=\"toc-item-num\">5&nbsp;&nbsp;</span>Вывод</a></span></li><li><span><a href=\"#Чек-лист-проверки\" data-toc-modified-id=\"Чек-лист-проверки-6\"><span class=\"toc-item-num\">6&nbsp;&nbsp;</span>Чек-лист проверки</a></span></li></ul></div>"
   ]
  },
  {
   "cell_type": "markdown",
   "metadata": {},
   "source": [
    "#  Прогнозирование заказов такси"
   ]
  },
  {
   "cell_type": "markdown",
   "metadata": {},
   "source": [
    "**Цель исследования:** Построить модель для прогнозирования заказов такси на следующий час\n",
    "\n",
    "**Описание проекта:** Компания «Чётенькое такси» собрала исторические данные о заказах такси в аэропортах. Чтобы привлекать больше водителей в период пиковой нагрузки, нужно спрогнозировать количество заказов такси на следующий час. Значение метрики *RMSE* на тестовой выборке должно быть не больше 48.\n",
    "\n",
    "**Ход работы:**\n",
    "\n",
    "1. Загрузить данные и выполнить их ресемплирование по одному часу.\n",
    "2. Проанализировать данные.\n",
    "3. Обучить разные модели с различными гиперпараметрами. Сделать тестовую выборку размером 10% от исходных данных.\n",
    "4. Проверить данные на тестовой выборке и сделать выводы.\n",
    "\n",
    "\n",
    "**Описание данных:** Данные лежат в файле `taxi.csv`. Количество заказов находится в столбце `num_orders`."
   ]
  },
  {
   "cell_type": "markdown",
   "metadata": {},
   "source": [
    "## Подготовка"
   ]
  },
  {
   "cell_type": "markdown",
   "metadata": {},
   "source": [
    "### Установка необходимых версий, загрузки библиотек и объявление констант"
   ]
  },
  {
   "cell_type": "code",
   "execution_count": 1,
   "metadata": {},
   "outputs": [
    {
     "name": "stdout",
     "output_type": "stream",
     "text": [
      "Requirement already satisfied: scikit-learn in c:\\users\\peredkova\\appdata\\local\\anaconda3\\lib\\site-packages (1.6.1)\n",
      "Requirement already satisfied: numpy>=1.19.5 in c:\\users\\peredkova\\appdata\\local\\anaconda3\\lib\\site-packages (from scikit-learn) (1.26.4)\n",
      "Requirement already satisfied: scipy>=1.6.0 in c:\\users\\peredkova\\appdata\\local\\anaconda3\\lib\\site-packages (from scikit-learn) (1.11.4)\n",
      "Requirement already satisfied: joblib>=1.2.0 in c:\\users\\peredkova\\appdata\\local\\anaconda3\\lib\\site-packages (from scikit-learn) (1.2.0)\n",
      "Requirement already satisfied: threadpoolctl>=3.1.0 in c:\\users\\peredkova\\appdata\\local\\anaconda3\\lib\\site-packages (from scikit-learn) (3.6.0)\n"
     ]
    }
   ],
   "source": [
    "!pip install -U scikit-learn"
   ]
  },
  {
   "cell_type": "code",
   "execution_count": 2,
   "metadata": {},
   "outputs": [
    {
     "name": "stdout",
     "output_type": "stream",
     "text": [
      "Requirement already satisfied: phik in c:\\users\\peredkova\\appdata\\local\\anaconda3\\lib\\site-packages (0.12.4)\n",
      "Requirement already satisfied: numpy>=1.18.0 in c:\\users\\peredkova\\appdata\\local\\anaconda3\\lib\\site-packages (from phik) (1.26.4)\n",
      "Requirement already satisfied: scipy>=1.5.2 in c:\\users\\peredkova\\appdata\\local\\anaconda3\\lib\\site-packages (from phik) (1.11.4)\n",
      "Requirement already satisfied: pandas>=0.25.1 in c:\\users\\peredkova\\appdata\\local\\anaconda3\\lib\\site-packages (from phik) (2.1.4)\n",
      "Requirement already satisfied: matplotlib>=2.2.3 in c:\\users\\peredkova\\appdata\\local\\anaconda3\\lib\\site-packages (from phik) (3.10.3)\n",
      "Requirement already satisfied: joblib>=0.14.1 in c:\\users\\peredkova\\appdata\\local\\anaconda3\\lib\\site-packages (from phik) (1.2.0)\n",
      "Requirement already satisfied: contourpy>=1.0.1 in c:\\users\\peredkova\\appdata\\local\\anaconda3\\lib\\site-packages (from matplotlib>=2.2.3->phik) (1.2.0)\n",
      "Requirement already satisfied: cycler>=0.10 in c:\\users\\peredkova\\appdata\\local\\anaconda3\\lib\\site-packages (from matplotlib>=2.2.3->phik) (0.11.0)\n",
      "Requirement already satisfied: fonttools>=4.22.0 in c:\\users\\peredkova\\appdata\\local\\anaconda3\\lib\\site-packages (from matplotlib>=2.2.3->phik) (4.25.0)\n",
      "Requirement already satisfied: kiwisolver>=1.3.1 in c:\\users\\peredkova\\appdata\\local\\anaconda3\\lib\\site-packages (from matplotlib>=2.2.3->phik) (1.4.4)\n",
      "Requirement already satisfied: packaging>=20.0 in c:\\users\\peredkova\\appdata\\local\\anaconda3\\lib\\site-packages (from matplotlib>=2.2.3->phik) (23.1)\n",
      "Requirement already satisfied: pillow>=8 in c:\\users\\peredkova\\appdata\\local\\anaconda3\\lib\\site-packages (from matplotlib>=2.2.3->phik) (10.2.0)\n",
      "Requirement already satisfied: pyparsing>=2.3.1 in c:\\users\\peredkova\\appdata\\local\\anaconda3\\lib\\site-packages (from matplotlib>=2.2.3->phik) (3.0.9)\n",
      "Requirement already satisfied: python-dateutil>=2.7 in c:\\users\\peredkova\\appdata\\local\\anaconda3\\lib\\site-packages (from matplotlib>=2.2.3->phik) (2.8.2)\n",
      "Requirement already satisfied: pytz>=2020.1 in c:\\users\\peredkova\\appdata\\local\\anaconda3\\lib\\site-packages (from pandas>=0.25.1->phik) (2023.3.post1)\n",
      "Requirement already satisfied: tzdata>=2022.1 in c:\\users\\peredkova\\appdata\\local\\anaconda3\\lib\\site-packages (from pandas>=0.25.1->phik) (2023.3)\n",
      "Requirement already satisfied: six>=1.5 in c:\\users\\peredkova\\appdata\\local\\anaconda3\\lib\\site-packages (from python-dateutil>=2.7->matplotlib>=2.2.3->phik) (1.16.0)\n"
     ]
    }
   ],
   "source": [
    "!pip install phik"
   ]
  },
  {
   "cell_type": "code",
   "execution_count": 3,
   "metadata": {},
   "outputs": [
    {
     "name": "stdout",
     "output_type": "stream",
     "text": [
      "Requirement already satisfied: shap in c:\\users\\peredkova\\appdata\\local\\anaconda3\\lib\\site-packages (0.47.2)\n",
      "Requirement already satisfied: matplotlib in c:\\users\\peredkova\\appdata\\local\\anaconda3\\lib\\site-packages (3.10.3)\n",
      "Requirement already satisfied: numpy in c:\\users\\peredkova\\appdata\\local\\anaconda3\\lib\\site-packages (from shap) (1.26.4)\n",
      "Requirement already satisfied: scipy in c:\\users\\peredkova\\appdata\\local\\anaconda3\\lib\\site-packages (from shap) (1.11.4)\n",
      "Requirement already satisfied: scikit-learn in c:\\users\\peredkova\\appdata\\local\\anaconda3\\lib\\site-packages (from shap) (1.6.1)\n",
      "Requirement already satisfied: pandas in c:\\users\\peredkova\\appdata\\local\\anaconda3\\lib\\site-packages (from shap) (2.1.4)\n",
      "Requirement already satisfied: tqdm>=4.27.0 in c:\\users\\peredkova\\appdata\\local\\anaconda3\\lib\\site-packages (from shap) (4.65.0)\n",
      "Requirement already satisfied: packaging>20.9 in c:\\users\\peredkova\\appdata\\local\\anaconda3\\lib\\site-packages (from shap) (23.1)\n",
      "Requirement already satisfied: slicer==0.0.8 in c:\\users\\peredkova\\appdata\\local\\anaconda3\\lib\\site-packages (from shap) (0.0.8)\n",
      "Requirement already satisfied: numba>=0.54 in c:\\users\\peredkova\\appdata\\local\\anaconda3\\lib\\site-packages (from shap) (0.59.0)\n",
      "Requirement already satisfied: cloudpickle in c:\\users\\peredkova\\appdata\\local\\anaconda3\\lib\\site-packages (from shap) (2.2.1)\n",
      "Requirement already satisfied: typing-extensions in c:\\users\\peredkova\\appdata\\local\\anaconda3\\lib\\site-packages (from shap) (4.13.2)\n",
      "Requirement already satisfied: contourpy>=1.0.1 in c:\\users\\peredkova\\appdata\\local\\anaconda3\\lib\\site-packages (from matplotlib) (1.2.0)\n",
      "Requirement already satisfied: cycler>=0.10 in c:\\users\\peredkova\\appdata\\local\\anaconda3\\lib\\site-packages (from matplotlib) (0.11.0)\n",
      "Requirement already satisfied: fonttools>=4.22.0 in c:\\users\\peredkova\\appdata\\local\\anaconda3\\lib\\site-packages (from matplotlib) (4.25.0)\n",
      "Requirement already satisfied: kiwisolver>=1.3.1 in c:\\users\\peredkova\\appdata\\local\\anaconda3\\lib\\site-packages (from matplotlib) (1.4.4)\n",
      "Requirement already satisfied: pillow>=8 in c:\\users\\peredkova\\appdata\\local\\anaconda3\\lib\\site-packages (from matplotlib) (10.2.0)\n",
      "Requirement already satisfied: pyparsing>=2.3.1 in c:\\users\\peredkova\\appdata\\local\\anaconda3\\lib\\site-packages (from matplotlib) (3.0.9)\n",
      "Requirement already satisfied: python-dateutil>=2.7 in c:\\users\\peredkova\\appdata\\local\\anaconda3\\lib\\site-packages (from matplotlib) (2.8.2)\n",
      "Requirement already satisfied: llvmlite<0.43,>=0.42.0dev0 in c:\\users\\peredkova\\appdata\\local\\anaconda3\\lib\\site-packages (from numba>=0.54->shap) (0.42.0)\n",
      "Requirement already satisfied: six>=1.5 in c:\\users\\peredkova\\appdata\\local\\anaconda3\\lib\\site-packages (from python-dateutil>=2.7->matplotlib) (1.16.0)\n",
      "Requirement already satisfied: colorama in c:\\users\\peredkova\\appdata\\local\\anaconda3\\lib\\site-packages (from tqdm>=4.27.0->shap) (0.4.6)\n",
      "Requirement already satisfied: pytz>=2020.1 in c:\\users\\peredkova\\appdata\\local\\anaconda3\\lib\\site-packages (from pandas->shap) (2023.3.post1)\n",
      "Requirement already satisfied: tzdata>=2022.1 in c:\\users\\peredkova\\appdata\\local\\anaconda3\\lib\\site-packages (from pandas->shap) (2023.3)\n",
      "Requirement already satisfied: joblib>=1.2.0 in c:\\users\\peredkova\\appdata\\local\\anaconda3\\lib\\site-packages (from scikit-learn->shap) (1.2.0)\n",
      "Requirement already satisfied: threadpoolctl>=3.1.0 in c:\\users\\peredkova\\appdata\\local\\anaconda3\\lib\\site-packages (from scikit-learn->shap) (3.6.0)\n"
     ]
    }
   ],
   "source": [
    "!pip install -U shap matplotlib"
   ]
  },
  {
   "cell_type": "code",
   "execution_count": 1,
   "metadata": {},
   "outputs": [],
   "source": [
    "import pandas as pd\n",
    "import matplotlib.pyplot as plt\n",
    "from statsmodels.tsa.seasonal import seasonal_decompose\n",
    "from sklearn.model_selection import train_test_split, TimeSeriesSplit \n",
    "from sklearn.preprocessing import StandardScaler, MinMaxScaler\n",
    "from sklearn.pipeline import Pipeline\n",
    "from sklearn.compose import ColumnTransformer\n",
    "from sklearn.linear_model import LinearRegression\n",
    "from sklearn.svm import SVC\n",
    "from sklearn.tree import DecisionTreeRegressor\n",
    "from sklearn.neighbors import KNeighborsRegressor\n",
    "from lightgbm import LGBMRegressor\n",
    "from sklearn.model_selection import RandomizedSearchCV\n",
    "from sklearn.metrics import mean_squared_error\n",
    "import shap\n",
    "from sklearn.preprocessing import OneHotEncoder\n",
    "from statsmodels.tsa.stattools import adfuller\n",
    "from statsmodels.graphics.tsaplots import plot_acf"
   ]
  },
  {
   "cell_type": "code",
   "execution_count": 2,
   "metadata": {},
   "outputs": [],
   "source": [
    "RANDOM_STATE = 42"
   ]
  },
  {
   "cell_type": "markdown",
   "metadata": {},
   "source": [
    "### Загрузка данных из файла"
   ]
  },
  {
   "cell_type": "markdown",
   "metadata": {},
   "source": [
    "Загрузим данные из файла, приведем дату к типу данных datetime, установим индекс таблицы, равным столбцу datetime"
   ]
  },
  {
   "cell_type": "code",
   "execution_count": 3,
   "metadata": {},
   "outputs": [],
   "source": [
    "data = pd.read_csv('taxi.csv', parse_dates=[0], index_col=[0])"
   ]
  },
  {
   "cell_type": "code",
   "execution_count": 4,
   "metadata": {},
   "outputs": [
    {
     "data": {
      "text/html": [
       "<div>\n",
       "<style scoped>\n",
       "    .dataframe tbody tr th:only-of-type {\n",
       "        vertical-align: middle;\n",
       "    }\n",
       "\n",
       "    .dataframe tbody tr th {\n",
       "        vertical-align: top;\n",
       "    }\n",
       "\n",
       "    .dataframe thead th {\n",
       "        text-align: right;\n",
       "    }\n",
       "</style>\n",
       "<table border=\"1\" class=\"dataframe\">\n",
       "  <thead>\n",
       "    <tr style=\"text-align: right;\">\n",
       "      <th></th>\n",
       "      <th>num_orders</th>\n",
       "    </tr>\n",
       "    <tr>\n",
       "      <th>datetime</th>\n",
       "      <th></th>\n",
       "    </tr>\n",
       "  </thead>\n",
       "  <tbody>\n",
       "    <tr>\n",
       "      <th>2018-03-01 00:00:00</th>\n",
       "      <td>9</td>\n",
       "    </tr>\n",
       "    <tr>\n",
       "      <th>2018-03-01 00:10:00</th>\n",
       "      <td>14</td>\n",
       "    </tr>\n",
       "    <tr>\n",
       "      <th>2018-03-01 00:20:00</th>\n",
       "      <td>28</td>\n",
       "    </tr>\n",
       "    <tr>\n",
       "      <th>2018-03-01 00:30:00</th>\n",
       "      <td>20</td>\n",
       "    </tr>\n",
       "    <tr>\n",
       "      <th>2018-03-01 00:40:00</th>\n",
       "      <td>32</td>\n",
       "    </tr>\n",
       "  </tbody>\n",
       "</table>\n",
       "</div>"
      ],
      "text/plain": [
       "                     num_orders\n",
       "datetime                       \n",
       "2018-03-01 00:00:00           9\n",
       "2018-03-01 00:10:00          14\n",
       "2018-03-01 00:20:00          28\n",
       "2018-03-01 00:30:00          20\n",
       "2018-03-01 00:40:00          32"
      ]
     },
     "execution_count": 4,
     "metadata": {},
     "output_type": "execute_result"
    }
   ],
   "source": [
    "data.head()"
   ]
  },
  {
   "cell_type": "code",
   "execution_count": 5,
   "metadata": {},
   "outputs": [
    {
     "name": "stdout",
     "output_type": "stream",
     "text": [
      "<class 'pandas.core.frame.DataFrame'>\n",
      "DatetimeIndex: 26496 entries, 2018-03-01 00:00:00 to 2018-08-31 23:50:00\n",
      "Data columns (total 1 columns):\n",
      " #   Column      Non-Null Count  Dtype\n",
      "---  ------      --------------  -----\n",
      " 0   num_orders  26496 non-null  int64\n",
      "dtypes: int64(1)\n",
      "memory usage: 414.0 KB\n"
     ]
    }
   ],
   "source": [
    "data.info()"
   ]
  },
  {
   "cell_type": "markdown",
   "metadata": {},
   "source": [
    "Отсортируем столбец datetime по возрастанию"
   ]
  },
  {
   "cell_type": "code",
   "execution_count": 6,
   "metadata": {},
   "outputs": [],
   "source": [
    "data.sort_index(inplace=True)"
   ]
  },
  {
   "cell_type": "markdown",
   "metadata": {},
   "source": [
    "Поверим, есть ли в таблице явные дубликаты"
   ]
  },
  {
   "cell_type": "code",
   "execution_count": 7,
   "metadata": {},
   "outputs": [
    {
     "data": {
      "text/plain": [
       "26415"
      ]
     },
     "execution_count": 7,
     "metadata": {},
     "output_type": "execute_result"
    }
   ],
   "source": [
    "data.duplicated().sum()"
   ]
  },
  {
   "cell_type": "markdown",
   "metadata": {},
   "source": [
    "Выделим временной промежуток, равный одному часу"
   ]
  },
  {
   "cell_type": "code",
   "execution_count": 8,
   "metadata": {},
   "outputs": [],
   "source": [
    "data = data.resample('1h').sum()"
   ]
  },
  {
   "cell_type": "code",
   "execution_count": 9,
   "metadata": {},
   "outputs": [
    {
     "data": {
      "text/html": [
       "<div>\n",
       "<style scoped>\n",
       "    .dataframe tbody tr th:only-of-type {\n",
       "        vertical-align: middle;\n",
       "    }\n",
       "\n",
       "    .dataframe tbody tr th {\n",
       "        vertical-align: top;\n",
       "    }\n",
       "\n",
       "    .dataframe thead th {\n",
       "        text-align: right;\n",
       "    }\n",
       "</style>\n",
       "<table border=\"1\" class=\"dataframe\">\n",
       "  <thead>\n",
       "    <tr style=\"text-align: right;\">\n",
       "      <th></th>\n",
       "      <th>num_orders</th>\n",
       "    </tr>\n",
       "    <tr>\n",
       "      <th>datetime</th>\n",
       "      <th></th>\n",
       "    </tr>\n",
       "  </thead>\n",
       "  <tbody>\n",
       "    <tr>\n",
       "      <th>2018-03-01 00:00:00</th>\n",
       "      <td>124</td>\n",
       "    </tr>\n",
       "    <tr>\n",
       "      <th>2018-03-01 01:00:00</th>\n",
       "      <td>85</td>\n",
       "    </tr>\n",
       "    <tr>\n",
       "      <th>2018-03-01 02:00:00</th>\n",
       "      <td>71</td>\n",
       "    </tr>\n",
       "    <tr>\n",
       "      <th>2018-03-01 03:00:00</th>\n",
       "      <td>66</td>\n",
       "    </tr>\n",
       "    <tr>\n",
       "      <th>2018-03-01 04:00:00</th>\n",
       "      <td>43</td>\n",
       "    </tr>\n",
       "  </tbody>\n",
       "</table>\n",
       "</div>"
      ],
      "text/plain": [
       "                     num_orders\n",
       "datetime                       \n",
       "2018-03-01 00:00:00         124\n",
       "2018-03-01 01:00:00          85\n",
       "2018-03-01 02:00:00          71\n",
       "2018-03-01 03:00:00          66\n",
       "2018-03-01 04:00:00          43"
      ]
     },
     "execution_count": 9,
     "metadata": {},
     "output_type": "execute_result"
    }
   ],
   "source": [
    "data.head()"
   ]
  },
  {
   "cell_type": "markdown",
   "metadata": {},
   "source": [
    "**Вывод:** Загрузила данные, поменяла тип даты на datetime, отсротировала значения даты по возрастанию, выполнила ресемплирование по одному часу."
   ]
  },
  {
   "cell_type": "markdown",
   "metadata": {},
   "source": [
    "## Анализ"
   ]
  },
  {
   "cell_type": "markdown",
   "metadata": {},
   "source": [
    "### Построим график заказов и посмотрим на скользящее среднее"
   ]
  },
  {
   "cell_type": "code",
   "execution_count": 10,
   "metadata": {},
   "outputs": [
    {
     "data": {
      "image/png": "[encoded data removed]",
      "text/plain": [
       "<Figure size 1200x800 with 1 Axes>"
      ]
     },
     "metadata": {},
     "output_type": "display_data"
    }
   ],
   "source": [
    "data.plot(figsize=(12, 8))\n",
    "plt.xlabel('Время')\n",
    "plt.ylabel('Количество заказов')\n",
    "plt.grid()\n",
    "plt.show()"
   ]
  },
  {
   "cell_type": "markdown",
   "metadata": {},
   "source": [
    "Данные предоставлены за 6 месяцев 2018 года, с марта по сентябрю"
   ]
  },
  {
   "cell_type": "markdown",
   "metadata": {},
   "source": [
    "### Посмотрим на тренды и сезонность"
   ]
  },
  {
   "cell_type": "code",
   "execution_count": 11,
   "metadata": {},
   "outputs": [],
   "source": [
    "decomposed = seasonal_decompose(data) "
   ]
  },
  {
   "cell_type": "code",
   "execution_count": 12,
   "metadata": {},
   "outputs": [
    {
     "data": {
      "image/png": "[encoded data removed]",
      "text/plain": [
       "<Figure size 1200x800 with 1 Axes>"
      ]
     },
     "metadata": {},
     "output_type": "display_data"
    }
   ],
   "source": [
    "decomposed.trend.plot(figsize=(12, 8))\n",
    "plt.xlabel('Время')\n",
    "plt.ylabel('Количество заказов')\n",
    "plt.title('Тренд')\n",
    "plt.grid()\n",
    "plt.show()"
   ]
  },
  {
   "cell_type": "markdown",
   "metadata": {},
   "source": [
    "С марта по сентябрь количество заказов стабильно растет, скорее всего это связано с сезоном отпусков"
   ]
  },
  {
   "cell_type": "markdown",
   "metadata": {},
   "source": [
    "Посмотрим сезонности ряда, чтобы график был информативен, выберем интервал, чтобы был виден каждый час"
   ]
  },
  {
   "cell_type": "code",
   "execution_count": 13,
   "metadata": {},
   "outputs": [],
   "source": [
    "data_seasonal = data['2018-03-01':'2018-03-02'].resample('1H').sum()\n",
    "decomposed_seasonal = seasonal_decompose(data_seasonal) "
   ]
  },
  {
   "cell_type": "code",
   "execution_count": 14,
   "metadata": {},
   "outputs": [
    {
     "data": {
      "image/png": "[encoded data removed]",
      "text/plain": [
       "<Figure size 1200x800 with 1 Axes>"
      ]
     },
     "metadata": {},
     "output_type": "display_data"
    }
   ],
   "source": [
    "decomposed_seasonal.seasonal.plot(figsize=(12, 8))\n",
    "plt.xlabel('Время')\n",
    "plt.ylabel('Количество заказов')\n",
    "plt.title('Сезонная составляющая')\n",
    "plt.grid(True)\n",
    "plt.show()"
   ]
  },
  {
   "cell_type": "markdown",
   "metadata": {},
   "source": [
    "Сезонность связана с временем суток. Ночью количество заказов меньше.</font>"
   ]
  },
  {
   "cell_type": "markdown",
   "metadata": {},
   "source": [
    "Ресемплируем ряд по дню и выведем интервал сезонной компоненты около месяца, так мы сможем увидеть сезонность внутри недели."
   ]
  },
  {
   "cell_type": "code",
   "execution_count": 15,
   "metadata": {},
   "outputs": [
    {
     "data": {
      "image/png": "[encoded data removed]",
      "text/plain": [
       "<Figure size 1200x800 with 1 Axes>"
      ]
     },
     "metadata": {},
     "output_type": "display_data"
    }
   ],
   "source": [
    "data_seasonal_week = data['2018-08-01':'2018-08-31'].resample('1D').sum()\n",
    "decomposed_seasonal_week = seasonal_decompose(data_seasonal_week)\n",
    "decomposed_seasonal_week.seasonal.plot(figsize=(12, 8))\n",
    "plt.xlabel('Время')\n",
    "plt.ylabel('Количество заказов')\n",
    "plt.title('Сезонная составляющая')\n",
    "plt.grid()\n",
    "plt.show()"
   ]
  },
  {
   "cell_type": "markdown",
   "metadata": {},
   "source": [
    "Пики активности приходятся на понедельники"
   ]
  },
  {
   "cell_type": "markdown",
   "metadata": {},
   "source": [
    "Проверим стационарность с помощью теста Дики-Фуллера"
   ]
  },
  {
   "cell_type": "markdown",
   "metadata": {},
   "source": [
    "H0: Процесс нестационарный\n",
    "\n",
    "H1: Процесс стационарный"
   ]
  },
  {
   "cell_type": "code",
   "execution_count": 16,
   "metadata": {
    "scrolled": true
   },
   "outputs": [
    {
     "data": {
      "text/plain": [
       "0.028940051402614502"
      ]
     },
     "execution_count": 16,
     "metadata": {},
     "output_type": "execute_result"
    }
   ],
   "source": [
    "adf_test = adfuller(data['num_orders'])\n",
    "adf_test[1]"
   ]
  },
  {
   "cell_type": "markdown",
   "metadata": {},
   "source": [
    "p-value меньше 0,05 мы можем отвергнуть гипотезу, что процесс нестационарый"
   ]
  },
  {
   "cell_type": "markdown",
   "metadata": {},
   "source": [
    "Значение с индексом 1 меньше P-Value, значит ряд стационарный."
   ]
  },
  {
   "cell_type": "markdown",
   "metadata": {},
   "source": [
    "### Создадим новые признаки"
   ]
  },
  {
   "cell_type": "markdown",
   "metadata": {},
   "source": [
    "* **Календарные признаки:** Добавим в таблицу час и день недели\n",
    "* **Отстающие значения**\n",
    "* **Скользящее среднее** "
   ]
  },
  {
   "cell_type": "code",
   "execution_count": 17,
   "metadata": {},
   "outputs": [],
   "source": [
    "def make_features(df, max_lag, rolling_mean_size):\n",
    "    df['hour'] = df.index.hour\n",
    "    df['day_of_week'] = df.index.dayofweek\n",
    "    \n",
    "    for lag in range(1, max_lag + 1):\n",
    "        data['lag_{}'.format(lag)] = data['num_orders'].shift(lag)\n",
    "        \n",
    "        data['rolling_mean'] = data['num_orders'].shift().rolling(rolling_mean_size).mean()\n",
    "        \n",
    "    data['diff'] = data['num_orders'].shift().diff(periods = 2)"
   ]
  },
  {
   "cell_type": "markdown",
   "metadata": {},
   "source": [
    "Так же позже добавила в признаки разность временного ряда, так как изначально модель сильно недоучилась."
   ]
  },
  {
   "cell_type": "code",
   "execution_count": 18,
   "metadata": {},
   "outputs": [],
   "source": [
    "make_features(data, 50, 4)"
   ]
  },
  {
   "cell_type": "code",
   "execution_count": 19,
   "metadata": {},
   "outputs": [
    {
     "data": {
      "image/png": "[encoded data removed]",
      "text/plain": [
       "<Figure size 640x480 with 1 Axes>"
      ]
     },
     "metadata": {},
     "output_type": "display_data"
    },
    {
     "data": {
      "text/plain": [
       "<Figure size 4000x2000 with 0 Axes>"
      ]
     },
     "metadata": {},
     "output_type": "display_data"
    }
   ],
   "source": [
    "plot_acf(data['num_orders'], lags=50, ax=plt.gca())\n",
    "plt.figure(figsize=(40,20))\n",
    "plt.show()"
   ]
  },
  {
   "cell_type": "markdown",
   "metadata": {},
   "source": [
    " Самые значимы лаги - 24й, 1й, 2й, 22й, 23й. Остальные столбцы я удалю."
   ]
  },
  {
   "cell_type": "code",
   "execution_count": 20,
   "metadata": {},
   "outputs": [],
   "source": [
    "data = data[['num_orders', 'hour', 'day_of_week', 'lag_1', 'lag_2', 'lag_22', 'lag_23', 'lag_24', 'lag_25']]"
   ]
  },
  {
   "cell_type": "code",
   "execution_count": 21,
   "metadata": {},
   "outputs": [
    {
     "data": {
      "text/html": [
       "<div>\n",
       "<style scoped>\n",
       "    .dataframe tbody tr th:only-of-type {\n",
       "        vertical-align: middle;\n",
       "    }\n",
       "\n",
       "    .dataframe tbody tr th {\n",
       "        vertical-align: top;\n",
       "    }\n",
       "\n",
       "    .dataframe thead th {\n",
       "        text-align: right;\n",
       "    }\n",
       "</style>\n",
       "<table border=\"1\" class=\"dataframe\">\n",
       "  <thead>\n",
       "    <tr style=\"text-align: right;\">\n",
       "      <th></th>\n",
       "      <th>num_orders</th>\n",
       "      <th>hour</th>\n",
       "      <th>day_of_week</th>\n",
       "      <th>lag_1</th>\n",
       "      <th>lag_2</th>\n",
       "      <th>lag_22</th>\n",
       "      <th>lag_23</th>\n",
       "      <th>lag_24</th>\n",
       "      <th>lag_25</th>\n",
       "    </tr>\n",
       "    <tr>\n",
       "      <th>datetime</th>\n",
       "      <th></th>\n",
       "      <th></th>\n",
       "      <th></th>\n",
       "      <th></th>\n",
       "      <th></th>\n",
       "      <th></th>\n",
       "      <th></th>\n",
       "      <th></th>\n",
       "      <th></th>\n",
       "    </tr>\n",
       "  </thead>\n",
       "  <tbody>\n",
       "    <tr>\n",
       "      <th>2018-03-01 00:00:00</th>\n",
       "      <td>124</td>\n",
       "      <td>0</td>\n",
       "      <td>3</td>\n",
       "      <td>NaN</td>\n",
       "      <td>NaN</td>\n",
       "      <td>NaN</td>\n",
       "      <td>NaN</td>\n",
       "      <td>NaN</td>\n",
       "      <td>NaN</td>\n",
       "    </tr>\n",
       "    <tr>\n",
       "      <th>2018-03-01 01:00:00</th>\n",
       "      <td>85</td>\n",
       "      <td>1</td>\n",
       "      <td>3</td>\n",
       "      <td>124.0</td>\n",
       "      <td>NaN</td>\n",
       "      <td>NaN</td>\n",
       "      <td>NaN</td>\n",
       "      <td>NaN</td>\n",
       "      <td>NaN</td>\n",
       "    </tr>\n",
       "    <tr>\n",
       "      <th>2018-03-01 02:00:00</th>\n",
       "      <td>71</td>\n",
       "      <td>2</td>\n",
       "      <td>3</td>\n",
       "      <td>85.0</td>\n",
       "      <td>124.0</td>\n",
       "      <td>NaN</td>\n",
       "      <td>NaN</td>\n",
       "      <td>NaN</td>\n",
       "      <td>NaN</td>\n",
       "    </tr>\n",
       "    <tr>\n",
       "      <th>2018-03-01 03:00:00</th>\n",
       "      <td>66</td>\n",
       "      <td>3</td>\n",
       "      <td>3</td>\n",
       "      <td>71.0</td>\n",
       "      <td>85.0</td>\n",
       "      <td>NaN</td>\n",
       "      <td>NaN</td>\n",
       "      <td>NaN</td>\n",
       "      <td>NaN</td>\n",
       "    </tr>\n",
       "    <tr>\n",
       "      <th>2018-03-01 04:00:00</th>\n",
       "      <td>43</td>\n",
       "      <td>4</td>\n",
       "      <td>3</td>\n",
       "      <td>66.0</td>\n",
       "      <td>71.0</td>\n",
       "      <td>NaN</td>\n",
       "      <td>NaN</td>\n",
       "      <td>NaN</td>\n",
       "      <td>NaN</td>\n",
       "    </tr>\n",
       "  </tbody>\n",
       "</table>\n",
       "</div>"
      ],
      "text/plain": [
       "                     num_orders  hour  day_of_week  lag_1  lag_2  lag_22  \\\n",
       "datetime                                                                   \n",
       "2018-03-01 00:00:00         124     0            3    NaN    NaN     NaN   \n",
       "2018-03-01 01:00:00          85     1            3  124.0    NaN     NaN   \n",
       "2018-03-01 02:00:00          71     2            3   85.0  124.0     NaN   \n",
       "2018-03-01 03:00:00          66     3            3   71.0   85.0     NaN   \n",
       "2018-03-01 04:00:00          43     4            3   66.0   71.0     NaN   \n",
       "\n",
       "                     lag_23  lag_24  lag_25  \n",
       "datetime                                     \n",
       "2018-03-01 00:00:00     NaN     NaN     NaN  \n",
       "2018-03-01 01:00:00     NaN     NaN     NaN  \n",
       "2018-03-01 02:00:00     NaN     NaN     NaN  \n",
       "2018-03-01 03:00:00     NaN     NaN     NaN  \n",
       "2018-03-01 04:00:00     NaN     NaN     NaN  "
      ]
     },
     "execution_count": 21,
     "metadata": {},
     "output_type": "execute_result"
    }
   ],
   "source": [
    "data.head()"
   ]
  },
  {
   "cell_type": "code",
   "execution_count": 22,
   "metadata": {},
   "outputs": [],
   "source": [
    "data = data.dropna(axis=0)"
   ]
  },
  {
   "cell_type": "code",
   "execution_count": 23,
   "metadata": {},
   "outputs": [
    {
     "data": {
      "text/html": [
       "<div>\n",
       "<style scoped>\n",
       "    .dataframe tbody tr th:only-of-type {\n",
       "        vertical-align: middle;\n",
       "    }\n",
       "\n",
       "    .dataframe tbody tr th {\n",
       "        vertical-align: top;\n",
       "    }\n",
       "\n",
       "    .dataframe thead th {\n",
       "        text-align: right;\n",
       "    }\n",
       "</style>\n",
       "<table border=\"1\" class=\"dataframe\">\n",
       "  <thead>\n",
       "    <tr style=\"text-align: right;\">\n",
       "      <th></th>\n",
       "      <th>num_orders</th>\n",
       "      <th>hour</th>\n",
       "      <th>day_of_week</th>\n",
       "      <th>lag_1</th>\n",
       "      <th>lag_2</th>\n",
       "      <th>lag_22</th>\n",
       "      <th>lag_23</th>\n",
       "      <th>lag_24</th>\n",
       "      <th>lag_25</th>\n",
       "    </tr>\n",
       "    <tr>\n",
       "      <th>datetime</th>\n",
       "      <th></th>\n",
       "      <th></th>\n",
       "      <th></th>\n",
       "      <th></th>\n",
       "      <th></th>\n",
       "      <th></th>\n",
       "      <th></th>\n",
       "      <th></th>\n",
       "      <th></th>\n",
       "    </tr>\n",
       "  </thead>\n",
       "  <tbody>\n",
       "    <tr>\n",
       "      <th>2018-03-02 01:00:00</th>\n",
       "      <td>120</td>\n",
       "      <td>1</td>\n",
       "      <td>4</td>\n",
       "      <td>90.0</td>\n",
       "      <td>58.0</td>\n",
       "      <td>66.0</td>\n",
       "      <td>71.0</td>\n",
       "      <td>85.0</td>\n",
       "      <td>124.0</td>\n",
       "    </tr>\n",
       "    <tr>\n",
       "      <th>2018-03-02 02:00:00</th>\n",
       "      <td>75</td>\n",
       "      <td>2</td>\n",
       "      <td>4</td>\n",
       "      <td>120.0</td>\n",
       "      <td>90.0</td>\n",
       "      <td>43.0</td>\n",
       "      <td>66.0</td>\n",
       "      <td>71.0</td>\n",
       "      <td>85.0</td>\n",
       "    </tr>\n",
       "    <tr>\n",
       "      <th>2018-03-02 03:00:00</th>\n",
       "      <td>64</td>\n",
       "      <td>3</td>\n",
       "      <td>4</td>\n",
       "      <td>75.0</td>\n",
       "      <td>120.0</td>\n",
       "      <td>6.0</td>\n",
       "      <td>43.0</td>\n",
       "      <td>66.0</td>\n",
       "      <td>71.0</td>\n",
       "    </tr>\n",
       "    <tr>\n",
       "      <th>2018-03-02 04:00:00</th>\n",
       "      <td>20</td>\n",
       "      <td>4</td>\n",
       "      <td>4</td>\n",
       "      <td>64.0</td>\n",
       "      <td>75.0</td>\n",
       "      <td>12.0</td>\n",
       "      <td>6.0</td>\n",
       "      <td>43.0</td>\n",
       "      <td>66.0</td>\n",
       "    </tr>\n",
       "    <tr>\n",
       "      <th>2018-03-02 05:00:00</th>\n",
       "      <td>11</td>\n",
       "      <td>5</td>\n",
       "      <td>4</td>\n",
       "      <td>20.0</td>\n",
       "      <td>64.0</td>\n",
       "      <td>15.0</td>\n",
       "      <td>12.0</td>\n",
       "      <td>6.0</td>\n",
       "      <td>43.0</td>\n",
       "    </tr>\n",
       "  </tbody>\n",
       "</table>\n",
       "</div>"
      ],
      "text/plain": [
       "                     num_orders  hour  day_of_week  lag_1  lag_2  lag_22  \\\n",
       "datetime                                                                   \n",
       "2018-03-02 01:00:00         120     1            4   90.0   58.0    66.0   \n",
       "2018-03-02 02:00:00          75     2            4  120.0   90.0    43.0   \n",
       "2018-03-02 03:00:00          64     3            4   75.0  120.0     6.0   \n",
       "2018-03-02 04:00:00          20     4            4   64.0   75.0    12.0   \n",
       "2018-03-02 05:00:00          11     5            4   20.0   64.0    15.0   \n",
       "\n",
       "                     lag_23  lag_24  lag_25  \n",
       "datetime                                     \n",
       "2018-03-02 01:00:00    71.0    85.0   124.0  \n",
       "2018-03-02 02:00:00    66.0    71.0    85.0  \n",
       "2018-03-02 03:00:00    43.0    66.0    71.0  \n",
       "2018-03-02 04:00:00     6.0    43.0    66.0  \n",
       "2018-03-02 05:00:00    12.0     6.0    43.0  "
      ]
     },
     "execution_count": 23,
     "metadata": {},
     "output_type": "execute_result"
    }
   ],
   "source": [
    "data.head()"
   ]
  },
  {
   "cell_type": "markdown",
   "metadata": {},
   "source": [
    "### Разделим выборку на тренировочную и тестовую выборку"
   ]
  },
  {
   "cell_type": "code",
   "execution_count": 24,
   "metadata": {},
   "outputs": [],
   "source": [
    "X = data.drop(['num_orders'], axis=1)\n",
    "y = data['num_orders']"
   ]
  },
  {
   "cell_type": "code",
   "execution_count": 25,
   "metadata": {},
   "outputs": [],
   "source": [
    "X_train, X_test, y_train, y_test = train_test_split(X, y, shuffle=False, test_size=0.1, random_state=RANDOM_STATE)"
   ]
  },
  {
   "cell_type": "markdown",
   "metadata": {},
   "source": [
    "Подготовим пайплайны для подготовки даннх"
   ]
  },
  {
   "cell_type": "code",
   "execution_count": 26,
   "metadata": {},
   "outputs": [],
   "source": [
    "num_columns = ['lag_1', 'lag_2', 'lag_22', 'lag_23', 'lag_24', 'lag_25']\n",
    "ohe_columns = ['hour', 'day_of_week']"
   ]
  },
  {
   "cell_type": "markdown",
   "metadata": {},
   "source": [
    "Кодируем признаки [dayofweek, hour] с помощью OHE-кодирования"
   ]
  },
  {
   "cell_type": "code",
   "execution_count": 27,
   "metadata": {},
   "outputs": [],
   "source": [
    "num_pipe = Pipeline(\n",
    "    [\n",
    "        ('scaler', StandardScaler())\n",
    "    ]\n",
    ")"
   ]
  },
  {
   "cell_type": "code",
   "execution_count": 28,
   "metadata": {},
   "outputs": [],
   "source": [
    "ohe_pipe = Pipeline(\n",
    "    [\n",
    "        ('ohe', OneHotEncoder(drop='first', handle_unknown='ignore', sparse_output=False))\n",
    "    ]\n",
    ")"
   ]
  },
  {
   "cell_type": "code",
   "execution_count": 29,
   "metadata": {},
   "outputs": [],
   "source": [
    "data_preprocessor = ColumnTransformer(\n",
    "    [\n",
    "        ('num', num_pipe, num_columns),\n",
    "        ('ohe', ohe_pipe, ohe_columns)\n",
    "    ],\n",
    "    remainder='passthrough',\n",
    "    force_int_remainder_cols=False\n",
    ")"
   ]
  },
  {
   "cell_type": "code",
   "execution_count": 30,
   "metadata": {},
   "outputs": [],
   "source": [
    "pipe_final = Pipeline(\n",
    "    [\n",
    "        ('preprocessor', data_preprocessor),\n",
    "        ('models', DecisionTreeRegressor())\n",
    "    ]\n",
    ")"
   ]
  },
  {
   "cell_type": "markdown",
   "metadata": {},
   "source": [
    "Подготовим пайплайн для поиска гиперпараметров"
   ]
  },
  {
   "cell_type": "code",
   "execution_count": 31,
   "metadata": {},
   "outputs": [],
   "source": [
    "param_grid = [\n",
    "    {\n",
    "        'models': [LinearRegression()],\n",
    "        'preprocessor__num': [StandardScaler(), MinMaxScaler(), 'passthrough']\n",
    "    },\n",
    "    {\n",
    "        'models': [SVC()],\n",
    "        'models__C': range(1, 5),\n",
    "        'models__kernel': ['linear', 'poly', 'rbf', 'sigmoid', 'precomputed'],\n",
    "        'preprocessor__num': [StandardScaler(), MinMaxScaler(), 'passthrough']\n",
    "    },\n",
    "    {\n",
    "        'models': [DecisionTreeRegressor(random_state=RANDOM_STATE)],\n",
    "        'models__max_depth': range(2, 10),\n",
    "        'models__min_samples_split': range(2, 10),\n",
    "        'preprocessor__num': [StandardScaler(), MinMaxScaler(), 'passthrough']\n",
    "    },\n",
    "    {\n",
    "        'models': [KNeighborsRegressor()],\n",
    "        'models__n_neighbors': range(2, 30),\n",
    "        'preprocessor__num': [StandardScaler(), MinMaxScaler(), 'passthrough']\n",
    "    },\n",
    "    {\n",
    "        'models': [LGBMRegressor()],\n",
    "        'models__num_leaves': range(1, 31),\n",
    "        'models__max_depth': range(1, 10),\n",
    "        'preprocessor__num': [StandardScaler(), MinMaxScaler(), 'passthrough']\n",
    "    }\n",
    "]"
   ]
  },
  {
   "cell_type": "code",
   "execution_count": 32,
   "metadata": {},
   "outputs": [],
   "source": [
    "tscv = TimeSeriesSplit(n_splits=3)"
   ]
  },
  {
   "cell_type": "code",
   "execution_count": 33,
   "metadata": {},
   "outputs": [],
   "source": [
    "randomized_search = RandomizedSearchCV(\n",
    "    pipe_final, \n",
    "    param_grid, \n",
    "    cv=tscv,\n",
    "    scoring='neg_root_mean_squared_error',\n",
    "    random_state=RANDOM_STATE,\n",
    "    n_jobs=-1,\n",
    "    n_iter=20\n",
    ")"
   ]
  },
  {
   "cell_type": "markdown",
   "metadata": {},
   "source": [
    "## Обучение"
   ]
  },
  {
   "cell_type": "markdown",
   "metadata": {},
   "source": [
    "Найдем лучшую модель и оценку"
   ]
  },
  {
   "cell_type": "code",
   "execution_count": 34,
   "metadata": {},
   "outputs": [
    {
     "name": "stdout",
     "output_type": "stream",
     "text": [
      "[LightGBM] [Info] Auto-choosing col-wise multi-threading, the overhead of testing was 0.000412 seconds.\n",
      "You can set `force_col_wise=true` to remove the overhead.\n",
      "[LightGBM] [Info] Total Bins 1194\n",
      "[LightGBM] [Info] Number of data points in the train set: 3951, number of used features: 35\n",
      "[LightGBM] [Info] Start training from score 78.448494\n",
      "[LightGBM] [Warning] No further splits with positive gain, best gain: -inf\n",
      "[LightGBM] [Warning] No further splits with positive gain, best gain: -inf\n",
      "[LightGBM] [Warning] No further splits with positive gain, best gain: -inf\n",
      "[LightGBM] [Warning] No further splits with positive gain, best gain: -inf\n",
      "[LightGBM] [Warning] No further splits with positive gain, best gain: -inf\n",
      "[LightGBM] [Warning] No further splits with positive gain, best gain: -inf\n",
      "[LightGBM] [Warning] No further splits with positive gain, best gain: -inf\n",
      "[LightGBM] [Warning] No further splits with positive gain, best gain: -inf\n",
      "[LightGBM] [Warning] No further splits with positive gain, best gain: -inf\n",
      "[LightGBM] [Warning] No further splits with positive gain, best gain: -inf\n",
      "[LightGBM] [Warning] No further splits with positive gain, best gain: -inf\n",
      "[LightGBM] [Warning] No further splits with positive gain, best gain: -inf\n",
      "[LightGBM] [Warning] No further splits with positive gain, best gain: -inf\n",
      "[LightGBM] [Warning] No further splits with positive gain, best gain: -inf\n",
      "[LightGBM] [Warning] No further splits with positive gain, best gain: -inf\n",
      "[LightGBM] [Warning] No further splits with positive gain, best gain: -inf\n",
      "[LightGBM] [Warning] No further splits with positive gain, best gain: -inf\n",
      "[LightGBM] [Warning] No further splits with positive gain, best gain: -inf\n",
      "[LightGBM] [Warning] No further splits with positive gain, best gain: -inf\n",
      "[LightGBM] [Warning] No further splits with positive gain, best gain: -inf\n",
      "[LightGBM] [Warning] No further splits with positive gain, best gain: -inf\n",
      "[LightGBM] [Warning] No further splits with positive gain, best gain: -inf\n",
      "[LightGBM] [Warning] No further splits with positive gain, best gain: -inf\n",
      "[LightGBM] [Warning] No further splits with positive gain, best gain: -inf\n",
      "[LightGBM] [Warning] No further splits with positive gain, best gain: -inf\n",
      "[LightGBM] [Warning] No further splits with positive gain, best gain: -inf\n",
      "[LightGBM] [Warning] No further splits with positive gain, best gain: -inf\n",
      "[LightGBM] [Warning] No further splits with positive gain, best gain: -inf\n",
      "[LightGBM] [Warning] No further splits with positive gain, best gain: -inf\n",
      "[LightGBM] [Warning] No further splits with positive gain, best gain: -inf\n",
      "[LightGBM] [Warning] No further splits with positive gain, best gain: -inf\n",
      "[LightGBM] [Warning] No further splits with positive gain, best gain: -inf\n",
      "[LightGBM] [Warning] No further splits with positive gain, best gain: -inf\n",
      "[LightGBM] [Warning] No further splits with positive gain, best gain: -inf\n",
      "[LightGBM] [Warning] No further splits with positive gain, best gain: -inf\n",
      "[LightGBM] [Warning] No further splits with positive gain, best gain: -inf\n",
      "[LightGBM] [Warning] No further splits with positive gain, best gain: -inf\n",
      "[LightGBM] [Warning] No further splits with positive gain, best gain: -inf\n",
      "[LightGBM] [Warning] No further splits with positive gain, best gain: -inf\n",
      "[LightGBM] [Warning] No further splits with positive gain, best gain: -inf\n",
      "[LightGBM] [Warning] No further splits with positive gain, best gain: -inf\n",
      "[LightGBM] [Warning] No further splits with positive gain, best gain: -inf\n",
      "[LightGBM] [Warning] No further splits with positive gain, best gain: -inf\n",
      "[LightGBM] [Warning] No further splits with positive gain, best gain: -inf\n",
      "[LightGBM] [Warning] No further splits with positive gain, best gain: -inf\n",
      "[LightGBM] [Warning] No further splits with positive gain, best gain: -inf\n",
      "[LightGBM] [Warning] No further splits with positive gain, best gain: -inf\n",
      "[LightGBM] [Warning] No further splits with positive gain, best gain: -inf\n",
      "[LightGBM] [Warning] No further splits with positive gain, best gain: -inf\n",
      "[LightGBM] [Warning] No further splits with positive gain, best gain: -inf\n",
      "[LightGBM] [Warning] No further splits with positive gain, best gain: -inf\n",
      "[LightGBM] [Warning] No further splits with positive gain, best gain: -inf\n",
      "[LightGBM] [Warning] No further splits with positive gain, best gain: -inf\n",
      "[LightGBM] [Warning] No further splits with positive gain, best gain: -inf\n",
      "[LightGBM] [Warning] No further splits with positive gain, best gain: -inf\n",
      "[LightGBM] [Warning] No further splits with positive gain, best gain: -inf\n",
      "[LightGBM] [Warning] No further splits with positive gain, best gain: -inf\n",
      "[LightGBM] [Warning] No further splits with positive gain, best gain: -inf\n",
      "[LightGBM] [Warning] No further splits with positive gain, best gain: -inf\n",
      "[LightGBM] [Warning] No further splits with positive gain, best gain: -inf\n",
      "[LightGBM] [Warning] No further splits with positive gain, best gain: -inf\n",
      "[LightGBM] [Warning] No further splits with positive gain, best gain: -inf\n",
      "[LightGBM] [Warning] No further splits with positive gain, best gain: -inf\n",
      "[LightGBM] [Warning] No further splits with positive gain, best gain: -inf\n",
      "[LightGBM] [Warning] No further splits with positive gain, best gain: -inf\n",
      "[LightGBM] [Warning] No further splits with positive gain, best gain: -inf\n",
      "[LightGBM] [Warning] No further splits with positive gain, best gain: -inf\n",
      "[LightGBM] [Warning] No further splits with positive gain, best gain: -inf\n",
      "[LightGBM] [Warning] No further splits with positive gain, best gain: -inf\n",
      "[LightGBM] [Warning] No further splits with positive gain, best gain: -inf\n",
      "[LightGBM] [Warning] No further splits with positive gain, best gain: -inf\n",
      "[LightGBM] [Warning] No further splits with positive gain, best gain: -inf\n",
      "[LightGBM] [Warning] No further splits with positive gain, best gain: -inf\n",
      "[LightGBM] [Warning] No further splits with positive gain, best gain: -inf\n",
      "[LightGBM] [Warning] No further splits with positive gain, best gain: -inf\n",
      "[LightGBM] [Warning] No further splits with positive gain, best gain: -inf\n",
      "[LightGBM] [Warning] No further splits with positive gain, best gain: -inf\n",
      "[LightGBM] [Warning] No further splits with positive gain, best gain: -inf\n",
      "[LightGBM] [Warning] No further splits with positive gain, best gain: -inf\n",
      "[LightGBM] [Warning] No further splits with positive gain, best gain: -inf\n",
      "[LightGBM] [Warning] No further splits with positive gain, best gain: -inf\n",
      "[LightGBM] [Warning] No further splits with positive gain, best gain: -inf\n",
      "[LightGBM] [Warning] No further splits with positive gain, best gain: -inf\n",
      "[LightGBM] [Warning] No further splits with positive gain, best gain: -inf\n",
      "[LightGBM] [Warning] No further splits with positive gain, best gain: -inf\n",
      "[LightGBM] [Warning] No further splits with positive gain, best gain: -inf\n",
      "[LightGBM] [Warning] No further splits with positive gain, best gain: -inf\n",
      "[LightGBM] [Warning] No further splits with positive gain, best gain: -inf\n",
      "[LightGBM] [Warning] No further splits with positive gain, best gain: -inf\n",
      "[LightGBM] [Warning] No further splits with positive gain, best gain: -inf\n",
      "[LightGBM] [Warning] No further splits with positive gain, best gain: -inf\n",
      "[LightGBM] [Warning] No further splits with positive gain, best gain: -inf\n",
      "[LightGBM] [Warning] No further splits with positive gain, best gain: -inf\n",
      "[LightGBM] [Warning] No further splits with positive gain, best gain: -inf\n",
      "[LightGBM] [Warning] No further splits with positive gain, best gain: -inf\n",
      "[LightGBM] [Warning] No further splits with positive gain, best gain: -inf\n",
      "[LightGBM] [Warning] No further splits with positive gain, best gain: -inf\n",
      "[LightGBM] [Warning] No further splits with positive gain, best gain: -inf\n",
      "[LightGBM] [Warning] No further splits with positive gain, best gain: -inf\n",
      "[LightGBM] [Warning] No further splits with positive gain, best gain: -inf\n"
     ]
    },
    {
     "data": {
      "text/html": [
       "<style>#sk-container-id-1 {\n",
       "  /* Definition of color scheme common for light and dark mode */\n",
       "  --sklearn-color-text: #000;\n",
       "  --sklearn-color-text-muted: #666;\n",
       "  --sklearn-color-line: gray;\n",
       "  /* Definition of color scheme for unfitted estimators */\n",
       "  --sklearn-color-unfitted-level-0: #fff5e6;\n",
       "  --sklearn-color-unfitted-level-1: #f6e4d2;\n",
       "  --sklearn-color-unfitted-level-2: #ffe0b3;\n",
       "  --sklearn-color-unfitted-level-3: chocolate;\n",
       "  /* Definition of color scheme for fitted estimators */\n",
       "  --sklearn-color-fitted-level-0: #f0f8ff;\n",
       "  --sklearn-color-fitted-level-1: #d4ebff;\n",
       "  --sklearn-color-fitted-level-2: #b3dbfd;\n",
       "  --sklearn-color-fitted-level-3: cornflowerblue;\n",
       "\n",
       "  /* Specific color for light theme */\n",
       "  --sklearn-color-text-on-default-background: var(--sg-text-color, var(--theme-code-foreground, var(--jp-content-font-color1, black)));\n",
       "  --sklearn-color-background: var(--sg-background-color, var(--theme-background, var(--jp-layout-color0, white)));\n",
       "  --sklearn-color-border-box: var(--sg-text-color, var(--theme-code-foreground, var(--jp-content-font-color1, black)));\n",
       "  --sklearn-color-icon: #696969;\n",
       "\n",
       "  @media (prefers-color-scheme: dark) {\n",
       "    /* Redefinition of color scheme for dark theme */\n",
       "    --sklearn-color-text-on-default-background: var(--sg-text-color, var(--theme-code-foreground, var(--jp-content-font-color1, white)));\n",
       "    --sklearn-color-background: var(--sg-background-color, var(--theme-background, var(--jp-layout-color0, #111)));\n",
       "    --sklearn-color-border-box: var(--sg-text-color, var(--theme-code-foreground, var(--jp-content-font-color1, white)));\n",
       "    --sklearn-color-icon: #878787;\n",
       "  }\n",
       "}\n",
       "\n",
       "#sk-container-id-1 {\n",
       "  color: var(--sklearn-color-text);\n",
       "}\n",
       "\n",
       "#sk-container-id-1 pre {\n",
       "  padding: 0;\n",
       "}\n",
       "\n",
       "#sk-container-id-1 input.sk-hidden--visually {\n",
       "  border: 0;\n",
       "  clip: rect(1px 1px 1px 1px);\n",
       "  clip: rect(1px, 1px, 1px, 1px);\n",
       "  height: 1px;\n",
       "  margin: -1px;\n",
       "  overflow: hidden;\n",
       "  padding: 0;\n",
       "  position: absolute;\n",
       "  width: 1px;\n",
       "}\n",
       "\n",
       "#sk-container-id-1 div.sk-dashed-wrapped {\n",
       "  border: 1px dashed var(--sklearn-color-line);\n",
       "  margin: 0 0.4em 0.5em 0.4em;\n",
       "  box-sizing: border-box;\n",
       "  padding-bottom: 0.4em;\n",
       "  background-color: var(--sklearn-color-background);\n",
       "}\n",
       "\n",
       "#sk-container-id-1 div.sk-container {\n",
       "  /* jupyter's `normalize.less` sets `[hidden] { display: none; }`\n",
       "     but bootstrap.min.css set `[hidden] { display: none !important; }`\n",
       "     so we also need the `!important` here to be able to override the\n",
       "     default hidden behavior on the sphinx rendered scikit-learn.org.\n",
       "     See: https://github.com/scikit-learn/scikit-learn/issues/21755 */\n",
       "  display: inline-block !important;\n",
       "  position: relative;\n",
       "}\n",
       "\n",
       "#sk-container-id-1 div.sk-text-repr-fallback {\n",
       "  display: none;\n",
       "}\n",
       "\n",
       "div.sk-parallel-item,\n",
       "div.sk-serial,\n",
       "div.sk-item {\n",
       "  /* draw centered vertical line to link estimators */\n",
       "  background-image: linear-gradient(var(--sklearn-color-text-on-default-background), var(--sklearn-color-text-on-default-background));\n",
       "  background-size: 2px 100%;\n",
       "  background-repeat: no-repeat;\n",
       "  background-position: center center;\n",
       "}\n",
       "\n",
       "/* Parallel-specific style estimator block */\n",
       "\n",
       "#sk-container-id-1 div.sk-parallel-item::after {\n",
       "  content: \"\";\n",
       "  width: 100%;\n",
       "  border-bottom: 2px solid var(--sklearn-color-text-on-default-background);\n",
       "  flex-grow: 1;\n",
       "}\n",
       "\n",
       "#sk-container-id-1 div.sk-parallel {\n",
       "  display: flex;\n",
       "  align-items: stretch;\n",
       "  justify-content: center;\n",
       "  background-color: var(--sklearn-color-background);\n",
       "  position: relative;\n",
       "}\n",
       "\n",
       "#sk-container-id-1 div.sk-parallel-item {\n",
       "  display: flex;\n",
       "  flex-direction: column;\n",
       "}\n",
       "\n",
       "#sk-container-id-1 div.sk-parallel-item:first-child::after {\n",
       "  align-self: flex-end;\n",
       "  width: 50%;\n",
       "}\n",
       "\n",
       "#sk-container-id-1 div.sk-parallel-item:last-child::after {\n",
       "  align-self: flex-start;\n",
       "  width: 50%;\n",
       "}\n",
       "\n",
       "#sk-container-id-1 div.sk-parallel-item:only-child::after {\n",
       "  width: 0;\n",
       "}\n",
       "\n",
       "/* Serial-specific style estimator block */\n",
       "\n",
       "#sk-container-id-1 div.sk-serial {\n",
       "  display: flex;\n",
       "  flex-direction: column;\n",
       "  align-items: center;\n",
       "  background-color: var(--sklearn-color-background);\n",
       "  padding-right: 1em;\n",
       "  padding-left: 1em;\n",
       "}\n",
       "\n",
       "\n",
       "/* Toggleable style: style used for estimator/Pipeline/ColumnTransformer box that is\n",
       "clickable and can be expanded/collapsed.\n",
       "- Pipeline and ColumnTransformer use this feature and define the default style\n",
       "- Estimators will overwrite some part of the style using the `sk-estimator` class\n",
       "*/\n",
       "\n",
       "/* Pipeline and ColumnTransformer style (default) */\n",
       "\n",
       "#sk-container-id-1 div.sk-toggleable {\n",
       "  /* Default theme specific background. It is overwritten whether we have a\n",
       "  specific estimator or a Pipeline/ColumnTransformer */\n",
       "  background-color: var(--sklearn-color-background);\n",
       "}\n",
       "\n",
       "/* Toggleable label */\n",
       "#sk-container-id-1 label.sk-toggleable__label {\n",
       "  cursor: pointer;\n",
       "  display: flex;\n",
       "  width: 100%;\n",
       "  margin-bottom: 0;\n",
       "  padding: 0.5em;\n",
       "  box-sizing: border-box;\n",
       "  text-align: center;\n",
       "  align-items: start;\n",
       "  justify-content: space-between;\n",
       "  gap: 0.5em;\n",
       "}\n",
       "\n",
       "#sk-container-id-1 label.sk-toggleable__label .caption {\n",
       "  font-size: 0.6rem;\n",
       "  font-weight: lighter;\n",
       "  color: var(--sklearn-color-text-muted);\n",
       "}\n",
       "\n",
       "#sk-container-id-1 label.sk-toggleable__label-arrow:before {\n",
       "  /* Arrow on the left of the label */\n",
       "  content: \"▸\";\n",
       "  float: left;\n",
       "  margin-right: 0.25em;\n",
       "  color: var(--sklearn-color-icon);\n",
       "}\n",
       "\n",
       "#sk-container-id-1 label.sk-toggleable__label-arrow:hover:before {\n",
       "  color: var(--sklearn-color-text);\n",
       "}\n",
       "\n",
       "/* Toggleable content - dropdown */\n",
       "\n",
       "#sk-container-id-1 div.sk-toggleable__content {\n",
       "  max-height: 0;\n",
       "  max-width: 0;\n",
       "  overflow: hidden;\n",
       "  text-align: left;\n",
       "  /* unfitted */\n",
       "  background-color: var(--sklearn-color-unfitted-level-0);\n",
       "}\n",
       "\n",
       "#sk-container-id-1 div.sk-toggleable__content.fitted {\n",
       "  /* fitted */\n",
       "  background-color: var(--sklearn-color-fitted-level-0);\n",
       "}\n",
       "\n",
       "#sk-container-id-1 div.sk-toggleable__content pre {\n",
       "  margin: 0.2em;\n",
       "  border-radius: 0.25em;\n",
       "  color: var(--sklearn-color-text);\n",
       "  /* unfitted */\n",
       "  background-color: var(--sklearn-color-unfitted-level-0);\n",
       "}\n",
       "\n",
       "#sk-container-id-1 div.sk-toggleable__content.fitted pre {\n",
       "  /* unfitted */\n",
       "  background-color: var(--sklearn-color-fitted-level-0);\n",
       "}\n",
       "\n",
       "#sk-container-id-1 input.sk-toggleable__control:checked~div.sk-toggleable__content {\n",
       "  /* Expand drop-down */\n",
       "  max-height: 200px;\n",
       "  max-width: 100%;\n",
       "  overflow: auto;\n",
       "}\n",
       "\n",
       "#sk-container-id-1 input.sk-toggleable__control:checked~label.sk-toggleable__label-arrow:before {\n",
       "  content: \"▾\";\n",
       "}\n",
       "\n",
       "/* Pipeline/ColumnTransformer-specific style */\n",
       "\n",
       "#sk-container-id-1 div.sk-label input.sk-toggleable__control:checked~label.sk-toggleable__label {\n",
       "  color: var(--sklearn-color-text);\n",
       "  background-color: var(--sklearn-color-unfitted-level-2);\n",
       "}\n",
       "\n",
       "#sk-container-id-1 div.sk-label.fitted input.sk-toggleable__control:checked~label.sk-toggleable__label {\n",
       "  background-color: var(--sklearn-color-fitted-level-2);\n",
       "}\n",
       "\n",
       "/* Estimator-specific style */\n",
       "\n",
       "/* Colorize estimator box */\n",
       "#sk-container-id-1 div.sk-estimator input.sk-toggleable__control:checked~label.sk-toggleable__label {\n",
       "  /* unfitted */\n",
       "  background-color: var(--sklearn-color-unfitted-level-2);\n",
       "}\n",
       "\n",
       "#sk-container-id-1 div.sk-estimator.fitted input.sk-toggleable__control:checked~label.sk-toggleable__label {\n",
       "  /* fitted */\n",
       "  background-color: var(--sklearn-color-fitted-level-2);\n",
       "}\n",
       "\n",
       "#sk-container-id-1 div.sk-label label.sk-toggleable__label,\n",
       "#sk-container-id-1 div.sk-label label {\n",
       "  /* The background is the default theme color */\n",
       "  color: var(--sklearn-color-text-on-default-background);\n",
       "}\n",
       "\n",
       "/* On hover, darken the color of the background */\n",
       "#sk-container-id-1 div.sk-label:hover label.sk-toggleable__label {\n",
       "  color: var(--sklearn-color-text);\n",
       "  background-color: var(--sklearn-color-unfitted-level-2);\n",
       "}\n",
       "\n",
       "/* Label box, darken color on hover, fitted */\n",
       "#sk-container-id-1 div.sk-label.fitted:hover label.sk-toggleable__label.fitted {\n",
       "  color: var(--sklearn-color-text);\n",
       "  background-color: var(--sklearn-color-fitted-level-2);\n",
       "}\n",
       "\n",
       "/* Estimator label */\n",
       "\n",
       "#sk-container-id-1 div.sk-label label {\n",
       "  font-family: monospace;\n",
       "  font-weight: bold;\n",
       "  display: inline-block;\n",
       "  line-height: 1.2em;\n",
       "}\n",
       "\n",
       "#sk-container-id-1 div.sk-label-container {\n",
       "  text-align: center;\n",
       "}\n",
       "\n",
       "/* Estimator-specific */\n",
       "#sk-container-id-1 div.sk-estimator {\n",
       "  font-family: monospace;\n",
       "  border: 1px dotted var(--sklearn-color-border-box);\n",
       "  border-radius: 0.25em;\n",
       "  box-sizing: border-box;\n",
       "  margin-bottom: 0.5em;\n",
       "  /* unfitted */\n",
       "  background-color: var(--sklearn-color-unfitted-level-0);\n",
       "}\n",
       "\n",
       "#sk-container-id-1 div.sk-estimator.fitted {\n",
       "  /* fitted */\n",
       "  background-color: var(--sklearn-color-fitted-level-0);\n",
       "}\n",
       "\n",
       "/* on hover */\n",
       "#sk-container-id-1 div.sk-estimator:hover {\n",
       "  /* unfitted */\n",
       "  background-color: var(--sklearn-color-unfitted-level-2);\n",
       "}\n",
       "\n",
       "#sk-container-id-1 div.sk-estimator.fitted:hover {\n",
       "  /* fitted */\n",
       "  background-color: var(--sklearn-color-fitted-level-2);\n",
       "}\n",
       "\n",
       "/* Specification for estimator info (e.g. \"i\" and \"?\") */\n",
       "\n",
       "/* Common style for \"i\" and \"?\" */\n",
       "\n",
       ".sk-estimator-doc-link,\n",
       "a:link.sk-estimator-doc-link,\n",
       "a:visited.sk-estimator-doc-link {\n",
       "  float: right;\n",
       "  font-size: smaller;\n",
       "  line-height: 1em;\n",
       "  font-family: monospace;\n",
       "  background-color: var(--sklearn-color-background);\n",
       "  border-radius: 1em;\n",
       "  height: 1em;\n",
       "  width: 1em;\n",
       "  text-decoration: none !important;\n",
       "  margin-left: 0.5em;\n",
       "  text-align: center;\n",
       "  /* unfitted */\n",
       "  border: var(--sklearn-color-unfitted-level-1) 1pt solid;\n",
       "  color: var(--sklearn-color-unfitted-level-1);\n",
       "}\n",
       "\n",
       ".sk-estimator-doc-link.fitted,\n",
       "a:link.sk-estimator-doc-link.fitted,\n",
       "a:visited.sk-estimator-doc-link.fitted {\n",
       "  /* fitted */\n",
       "  border: var(--sklearn-color-fitted-level-1) 1pt solid;\n",
       "  color: var(--sklearn-color-fitted-level-1);\n",
       "}\n",
       "\n",
       "/* On hover */\n",
       "div.sk-estimator:hover .sk-estimator-doc-link:hover,\n",
       ".sk-estimator-doc-link:hover,\n",
       "div.sk-label-container:hover .sk-estimator-doc-link:hover,\n",
       ".sk-estimator-doc-link:hover {\n",
       "  /* unfitted */\n",
       "  background-color: var(--sklearn-color-unfitted-level-3);\n",
       "  color: var(--sklearn-color-background);\n",
       "  text-decoration: none;\n",
       "}\n",
       "\n",
       "div.sk-estimator.fitted:hover .sk-estimator-doc-link.fitted:hover,\n",
       ".sk-estimator-doc-link.fitted:hover,\n",
       "div.sk-label-container:hover .sk-estimator-doc-link.fitted:hover,\n",
       ".sk-estimator-doc-link.fitted:hover {\n",
       "  /* fitted */\n",
       "  background-color: var(--sklearn-color-fitted-level-3);\n",
       "  color: var(--sklearn-color-background);\n",
       "  text-decoration: none;\n",
       "}\n",
       "\n",
       "/* Span, style for the box shown on hovering the info icon */\n",
       ".sk-estimator-doc-link span {\n",
       "  display: none;\n",
       "  z-index: 9999;\n",
       "  position: relative;\n",
       "  font-weight: normal;\n",
       "  right: .2ex;\n",
       "  padding: .5ex;\n",
       "  margin: .5ex;\n",
       "  width: min-content;\n",
       "  min-width: 20ex;\n",
       "  max-width: 50ex;\n",
       "  color: var(--sklearn-color-text);\n",
       "  box-shadow: 2pt 2pt 4pt #999;\n",
       "  /* unfitted */\n",
       "  background: var(--sklearn-color-unfitted-level-0);\n",
       "  border: .5pt solid var(--sklearn-color-unfitted-level-3);\n",
       "}\n",
       "\n",
       ".sk-estimator-doc-link.fitted span {\n",
       "  /* fitted */\n",
       "  background: var(--sklearn-color-fitted-level-0);\n",
       "  border: var(--sklearn-color-fitted-level-3);\n",
       "}\n",
       "\n",
       ".sk-estimator-doc-link:hover span {\n",
       "  display: block;\n",
       "}\n",
       "\n",
       "/* \"?\"-specific style due to the `<a>` HTML tag */\n",
       "\n",
       "#sk-container-id-1 a.estimator_doc_link {\n",
       "  float: right;\n",
       "  font-size: 1rem;\n",
       "  line-height: 1em;\n",
       "  font-family: monospace;\n",
       "  background-color: var(--sklearn-color-background);\n",
       "  border-radius: 1rem;\n",
       "  height: 1rem;\n",
       "  width: 1rem;\n",
       "  text-decoration: none;\n",
       "  /* unfitted */\n",
       "  color: var(--sklearn-color-unfitted-level-1);\n",
       "  border: var(--sklearn-color-unfitted-level-1) 1pt solid;\n",
       "}\n",
       "\n",
       "#sk-container-id-1 a.estimator_doc_link.fitted {\n",
       "  /* fitted */\n",
       "  border: var(--sklearn-color-fitted-level-1) 1pt solid;\n",
       "  color: var(--sklearn-color-fitted-level-1);\n",
       "}\n",
       "\n",
       "/* On hover */\n",
       "#sk-container-id-1 a.estimator_doc_link:hover {\n",
       "  /* unfitted */\n",
       "  background-color: var(--sklearn-color-unfitted-level-3);\n",
       "  color: var(--sklearn-color-background);\n",
       "  text-decoration: none;\n",
       "}\n",
       "\n",
       "#sk-container-id-1 a.estimator_doc_link.fitted:hover {\n",
       "  /* fitted */\n",
       "  background-color: var(--sklearn-color-fitted-level-3);\n",
       "}\n",
       "</style><div id=\"sk-container-id-1\" class=\"sk-top-container\"><div class=\"sk-text-repr-fallback\"><pre>RandomizedSearchCV(cv=TimeSeriesSplit(gap=0, max_train_size=None, n_splits=3, test_size=None),\n",
       "                   estimator=Pipeline(steps=[(&#x27;preprocessor&#x27;,\n",
       "                                              ColumnTransformer(force_int_remainder_cols=False,\n",
       "                                                                remainder=&#x27;passthrough&#x27;,\n",
       "                                                                transformers=[(&#x27;num&#x27;,\n",
       "                                                                               Pipeline(steps=[(&#x27;scaler&#x27;,\n",
       "                                                                                                StandardScaler())]),\n",
       "                                                                               [&#x27;lag_1&#x27;,\n",
       "                                                                                &#x27;lag_2&#x27;,\n",
       "                                                                                &#x27;lag_22&#x27;,\n",
       "                                                                                &#x27;lag_23&#x27;,\n",
       "                                                                                &#x27;lag_24&#x27;,\n",
       "                                                                                &#x27;lag_25&#x27;]),\n",
       "                                                                              (&#x27;ohe&#x27;,\n",
       "                                                                               Pipeline(steps=...\n",
       "                                        {&#x27;models&#x27;: [KNeighborsRegressor()],\n",
       "                                         &#x27;models__n_neighbors&#x27;: range(2, 30),\n",
       "                                         &#x27;preprocessor__num&#x27;: [StandardScaler(),\n",
       "                                                               MinMaxScaler(),\n",
       "                                                               &#x27;passthrough&#x27;]},\n",
       "                                        {&#x27;models&#x27;: [LGBMRegressor()],\n",
       "                                         &#x27;models__max_depth&#x27;: range(1, 10),\n",
       "                                         &#x27;models__num_leaves&#x27;: range(1, 31),\n",
       "                                         &#x27;preprocessor__num&#x27;: [StandardScaler(),\n",
       "                                                               MinMaxScaler(),\n",
       "                                                               &#x27;passthrough&#x27;]}],\n",
       "                   random_state=42, scoring=&#x27;neg_root_mean_squared_error&#x27;)</pre><b>In a Jupyter environment, please rerun this cell to show the HTML representation or trust the notebook. <br />On GitHub, the HTML representation is unable to render, please try loading this page with nbviewer.org.</b></div><div class=\"sk-container\" hidden><div class=\"sk-item sk-dashed-wrapped\"><div class=\"sk-label-container\"><div class=\"sk-label fitted sk-toggleable\"><input class=\"sk-toggleable__control sk-hidden--visually\" id=\"sk-estimator-id-1\" type=\"checkbox\" ><label for=\"sk-estimator-id-1\" class=\"sk-toggleable__label fitted sk-toggleable__label-arrow\"><div><div>RandomizedSearchCV</div></div><div><a class=\"sk-estimator-doc-link fitted\" rel=\"noreferrer\" target=\"_blank\" href=\"https://scikit-learn.org/1.6/modules/generated/sklearn.model_selection.RandomizedSearchCV.html\">?<span>Documentation for RandomizedSearchCV</span></a><span class=\"sk-estimator-doc-link fitted\">i<span>Fitted</span></span></div></label><div class=\"sk-toggleable__content fitted\"><pre>RandomizedSearchCV(cv=TimeSeriesSplit(gap=0, max_train_size=None, n_splits=3, test_size=None),\n",
       "                   estimator=Pipeline(steps=[(&#x27;preprocessor&#x27;,\n",
       "                                              ColumnTransformer(force_int_remainder_cols=False,\n",
       "                                                                remainder=&#x27;passthrough&#x27;,\n",
       "                                                                transformers=[(&#x27;num&#x27;,\n",
       "                                                                               Pipeline(steps=[(&#x27;scaler&#x27;,\n",
       "                                                                                                StandardScaler())]),\n",
       "                                                                               [&#x27;lag_1&#x27;,\n",
       "                                                                                &#x27;lag_2&#x27;,\n",
       "                                                                                &#x27;lag_22&#x27;,\n",
       "                                                                                &#x27;lag_23&#x27;,\n",
       "                                                                                &#x27;lag_24&#x27;,\n",
       "                                                                                &#x27;lag_25&#x27;]),\n",
       "                                                                              (&#x27;ohe&#x27;,\n",
       "                                                                               Pipeline(steps=...\n",
       "                                        {&#x27;models&#x27;: [KNeighborsRegressor()],\n",
       "                                         &#x27;models__n_neighbors&#x27;: range(2, 30),\n",
       "                                         &#x27;preprocessor__num&#x27;: [StandardScaler(),\n",
       "                                                               MinMaxScaler(),\n",
       "                                                               &#x27;passthrough&#x27;]},\n",
       "                                        {&#x27;models&#x27;: [LGBMRegressor()],\n",
       "                                         &#x27;models__max_depth&#x27;: range(1, 10),\n",
       "                                         &#x27;models__num_leaves&#x27;: range(1, 31),\n",
       "                                         &#x27;preprocessor__num&#x27;: [StandardScaler(),\n",
       "                                                               MinMaxScaler(),\n",
       "                                                               &#x27;passthrough&#x27;]}],\n",
       "                   random_state=42, scoring=&#x27;neg_root_mean_squared_error&#x27;)</pre></div> </div></div><div class=\"sk-parallel\"><div class=\"sk-parallel-item\"><div class=\"sk-item\"><div class=\"sk-label-container\"><div class=\"sk-label fitted sk-toggleable\"><input class=\"sk-toggleable__control sk-hidden--visually\" id=\"sk-estimator-id-2\" type=\"checkbox\" ><label for=\"sk-estimator-id-2\" class=\"sk-toggleable__label fitted sk-toggleable__label-arrow\"><div><div>best_estimator_: Pipeline</div></div></label><div class=\"sk-toggleable__content fitted\"><pre>Pipeline(steps=[(&#x27;preprocessor&#x27;,\n",
       "                 ColumnTransformer(force_int_remainder_cols=False,\n",
       "                                   remainder=&#x27;passthrough&#x27;,\n",
       "                                   transformers=[(&#x27;num&#x27;, &#x27;passthrough&#x27;,\n",
       "                                                  [&#x27;lag_1&#x27;, &#x27;lag_2&#x27;, &#x27;lag_22&#x27;,\n",
       "                                                   &#x27;lag_23&#x27;, &#x27;lag_24&#x27;,\n",
       "                                                   &#x27;lag_25&#x27;]),\n",
       "                                                 (&#x27;ohe&#x27;,\n",
       "                                                  Pipeline(steps=[(&#x27;ohe&#x27;,\n",
       "                                                                   OneHotEncoder(drop=&#x27;first&#x27;,\n",
       "                                                                                 handle_unknown=&#x27;ignore&#x27;,\n",
       "                                                                                 sparse_output=False))]),\n",
       "                                                  [&#x27;hour&#x27;, &#x27;day_of_week&#x27;])])),\n",
       "                (&#x27;models&#x27;, LGBMRegressor(max_depth=2, num_leaves=13))])</pre></div> </div></div><div class=\"sk-serial\"><div class=\"sk-item\"><div class=\"sk-serial\"><div class=\"sk-item sk-dashed-wrapped\"><div class=\"sk-label-container\"><div class=\"sk-label fitted sk-toggleable\"><input class=\"sk-toggleable__control sk-hidden--visually\" id=\"sk-estimator-id-3\" type=\"checkbox\" ><label for=\"sk-estimator-id-3\" class=\"sk-toggleable__label fitted sk-toggleable__label-arrow\"><div><div>preprocessor: ColumnTransformer</div></div><div><a class=\"sk-estimator-doc-link fitted\" rel=\"noreferrer\" target=\"_blank\" href=\"https://scikit-learn.org/1.6/modules/generated/sklearn.compose.ColumnTransformer.html\">?<span>Documentation for preprocessor: ColumnTransformer</span></a></div></label><div class=\"sk-toggleable__content fitted\"><pre>ColumnTransformer(force_int_remainder_cols=False, remainder=&#x27;passthrough&#x27;,\n",
       "                  transformers=[(&#x27;num&#x27;, &#x27;passthrough&#x27;,\n",
       "                                 [&#x27;lag_1&#x27;, &#x27;lag_2&#x27;, &#x27;lag_22&#x27;, &#x27;lag_23&#x27;,\n",
       "                                  &#x27;lag_24&#x27;, &#x27;lag_25&#x27;]),\n",
       "                                (&#x27;ohe&#x27;,\n",
       "                                 Pipeline(steps=[(&#x27;ohe&#x27;,\n",
       "                                                  OneHotEncoder(drop=&#x27;first&#x27;,\n",
       "                                                                handle_unknown=&#x27;ignore&#x27;,\n",
       "                                                                sparse_output=False))]),\n",
       "                                 [&#x27;hour&#x27;, &#x27;day_of_week&#x27;])])</pre></div> </div></div><div class=\"sk-parallel\"><div class=\"sk-parallel-item\"><div class=\"sk-item\"><div class=\"sk-label-container\"><div class=\"sk-label fitted sk-toggleable\"><input class=\"sk-toggleable__control sk-hidden--visually\" id=\"sk-estimator-id-4\" type=\"checkbox\" ><label for=\"sk-estimator-id-4\" class=\"sk-toggleable__label fitted sk-toggleable__label-arrow\"><div><div>num</div></div></label><div class=\"sk-toggleable__content fitted\"><pre>[&#x27;lag_1&#x27;, &#x27;lag_2&#x27;, &#x27;lag_22&#x27;, &#x27;lag_23&#x27;, &#x27;lag_24&#x27;, &#x27;lag_25&#x27;]</pre></div> </div></div><div class=\"sk-serial\"><div class=\"sk-item\"><div class=\"sk-estimator fitted sk-toggleable\"><input class=\"sk-toggleable__control sk-hidden--visually\" id=\"sk-estimator-id-5\" type=\"checkbox\" ><label for=\"sk-estimator-id-5\" class=\"sk-toggleable__label fitted sk-toggleable__label-arrow\"><div><div>passthrough</div></div></label><div class=\"sk-toggleable__content fitted\"><pre>passthrough</pre></div> </div></div></div></div></div><div class=\"sk-parallel-item\"><div class=\"sk-item\"><div class=\"sk-label-container\"><div class=\"sk-label fitted sk-toggleable\"><input class=\"sk-toggleable__control sk-hidden--visually\" id=\"sk-estimator-id-6\" type=\"checkbox\" ><label for=\"sk-estimator-id-6\" class=\"sk-toggleable__label fitted sk-toggleable__label-arrow\"><div><div>ohe</div></div></label><div class=\"sk-toggleable__content fitted\"><pre>[&#x27;hour&#x27;, &#x27;day_of_week&#x27;]</pre></div> </div></div><div class=\"sk-serial\"><div class=\"sk-item\"><div class=\"sk-serial\"><div class=\"sk-item\"><div class=\"sk-estimator fitted sk-toggleable\"><input class=\"sk-toggleable__control sk-hidden--visually\" id=\"sk-estimator-id-7\" type=\"checkbox\" ><label for=\"sk-estimator-id-7\" class=\"sk-toggleable__label fitted sk-toggleable__label-arrow\"><div><div>OneHotEncoder</div></div><div><a class=\"sk-estimator-doc-link fitted\" rel=\"noreferrer\" target=\"_blank\" href=\"https://scikit-learn.org/1.6/modules/generated/sklearn.preprocessing.OneHotEncoder.html\">?<span>Documentation for OneHotEncoder</span></a></div></label><div class=\"sk-toggleable__content fitted\"><pre>OneHotEncoder(drop=&#x27;first&#x27;, handle_unknown=&#x27;ignore&#x27;, sparse_output=False)</pre></div> </div></div></div></div></div></div></div><div class=\"sk-parallel-item\"><div class=\"sk-item\"><div class=\"sk-label-container\"><div class=\"sk-label fitted sk-toggleable\"><input class=\"sk-toggleable__control sk-hidden--visually\" id=\"sk-estimator-id-8\" type=\"checkbox\" ><label for=\"sk-estimator-id-8\" class=\"sk-toggleable__label fitted sk-toggleable__label-arrow\"><div><div>remainder</div></div></label><div class=\"sk-toggleable__content fitted\"><pre>[]</pre></div> </div></div><div class=\"sk-serial\"><div class=\"sk-item\"><div class=\"sk-estimator fitted sk-toggleable\"><input class=\"sk-toggleable__control sk-hidden--visually\" id=\"sk-estimator-id-9\" type=\"checkbox\" ><label for=\"sk-estimator-id-9\" class=\"sk-toggleable__label fitted sk-toggleable__label-arrow\"><div><div>passthrough</div></div></label><div class=\"sk-toggleable__content fitted\"><pre>passthrough</pre></div> </div></div></div></div></div></div></div><div class=\"sk-item\"><div class=\"sk-estimator fitted sk-toggleable\"><input class=\"sk-toggleable__control sk-hidden--visually\" id=\"sk-estimator-id-10\" type=\"checkbox\" ><label for=\"sk-estimator-id-10\" class=\"sk-toggleable__label fitted sk-toggleable__label-arrow\"><div><div>LGBMRegressor</div></div></label><div class=\"sk-toggleable__content fitted\"><pre>LGBMRegressor(max_depth=2, num_leaves=13)</pre></div> </div></div></div></div></div></div></div></div></div></div></div>"
      ],
      "text/plain": [
       "RandomizedSearchCV(cv=TimeSeriesSplit(gap=0, max_train_size=None, n_splits=3, test_size=None),\n",
       "                   estimator=Pipeline(steps=[('preprocessor',\n",
       "                                              ColumnTransformer(force_int_remainder_cols=False,\n",
       "                                                                remainder='passthrough',\n",
       "                                                                transformers=[('num',\n",
       "                                                                               Pipeline(steps=[('scaler',\n",
       "                                                                                                StandardScaler())]),\n",
       "                                                                               ['lag_1',\n",
       "                                                                                'lag_2',\n",
       "                                                                                'lag_22',\n",
       "                                                                                'lag_23',\n",
       "                                                                                'lag_24',\n",
       "                                                                                'lag_25']),\n",
       "                                                                              ('ohe',\n",
       "                                                                               Pipeline(steps=...\n",
       "                                        {'models': [KNeighborsRegressor()],\n",
       "                                         'models__n_neighbors': range(2, 30),\n",
       "                                         'preprocessor__num': [StandardScaler(),\n",
       "                                                               MinMaxScaler(),\n",
       "                                                               'passthrough']},\n",
       "                                        {'models': [LGBMRegressor()],\n",
       "                                         'models__max_depth': range(1, 10),\n",
       "                                         'models__num_leaves': range(1, 31),\n",
       "                                         'preprocessor__num': [StandardScaler(),\n",
       "                                                               MinMaxScaler(),\n",
       "                                                               'passthrough']}],\n",
       "                   random_state=42, scoring='neg_root_mean_squared_error')"
      ]
     },
     "execution_count": 34,
     "metadata": {},
     "output_type": "execute_result"
    }
   ],
   "source": [
    "randomized_search.fit(X_train, y_train)"
   ]
  },
  {
   "cell_type": "code",
   "execution_count": 35,
   "metadata": {},
   "outputs": [
    {
     "data": {
      "text/plain": [
       "-27.77665399925637"
      ]
     },
     "execution_count": 35,
     "metadata": {},
     "output_type": "execute_result"
    }
   ],
   "source": [
    "randomized_search.best_score_"
   ]
  },
  {
   "cell_type": "code",
   "execution_count": 36,
   "metadata": {},
   "outputs": [
    {
     "data": {
      "text/html": [
       "<style>#sk-container-id-2 {\n",
       "  /* Definition of color scheme common for light and dark mode */\n",
       "  --sklearn-color-text: #000;\n",
       "  --sklearn-color-text-muted: #666;\n",
       "  --sklearn-color-line: gray;\n",
       "  /* Definition of color scheme for unfitted estimators */\n",
       "  --sklearn-color-unfitted-level-0: #fff5e6;\n",
       "  --sklearn-color-unfitted-level-1: #f6e4d2;\n",
       "  --sklearn-color-unfitted-level-2: #ffe0b3;\n",
       "  --sklearn-color-unfitted-level-3: chocolate;\n",
       "  /* Definition of color scheme for fitted estimators */\n",
       "  --sklearn-color-fitted-level-0: #f0f8ff;\n",
       "  --sklearn-color-fitted-level-1: #d4ebff;\n",
       "  --sklearn-color-fitted-level-2: #b3dbfd;\n",
       "  --sklearn-color-fitted-level-3: cornflowerblue;\n",
       "\n",
       "  /* Specific color for light theme */\n",
       "  --sklearn-color-text-on-default-background: var(--sg-text-color, var(--theme-code-foreground, var(--jp-content-font-color1, black)));\n",
       "  --sklearn-color-background: var(--sg-background-color, var(--theme-background, var(--jp-layout-color0, white)));\n",
       "  --sklearn-color-border-box: var(--sg-text-color, var(--theme-code-foreground, var(--jp-content-font-color1, black)));\n",
       "  --sklearn-color-icon: #696969;\n",
       "\n",
       "  @media (prefers-color-scheme: dark) {\n",
       "    /* Redefinition of color scheme for dark theme */\n",
       "    --sklearn-color-text-on-default-background: var(--sg-text-color, var(--theme-code-foreground, var(--jp-content-font-color1, white)));\n",
       "    --sklearn-color-background: var(--sg-background-color, var(--theme-background, var(--jp-layout-color0, #111)));\n",
       "    --sklearn-color-border-box: var(--sg-text-color, var(--theme-code-foreground, var(--jp-content-font-color1, white)));\n",
       "    --sklearn-color-icon: #878787;\n",
       "  }\n",
       "}\n",
       "\n",
       "#sk-container-id-2 {\n",
       "  color: var(--sklearn-color-text);\n",
       "}\n",
       "\n",
       "#sk-container-id-2 pre {\n",
       "  padding: 0;\n",
       "}\n",
       "\n",
       "#sk-container-id-2 input.sk-hidden--visually {\n",
       "  border: 0;\n",
       "  clip: rect(1px 1px 1px 1px);\n",
       "  clip: rect(1px, 1px, 1px, 1px);\n",
       "  height: 1px;\n",
       "  margin: -1px;\n",
       "  overflow: hidden;\n",
       "  padding: 0;\n",
       "  position: absolute;\n",
       "  width: 1px;\n",
       "}\n",
       "\n",
       "#sk-container-id-2 div.sk-dashed-wrapped {\n",
       "  border: 1px dashed var(--sklearn-color-line);\n",
       "  margin: 0 0.4em 0.5em 0.4em;\n",
       "  box-sizing: border-box;\n",
       "  padding-bottom: 0.4em;\n",
       "  background-color: var(--sklearn-color-background);\n",
       "}\n",
       "\n",
       "#sk-container-id-2 div.sk-container {\n",
       "  /* jupyter's `normalize.less` sets `[hidden] { display: none; }`\n",
       "     but bootstrap.min.css set `[hidden] { display: none !important; }`\n",
       "     so we also need the `!important` here to be able to override the\n",
       "     default hidden behavior on the sphinx rendered scikit-learn.org.\n",
       "     See: https://github.com/scikit-learn/scikit-learn/issues/21755 */\n",
       "  display: inline-block !important;\n",
       "  position: relative;\n",
       "}\n",
       "\n",
       "#sk-container-id-2 div.sk-text-repr-fallback {\n",
       "  display: none;\n",
       "}\n",
       "\n",
       "div.sk-parallel-item,\n",
       "div.sk-serial,\n",
       "div.sk-item {\n",
       "  /* draw centered vertical line to link estimators */\n",
       "  background-image: linear-gradient(var(--sklearn-color-text-on-default-background), var(--sklearn-color-text-on-default-background));\n",
       "  background-size: 2px 100%;\n",
       "  background-repeat: no-repeat;\n",
       "  background-position: center center;\n",
       "}\n",
       "\n",
       "/* Parallel-specific style estimator block */\n",
       "\n",
       "#sk-container-id-2 div.sk-parallel-item::after {\n",
       "  content: \"\";\n",
       "  width: 100%;\n",
       "  border-bottom: 2px solid var(--sklearn-color-text-on-default-background);\n",
       "  flex-grow: 1;\n",
       "}\n",
       "\n",
       "#sk-container-id-2 div.sk-parallel {\n",
       "  display: flex;\n",
       "  align-items: stretch;\n",
       "  justify-content: center;\n",
       "  background-color: var(--sklearn-color-background);\n",
       "  position: relative;\n",
       "}\n",
       "\n",
       "#sk-container-id-2 div.sk-parallel-item {\n",
       "  display: flex;\n",
       "  flex-direction: column;\n",
       "}\n",
       "\n",
       "#sk-container-id-2 div.sk-parallel-item:first-child::after {\n",
       "  align-self: flex-end;\n",
       "  width: 50%;\n",
       "}\n",
       "\n",
       "#sk-container-id-2 div.sk-parallel-item:last-child::after {\n",
       "  align-self: flex-start;\n",
       "  width: 50%;\n",
       "}\n",
       "\n",
       "#sk-container-id-2 div.sk-parallel-item:only-child::after {\n",
       "  width: 0;\n",
       "}\n",
       "\n",
       "/* Serial-specific style estimator block */\n",
       "\n",
       "#sk-container-id-2 div.sk-serial {\n",
       "  display: flex;\n",
       "  flex-direction: column;\n",
       "  align-items: center;\n",
       "  background-color: var(--sklearn-color-background);\n",
       "  padding-right: 1em;\n",
       "  padding-left: 1em;\n",
       "}\n",
       "\n",
       "\n",
       "/* Toggleable style: style used for estimator/Pipeline/ColumnTransformer box that is\n",
       "clickable and can be expanded/collapsed.\n",
       "- Pipeline and ColumnTransformer use this feature and define the default style\n",
       "- Estimators will overwrite some part of the style using the `sk-estimator` class\n",
       "*/\n",
       "\n",
       "/* Pipeline and ColumnTransformer style (default) */\n",
       "\n",
       "#sk-container-id-2 div.sk-toggleable {\n",
       "  /* Default theme specific background. It is overwritten whether we have a\n",
       "  specific estimator or a Pipeline/ColumnTransformer */\n",
       "  background-color: var(--sklearn-color-background);\n",
       "}\n",
       "\n",
       "/* Toggleable label */\n",
       "#sk-container-id-2 label.sk-toggleable__label {\n",
       "  cursor: pointer;\n",
       "  display: flex;\n",
       "  width: 100%;\n",
       "  margin-bottom: 0;\n",
       "  padding: 0.5em;\n",
       "  box-sizing: border-box;\n",
       "  text-align: center;\n",
       "  align-items: start;\n",
       "  justify-content: space-between;\n",
       "  gap: 0.5em;\n",
       "}\n",
       "\n",
       "#sk-container-id-2 label.sk-toggleable__label .caption {\n",
       "  font-size: 0.6rem;\n",
       "  font-weight: lighter;\n",
       "  color: var(--sklearn-color-text-muted);\n",
       "}\n",
       "\n",
       "#sk-container-id-2 label.sk-toggleable__label-arrow:before {\n",
       "  /* Arrow on the left of the label */\n",
       "  content: \"▸\";\n",
       "  float: left;\n",
       "  margin-right: 0.25em;\n",
       "  color: var(--sklearn-color-icon);\n",
       "}\n",
       "\n",
       "#sk-container-id-2 label.sk-toggleable__label-arrow:hover:before {\n",
       "  color: var(--sklearn-color-text);\n",
       "}\n",
       "\n",
       "/* Toggleable content - dropdown */\n",
       "\n",
       "#sk-container-id-2 div.sk-toggleable__content {\n",
       "  max-height: 0;\n",
       "  max-width: 0;\n",
       "  overflow: hidden;\n",
       "  text-align: left;\n",
       "  /* unfitted */\n",
       "  background-color: var(--sklearn-color-unfitted-level-0);\n",
       "}\n",
       "\n",
       "#sk-container-id-2 div.sk-toggleable__content.fitted {\n",
       "  /* fitted */\n",
       "  background-color: var(--sklearn-color-fitted-level-0);\n",
       "}\n",
       "\n",
       "#sk-container-id-2 div.sk-toggleable__content pre {\n",
       "  margin: 0.2em;\n",
       "  border-radius: 0.25em;\n",
       "  color: var(--sklearn-color-text);\n",
       "  /* unfitted */\n",
       "  background-color: var(--sklearn-color-unfitted-level-0);\n",
       "}\n",
       "\n",
       "#sk-container-id-2 div.sk-toggleable__content.fitted pre {\n",
       "  /* unfitted */\n",
       "  background-color: var(--sklearn-color-fitted-level-0);\n",
       "}\n",
       "\n",
       "#sk-container-id-2 input.sk-toggleable__control:checked~div.sk-toggleable__content {\n",
       "  /* Expand drop-down */\n",
       "  max-height: 200px;\n",
       "  max-width: 100%;\n",
       "  overflow: auto;\n",
       "}\n",
       "\n",
       "#sk-container-id-2 input.sk-toggleable__control:checked~label.sk-toggleable__label-arrow:before {\n",
       "  content: \"▾\";\n",
       "}\n",
       "\n",
       "/* Pipeline/ColumnTransformer-specific style */\n",
       "\n",
       "#sk-container-id-2 div.sk-label input.sk-toggleable__control:checked~label.sk-toggleable__label {\n",
       "  color: var(--sklearn-color-text);\n",
       "  background-color: var(--sklearn-color-unfitted-level-2);\n",
       "}\n",
       "\n",
       "#sk-container-id-2 div.sk-label.fitted input.sk-toggleable__control:checked~label.sk-toggleable__label {\n",
       "  background-color: var(--sklearn-color-fitted-level-2);\n",
       "}\n",
       "\n",
       "/* Estimator-specific style */\n",
       "\n",
       "/* Colorize estimator box */\n",
       "#sk-container-id-2 div.sk-estimator input.sk-toggleable__control:checked~label.sk-toggleable__label {\n",
       "  /* unfitted */\n",
       "  background-color: var(--sklearn-color-unfitted-level-2);\n",
       "}\n",
       "\n",
       "#sk-container-id-2 div.sk-estimator.fitted input.sk-toggleable__control:checked~label.sk-toggleable__label {\n",
       "  /* fitted */\n",
       "  background-color: var(--sklearn-color-fitted-level-2);\n",
       "}\n",
       "\n",
       "#sk-container-id-2 div.sk-label label.sk-toggleable__label,\n",
       "#sk-container-id-2 div.sk-label label {\n",
       "  /* The background is the default theme color */\n",
       "  color: var(--sklearn-color-text-on-default-background);\n",
       "}\n",
       "\n",
       "/* On hover, darken the color of the background */\n",
       "#sk-container-id-2 div.sk-label:hover label.sk-toggleable__label {\n",
       "  color: var(--sklearn-color-text);\n",
       "  background-color: var(--sklearn-color-unfitted-level-2);\n",
       "}\n",
       "\n",
       "/* Label box, darken color on hover, fitted */\n",
       "#sk-container-id-2 div.sk-label.fitted:hover label.sk-toggleable__label.fitted {\n",
       "  color: var(--sklearn-color-text);\n",
       "  background-color: var(--sklearn-color-fitted-level-2);\n",
       "}\n",
       "\n",
       "/* Estimator label */\n",
       "\n",
       "#sk-container-id-2 div.sk-label label {\n",
       "  font-family: monospace;\n",
       "  font-weight: bold;\n",
       "  display: inline-block;\n",
       "  line-height: 1.2em;\n",
       "}\n",
       "\n",
       "#sk-container-id-2 div.sk-label-container {\n",
       "  text-align: center;\n",
       "}\n",
       "\n",
       "/* Estimator-specific */\n",
       "#sk-container-id-2 div.sk-estimator {\n",
       "  font-family: monospace;\n",
       "  border: 1px dotted var(--sklearn-color-border-box);\n",
       "  border-radius: 0.25em;\n",
       "  box-sizing: border-box;\n",
       "  margin-bottom: 0.5em;\n",
       "  /* unfitted */\n",
       "  background-color: var(--sklearn-color-unfitted-level-0);\n",
       "}\n",
       "\n",
       "#sk-container-id-2 div.sk-estimator.fitted {\n",
       "  /* fitted */\n",
       "  background-color: var(--sklearn-color-fitted-level-0);\n",
       "}\n",
       "\n",
       "/* on hover */\n",
       "#sk-container-id-2 div.sk-estimator:hover {\n",
       "  /* unfitted */\n",
       "  background-color: var(--sklearn-color-unfitted-level-2);\n",
       "}\n",
       "\n",
       "#sk-container-id-2 div.sk-estimator.fitted:hover {\n",
       "  /* fitted */\n",
       "  background-color: var(--sklearn-color-fitted-level-2);\n",
       "}\n",
       "\n",
       "/* Specification for estimator info (e.g. \"i\" and \"?\") */\n",
       "\n",
       "/* Common style for \"i\" and \"?\" */\n",
       "\n",
       ".sk-estimator-doc-link,\n",
       "a:link.sk-estimator-doc-link,\n",
       "a:visited.sk-estimator-doc-link {\n",
       "  float: right;\n",
       "  font-size: smaller;\n",
       "  line-height: 1em;\n",
       "  font-family: monospace;\n",
       "  background-color: var(--sklearn-color-background);\n",
       "  border-radius: 1em;\n",
       "  height: 1em;\n",
       "  width: 1em;\n",
       "  text-decoration: none !important;\n",
       "  margin-left: 0.5em;\n",
       "  text-align: center;\n",
       "  /* unfitted */\n",
       "  border: var(--sklearn-color-unfitted-level-1) 1pt solid;\n",
       "  color: var(--sklearn-color-unfitted-level-1);\n",
       "}\n",
       "\n",
       ".sk-estimator-doc-link.fitted,\n",
       "a:link.sk-estimator-doc-link.fitted,\n",
       "a:visited.sk-estimator-doc-link.fitted {\n",
       "  /* fitted */\n",
       "  border: var(--sklearn-color-fitted-level-1) 1pt solid;\n",
       "  color: var(--sklearn-color-fitted-level-1);\n",
       "}\n",
       "\n",
       "/* On hover */\n",
       "div.sk-estimator:hover .sk-estimator-doc-link:hover,\n",
       ".sk-estimator-doc-link:hover,\n",
       "div.sk-label-container:hover .sk-estimator-doc-link:hover,\n",
       ".sk-estimator-doc-link:hover {\n",
       "  /* unfitted */\n",
       "  background-color: var(--sklearn-color-unfitted-level-3);\n",
       "  color: var(--sklearn-color-background);\n",
       "  text-decoration: none;\n",
       "}\n",
       "\n",
       "div.sk-estimator.fitted:hover .sk-estimator-doc-link.fitted:hover,\n",
       ".sk-estimator-doc-link.fitted:hover,\n",
       "div.sk-label-container:hover .sk-estimator-doc-link.fitted:hover,\n",
       ".sk-estimator-doc-link.fitted:hover {\n",
       "  /* fitted */\n",
       "  background-color: var(--sklearn-color-fitted-level-3);\n",
       "  color: var(--sklearn-color-background);\n",
       "  text-decoration: none;\n",
       "}\n",
       "\n",
       "/* Span, style for the box shown on hovering the info icon */\n",
       ".sk-estimator-doc-link span {\n",
       "  display: none;\n",
       "  z-index: 9999;\n",
       "  position: relative;\n",
       "  font-weight: normal;\n",
       "  right: .2ex;\n",
       "  padding: .5ex;\n",
       "  margin: .5ex;\n",
       "  width: min-content;\n",
       "  min-width: 20ex;\n",
       "  max-width: 50ex;\n",
       "  color: var(--sklearn-color-text);\n",
       "  box-shadow: 2pt 2pt 4pt #999;\n",
       "  /* unfitted */\n",
       "  background: var(--sklearn-color-unfitted-level-0);\n",
       "  border: .5pt solid var(--sklearn-color-unfitted-level-3);\n",
       "}\n",
       "\n",
       ".sk-estimator-doc-link.fitted span {\n",
       "  /* fitted */\n",
       "  background: var(--sklearn-color-fitted-level-0);\n",
       "  border: var(--sklearn-color-fitted-level-3);\n",
       "}\n",
       "\n",
       ".sk-estimator-doc-link:hover span {\n",
       "  display: block;\n",
       "}\n",
       "\n",
       "/* \"?\"-specific style due to the `<a>` HTML tag */\n",
       "\n",
       "#sk-container-id-2 a.estimator_doc_link {\n",
       "  float: right;\n",
       "  font-size: 1rem;\n",
       "  line-height: 1em;\n",
       "  font-family: monospace;\n",
       "  background-color: var(--sklearn-color-background);\n",
       "  border-radius: 1rem;\n",
       "  height: 1rem;\n",
       "  width: 1rem;\n",
       "  text-decoration: none;\n",
       "  /* unfitted */\n",
       "  color: var(--sklearn-color-unfitted-level-1);\n",
       "  border: var(--sklearn-color-unfitted-level-1) 1pt solid;\n",
       "}\n",
       "\n",
       "#sk-container-id-2 a.estimator_doc_link.fitted {\n",
       "  /* fitted */\n",
       "  border: var(--sklearn-color-fitted-level-1) 1pt solid;\n",
       "  color: var(--sklearn-color-fitted-level-1);\n",
       "}\n",
       "\n",
       "/* On hover */\n",
       "#sk-container-id-2 a.estimator_doc_link:hover {\n",
       "  /* unfitted */\n",
       "  background-color: var(--sklearn-color-unfitted-level-3);\n",
       "  color: var(--sklearn-color-background);\n",
       "  text-decoration: none;\n",
       "}\n",
       "\n",
       "#sk-container-id-2 a.estimator_doc_link.fitted:hover {\n",
       "  /* fitted */\n",
       "  background-color: var(--sklearn-color-fitted-level-3);\n",
       "}\n",
       "</style><div id=\"sk-container-id-2\" class=\"sk-top-container\"><div class=\"sk-text-repr-fallback\"><pre>Pipeline(steps=[(&#x27;preprocessor&#x27;,\n",
       "                 ColumnTransformer(force_int_remainder_cols=False,\n",
       "                                   remainder=&#x27;passthrough&#x27;,\n",
       "                                   transformers=[(&#x27;num&#x27;, &#x27;passthrough&#x27;,\n",
       "                                                  [&#x27;lag_1&#x27;, &#x27;lag_2&#x27;, &#x27;lag_22&#x27;,\n",
       "                                                   &#x27;lag_23&#x27;, &#x27;lag_24&#x27;,\n",
       "                                                   &#x27;lag_25&#x27;]),\n",
       "                                                 (&#x27;ohe&#x27;,\n",
       "                                                  Pipeline(steps=[(&#x27;ohe&#x27;,\n",
       "                                                                   OneHotEncoder(drop=&#x27;first&#x27;,\n",
       "                                                                                 handle_unknown=&#x27;ignore&#x27;,\n",
       "                                                                                 sparse_output=False))]),\n",
       "                                                  [&#x27;hour&#x27;, &#x27;day_of_week&#x27;])])),\n",
       "                (&#x27;models&#x27;, LGBMRegressor(max_depth=2, num_leaves=13))])</pre><b>In a Jupyter environment, please rerun this cell to show the HTML representation or trust the notebook. <br />On GitHub, the HTML representation is unable to render, please try loading this page with nbviewer.org.</b></div><div class=\"sk-container\" hidden><div class=\"sk-item sk-dashed-wrapped\"><div class=\"sk-label-container\"><div class=\"sk-label fitted sk-toggleable\"><input class=\"sk-toggleable__control sk-hidden--visually\" id=\"sk-estimator-id-11\" type=\"checkbox\" ><label for=\"sk-estimator-id-11\" class=\"sk-toggleable__label fitted sk-toggleable__label-arrow\"><div><div>Pipeline</div></div><div><a class=\"sk-estimator-doc-link fitted\" rel=\"noreferrer\" target=\"_blank\" href=\"https://scikit-learn.org/1.6/modules/generated/sklearn.pipeline.Pipeline.html\">?<span>Documentation for Pipeline</span></a><span class=\"sk-estimator-doc-link fitted\">i<span>Fitted</span></span></div></label><div class=\"sk-toggleable__content fitted\"><pre>Pipeline(steps=[(&#x27;preprocessor&#x27;,\n",
       "                 ColumnTransformer(force_int_remainder_cols=False,\n",
       "                                   remainder=&#x27;passthrough&#x27;,\n",
       "                                   transformers=[(&#x27;num&#x27;, &#x27;passthrough&#x27;,\n",
       "                                                  [&#x27;lag_1&#x27;, &#x27;lag_2&#x27;, &#x27;lag_22&#x27;,\n",
       "                                                   &#x27;lag_23&#x27;, &#x27;lag_24&#x27;,\n",
       "                                                   &#x27;lag_25&#x27;]),\n",
       "                                                 (&#x27;ohe&#x27;,\n",
       "                                                  Pipeline(steps=[(&#x27;ohe&#x27;,\n",
       "                                                                   OneHotEncoder(drop=&#x27;first&#x27;,\n",
       "                                                                                 handle_unknown=&#x27;ignore&#x27;,\n",
       "                                                                                 sparse_output=False))]),\n",
       "                                                  [&#x27;hour&#x27;, &#x27;day_of_week&#x27;])])),\n",
       "                (&#x27;models&#x27;, LGBMRegressor(max_depth=2, num_leaves=13))])</pre></div> </div></div><div class=\"sk-serial\"><div class=\"sk-item sk-dashed-wrapped\"><div class=\"sk-label-container\"><div class=\"sk-label fitted sk-toggleable\"><input class=\"sk-toggleable__control sk-hidden--visually\" id=\"sk-estimator-id-12\" type=\"checkbox\" ><label for=\"sk-estimator-id-12\" class=\"sk-toggleable__label fitted sk-toggleable__label-arrow\"><div><div>preprocessor: ColumnTransformer</div></div><div><a class=\"sk-estimator-doc-link fitted\" rel=\"noreferrer\" target=\"_blank\" href=\"https://scikit-learn.org/1.6/modules/generated/sklearn.compose.ColumnTransformer.html\">?<span>Documentation for preprocessor: ColumnTransformer</span></a></div></label><div class=\"sk-toggleable__content fitted\"><pre>ColumnTransformer(force_int_remainder_cols=False, remainder=&#x27;passthrough&#x27;,\n",
       "                  transformers=[(&#x27;num&#x27;, &#x27;passthrough&#x27;,\n",
       "                                 [&#x27;lag_1&#x27;, &#x27;lag_2&#x27;, &#x27;lag_22&#x27;, &#x27;lag_23&#x27;,\n",
       "                                  &#x27;lag_24&#x27;, &#x27;lag_25&#x27;]),\n",
       "                                (&#x27;ohe&#x27;,\n",
       "                                 Pipeline(steps=[(&#x27;ohe&#x27;,\n",
       "                                                  OneHotEncoder(drop=&#x27;first&#x27;,\n",
       "                                                                handle_unknown=&#x27;ignore&#x27;,\n",
       "                                                                sparse_output=False))]),\n",
       "                                 [&#x27;hour&#x27;, &#x27;day_of_week&#x27;])])</pre></div> </div></div><div class=\"sk-parallel\"><div class=\"sk-parallel-item\"><div class=\"sk-item\"><div class=\"sk-label-container\"><div class=\"sk-label fitted sk-toggleable\"><input class=\"sk-toggleable__control sk-hidden--visually\" id=\"sk-estimator-id-13\" type=\"checkbox\" ><label for=\"sk-estimator-id-13\" class=\"sk-toggleable__label fitted sk-toggleable__label-arrow\"><div><div>num</div></div></label><div class=\"sk-toggleable__content fitted\"><pre>[&#x27;lag_1&#x27;, &#x27;lag_2&#x27;, &#x27;lag_22&#x27;, &#x27;lag_23&#x27;, &#x27;lag_24&#x27;, &#x27;lag_25&#x27;]</pre></div> </div></div><div class=\"sk-serial\"><div class=\"sk-item\"><div class=\"sk-estimator fitted sk-toggleable\"><input class=\"sk-toggleable__control sk-hidden--visually\" id=\"sk-estimator-id-14\" type=\"checkbox\" ><label for=\"sk-estimator-id-14\" class=\"sk-toggleable__label fitted sk-toggleable__label-arrow\"><div><div>passthrough</div></div></label><div class=\"sk-toggleable__content fitted\"><pre>passthrough</pre></div> </div></div></div></div></div><div class=\"sk-parallel-item\"><div class=\"sk-item\"><div class=\"sk-label-container\"><div class=\"sk-label fitted sk-toggleable\"><input class=\"sk-toggleable__control sk-hidden--visually\" id=\"sk-estimator-id-15\" type=\"checkbox\" ><label for=\"sk-estimator-id-15\" class=\"sk-toggleable__label fitted sk-toggleable__label-arrow\"><div><div>ohe</div></div></label><div class=\"sk-toggleable__content fitted\"><pre>[&#x27;hour&#x27;, &#x27;day_of_week&#x27;]</pre></div> </div></div><div class=\"sk-serial\"><div class=\"sk-item\"><div class=\"sk-serial\"><div class=\"sk-item\"><div class=\"sk-estimator fitted sk-toggleable\"><input class=\"sk-toggleable__control sk-hidden--visually\" id=\"sk-estimator-id-16\" type=\"checkbox\" ><label for=\"sk-estimator-id-16\" class=\"sk-toggleable__label fitted sk-toggleable__label-arrow\"><div><div>OneHotEncoder</div></div><div><a class=\"sk-estimator-doc-link fitted\" rel=\"noreferrer\" target=\"_blank\" href=\"https://scikit-learn.org/1.6/modules/generated/sklearn.preprocessing.OneHotEncoder.html\">?<span>Documentation for OneHotEncoder</span></a></div></label><div class=\"sk-toggleable__content fitted\"><pre>OneHotEncoder(drop=&#x27;first&#x27;, handle_unknown=&#x27;ignore&#x27;, sparse_output=False)</pre></div> </div></div></div></div></div></div></div><div class=\"sk-parallel-item\"><div class=\"sk-item\"><div class=\"sk-label-container\"><div class=\"sk-label fitted sk-toggleable\"><input class=\"sk-toggleable__control sk-hidden--visually\" id=\"sk-estimator-id-17\" type=\"checkbox\" ><label for=\"sk-estimator-id-17\" class=\"sk-toggleable__label fitted sk-toggleable__label-arrow\"><div><div>remainder</div></div></label><div class=\"sk-toggleable__content fitted\"><pre>[]</pre></div> </div></div><div class=\"sk-serial\"><div class=\"sk-item\"><div class=\"sk-estimator fitted sk-toggleable\"><input class=\"sk-toggleable__control sk-hidden--visually\" id=\"sk-estimator-id-18\" type=\"checkbox\" ><label for=\"sk-estimator-id-18\" class=\"sk-toggleable__label fitted sk-toggleable__label-arrow\"><div><div>passthrough</div></div></label><div class=\"sk-toggleable__content fitted\"><pre>passthrough</pre></div> </div></div></div></div></div></div></div><div class=\"sk-item\"><div class=\"sk-estimator fitted sk-toggleable\"><input class=\"sk-toggleable__control sk-hidden--visually\" id=\"sk-estimator-id-19\" type=\"checkbox\" ><label for=\"sk-estimator-id-19\" class=\"sk-toggleable__label fitted sk-toggleable__label-arrow\"><div><div>LGBMRegressor</div></div></label><div class=\"sk-toggleable__content fitted\"><pre>LGBMRegressor(max_depth=2, num_leaves=13)</pre></div> </div></div></div></div></div></div>"
      ],
      "text/plain": [
       "Pipeline(steps=[('preprocessor',\n",
       "                 ColumnTransformer(force_int_remainder_cols=False,\n",
       "                                   remainder='passthrough',\n",
       "                                   transformers=[('num', 'passthrough',\n",
       "                                                  ['lag_1', 'lag_2', 'lag_22',\n",
       "                                                   'lag_23', 'lag_24',\n",
       "                                                   'lag_25']),\n",
       "                                                 ('ohe',\n",
       "                                                  Pipeline(steps=[('ohe',\n",
       "                                                                   OneHotEncoder(drop='first',\n",
       "                                                                                 handle_unknown='ignore',\n",
       "                                                                                 sparse_output=False))]),\n",
       "                                                  ['hour', 'day_of_week'])])),\n",
       "                ('models', LGBMRegressor(max_depth=2, num_leaves=13))])"
      ]
     },
     "execution_count": 36,
     "metadata": {},
     "output_type": "execute_result"
    }
   ],
   "source": [
    "randomized_search.best_estimator_"
   ]
  },
  {
   "cell_type": "markdown",
   "metadata": {},
   "source": [
    "Лучшей оказалась модель градиентного бустинга LGBMRegressor c гиперпараметрами max_depth=2, num_leaves=13. RMSE на тренировочной выборка равна 27,7, по заданию, оценка не должна превышать 48"
   ]
  },
  {
   "cell_type": "markdown",
   "metadata": {},
   "source": [
    "Найдем предсказания модели"
   ]
  },
  {
   "cell_type": "code",
   "execution_count": 37,
   "metadata": {},
   "outputs": [
    {
     "name": "stderr",
     "output_type": "stream",
     "text": [
      "C:\\Users\\peredkova\\AppData\\Local\\anaconda3\\Lib\\site-packages\\sklearn\\utils\\validation.py:2739: UserWarning: X does not have valid feature names, but LGBMRegressor was fitted with feature names\n",
      "  warnings.warn(\n"
     ]
    }
   ],
   "source": [
    "pred = randomized_search.predict(X_test)"
   ]
  },
  {
   "cell_type": "markdown",
   "metadata": {},
   "source": [
    "## Тестирование"
   ]
  },
  {
   "cell_type": "markdown",
   "metadata": {},
   "source": [
    "Проверим данные на тестовой выборке"
   ]
  },
  {
   "cell_type": "code",
   "execution_count": 38,
   "metadata": {},
   "outputs": [
    {
     "data": {
      "text/plain": [
       "45.1695007091203"
      ]
     },
     "execution_count": 38,
     "metadata": {},
     "output_type": "execute_result"
    }
   ],
   "source": [
    "rmse = mean_squared_error(y_test, pred)**0.5\n",
    "rmse"
   ]
  },
  {
   "cell_type": "markdown",
   "metadata": {},
   "source": [
    "RMSE=45,1, оценка на тестовой выборке значительно выше, чем на тренировочной, тем не менее она соответствует условиям задачи."
   ]
  },
  {
   "cell_type": "markdown",
   "metadata": {},
   "source": [
    "## Вывод"
   ]
  },
  {
   "cell_type": "markdown",
   "metadata": {},
   "source": [
    "Я изучила исторические данные компании \"Четенькое такси\" о заказах такси в аэропортах. Данные в датасете были представлены с начала марта по конец августа. \n",
    "* Проведя анализ данных, я выяснила, что с наступлением лета количество заказов в такси стабильно растет, скорее всего это связано с сезоном отпусков. Закономерности по количеству заказов в течение дня я не обнаружила. Думаю это связано с тем, что самолеты прилетают в любое время дня.\n",
    "* Для обучения модели я добавила в датасет новые признаки: календарные признаки (час, день недели и месяц), отстающие значения, скользящее среднее. После выбора, обучения и тестирования модели выянилось, что модель недообучилась, поэтому я решила добавить еще один признак - разность временного ряда.\n",
    "* Для выполнения задачи я обучила 5 разных моделей: LinearRegression, SVC, DecisionTreeRegressor, KNeighborsRegressor и LGBMRegressor и подобрала для них гиперпараметры. Лучшей оказалась модель LGBMRegressor c гиперпараметрами max_depth=2, num_leaves=13. \n",
    "RMSE на тренировочной выборка равна 27,7 \n",
    "* Проведя тестирование модели на тестовых данных я получила RMSE = 45,1"
   ]
  }
 ],
 "metadata": {
  "ExecuteTimeLog": [
   {
    "duration": 65,
    "start_time": "2025-01-30T11:04:44.569Z"
   },
   {
    "duration": 433,
    "start_time": "2025-01-30T11:04:47.703Z"
   },
   {
    "duration": 76,
    "start_time": "2025-01-30T11:04:48.631Z"
   },
   {
    "duration": 14,
    "start_time": "2025-01-30T11:04:56.143Z"
   },
   {
    "duration": 37,
    "start_time": "2025-01-30T11:05:18.919Z"
   },
   {
    "duration": 14,
    "start_time": "2025-01-30T11:05:28.916Z"
   },
   {
    "duration": 13,
    "start_time": "2025-01-30T11:05:35.996Z"
   },
   {
    "duration": 40,
    "start_time": "2025-01-30T11:06:40.015Z"
   },
   {
    "duration": 8,
    "start_time": "2025-01-30T11:06:40.518Z"
   },
   {
    "duration": 10,
    "start_time": "2025-01-30T11:06:41.489Z"
   },
   {
    "duration": 1068,
    "start_time": "2025-01-30T11:07:12.340Z"
   },
   {
    "duration": 1285,
    "start_time": "2025-01-30T11:07:24.538Z"
   },
   {
    "duration": 46,
    "start_time": "2025-01-30T11:07:52.264Z"
   },
   {
    "duration": 8,
    "start_time": "2025-01-30T11:07:52.712Z"
   },
   {
    "duration": 15,
    "start_time": "2025-01-30T11:07:53.648Z"
   },
   {
    "duration": 4,
    "start_time": "2025-01-30T11:08:52.299Z"
   },
   {
    "duration": 17,
    "start_time": "2025-01-30T11:09:55.054Z"
   },
   {
    "duration": 10,
    "start_time": "2025-01-30T11:10:09.661Z"
   },
   {
    "duration": 10,
    "start_time": "2025-01-30T11:10:34.147Z"
   },
   {
    "duration": 11,
    "start_time": "2025-01-30T11:11:18.496Z"
   },
   {
    "duration": 3,
    "start_time": "2025-01-30T11:11:26.663Z"
   },
   {
    "duration": 50,
    "start_time": "2025-01-30T11:11:27.294Z"
   },
   {
    "duration": 7,
    "start_time": "2025-01-30T11:11:27.814Z"
   },
   {
    "duration": 12,
    "start_time": "2025-01-30T11:11:31.160Z"
   },
   {
    "duration": 3,
    "start_time": "2025-01-30T11:11:31.677Z"
   },
   {
    "duration": 6,
    "start_time": "2025-01-30T11:11:32.358Z"
   },
   {
    "duration": 3,
    "start_time": "2025-01-30T11:11:35.485Z"
   },
   {
    "duration": 5,
    "start_time": "2025-01-30T11:11:38.157Z"
   },
   {
    "duration": 9,
    "start_time": "2025-01-30T11:11:45.620Z"
   },
   {
    "duration": 459,
    "start_time": "2025-01-30T11:11:57.155Z"
   },
   {
    "duration": 42,
    "start_time": "2025-01-30T11:11:57.616Z"
   },
   {
    "duration": 16,
    "start_time": "2025-01-30T11:11:57.659Z"
   },
   {
    "duration": 12,
    "start_time": "2025-01-30T11:11:57.677Z"
   },
   {
    "duration": 4,
    "start_time": "2025-01-30T11:11:57.690Z"
   },
   {
    "duration": 29,
    "start_time": "2025-01-30T11:11:57.696Z"
   },
   {
    "duration": 30,
    "start_time": "2025-01-30T11:11:57.727Z"
   },
   {
    "duration": 3,
    "start_time": "2025-01-30T11:12:12.650Z"
   },
   {
    "duration": 72,
    "start_time": "2025-01-30T11:12:13.130Z"
   },
   {
    "duration": 12,
    "start_time": "2025-01-30T11:12:28.536Z"
   },
   {
    "duration": 428,
    "start_time": "2025-01-30T11:12:33.792Z"
   },
   {
    "duration": 42,
    "start_time": "2025-01-30T11:12:34.223Z"
   },
   {
    "duration": 16,
    "start_time": "2025-01-30T11:12:34.267Z"
   },
   {
    "duration": 12,
    "start_time": "2025-01-30T11:12:34.285Z"
   },
   {
    "duration": 24,
    "start_time": "2025-01-30T11:12:34.300Z"
   },
   {
    "duration": 11,
    "start_time": "2025-01-30T11:12:34.326Z"
   },
   {
    "duration": 31,
    "start_time": "2025-01-30T11:12:34.339Z"
   },
   {
    "duration": 1213,
    "start_time": "2025-01-30T11:14:56.596Z"
   },
   {
    "duration": 738,
    "start_time": "2025-01-30T11:15:05.332Z"
   },
   {
    "duration": 278,
    "start_time": "2025-01-30T11:15:22.194Z"
   },
   {
    "duration": 3,
    "start_time": "2025-01-30T11:16:01.126Z"
   },
   {
    "duration": 300,
    "start_time": "2025-01-30T11:16:04.111Z"
   },
   {
    "duration": 285,
    "start_time": "2025-01-30T11:16:20.125Z"
   },
   {
    "duration": 298,
    "start_time": "2025-01-30T11:18:12.964Z"
   },
   {
    "duration": 264,
    "start_time": "2025-01-30T11:19:30.461Z"
   },
   {
    "duration": 362,
    "start_time": "2025-01-30T11:19:56.787Z"
   },
   {
    "duration": 392,
    "start_time": "2025-01-30T11:20:04.570Z"
   },
   {
    "duration": 311,
    "start_time": "2025-01-30T11:20:34.744Z"
   },
   {
    "duration": 322,
    "start_time": "2025-01-30T11:20:40.222Z"
   },
   {
    "duration": 2,
    "start_time": "2025-01-30T11:22:04.432Z"
   },
   {
    "duration": 576,
    "start_time": "2025-01-30T11:22:50.260Z"
   },
   {
    "duration": 41,
    "start_time": "2025-01-30T11:23:00.531Z"
   },
   {
    "duration": 1327,
    "start_time": "2025-01-30T11:23:30.690Z"
   },
   {
    "duration": 44,
    "start_time": "2025-01-30T11:23:32.019Z"
   },
   {
    "duration": 12,
    "start_time": "2025-01-30T11:23:32.065Z"
   },
   {
    "duration": 13,
    "start_time": "2025-01-30T11:23:32.079Z"
   },
   {
    "duration": 15,
    "start_time": "2025-01-30T11:23:32.094Z"
   },
   {
    "duration": 11,
    "start_time": "2025-01-30T11:23:32.110Z"
   },
   {
    "duration": 8,
    "start_time": "2025-01-30T11:23:32.123Z"
   },
   {
    "duration": 408,
    "start_time": "2025-01-30T11:23:32.133Z"
   },
   {
    "duration": 115,
    "start_time": "2025-01-30T11:23:32.543Z"
   },
   {
    "duration": 6,
    "start_time": "2025-01-30T11:24:35.078Z"
   },
   {
    "duration": 24,
    "start_time": "2025-01-30T11:24:35.733Z"
   },
   {
    "duration": 21,
    "start_time": "2025-01-30T11:25:01.035Z"
   },
   {
    "duration": 1263,
    "start_time": "2025-01-30T11:25:06.077Z"
   },
   {
    "duration": 44,
    "start_time": "2025-01-30T11:25:07.342Z"
   },
   {
    "duration": 14,
    "start_time": "2025-01-30T11:25:07.388Z"
   },
   {
    "duration": 21,
    "start_time": "2025-01-30T11:25:07.404Z"
   },
   {
    "duration": 4,
    "start_time": "2025-01-30T11:25:07.426Z"
   },
   {
    "duration": 17,
    "start_time": "2025-01-30T11:25:07.431Z"
   },
   {
    "duration": 40,
    "start_time": "2025-01-30T11:25:07.450Z"
   },
   {
    "duration": 369,
    "start_time": "2025-01-30T11:25:07.492Z"
   },
   {
    "duration": 111,
    "start_time": "2025-01-30T11:25:07.863Z"
   },
   {
    "duration": 6,
    "start_time": "2025-01-30T11:28:53.509Z"
   },
   {
    "duration": 24,
    "start_time": "2025-01-30T11:28:54.165Z"
   },
   {
    "duration": 15,
    "start_time": "2025-01-30T11:29:58.345Z"
   },
   {
    "duration": 13,
    "start_time": "2025-01-30T11:30:59.003Z"
   },
   {
    "duration": 231,
    "start_time": "2025-01-30T11:31:19.392Z"
   },
   {
    "duration": 237,
    "start_time": "2025-01-30T11:31:35.678Z"
   },
   {
    "duration": 264,
    "start_time": "2025-01-30T11:32:57.712Z"
   },
   {
    "duration": 406,
    "start_time": "2025-01-30T11:33:08.783Z"
   },
   {
    "duration": 266,
    "start_time": "2025-01-30T11:34:50.742Z"
   },
   {
    "duration": 316,
    "start_time": "2025-01-30T11:36:31.581Z"
   },
   {
    "duration": 314,
    "start_time": "2025-01-30T11:37:14.474Z"
   },
   {
    "duration": 312,
    "start_time": "2025-01-30T11:37:18.449Z"
   },
   {
    "duration": 11,
    "start_time": "2025-01-30T11:38:12.460Z"
   },
   {
    "duration": 9,
    "start_time": "2025-01-30T11:38:42.441Z"
   },
   {
    "duration": 21,
    "start_time": "2025-01-30T11:38:42.769Z"
   },
   {
    "duration": 20,
    "start_time": "2025-01-30T11:39:02.040Z"
   },
   {
    "duration": 7,
    "start_time": "2025-01-30T11:39:20.951Z"
   },
   {
    "duration": 235,
    "start_time": "2025-01-30T11:39:21.702Z"
   },
   {
    "duration": 18,
    "start_time": "2025-01-30T11:39:36.141Z"
   },
   {
    "duration": 10,
    "start_time": "2025-01-30T11:39:38.509Z"
   },
   {
    "duration": 349,
    "start_time": "2025-01-30T11:39:39.349Z"
   },
   {
    "duration": 16,
    "start_time": "2025-01-30T11:39:51.556Z"
   },
   {
    "duration": 12,
    "start_time": "2025-01-30T11:39:52.396Z"
   },
   {
    "duration": 15,
    "start_time": "2025-01-30T11:39:58.627Z"
   },
   {
    "duration": 1039,
    "start_time": "2025-01-30T11:40:20.665Z"
   },
   {
    "duration": 184,
    "start_time": "2025-01-30T11:40:37.783Z"
   },
   {
    "duration": 9,
    "start_time": "2025-01-30T11:41:50.473Z"
   },
   {
    "duration": 227,
    "start_time": "2025-01-30T11:42:08.015Z"
   },
   {
    "duration": 222,
    "start_time": "2025-01-30T11:42:16.647Z"
   },
   {
    "duration": 91,
    "start_time": "2025-01-30T11:44:45.233Z"
   },
   {
    "duration": 4,
    "start_time": "2025-01-30T11:52:00.410Z"
   },
   {
    "duration": 7,
    "start_time": "2025-01-30T11:52:00.931Z"
   },
   {
    "duration": 22,
    "start_time": "2025-01-30T11:52:01.467Z"
   },
   {
    "duration": 412,
    "start_time": "2025-01-30T11:53:09.068Z"
   },
   {
    "duration": 1313,
    "start_time": "2025-01-30T11:53:22.314Z"
   },
   {
    "duration": 44,
    "start_time": "2025-01-30T11:53:23.631Z"
   },
   {
    "duration": 16,
    "start_time": "2025-01-30T11:53:23.678Z"
   },
   {
    "duration": 23,
    "start_time": "2025-01-30T11:53:23.697Z"
   },
   {
    "duration": 4,
    "start_time": "2025-01-30T11:53:23.722Z"
   },
   {
    "duration": 13,
    "start_time": "2025-01-30T11:53:23.727Z"
   },
   {
    "duration": 10,
    "start_time": "2025-01-30T11:53:23.741Z"
   },
   {
    "duration": 344,
    "start_time": "2025-01-30T11:53:23.777Z"
   },
   {
    "duration": 150,
    "start_time": "2025-01-30T11:53:24.124Z"
   },
   {
    "duration": 0,
    "start_time": "2025-01-30T11:53:24.277Z"
   },
   {
    "duration": 0,
    "start_time": "2025-01-30T11:53:24.280Z"
   },
   {
    "duration": 0,
    "start_time": "2025-01-30T11:53:24.281Z"
   },
   {
    "duration": 0,
    "start_time": "2025-01-30T11:53:24.283Z"
   },
   {
    "duration": 0,
    "start_time": "2025-01-30T11:53:24.285Z"
   },
   {
    "duration": 297,
    "start_time": "2025-01-30T11:54:06.432Z"
   },
   {
    "duration": 1373,
    "start_time": "2025-01-30T11:54:11.642Z"
   },
   {
    "duration": 42,
    "start_time": "2025-01-30T11:54:13.017Z"
   },
   {
    "duration": 12,
    "start_time": "2025-01-30T11:54:13.061Z"
   },
   {
    "duration": 12,
    "start_time": "2025-01-30T11:54:13.075Z"
   },
   {
    "duration": 4,
    "start_time": "2025-01-30T11:54:13.088Z"
   },
   {
    "duration": 13,
    "start_time": "2025-01-30T11:54:13.094Z"
   },
   {
    "duration": 11,
    "start_time": "2025-01-30T11:54:13.109Z"
   },
   {
    "duration": 324,
    "start_time": "2025-01-30T11:54:13.122Z"
   },
   {
    "duration": 138,
    "start_time": "2025-01-30T11:54:13.448Z"
   },
   {
    "duration": 0,
    "start_time": "2025-01-30T11:54:13.589Z"
   },
   {
    "duration": 0,
    "start_time": "2025-01-30T11:54:13.591Z"
   },
   {
    "duration": 0,
    "start_time": "2025-01-30T11:54:13.593Z"
   },
   {
    "duration": 0,
    "start_time": "2025-01-30T11:54:13.595Z"
   },
   {
    "duration": 0,
    "start_time": "2025-01-30T11:54:13.598Z"
   },
   {
    "duration": 266,
    "start_time": "2025-01-30T11:54:35.197Z"
   },
   {
    "duration": 1216,
    "start_time": "2025-01-30T11:54:42.622Z"
   },
   {
    "duration": 44,
    "start_time": "2025-01-30T11:54:43.840Z"
   },
   {
    "duration": 13,
    "start_time": "2025-01-30T11:54:43.886Z"
   },
   {
    "duration": 13,
    "start_time": "2025-01-30T11:54:43.902Z"
   },
   {
    "duration": 3,
    "start_time": "2025-01-30T11:54:43.917Z"
   },
   {
    "duration": 24,
    "start_time": "2025-01-30T11:54:43.922Z"
   },
   {
    "duration": 26,
    "start_time": "2025-01-30T11:54:43.947Z"
   },
   {
    "duration": 327,
    "start_time": "2025-01-30T11:54:43.975Z"
   },
   {
    "duration": 126,
    "start_time": "2025-01-30T11:54:44.304Z"
   },
   {
    "duration": 0,
    "start_time": "2025-01-30T11:54:44.432Z"
   },
   {
    "duration": 0,
    "start_time": "2025-01-30T11:54:44.433Z"
   },
   {
    "duration": 0,
    "start_time": "2025-01-30T11:54:44.435Z"
   },
   {
    "duration": 0,
    "start_time": "2025-01-30T11:54:44.436Z"
   },
   {
    "duration": 0,
    "start_time": "2025-01-30T11:54:44.437Z"
   },
   {
    "duration": 8,
    "start_time": "2025-01-30T11:54:56.404Z"
   },
   {
    "duration": 305,
    "start_time": "2025-01-30T11:54:58.732Z"
   },
   {
    "duration": 318,
    "start_time": "2025-01-30T11:55:02.564Z"
   },
   {
    "duration": 3,
    "start_time": "2025-01-30T11:55:06.683Z"
   },
   {
    "duration": 5,
    "start_time": "2025-01-30T11:56:05.077Z"
   },
   {
    "duration": 21,
    "start_time": "2025-01-30T11:56:05.758Z"
   },
   {
    "duration": 10,
    "start_time": "2025-01-30T11:56:15.092Z"
   },
   {
    "duration": 5,
    "start_time": "2025-01-30T11:56:25.492Z"
   },
   {
    "duration": 15,
    "start_time": "2025-01-30T11:56:25.916Z"
   },
   {
    "duration": 4,
    "start_time": "2025-01-30T11:56:34.458Z"
   },
   {
    "duration": 11,
    "start_time": "2025-01-30T11:56:34.875Z"
   },
   {
    "duration": 21,
    "start_time": "2025-01-30T11:56:35.931Z"
   },
   {
    "duration": 3,
    "start_time": "2025-01-30T11:57:40.757Z"
   },
   {
    "duration": 9,
    "start_time": "2025-01-30T11:59:08.405Z"
   },
   {
    "duration": 6,
    "start_time": "2025-01-30T11:59:10.973Z"
   },
   {
    "duration": 20,
    "start_time": "2025-01-30T11:59:11.181Z"
   },
   {
    "duration": 7,
    "start_time": "2025-01-30T11:59:17.414Z"
   },
   {
    "duration": 456,
    "start_time": "2025-01-30T12:16:29.371Z"
   },
   {
    "duration": 6,
    "start_time": "2025-01-30T12:17:04.103Z"
   },
   {
    "duration": 19,
    "start_time": "2025-01-30T12:17:31.173Z"
   },
   {
    "duration": 3,
    "start_time": "2025-01-30T12:18:50.103Z"
   },
   {
    "duration": 13,
    "start_time": "2025-01-30T12:20:41.165Z"
   },
   {
    "duration": 6,
    "start_time": "2025-01-30T12:20:46.372Z"
   },
   {
    "duration": 1725,
    "start_time": "2025-01-31T06:05:41.730Z"
   },
   {
    "duration": 155,
    "start_time": "2025-01-31T06:05:43.458Z"
   },
   {
    "duration": 14,
    "start_time": "2025-01-31T06:05:43.614Z"
   },
   {
    "duration": 12,
    "start_time": "2025-01-31T06:05:43.631Z"
   },
   {
    "duration": 4,
    "start_time": "2025-01-31T06:05:43.645Z"
   },
   {
    "duration": 10,
    "start_time": "2025-01-31T06:05:43.650Z"
   },
   {
    "duration": 16,
    "start_time": "2025-01-31T06:05:43.661Z"
   },
   {
    "duration": 313,
    "start_time": "2025-01-31T06:05:43.679Z"
   },
   {
    "duration": 8,
    "start_time": "2025-01-31T06:05:43.994Z"
   },
   {
    "duration": 305,
    "start_time": "2025-01-31T06:05:44.004Z"
   },
   {
    "duration": 318,
    "start_time": "2025-01-31T06:05:44.310Z"
   },
   {
    "duration": 4,
    "start_time": "2025-01-31T06:05:44.630Z"
   },
   {
    "duration": 16,
    "start_time": "2025-01-31T06:05:44.636Z"
   },
   {
    "duration": 27,
    "start_time": "2025-01-31T06:05:44.656Z"
   },
   {
    "duration": 5,
    "start_time": "2025-01-31T06:05:44.685Z"
   },
   {
    "duration": 6,
    "start_time": "2025-01-31T06:05:44.691Z"
   },
   {
    "duration": 10,
    "start_time": "2025-01-31T06:05:44.698Z"
   },
   {
    "duration": 5,
    "start_time": "2025-01-31T06:15:53.663Z"
   },
   {
    "duration": 117,
    "start_time": "2025-01-31T06:15:59.351Z"
   },
   {
    "duration": 13,
    "start_time": "2025-01-31T06:16:05.301Z"
   },
   {
    "duration": 3,
    "start_time": "2025-01-31T06:17:05.017Z"
   },
   {
    "duration": 6,
    "start_time": "2025-01-31T06:26:16.953Z"
   },
   {
    "duration": 92,
    "start_time": "2025-01-31T06:26:21.488Z"
   },
   {
    "duration": 10,
    "start_time": "2025-01-31T06:26:28.552Z"
   },
   {
    "duration": 5,
    "start_time": "2025-01-31T06:26:29.096Z"
   },
   {
    "duration": 9,
    "start_time": "2025-01-31T06:26:29.616Z"
   },
   {
    "duration": 1650,
    "start_time": "2025-01-31T06:26:33.673Z"
   },
   {
    "duration": 55,
    "start_time": "2025-01-31T06:26:35.325Z"
   },
   {
    "duration": 13,
    "start_time": "2025-01-31T06:26:35.382Z"
   },
   {
    "duration": 19,
    "start_time": "2025-01-31T06:26:35.397Z"
   },
   {
    "duration": 3,
    "start_time": "2025-01-31T06:26:35.418Z"
   },
   {
    "duration": 12,
    "start_time": "2025-01-31T06:26:35.422Z"
   },
   {
    "duration": 20,
    "start_time": "2025-01-31T06:26:35.436Z"
   },
   {
    "duration": 343,
    "start_time": "2025-01-31T06:26:35.458Z"
   },
   {
    "duration": 9,
    "start_time": "2025-01-31T06:26:35.803Z"
   },
   {
    "duration": 323,
    "start_time": "2025-01-31T06:26:35.814Z"
   },
   {
    "duration": 327,
    "start_time": "2025-01-31T06:26:36.139Z"
   },
   {
    "duration": 4,
    "start_time": "2025-01-31T06:26:36.468Z"
   },
   {
    "duration": 16,
    "start_time": "2025-01-31T06:26:36.474Z"
   },
   {
    "duration": 40,
    "start_time": "2025-01-31T06:26:36.493Z"
   },
   {
    "duration": 12,
    "start_time": "2025-01-31T06:26:36.535Z"
   },
   {
    "duration": 57,
    "start_time": "2025-01-31T06:26:36.549Z"
   },
   {
    "duration": 30,
    "start_time": "2025-01-31T06:26:36.608Z"
   },
   {
    "duration": 39,
    "start_time": "2025-01-31T06:26:36.640Z"
   },
   {
    "duration": 8,
    "start_time": "2025-01-31T06:26:36.681Z"
   },
   {
    "duration": 128,
    "start_time": "2025-01-31T06:26:36.775Z"
   },
   {
    "duration": 0,
    "start_time": "2025-01-31T06:26:36.905Z"
   },
   {
    "duration": 2,
    "start_time": "2025-01-31T06:26:51.759Z"
   },
   {
    "duration": 3,
    "start_time": "2025-01-31T06:26:52.062Z"
   },
   {
    "duration": 10,
    "start_time": "2025-01-31T06:29:59.189Z"
   },
   {
    "duration": 6,
    "start_time": "2025-01-31T06:30:21.124Z"
   },
   {
    "duration": 13,
    "start_time": "2025-01-31T06:30:25.268Z"
   },
   {
    "duration": 12,
    "start_time": "2025-01-31T06:30:39.434Z"
   },
   {
    "duration": 4,
    "start_time": "2025-01-31T06:30:44.809Z"
   },
   {
    "duration": 1720,
    "start_time": "2025-01-31T06:33:00.222Z"
   },
   {
    "duration": 2,
    "start_time": "2025-01-31T06:33:01.945Z"
   },
   {
    "duration": 63,
    "start_time": "2025-01-31T06:33:01.949Z"
   },
   {
    "duration": 13,
    "start_time": "2025-01-31T06:33:02.014Z"
   },
   {
    "duration": 35,
    "start_time": "2025-01-31T06:33:02.029Z"
   },
   {
    "duration": 4,
    "start_time": "2025-01-31T06:33:02.066Z"
   },
   {
    "duration": 72,
    "start_time": "2025-01-31T06:33:02.072Z"
   },
   {
    "duration": 44,
    "start_time": "2025-01-31T06:33:02.145Z"
   },
   {
    "duration": 334,
    "start_time": "2025-01-31T06:33:02.190Z"
   },
   {
    "duration": 7,
    "start_time": "2025-01-31T06:33:02.527Z"
   },
   {
    "duration": 317,
    "start_time": "2025-01-31T06:33:02.535Z"
   },
   {
    "duration": 381,
    "start_time": "2025-01-31T06:33:02.854Z"
   },
   {
    "duration": 4,
    "start_time": "2025-01-31T06:33:03.237Z"
   },
   {
    "duration": 50,
    "start_time": "2025-01-31T06:33:03.243Z"
   },
   {
    "duration": 23,
    "start_time": "2025-01-31T06:33:03.295Z"
   },
   {
    "duration": 15,
    "start_time": "2025-01-31T06:33:03.319Z"
   },
   {
    "duration": 40,
    "start_time": "2025-01-31T06:33:03.336Z"
   },
   {
    "duration": 73,
    "start_time": "2025-01-31T06:33:03.377Z"
   },
   {
    "duration": 17,
    "start_time": "2025-01-31T06:33:03.452Z"
   },
   {
    "duration": 3,
    "start_time": "2025-01-31T06:33:03.471Z"
   },
   {
    "duration": 4,
    "start_time": "2025-01-31T06:33:03.476Z"
   },
   {
    "duration": 16,
    "start_time": "2025-01-31T06:33:03.481Z"
   },
   {
    "duration": 126,
    "start_time": "2025-01-31T06:33:03.498Z"
   },
   {
    "duration": 19576,
    "start_time": "2025-01-31T06:34:21.910Z"
   },
   {
    "duration": 5,
    "start_time": "2025-01-31T06:34:43.093Z"
   },
   {
    "duration": 17,
    "start_time": "2025-01-31T06:34:47.157Z"
   },
   {
    "duration": 3,
    "start_time": "2025-01-31T06:34:56.196Z"
   },
   {
    "duration": 18,
    "start_time": "2025-01-31T06:57:06.657Z"
   },
   {
    "duration": 4146,
    "start_time": "2025-01-31T06:57:55.863Z"
   },
   {
    "duration": 1408,
    "start_time": "2025-01-31T06:58:00.012Z"
   },
   {
    "duration": 3,
    "start_time": "2025-01-31T06:58:01.422Z"
   },
   {
    "duration": 75,
    "start_time": "2025-01-31T06:58:01.427Z"
   },
   {
    "duration": 12,
    "start_time": "2025-01-31T06:58:01.505Z"
   },
   {
    "duration": 67,
    "start_time": "2025-01-31T06:58:01.519Z"
   },
   {
    "duration": 9,
    "start_time": "2025-01-31T06:58:01.589Z"
   },
   {
    "duration": 79,
    "start_time": "2025-01-31T06:58:01.600Z"
   },
   {
    "duration": 37,
    "start_time": "2025-01-31T06:58:01.681Z"
   },
   {
    "duration": 329,
    "start_time": "2025-01-31T06:58:01.720Z"
   },
   {
    "duration": 22,
    "start_time": "2025-01-31T06:58:02.051Z"
   },
   {
    "duration": 290,
    "start_time": "2025-01-31T06:58:02.075Z"
   },
   {
    "duration": 425,
    "start_time": "2025-01-31T06:58:02.366Z"
   },
   {
    "duration": 5,
    "start_time": "2025-01-31T06:58:02.794Z"
   },
   {
    "duration": 27,
    "start_time": "2025-01-31T06:58:02.801Z"
   },
   {
    "duration": 14,
    "start_time": "2025-01-31T06:58:02.830Z"
   },
   {
    "duration": 28,
    "start_time": "2025-01-31T06:58:02.846Z"
   },
   {
    "duration": 18,
    "start_time": "2025-01-31T06:58:02.876Z"
   },
   {
    "duration": 35,
    "start_time": "2025-01-31T06:58:02.896Z"
   },
   {
    "duration": 35,
    "start_time": "2025-01-31T06:58:02.932Z"
   },
   {
    "duration": 8,
    "start_time": "2025-01-31T06:58:02.968Z"
   },
   {
    "duration": 25,
    "start_time": "2025-01-31T06:58:02.978Z"
   },
   {
    "duration": 13,
    "start_time": "2025-01-31T06:58:03.005Z"
   },
   {
    "duration": 4,
    "start_time": "2025-01-31T06:58:03.020Z"
   },
   {
    "duration": 127,
    "start_time": "2025-01-31T06:58:03.026Z"
   },
   {
    "duration": 15,
    "start_time": "2025-01-31T06:58:19.443Z"
   },
   {
    "duration": 5,
    "start_time": "2025-01-31T06:58:41.393Z"
   },
   {
    "duration": 11,
    "start_time": "2025-01-31T07:00:11.401Z"
   },
   {
    "duration": 4,
    "start_time": "2025-01-31T07:00:27.184Z"
   },
   {
    "duration": 3,
    "start_time": "2025-01-31T07:00:31.296Z"
   },
   {
    "duration": 16,
    "start_time": "2025-01-31T07:00:43.894Z"
   },
   {
    "duration": 19717,
    "start_time": "2025-01-31T08:15:36.828Z"
   },
   {
    "duration": 1467,
    "start_time": "2025-01-31T08:15:56.547Z"
   },
   {
    "duration": 3,
    "start_time": "2025-01-31T08:15:58.016Z"
   },
   {
    "duration": 68,
    "start_time": "2025-01-31T08:15:58.021Z"
   },
   {
    "duration": 12,
    "start_time": "2025-01-31T08:15:58.092Z"
   },
   {
    "duration": 11,
    "start_time": "2025-01-31T08:15:58.106Z"
   },
   {
    "duration": 14,
    "start_time": "2025-01-31T08:15:58.119Z"
   },
   {
    "duration": 12,
    "start_time": "2025-01-31T08:15:58.135Z"
   },
   {
    "duration": 30,
    "start_time": "2025-01-31T08:15:58.148Z"
   },
   {
    "duration": 322,
    "start_time": "2025-01-31T08:15:58.181Z"
   },
   {
    "duration": 8,
    "start_time": "2025-01-31T08:15:58.505Z"
   },
   {
    "duration": 289,
    "start_time": "2025-01-31T08:15:58.515Z"
   },
   {
    "duration": 468,
    "start_time": "2025-01-31T08:15:58.806Z"
   },
   {
    "duration": 4,
    "start_time": "2025-01-31T08:15:59.276Z"
   },
   {
    "duration": 15,
    "start_time": "2025-01-31T08:15:59.282Z"
   },
   {
    "duration": 15,
    "start_time": "2025-01-31T08:15:59.299Z"
   },
   {
    "duration": 65,
    "start_time": "2025-01-31T08:15:59.315Z"
   },
   {
    "duration": 13,
    "start_time": "2025-01-31T08:15:59.382Z"
   },
   {
    "duration": 10,
    "start_time": "2025-01-31T08:15:59.396Z"
   },
   {
    "duration": 8,
    "start_time": "2025-01-31T08:15:59.408Z"
   },
   {
    "duration": 3,
    "start_time": "2025-01-31T08:15:59.418Z"
   },
   {
    "duration": 10,
    "start_time": "2025-01-31T08:15:59.423Z"
   },
   {
    "duration": 7,
    "start_time": "2025-01-31T08:15:59.435Z"
   },
   {
    "duration": 14,
    "start_time": "2025-01-31T08:15:59.444Z"
   },
   {
    "duration": 5,
    "start_time": "2025-01-31T08:15:59.473Z"
   },
   {
    "duration": 5,
    "start_time": "2025-01-31T08:15:59.480Z"
   },
   {
    "duration": 149,
    "start_time": "2025-01-31T08:15:59.486Z"
   },
   {
    "duration": 5,
    "start_time": "2025-01-31T08:17:05.990Z"
   },
   {
    "duration": 4,
    "start_time": "2025-01-31T08:17:09.949Z"
   },
   {
    "duration": 16,
    "start_time": "2025-01-31T08:17:11.598Z"
   },
   {
    "duration": 4,
    "start_time": "2025-01-31T08:22:19.283Z"
   },
   {
    "duration": 16,
    "start_time": "2025-01-31T08:22:20.115Z"
   },
   {
    "duration": 3,
    "start_time": "2025-01-31T08:22:24.115Z"
   },
   {
    "duration": 16,
    "start_time": "2025-01-31T08:22:24.459Z"
   },
   {
    "duration": 10,
    "start_time": "2025-01-31T08:22:45.025Z"
   },
   {
    "duration": 5,
    "start_time": "2025-01-31T08:22:55.183Z"
   },
   {
    "duration": 4,
    "start_time": "2025-01-31T08:23:04.431Z"
   },
   {
    "duration": 4,
    "start_time": "2025-01-31T08:30:17.107Z"
   },
   {
    "duration": 6,
    "start_time": "2025-01-31T08:30:17.569Z"
   },
   {
    "duration": 4,
    "start_time": "2025-01-31T08:30:20.193Z"
   },
   {
    "duration": 3,
    "start_time": "2025-01-31T08:30:20.585Z"
   },
   {
    "duration": 3,
    "start_time": "2025-01-31T08:30:21.016Z"
   },
   {
    "duration": 3,
    "start_time": "2025-01-31T08:30:21.377Z"
   },
   {
    "duration": 5,
    "start_time": "2025-01-31T08:30:21.745Z"
   },
   {
    "duration": 3,
    "start_time": "2025-01-31T08:30:22.121Z"
   },
   {
    "duration": 4,
    "start_time": "2025-01-31T08:30:22.545Z"
   },
   {
    "duration": 15,
    "start_time": "2025-01-31T08:30:23.017Z"
   },
   {
    "duration": 6,
    "start_time": "2025-01-31T08:30:50.743Z"
   },
   {
    "duration": 3,
    "start_time": "2025-01-31T08:30:53.271Z"
   },
   {
    "duration": 3,
    "start_time": "2025-01-31T08:30:53.606Z"
   },
   {
    "duration": 3,
    "start_time": "2025-01-31T08:30:54.015Z"
   },
   {
    "duration": 3,
    "start_time": "2025-01-31T08:30:54.598Z"
   },
   {
    "duration": 6,
    "start_time": "2025-01-31T08:30:55.159Z"
   },
   {
    "duration": 3,
    "start_time": "2025-01-31T08:30:55.622Z"
   },
   {
    "duration": 4,
    "start_time": "2025-01-31T08:30:56.358Z"
   },
   {
    "duration": 14,
    "start_time": "2025-01-31T08:30:57.694Z"
   },
   {
    "duration": 4,
    "start_time": "2025-01-31T08:31:34.227Z"
   },
   {
    "duration": 5,
    "start_time": "2025-01-31T08:31:35.605Z"
   },
   {
    "duration": 4,
    "start_time": "2025-01-31T08:31:36.411Z"
   },
   {
    "duration": 4,
    "start_time": "2025-01-31T08:31:39.738Z"
   },
   {
    "duration": 4,
    "start_time": "2025-01-31T08:31:40.554Z"
   },
   {
    "duration": 5,
    "start_time": "2025-01-31T08:32:02.081Z"
   },
   {
    "duration": 5,
    "start_time": "2025-01-31T08:32:18.631Z"
   },
   {
    "duration": 4,
    "start_time": "2025-01-31T08:32:19.223Z"
   },
   {
    "duration": 4,
    "start_time": "2025-01-31T08:32:19.751Z"
   },
   {
    "duration": 4,
    "start_time": "2025-01-31T08:32:20.335Z"
   },
   {
    "duration": 4,
    "start_time": "2025-01-31T08:32:20.798Z"
   },
   {
    "duration": 3,
    "start_time": "2025-01-31T08:32:28.478Z"
   },
   {
    "duration": 3,
    "start_time": "2025-01-31T08:32:28.822Z"
   },
   {
    "duration": 2,
    "start_time": "2025-01-31T08:32:29.182Z"
   },
   {
    "duration": 3,
    "start_time": "2025-01-31T08:32:31.150Z"
   },
   {
    "duration": 6,
    "start_time": "2025-01-31T08:32:32.198Z"
   },
   {
    "duration": 3,
    "start_time": "2025-01-31T08:32:32.878Z"
   },
   {
    "duration": 17,
    "start_time": "2025-01-31T08:32:36.638Z"
   },
   {
    "duration": 3,
    "start_time": "2025-01-31T08:32:55.203Z"
   },
   {
    "duration": 18,
    "start_time": "2025-01-31T08:32:56.763Z"
   },
   {
    "duration": 4,
    "start_time": "2025-01-31T08:34:17.613Z"
   },
   {
    "duration": 5,
    "start_time": "2025-01-31T08:34:17.917Z"
   },
   {
    "duration": 3,
    "start_time": "2025-01-31T08:34:18.324Z"
   },
   {
    "duration": 16,
    "start_time": "2025-01-31T08:34:18.693Z"
   },
   {
    "duration": 5,
    "start_time": "2025-01-31T08:35:21.823Z"
   },
   {
    "duration": 3,
    "start_time": "2025-01-31T08:35:22.375Z"
   },
   {
    "duration": 17,
    "start_time": "2025-01-31T08:35:22.711Z"
   },
   {
    "duration": 5,
    "start_time": "2025-01-31T08:35:37.166Z"
   },
   {
    "duration": 3,
    "start_time": "2025-01-31T08:35:37.469Z"
   },
   {
    "duration": 16,
    "start_time": "2025-01-31T08:35:37.957Z"
   },
   {
    "duration": 6,
    "start_time": "2025-01-31T08:42:43.025Z"
   },
   {
    "duration": 3,
    "start_time": "2025-01-31T08:42:43.673Z"
   },
   {
    "duration": 34,
    "start_time": "2025-01-31T08:42:44.241Z"
   },
   {
    "duration": 6,
    "start_time": "2025-01-31T08:43:46.476Z"
   },
   {
    "duration": 3,
    "start_time": "2025-01-31T08:43:46.755Z"
   },
   {
    "duration": 35733,
    "start_time": "2025-01-31T08:43:47.067Z"
   },
   {
    "duration": 3,
    "start_time": "2025-01-31T08:47:18.393Z"
   },
   {
    "duration": 3,
    "start_time": "2025-01-31T08:47:18.865Z"
   },
   {
    "duration": 5,
    "start_time": "2025-01-31T08:47:21.529Z"
   },
   {
    "duration": 3,
    "start_time": "2025-01-31T08:47:21.913Z"
   },
   {
    "duration": 32206,
    "start_time": "2025-01-31T08:47:22.377Z"
   },
   {
    "duration": 4643,
    "start_time": "2025-01-31T08:48:09.557Z"
   },
   {
    "duration": 1524,
    "start_time": "2025-01-31T08:48:14.202Z"
   },
   {
    "duration": 2,
    "start_time": "2025-01-31T08:48:15.728Z"
   },
   {
    "duration": 58,
    "start_time": "2025-01-31T08:48:15.732Z"
   },
   {
    "duration": 14,
    "start_time": "2025-01-31T08:48:15.793Z"
   },
   {
    "duration": 15,
    "start_time": "2025-01-31T08:48:15.810Z"
   },
   {
    "duration": 18,
    "start_time": "2025-01-31T08:48:15.827Z"
   },
   {
    "duration": 18,
    "start_time": "2025-01-31T08:48:15.847Z"
   },
   {
    "duration": 10,
    "start_time": "2025-01-31T08:48:15.873Z"
   },
   {
    "duration": 322,
    "start_time": "2025-01-31T08:48:15.885Z"
   },
   {
    "duration": 9,
    "start_time": "2025-01-31T08:48:16.209Z"
   },
   {
    "duration": 296,
    "start_time": "2025-01-31T08:48:16.220Z"
   },
   {
    "duration": 418,
    "start_time": "2025-01-31T08:48:16.518Z"
   },
   {
    "duration": 4,
    "start_time": "2025-01-31T08:48:16.940Z"
   },
   {
    "duration": 28,
    "start_time": "2025-01-31T08:48:16.946Z"
   },
   {
    "duration": 15,
    "start_time": "2025-01-31T08:48:16.976Z"
   },
   {
    "duration": 8,
    "start_time": "2025-01-31T08:48:16.993Z"
   },
   {
    "duration": 14,
    "start_time": "2025-01-31T08:48:17.003Z"
   },
   {
    "duration": 8,
    "start_time": "2025-01-31T08:48:17.018Z"
   },
   {
    "duration": 13,
    "start_time": "2025-01-31T08:48:17.028Z"
   },
   {
    "duration": 4,
    "start_time": "2025-01-31T08:48:17.043Z"
   },
   {
    "duration": 25,
    "start_time": "2025-01-31T08:48:17.049Z"
   },
   {
    "duration": 3,
    "start_time": "2025-01-31T08:48:17.076Z"
   },
   {
    "duration": 5,
    "start_time": "2025-01-31T08:48:17.081Z"
   },
   {
    "duration": 11,
    "start_time": "2025-01-31T08:48:17.087Z"
   },
   {
    "duration": 94,
    "start_time": "2025-01-31T08:48:17.100Z"
   },
   {
    "duration": 3,
    "start_time": "2025-01-31T08:48:50.031Z"
   },
   {
    "duration": 13,
    "start_time": "2025-01-31T08:48:50.035Z"
   },
   {
    "duration": 22,
    "start_time": "2025-01-31T08:48:50.050Z"
   },
   {
    "duration": 21,
    "start_time": "2025-01-31T08:48:50.074Z"
   },
   {
    "duration": 137,
    "start_time": "2025-01-31T08:49:23.688Z"
   },
   {
    "duration": 0,
    "start_time": "2025-01-31T08:49:23.826Z"
   },
   {
    "duration": 0,
    "start_time": "2025-01-31T08:49:23.828Z"
   },
   {
    "duration": 0,
    "start_time": "2025-01-31T08:49:23.829Z"
   },
   {
    "duration": 0,
    "start_time": "2025-01-31T08:49:23.830Z"
   },
   {
    "duration": 3,
    "start_time": "2025-01-31T08:49:58.900Z"
   },
   {
    "duration": 3,
    "start_time": "2025-01-31T08:49:59.355Z"
   },
   {
    "duration": 5,
    "start_time": "2025-01-31T08:49:59.716Z"
   },
   {
    "duration": 3,
    "start_time": "2025-01-31T08:50:00.108Z"
   },
   {
    "duration": 31436,
    "start_time": "2025-01-31T08:50:00.580Z"
   },
   {
    "duration": 3,
    "start_time": "2025-01-31T08:53:05.940Z"
   },
   {
    "duration": 3,
    "start_time": "2025-01-31T08:53:06.779Z"
   },
   {
    "duration": 5,
    "start_time": "2025-01-31T08:53:07.404Z"
   },
   {
    "duration": 3,
    "start_time": "2025-01-31T08:53:07.924Z"
   },
   {
    "duration": 34637,
    "start_time": "2025-01-31T08:53:08.388Z"
   },
   {
    "duration": 5,
    "start_time": "2025-01-31T08:54:14.357Z"
   },
   {
    "duration": 11,
    "start_time": "2025-01-31T08:54:50.946Z"
   },
   {
    "duration": 12,
    "start_time": "2025-01-31T08:55:02.401Z"
   },
   {
    "duration": 14,
    "start_time": "2025-01-31T08:55:35.455Z"
   },
   {
    "duration": 13,
    "start_time": "2025-01-31T08:56:30.138Z"
   },
   {
    "duration": 9,
    "start_time": "2025-01-31T08:56:37.353Z"
   },
   {
    "duration": 11,
    "start_time": "2025-01-31T09:00:26.238Z"
   },
   {
    "duration": 4,
    "start_time": "2025-01-31T09:00:32.885Z"
   },
   {
    "duration": 6,
    "start_time": "2025-01-31T09:00:37.165Z"
   },
   {
    "duration": 27,
    "start_time": "2025-01-31T11:01:01.655Z"
   },
   {
    "duration": 6254,
    "start_time": "2025-01-31T11:01:11.507Z"
   },
   {
    "duration": 2427,
    "start_time": "2025-01-31T11:01:17.763Z"
   },
   {
    "duration": 2,
    "start_time": "2025-01-31T11:01:20.193Z"
   },
   {
    "duration": 71,
    "start_time": "2025-01-31T11:01:20.197Z"
   },
   {
    "duration": 16,
    "start_time": "2025-01-31T11:01:20.270Z"
   },
   {
    "duration": 26,
    "start_time": "2025-01-31T11:01:20.289Z"
   },
   {
    "duration": 3,
    "start_time": "2025-01-31T11:01:20.317Z"
   },
   {
    "duration": 24,
    "start_time": "2025-01-31T11:01:20.322Z"
   },
   {
    "duration": 8,
    "start_time": "2025-01-31T11:01:20.348Z"
   },
   {
    "duration": 356,
    "start_time": "2025-01-31T11:01:20.357Z"
   },
   {
    "duration": 9,
    "start_time": "2025-01-31T11:01:20.714Z"
   },
   {
    "duration": 314,
    "start_time": "2025-01-31T11:01:20.724Z"
   },
   {
    "duration": 456,
    "start_time": "2025-01-31T11:01:21.039Z"
   },
   {
    "duration": 4,
    "start_time": "2025-01-31T11:01:21.498Z"
   },
   {
    "duration": 29,
    "start_time": "2025-01-31T11:01:21.504Z"
   },
   {
    "duration": 17,
    "start_time": "2025-01-31T11:01:21.535Z"
   },
   {
    "duration": 11,
    "start_time": "2025-01-31T11:01:21.573Z"
   },
   {
    "duration": 17,
    "start_time": "2025-01-31T11:01:21.589Z"
   },
   {
    "duration": 4,
    "start_time": "2025-01-31T11:01:21.608Z"
   },
   {
    "duration": 6,
    "start_time": "2025-01-31T11:01:21.614Z"
   },
   {
    "duration": 8,
    "start_time": "2025-01-31T11:01:21.622Z"
   },
   {
    "duration": 5,
    "start_time": "2025-01-31T11:01:21.632Z"
   },
   {
    "duration": 37,
    "start_time": "2025-01-31T11:01:21.639Z"
   },
   {
    "duration": 17,
    "start_time": "2025-01-31T11:01:21.679Z"
   },
   {
    "duration": 7,
    "start_time": "2025-01-31T11:01:21.698Z"
   },
   {
    "duration": 26,
    "start_time": "2025-01-31T11:01:21.707Z"
   },
   {
    "duration": 54541,
    "start_time": "2025-01-31T11:01:21.735Z"
   },
   {
    "duration": 0,
    "start_time": "2025-01-31T11:02:16.278Z"
   },
   {
    "duration": 0,
    "start_time": "2025-01-31T11:02:16.279Z"
   },
   {
    "duration": 0,
    "start_time": "2025-01-31T11:02:16.280Z"
   },
   {
    "duration": 0,
    "start_time": "2025-01-31T11:02:16.281Z"
   },
   {
    "duration": 0,
    "start_time": "2025-01-31T11:02:16.282Z"
   },
   {
    "duration": 0,
    "start_time": "2025-01-31T11:02:16.284Z"
   },
   {
    "duration": 0,
    "start_time": "2025-01-31T11:02:16.285Z"
   },
   {
    "duration": 0,
    "start_time": "2025-01-31T11:02:16.286Z"
   },
   {
    "duration": 4948,
    "start_time": "2025-01-31T11:02:23.532Z"
   },
   {
    "duration": 2243,
    "start_time": "2025-01-31T11:02:28.482Z"
   },
   {
    "duration": 3,
    "start_time": "2025-01-31T11:02:30.727Z"
   },
   {
    "duration": 55,
    "start_time": "2025-01-31T11:02:30.732Z"
   },
   {
    "duration": 12,
    "start_time": "2025-01-31T11:02:30.789Z"
   },
   {
    "duration": 24,
    "start_time": "2025-01-31T11:02:30.802Z"
   },
   {
    "duration": 3,
    "start_time": "2025-01-31T11:02:30.828Z"
   },
   {
    "duration": 10,
    "start_time": "2025-01-31T11:02:30.833Z"
   },
   {
    "duration": 7,
    "start_time": "2025-01-31T11:02:30.845Z"
   },
   {
    "duration": 360,
    "start_time": "2025-01-31T11:02:30.855Z"
   },
   {
    "duration": 9,
    "start_time": "2025-01-31T11:02:31.217Z"
   },
   {
    "duration": 296,
    "start_time": "2025-01-31T11:02:31.228Z"
   },
   {
    "duration": 412,
    "start_time": "2025-01-31T11:02:31.525Z"
   },
   {
    "duration": 5,
    "start_time": "2025-01-31T11:02:31.938Z"
   },
   {
    "duration": 35,
    "start_time": "2025-01-31T11:02:31.944Z"
   },
   {
    "duration": 16,
    "start_time": "2025-01-31T11:02:31.981Z"
   },
   {
    "duration": 16,
    "start_time": "2025-01-31T11:02:31.998Z"
   },
   {
    "duration": 17,
    "start_time": "2025-01-31T11:02:32.016Z"
   },
   {
    "duration": 5,
    "start_time": "2025-01-31T11:02:32.035Z"
   },
   {
    "duration": 8,
    "start_time": "2025-01-31T11:02:32.041Z"
   },
   {
    "duration": 3,
    "start_time": "2025-01-31T11:02:32.071Z"
   },
   {
    "duration": 15,
    "start_time": "2025-01-31T11:02:32.076Z"
   },
   {
    "duration": 52,
    "start_time": "2025-01-31T11:02:32.093Z"
   },
   {
    "duration": 21,
    "start_time": "2025-01-31T11:02:32.147Z"
   },
   {
    "duration": 6,
    "start_time": "2025-01-31T11:02:32.170Z"
   },
   {
    "duration": 12,
    "start_time": "2025-01-31T11:02:32.177Z"
   },
   {
    "duration": 35592,
    "start_time": "2025-01-31T11:02:32.191Z"
   },
   {
    "duration": 4,
    "start_time": "2025-01-31T11:03:07.786Z"
   },
   {
    "duration": 15,
    "start_time": "2025-01-31T11:03:07.791Z"
   },
   {
    "duration": 12,
    "start_time": "2025-01-31T11:03:07.808Z"
   },
   {
    "duration": 52,
    "start_time": "2025-01-31T11:03:07.822Z"
   },
   {
    "duration": 5,
    "start_time": "2025-01-31T11:05:51.053Z"
   },
   {
    "duration": 16,
    "start_time": "2025-01-31T11:05:52.468Z"
   },
   {
    "duration": 5816,
    "start_time": "2025-01-31T11:06:03.441Z"
   },
   {
    "duration": 2081,
    "start_time": "2025-01-31T11:06:09.261Z"
   },
   {
    "duration": 3,
    "start_time": "2025-01-31T11:06:11.344Z"
   },
   {
    "duration": 50,
    "start_time": "2025-01-31T11:06:11.349Z"
   },
   {
    "duration": 12,
    "start_time": "2025-01-31T11:06:11.402Z"
   },
   {
    "duration": 18,
    "start_time": "2025-01-31T11:06:11.416Z"
   },
   {
    "duration": 4,
    "start_time": "2025-01-31T11:06:11.436Z"
   },
   {
    "duration": 32,
    "start_time": "2025-01-31T11:06:11.442Z"
   },
   {
    "duration": 8,
    "start_time": "2025-01-31T11:06:11.476Z"
   },
   {
    "duration": 332,
    "start_time": "2025-01-31T11:06:11.487Z"
   },
   {
    "duration": 9,
    "start_time": "2025-01-31T11:06:11.821Z"
   },
   {
    "duration": 314,
    "start_time": "2025-01-31T11:06:11.832Z"
   },
   {
    "duration": 424,
    "start_time": "2025-01-31T11:06:12.148Z"
   },
   {
    "duration": 4,
    "start_time": "2025-01-31T11:06:12.576Z"
   },
   {
    "duration": 39,
    "start_time": "2025-01-31T11:06:12.582Z"
   },
   {
    "duration": 24,
    "start_time": "2025-01-31T11:06:12.624Z"
   },
   {
    "duration": 28,
    "start_time": "2025-01-31T11:06:12.650Z"
   },
   {
    "duration": 22,
    "start_time": "2025-01-31T11:06:12.680Z"
   },
   {
    "duration": 5,
    "start_time": "2025-01-31T11:06:12.704Z"
   },
   {
    "duration": 37,
    "start_time": "2025-01-31T11:06:12.711Z"
   },
   {
    "duration": 50,
    "start_time": "2025-01-31T11:06:12.750Z"
   },
   {
    "duration": 41,
    "start_time": "2025-01-31T11:06:12.802Z"
   },
   {
    "duration": 9,
    "start_time": "2025-01-31T11:06:12.844Z"
   },
   {
    "duration": 7,
    "start_time": "2025-01-31T11:06:12.854Z"
   },
   {
    "duration": 7,
    "start_time": "2025-01-31T11:06:12.862Z"
   },
   {
    "duration": 7,
    "start_time": "2025-01-31T11:06:12.870Z"
   },
   {
    "duration": 19972,
    "start_time": "2025-01-31T11:06:12.879Z"
   },
   {
    "duration": 0,
    "start_time": "2025-01-31T11:06:32.853Z"
   },
   {
    "duration": 0,
    "start_time": "2025-01-31T11:06:32.855Z"
   },
   {
    "duration": 0,
    "start_time": "2025-01-31T11:06:32.857Z"
   },
   {
    "duration": 0,
    "start_time": "2025-01-31T11:06:32.858Z"
   },
   {
    "duration": 0,
    "start_time": "2025-01-31T11:06:32.860Z"
   },
   {
    "duration": 0,
    "start_time": "2025-01-31T11:06:32.872Z"
   },
   {
    "duration": 4797,
    "start_time": "2025-01-31T11:06:38.686Z"
   },
   {
    "duration": 2007,
    "start_time": "2025-01-31T11:06:43.485Z"
   },
   {
    "duration": 3,
    "start_time": "2025-01-31T11:06:45.494Z"
   },
   {
    "duration": 63,
    "start_time": "2025-01-31T11:06:45.499Z"
   },
   {
    "duration": 12,
    "start_time": "2025-01-31T11:06:45.565Z"
   },
   {
    "duration": 18,
    "start_time": "2025-01-31T11:06:45.579Z"
   },
   {
    "duration": 15,
    "start_time": "2025-01-31T11:06:45.599Z"
   },
   {
    "duration": 14,
    "start_time": "2025-01-31T11:06:45.616Z"
   },
   {
    "duration": 8,
    "start_time": "2025-01-31T11:06:45.632Z"
   },
   {
    "duration": 319,
    "start_time": "2025-01-31T11:06:45.643Z"
   },
   {
    "duration": 8,
    "start_time": "2025-01-31T11:06:45.972Z"
   },
   {
    "duration": 282,
    "start_time": "2025-01-31T11:06:45.982Z"
   },
   {
    "duration": 411,
    "start_time": "2025-01-31T11:06:46.265Z"
   },
   {
    "duration": 5,
    "start_time": "2025-01-31T11:06:46.678Z"
   },
   {
    "duration": 33,
    "start_time": "2025-01-31T11:06:46.685Z"
   },
   {
    "duration": 18,
    "start_time": "2025-01-31T11:06:46.721Z"
   },
   {
    "duration": 37,
    "start_time": "2025-01-31T11:06:46.741Z"
   },
   {
    "duration": 20,
    "start_time": "2025-01-31T11:06:46.780Z"
   },
   {
    "duration": 17,
    "start_time": "2025-01-31T11:06:46.802Z"
   },
   {
    "duration": 8,
    "start_time": "2025-01-31T11:06:46.821Z"
   },
   {
    "duration": 5,
    "start_time": "2025-01-31T11:06:46.831Z"
   },
   {
    "duration": 3,
    "start_time": "2025-01-31T11:06:46.838Z"
   },
   {
    "duration": 3,
    "start_time": "2025-01-31T11:06:46.843Z"
   },
   {
    "duration": 24,
    "start_time": "2025-01-31T11:06:46.848Z"
   },
   {
    "duration": 6,
    "start_time": "2025-01-31T11:06:46.875Z"
   },
   {
    "duration": 3,
    "start_time": "2025-01-31T11:06:46.883Z"
   },
   {
    "duration": 153280,
    "start_time": "2025-01-31T11:06:46.888Z"
   },
   {
    "duration": 0,
    "start_time": "2025-01-31T11:09:20.172Z"
   },
   {
    "duration": 0,
    "start_time": "2025-01-31T11:09:20.173Z"
   },
   {
    "duration": 0,
    "start_time": "2025-01-31T11:09:20.175Z"
   },
   {
    "duration": 0,
    "start_time": "2025-01-31T11:09:20.176Z"
   },
   {
    "duration": 4,
    "start_time": "2025-01-31T11:12:07.503Z"
   },
   {
    "duration": 16,
    "start_time": "2025-01-31T11:12:13.950Z"
   },
   {
    "duration": 15,
    "start_time": "2025-01-31T11:12:16.806Z"
   },
   {
    "duration": 6489,
    "start_time": "2025-01-31T11:12:38.710Z"
   },
   {
    "duration": 2860,
    "start_time": "2025-01-31T11:12:45.201Z"
   },
   {
    "duration": 3,
    "start_time": "2025-01-31T11:12:48.063Z"
   },
   {
    "duration": 61,
    "start_time": "2025-01-31T11:12:48.071Z"
   },
   {
    "duration": 12,
    "start_time": "2025-01-31T11:12:48.135Z"
   },
   {
    "duration": 17,
    "start_time": "2025-01-31T11:12:48.148Z"
   },
   {
    "duration": 15,
    "start_time": "2025-01-31T11:12:48.167Z"
   },
   {
    "duration": 28,
    "start_time": "2025-01-31T11:12:48.185Z"
   },
   {
    "duration": 12,
    "start_time": "2025-01-31T11:12:48.215Z"
   },
   {
    "duration": 326,
    "start_time": "2025-01-31T11:12:48.229Z"
   },
   {
    "duration": 24,
    "start_time": "2025-01-31T11:12:48.557Z"
   },
   {
    "duration": 289,
    "start_time": "2025-01-31T11:12:48.587Z"
   },
   {
    "duration": 463,
    "start_time": "2025-01-31T11:12:48.881Z"
   },
   {
    "duration": 4,
    "start_time": "2025-01-31T11:12:49.347Z"
   },
   {
    "duration": 66,
    "start_time": "2025-01-31T11:12:49.354Z"
   },
   {
    "duration": 18,
    "start_time": "2025-01-31T11:12:49.422Z"
   },
   {
    "duration": 35,
    "start_time": "2025-01-31T11:12:49.443Z"
   },
   {
    "duration": 35,
    "start_time": "2025-01-31T11:12:49.481Z"
   },
   {
    "duration": 13,
    "start_time": "2025-01-31T11:12:49.517Z"
   },
   {
    "duration": 11,
    "start_time": "2025-01-31T11:12:49.532Z"
   },
   {
    "duration": 6,
    "start_time": "2025-01-31T11:12:49.545Z"
   },
   {
    "duration": 17,
    "start_time": "2025-01-31T11:12:49.553Z"
   },
   {
    "duration": 14,
    "start_time": "2025-01-31T11:12:49.572Z"
   },
   {
    "duration": 25,
    "start_time": "2025-01-31T11:12:49.588Z"
   },
   {
    "duration": 9,
    "start_time": "2025-01-31T11:12:49.615Z"
   },
   {
    "duration": 21,
    "start_time": "2025-01-31T11:12:49.626Z"
   },
   {
    "duration": 18966,
    "start_time": "2025-01-31T11:12:49.649Z"
   },
   {
    "duration": 0,
    "start_time": "2025-01-31T11:13:08.617Z"
   },
   {
    "duration": 0,
    "start_time": "2025-01-31T11:13:08.618Z"
   },
   {
    "duration": 0,
    "start_time": "2025-01-31T11:13:08.621Z"
   },
   {
    "duration": 0,
    "start_time": "2025-01-31T11:13:08.621Z"
   },
   {
    "duration": 0,
    "start_time": "2025-01-31T11:13:08.623Z"
   },
   {
    "duration": 4399,
    "start_time": "2025-01-31T11:13:14.084Z"
   },
   {
    "duration": 2628,
    "start_time": "2025-01-31T11:13:18.486Z"
   },
   {
    "duration": 3,
    "start_time": "2025-01-31T11:13:21.116Z"
   },
   {
    "duration": 70,
    "start_time": "2025-01-31T11:13:21.121Z"
   },
   {
    "duration": 14,
    "start_time": "2025-01-31T11:13:21.194Z"
   },
   {
    "duration": 23,
    "start_time": "2025-01-31T11:13:21.210Z"
   },
   {
    "duration": 5,
    "start_time": "2025-01-31T11:13:21.235Z"
   },
   {
    "duration": 43,
    "start_time": "2025-01-31T11:13:21.241Z"
   },
   {
    "duration": 8,
    "start_time": "2025-01-31T11:13:21.285Z"
   },
   {
    "duration": 338,
    "start_time": "2025-01-31T11:13:21.295Z"
   },
   {
    "duration": 8,
    "start_time": "2025-01-31T11:13:21.635Z"
   },
   {
    "duration": 299,
    "start_time": "2025-01-31T11:13:21.645Z"
   },
   {
    "duration": 438,
    "start_time": "2025-01-31T11:13:21.946Z"
   },
   {
    "duration": 4,
    "start_time": "2025-01-31T11:13:22.388Z"
   },
   {
    "duration": 19,
    "start_time": "2025-01-31T11:13:22.394Z"
   },
   {
    "duration": 16,
    "start_time": "2025-01-31T11:13:22.415Z"
   },
   {
    "duration": 7,
    "start_time": "2025-01-31T11:13:22.433Z"
   },
   {
    "duration": 35,
    "start_time": "2025-01-31T11:13:22.442Z"
   },
   {
    "duration": 12,
    "start_time": "2025-01-31T11:13:22.479Z"
   },
   {
    "duration": 7,
    "start_time": "2025-01-31T11:13:22.493Z"
   },
   {
    "duration": 3,
    "start_time": "2025-01-31T11:13:22.502Z"
   },
   {
    "duration": 6,
    "start_time": "2025-01-31T11:13:22.507Z"
   },
   {
    "duration": 3,
    "start_time": "2025-01-31T11:13:22.515Z"
   },
   {
    "duration": 5,
    "start_time": "2025-01-31T11:13:22.520Z"
   },
   {
    "duration": 7,
    "start_time": "2025-01-31T11:13:22.526Z"
   },
   {
    "duration": 47,
    "start_time": "2025-01-31T11:13:22.535Z"
   },
   {
    "duration": 25947,
    "start_time": "2025-01-31T11:13:22.584Z"
   },
   {
    "duration": 0,
    "start_time": "2025-01-31T11:13:48.533Z"
   },
   {
    "duration": 0,
    "start_time": "2025-01-31T11:13:48.534Z"
   },
   {
    "duration": 0,
    "start_time": "2025-01-31T11:13:48.536Z"
   },
   {
    "duration": 0,
    "start_time": "2025-01-31T11:13:48.537Z"
   },
   {
    "duration": 5,
    "start_time": "2025-01-31T11:13:49.738Z"
   },
   {
    "duration": 4883,
    "start_time": "2025-01-31T11:13:55.835Z"
   },
   {
    "duration": 1477,
    "start_time": "2025-01-31T11:14:00.722Z"
   },
   {
    "duration": 3,
    "start_time": "2025-01-31T11:14:02.200Z"
   },
   {
    "duration": 64,
    "start_time": "2025-01-31T11:14:02.205Z"
   },
   {
    "duration": 17,
    "start_time": "2025-01-31T11:14:02.271Z"
   },
   {
    "duration": 60,
    "start_time": "2025-01-31T11:14:02.289Z"
   },
   {
    "duration": 17,
    "start_time": "2025-01-31T11:14:02.352Z"
   },
   {
    "duration": 24,
    "start_time": "2025-01-31T11:14:02.371Z"
   },
   {
    "duration": 24,
    "start_time": "2025-01-31T11:14:02.397Z"
   },
   {
    "duration": 325,
    "start_time": "2025-01-31T11:14:02.424Z"
   },
   {
    "duration": 9,
    "start_time": "2025-01-31T11:14:02.751Z"
   },
   {
    "duration": 299,
    "start_time": "2025-01-31T11:14:02.761Z"
   },
   {
    "duration": 427,
    "start_time": "2025-01-31T11:14:03.062Z"
   },
   {
    "duration": 4,
    "start_time": "2025-01-31T11:14:03.491Z"
   },
   {
    "duration": 65,
    "start_time": "2025-01-31T11:14:03.497Z"
   },
   {
    "duration": 22,
    "start_time": "2025-01-31T11:14:03.564Z"
   },
   {
    "duration": 41,
    "start_time": "2025-01-31T11:14:03.588Z"
   },
   {
    "duration": 32,
    "start_time": "2025-01-31T11:14:03.630Z"
   },
   {
    "duration": 9,
    "start_time": "2025-01-31T11:14:03.664Z"
   },
   {
    "duration": 40,
    "start_time": "2025-01-31T11:14:03.684Z"
   },
   {
    "duration": 6,
    "start_time": "2025-01-31T11:14:03.726Z"
   },
   {
    "duration": 9,
    "start_time": "2025-01-31T11:14:03.734Z"
   },
   {
    "duration": 19,
    "start_time": "2025-01-31T11:14:03.745Z"
   },
   {
    "duration": 18,
    "start_time": "2025-01-31T11:14:03.766Z"
   },
   {
    "duration": 6,
    "start_time": "2025-01-31T11:14:03.787Z"
   },
   {
    "duration": 89,
    "start_time": "2025-01-31T11:14:03.794Z"
   },
   {
    "duration": 14240,
    "start_time": "2025-01-31T11:14:03.885Z"
   },
   {
    "duration": 0,
    "start_time": "2025-01-31T11:14:18.127Z"
   },
   {
    "duration": 0,
    "start_time": "2025-01-31T11:14:18.129Z"
   },
   {
    "duration": 0,
    "start_time": "2025-01-31T11:14:18.131Z"
   },
   {
    "duration": 0,
    "start_time": "2025-01-31T11:14:18.132Z"
   },
   {
    "duration": 4483,
    "start_time": "2025-01-31T11:14:22.946Z"
   },
   {
    "duration": 1977,
    "start_time": "2025-01-31T11:14:27.431Z"
   },
   {
    "duration": 3,
    "start_time": "2025-01-31T11:14:29.410Z"
   },
   {
    "duration": 50,
    "start_time": "2025-01-31T11:14:29.416Z"
   },
   {
    "duration": 21,
    "start_time": "2025-01-31T11:14:29.468Z"
   },
   {
    "duration": 26,
    "start_time": "2025-01-31T11:14:29.491Z"
   },
   {
    "duration": 3,
    "start_time": "2025-01-31T11:14:29.519Z"
   },
   {
    "duration": 14,
    "start_time": "2025-01-31T11:14:29.523Z"
   },
   {
    "duration": 7,
    "start_time": "2025-01-31T11:14:29.539Z"
   },
   {
    "duration": 335,
    "start_time": "2025-01-31T11:14:29.549Z"
   },
   {
    "duration": 11,
    "start_time": "2025-01-31T11:14:29.886Z"
   },
   {
    "duration": 297,
    "start_time": "2025-01-31T11:14:29.899Z"
   },
   {
    "duration": 420,
    "start_time": "2025-01-31T11:14:30.198Z"
   },
   {
    "duration": 4,
    "start_time": "2025-01-31T11:14:30.620Z"
   },
   {
    "duration": 19,
    "start_time": "2025-01-31T11:14:30.626Z"
   },
   {
    "duration": 40,
    "start_time": "2025-01-31T11:14:30.647Z"
   },
   {
    "duration": 13,
    "start_time": "2025-01-31T11:14:30.688Z"
   },
   {
    "duration": 23,
    "start_time": "2025-01-31T11:14:30.703Z"
   },
   {
    "duration": 14,
    "start_time": "2025-01-31T11:14:30.727Z"
   },
   {
    "duration": 9,
    "start_time": "2025-01-31T11:14:30.743Z"
   },
   {
    "duration": 18,
    "start_time": "2025-01-31T11:14:30.753Z"
   },
   {
    "duration": 12,
    "start_time": "2025-01-31T11:14:30.774Z"
   },
   {
    "duration": 26,
    "start_time": "2025-01-31T11:14:30.788Z"
   },
   {
    "duration": 8,
    "start_time": "2025-01-31T11:14:30.815Z"
   },
   {
    "duration": 5,
    "start_time": "2025-01-31T11:14:30.825Z"
   },
   {
    "duration": 4,
    "start_time": "2025-01-31T11:14:30.832Z"
   },
   {
    "duration": 209200,
    "start_time": "2025-01-31T11:14:30.837Z"
   },
   {
    "duration": 0,
    "start_time": "2025-01-31T11:18:00.040Z"
   },
   {
    "duration": 0,
    "start_time": "2025-01-31T11:18:00.041Z"
   },
   {
    "duration": 0,
    "start_time": "2025-01-31T11:18:00.042Z"
   },
   {
    "duration": 0,
    "start_time": "2025-01-31T11:18:00.043Z"
   },
   {
    "duration": 3,
    "start_time": "2025-01-31T11:18:00.135Z"
   },
   {
    "duration": 4403,
    "start_time": "2025-01-31T11:18:08.636Z"
   },
   {
    "duration": 1646,
    "start_time": "2025-01-31T11:18:13.042Z"
   },
   {
    "duration": 3,
    "start_time": "2025-01-31T11:18:14.689Z"
   },
   {
    "duration": 46,
    "start_time": "2025-01-31T11:18:14.694Z"
   },
   {
    "duration": 11,
    "start_time": "2025-01-31T11:18:14.742Z"
   },
   {
    "duration": 25,
    "start_time": "2025-01-31T11:18:14.755Z"
   },
   {
    "duration": 3,
    "start_time": "2025-01-31T11:18:14.786Z"
   },
   {
    "duration": 12,
    "start_time": "2025-01-31T11:18:14.791Z"
   },
   {
    "duration": 8,
    "start_time": "2025-01-31T11:18:14.804Z"
   },
   {
    "duration": 349,
    "start_time": "2025-01-31T11:18:14.815Z"
   },
   {
    "duration": 22,
    "start_time": "2025-01-31T11:18:15.166Z"
   },
   {
    "duration": 305,
    "start_time": "2025-01-31T11:18:15.190Z"
   },
   {
    "duration": 451,
    "start_time": "2025-01-31T11:18:15.497Z"
   },
   {
    "duration": 5,
    "start_time": "2025-01-31T11:18:15.950Z"
   },
   {
    "duration": 64,
    "start_time": "2025-01-31T11:18:15.956Z"
   },
   {
    "duration": 16,
    "start_time": "2025-01-31T11:18:16.021Z"
   },
   {
    "duration": 19,
    "start_time": "2025-01-31T11:18:16.039Z"
   },
   {
    "duration": 24,
    "start_time": "2025-01-31T11:18:16.060Z"
   },
   {
    "duration": 6,
    "start_time": "2025-01-31T11:18:16.087Z"
   },
   {
    "duration": 8,
    "start_time": "2025-01-31T11:18:16.095Z"
   },
   {
    "duration": 4,
    "start_time": "2025-01-31T11:18:16.104Z"
   },
   {
    "duration": 2,
    "start_time": "2025-01-31T11:18:16.110Z"
   },
   {
    "duration": 3,
    "start_time": "2025-01-31T11:18:16.114Z"
   },
   {
    "duration": 4,
    "start_time": "2025-01-31T11:18:16.119Z"
   },
   {
    "duration": 8,
    "start_time": "2025-01-31T11:18:16.125Z"
   },
   {
    "duration": 39,
    "start_time": "2025-01-31T11:18:16.135Z"
   },
   {
    "duration": 350442,
    "start_time": "2025-01-31T11:18:16.177Z"
   },
   {
    "duration": 5,
    "start_time": "2025-01-31T11:24:06.622Z"
   },
   {
    "duration": 30,
    "start_time": "2025-01-31T11:24:06.629Z"
   },
   {
    "duration": 43,
    "start_time": "2025-01-31T11:24:06.661Z"
   },
   {
    "duration": 35,
    "start_time": "2025-01-31T11:24:06.707Z"
   },
   {
    "duration": 9,
    "start_time": "2025-01-31T11:32:52.943Z"
   },
   {
    "duration": 4832,
    "start_time": "2025-01-31T11:50:01.180Z"
   },
   {
    "duration": 1770,
    "start_time": "2025-01-31T11:50:06.014Z"
   },
   {
    "duration": 3,
    "start_time": "2025-01-31T11:50:07.786Z"
   },
   {
    "duration": 74,
    "start_time": "2025-01-31T11:50:07.790Z"
   },
   {
    "duration": 12,
    "start_time": "2025-01-31T11:50:07.867Z"
   },
   {
    "duration": 23,
    "start_time": "2025-01-31T11:50:07.881Z"
   },
   {
    "duration": 3,
    "start_time": "2025-01-31T11:50:07.906Z"
   },
   {
    "duration": 23,
    "start_time": "2025-01-31T11:50:07.911Z"
   },
   {
    "duration": 1108,
    "start_time": "2025-01-31T11:50:07.936Z"
   },
   {
    "duration": 0,
    "start_time": "2025-01-31T11:50:09.048Z"
   },
   {
    "duration": 0,
    "start_time": "2025-01-31T11:50:09.050Z"
   },
   {
    "duration": 0,
    "start_time": "2025-01-31T11:50:09.052Z"
   },
   {
    "duration": 0,
    "start_time": "2025-01-31T11:50:09.054Z"
   },
   {
    "duration": 0,
    "start_time": "2025-01-31T11:50:09.056Z"
   },
   {
    "duration": 0,
    "start_time": "2025-01-31T11:50:09.058Z"
   },
   {
    "duration": 0,
    "start_time": "2025-01-31T11:50:09.059Z"
   },
   {
    "duration": 0,
    "start_time": "2025-01-31T11:50:09.061Z"
   },
   {
    "duration": 0,
    "start_time": "2025-01-31T11:50:09.063Z"
   },
   {
    "duration": 0,
    "start_time": "2025-01-31T11:50:09.065Z"
   },
   {
    "duration": 0,
    "start_time": "2025-01-31T11:50:09.066Z"
   },
   {
    "duration": 0,
    "start_time": "2025-01-31T11:50:09.068Z"
   },
   {
    "duration": 0,
    "start_time": "2025-01-31T11:50:09.070Z"
   },
   {
    "duration": 0,
    "start_time": "2025-01-31T11:50:09.071Z"
   },
   {
    "duration": 0,
    "start_time": "2025-01-31T11:50:09.073Z"
   },
   {
    "duration": 0,
    "start_time": "2025-01-31T11:50:09.077Z"
   },
   {
    "duration": 0,
    "start_time": "2025-01-31T11:50:09.078Z"
   },
   {
    "duration": 0,
    "start_time": "2025-01-31T11:50:09.080Z"
   },
   {
    "duration": 0,
    "start_time": "2025-01-31T11:50:09.081Z"
   },
   {
    "duration": 0,
    "start_time": "2025-01-31T11:50:09.083Z"
   },
   {
    "duration": 0,
    "start_time": "2025-01-31T11:50:09.084Z"
   },
   {
    "duration": 0,
    "start_time": "2025-01-31T11:50:09.086Z"
   },
   {
    "duration": 0,
    "start_time": "2025-01-31T11:50:09.087Z"
   },
   {
    "duration": 1,
    "start_time": "2025-01-31T11:50:09.088Z"
   },
   {
    "duration": 0,
    "start_time": "2025-01-31T11:50:09.090Z"
   },
   {
    "duration": 5014,
    "start_time": "2025-01-31T11:50:39.881Z"
   },
   {
    "duration": 1889,
    "start_time": "2025-01-31T11:50:44.898Z"
   },
   {
    "duration": 3,
    "start_time": "2025-01-31T11:50:46.789Z"
   },
   {
    "duration": 47,
    "start_time": "2025-01-31T11:50:46.794Z"
   },
   {
    "duration": 13,
    "start_time": "2025-01-31T11:50:46.843Z"
   },
   {
    "duration": 38,
    "start_time": "2025-01-31T11:50:46.857Z"
   },
   {
    "duration": 3,
    "start_time": "2025-01-31T11:50:46.897Z"
   },
   {
    "duration": 9,
    "start_time": "2025-01-31T11:50:46.902Z"
   },
   {
    "duration": 1039,
    "start_time": "2025-01-31T11:50:46.913Z"
   },
   {
    "duration": 0,
    "start_time": "2025-01-31T11:50:47.955Z"
   },
   {
    "duration": 0,
    "start_time": "2025-01-31T11:50:47.956Z"
   },
   {
    "duration": 0,
    "start_time": "2025-01-31T11:50:47.958Z"
   },
   {
    "duration": 0,
    "start_time": "2025-01-31T11:50:47.959Z"
   },
   {
    "duration": 0,
    "start_time": "2025-01-31T11:50:47.960Z"
   },
   {
    "duration": 0,
    "start_time": "2025-01-31T11:50:47.961Z"
   },
   {
    "duration": 0,
    "start_time": "2025-01-31T11:50:47.963Z"
   },
   {
    "duration": 0,
    "start_time": "2025-01-31T11:50:47.964Z"
   },
   {
    "duration": 0,
    "start_time": "2025-01-31T11:50:47.965Z"
   },
   {
    "duration": 0,
    "start_time": "2025-01-31T11:50:47.966Z"
   },
   {
    "duration": 0,
    "start_time": "2025-01-31T11:50:47.967Z"
   },
   {
    "duration": 0,
    "start_time": "2025-01-31T11:50:47.968Z"
   },
   {
    "duration": 0,
    "start_time": "2025-01-31T11:50:47.969Z"
   },
   {
    "duration": 0,
    "start_time": "2025-01-31T11:50:47.970Z"
   },
   {
    "duration": 0,
    "start_time": "2025-01-31T11:50:47.972Z"
   },
   {
    "duration": 0,
    "start_time": "2025-01-31T11:50:47.972Z"
   },
   {
    "duration": 0,
    "start_time": "2025-01-31T11:50:47.974Z"
   },
   {
    "duration": 1,
    "start_time": "2025-01-31T11:50:47.974Z"
   },
   {
    "duration": 0,
    "start_time": "2025-01-31T11:50:47.976Z"
   },
   {
    "duration": 0,
    "start_time": "2025-01-31T11:50:47.977Z"
   },
   {
    "duration": 0,
    "start_time": "2025-01-31T11:50:47.978Z"
   },
   {
    "duration": 0,
    "start_time": "2025-01-31T11:50:47.979Z"
   },
   {
    "duration": 0,
    "start_time": "2025-01-31T11:50:47.980Z"
   },
   {
    "duration": 0,
    "start_time": "2025-01-31T11:50:47.981Z"
   },
   {
    "duration": 0,
    "start_time": "2025-01-31T11:50:47.982Z"
   },
   {
    "duration": 4837,
    "start_time": "2025-01-31T11:51:04.655Z"
   },
   {
    "duration": 2013,
    "start_time": "2025-01-31T11:51:09.495Z"
   },
   {
    "duration": 3,
    "start_time": "2025-01-31T11:51:11.510Z"
   },
   {
    "duration": 51,
    "start_time": "2025-01-31T11:51:11.515Z"
   },
   {
    "duration": 11,
    "start_time": "2025-01-31T11:51:11.568Z"
   },
   {
    "duration": 12,
    "start_time": "2025-01-31T11:51:11.581Z"
   },
   {
    "duration": 3,
    "start_time": "2025-01-31T11:51:11.594Z"
   },
   {
    "duration": 26,
    "start_time": "2025-01-31T11:51:11.599Z"
   },
   {
    "duration": 11,
    "start_time": "2025-01-31T11:51:11.627Z"
   },
   {
    "duration": 8,
    "start_time": "2025-01-31T11:51:11.641Z"
   },
   {
    "duration": 354,
    "start_time": "2025-01-31T11:51:11.651Z"
   },
   {
    "duration": 9,
    "start_time": "2025-01-31T11:51:12.007Z"
   },
   {
    "duration": 298,
    "start_time": "2025-01-31T11:51:12.017Z"
   },
   {
    "duration": 409,
    "start_time": "2025-01-31T11:51:12.317Z"
   },
   {
    "duration": 5,
    "start_time": "2025-01-31T11:51:12.729Z"
   },
   {
    "duration": 16,
    "start_time": "2025-01-31T11:51:12.736Z"
   },
   {
    "duration": 15,
    "start_time": "2025-01-31T11:51:12.772Z"
   },
   {
    "duration": 12,
    "start_time": "2025-01-31T11:51:12.789Z"
   },
   {
    "duration": 14,
    "start_time": "2025-01-31T11:51:12.803Z"
   },
   {
    "duration": 9,
    "start_time": "2025-01-31T11:51:12.819Z"
   },
   {
    "duration": 6,
    "start_time": "2025-01-31T11:51:12.830Z"
   },
   {
    "duration": 6,
    "start_time": "2025-01-31T11:51:12.838Z"
   },
   {
    "duration": 27,
    "start_time": "2025-01-31T11:51:12.845Z"
   },
   {
    "duration": 3,
    "start_time": "2025-01-31T11:51:12.874Z"
   },
   {
    "duration": 13,
    "start_time": "2025-01-31T11:51:12.879Z"
   },
   {
    "duration": 8,
    "start_time": "2025-01-31T11:51:12.895Z"
   },
   {
    "duration": 4,
    "start_time": "2025-01-31T11:51:12.905Z"
   },
   {
    "duration": 38267,
    "start_time": "2025-01-31T11:51:12.913Z"
   },
   {
    "duration": 4,
    "start_time": "2025-01-31T11:51:51.182Z"
   },
   {
    "duration": 22,
    "start_time": "2025-01-31T11:51:51.188Z"
   },
   {
    "duration": 1379,
    "start_time": "2025-01-31T11:51:51.213Z"
   },
   {
    "duration": 0,
    "start_time": "2025-01-31T11:51:52.594Z"
   },
   {
    "duration": 0,
    "start_time": "2025-01-31T11:51:52.595Z"
   },
   {
    "duration": 5038,
    "start_time": "2025-01-31T11:52:38.271Z"
   },
   {
    "duration": 139,
    "start_time": "2025-01-31T11:52:51.662Z"
   },
   {
    "duration": 4474,
    "start_time": "2025-01-31T11:52:59.146Z"
   },
   {
    "duration": 5322,
    "start_time": "2025-01-31T11:53:03.624Z"
   },
   {
    "duration": 2174,
    "start_time": "2025-01-31T11:53:08.948Z"
   },
   {
    "duration": 0,
    "start_time": "2025-01-31T11:53:11.126Z"
   },
   {
    "duration": 0,
    "start_time": "2025-01-31T11:53:11.127Z"
   },
   {
    "duration": 1,
    "start_time": "2025-01-31T11:53:11.128Z"
   },
   {
    "duration": 0,
    "start_time": "2025-01-31T11:53:11.129Z"
   },
   {
    "duration": 0,
    "start_time": "2025-01-31T11:53:11.131Z"
   },
   {
    "duration": 0,
    "start_time": "2025-01-31T11:53:11.134Z"
   },
   {
    "duration": 0,
    "start_time": "2025-01-31T11:53:11.135Z"
   },
   {
    "duration": 0,
    "start_time": "2025-01-31T11:53:11.136Z"
   },
   {
    "duration": 0,
    "start_time": "2025-01-31T11:53:11.137Z"
   },
   {
    "duration": 0,
    "start_time": "2025-01-31T11:53:11.138Z"
   },
   {
    "duration": 0,
    "start_time": "2025-01-31T11:53:11.139Z"
   },
   {
    "duration": 0,
    "start_time": "2025-01-31T11:53:11.141Z"
   },
   {
    "duration": 0,
    "start_time": "2025-01-31T11:53:11.142Z"
   },
   {
    "duration": 0,
    "start_time": "2025-01-31T11:53:11.172Z"
   },
   {
    "duration": 0,
    "start_time": "2025-01-31T11:53:11.174Z"
   },
   {
    "duration": 0,
    "start_time": "2025-01-31T11:53:11.176Z"
   },
   {
    "duration": 0,
    "start_time": "2025-01-31T11:53:11.178Z"
   },
   {
    "duration": 0,
    "start_time": "2025-01-31T11:53:11.179Z"
   },
   {
    "duration": 0,
    "start_time": "2025-01-31T11:53:11.181Z"
   },
   {
    "duration": 0,
    "start_time": "2025-01-31T11:53:11.183Z"
   },
   {
    "duration": 0,
    "start_time": "2025-01-31T11:53:11.184Z"
   },
   {
    "duration": 0,
    "start_time": "2025-01-31T11:53:11.185Z"
   },
   {
    "duration": 0,
    "start_time": "2025-01-31T11:53:11.187Z"
   },
   {
    "duration": 0,
    "start_time": "2025-01-31T11:53:11.188Z"
   },
   {
    "duration": 0,
    "start_time": "2025-01-31T11:53:11.189Z"
   },
   {
    "duration": 0,
    "start_time": "2025-01-31T11:53:11.191Z"
   },
   {
    "duration": 0,
    "start_time": "2025-01-31T11:53:11.192Z"
   },
   {
    "duration": 0,
    "start_time": "2025-01-31T11:53:11.193Z"
   },
   {
    "duration": 0,
    "start_time": "2025-01-31T11:53:11.195Z"
   },
   {
    "duration": 0,
    "start_time": "2025-01-31T11:53:11.196Z"
   },
   {
    "duration": 0,
    "start_time": "2025-01-31T11:53:11.197Z"
   },
   {
    "duration": 39229,
    "start_time": "2025-01-31T11:53:37.377Z"
   },
   {
    "duration": 21,
    "start_time": "2025-01-31T11:54:16.609Z"
   },
   {
    "duration": 0,
    "start_time": "2025-01-31T11:55:40.585Z"
   },
   {
    "duration": 0,
    "start_time": "2025-01-31T11:55:40.586Z"
   },
   {
    "duration": 0,
    "start_time": "2025-01-31T11:55:40.587Z"
   },
   {
    "duration": 0,
    "start_time": "2025-01-31T11:55:40.588Z"
   },
   {
    "duration": 0,
    "start_time": "2025-01-31T11:55:40.589Z"
   },
   {
    "duration": 0,
    "start_time": "2025-01-31T11:55:40.590Z"
   },
   {
    "duration": 0,
    "start_time": "2025-01-31T11:55:40.592Z"
   },
   {
    "duration": 0,
    "start_time": "2025-01-31T11:55:40.593Z"
   },
   {
    "duration": 0,
    "start_time": "2025-01-31T11:55:40.594Z"
   },
   {
    "duration": 0,
    "start_time": "2025-01-31T11:55:40.595Z"
   },
   {
    "duration": 0,
    "start_time": "2025-01-31T11:55:40.597Z"
   },
   {
    "duration": 0,
    "start_time": "2025-01-31T11:55:40.598Z"
   },
   {
    "duration": 0,
    "start_time": "2025-01-31T11:55:40.599Z"
   },
   {
    "duration": 0,
    "start_time": "2025-01-31T11:55:40.600Z"
   },
   {
    "duration": 0,
    "start_time": "2025-01-31T11:55:40.602Z"
   },
   {
    "duration": 0,
    "start_time": "2025-01-31T11:55:40.602Z"
   },
   {
    "duration": 0,
    "start_time": "2025-01-31T11:55:40.604Z"
   },
   {
    "duration": 0,
    "start_time": "2025-01-31T11:55:40.605Z"
   },
   {
    "duration": 0,
    "start_time": "2025-01-31T11:55:40.606Z"
   },
   {
    "duration": 0,
    "start_time": "2025-01-31T11:55:40.607Z"
   },
   {
    "duration": 0,
    "start_time": "2025-01-31T11:55:40.608Z"
   },
   {
    "duration": 0,
    "start_time": "2025-01-31T11:55:40.610Z"
   },
   {
    "duration": 0,
    "start_time": "2025-01-31T11:55:40.611Z"
   },
   {
    "duration": 0,
    "start_time": "2025-01-31T11:55:40.612Z"
   },
   {
    "duration": 0,
    "start_time": "2025-01-31T11:55:40.614Z"
   },
   {
    "duration": 0,
    "start_time": "2025-01-31T11:55:40.672Z"
   },
   {
    "duration": 0,
    "start_time": "2025-01-31T11:55:40.673Z"
   },
   {
    "duration": 0,
    "start_time": "2025-01-31T11:55:40.674Z"
   },
   {
    "duration": 0,
    "start_time": "2025-01-31T11:55:40.676Z"
   },
   {
    "duration": 0,
    "start_time": "2025-01-31T11:55:40.677Z"
   },
   {
    "duration": 0,
    "start_time": "2025-01-31T11:55:40.679Z"
   },
   {
    "duration": 0,
    "start_time": "2025-01-31T11:55:40.680Z"
   },
   {
    "duration": 0,
    "start_time": "2025-01-31T11:55:40.681Z"
   },
   {
    "duration": 0,
    "start_time": "2025-01-31T11:55:40.682Z"
   },
   {
    "duration": 0,
    "start_time": "2025-01-31T11:55:40.684Z"
   },
   {
    "duration": 5329,
    "start_time": "2025-01-31T11:56:23.398Z"
   },
   {
    "duration": 6569,
    "start_time": "2025-01-31T11:56:28.729Z"
   },
   {
    "duration": 7785,
    "start_time": "2025-01-31T11:56:35.300Z"
   },
   {
    "duration": 7867,
    "start_time": "2025-01-31T11:56:43.088Z"
   },
   {
    "duration": 3,
    "start_time": "2025-01-31T11:56:50.957Z"
   },
   {
    "duration": 44,
    "start_time": "2025-01-31T11:56:50.963Z"
   },
   {
    "duration": 17,
    "start_time": "2025-01-31T11:56:51.009Z"
   },
   {
    "duration": 12,
    "start_time": "2025-01-31T11:56:51.028Z"
   },
   {
    "duration": 10,
    "start_time": "2025-01-31T11:56:51.042Z"
   },
   {
    "duration": 21,
    "start_time": "2025-01-31T11:56:51.055Z"
   },
   {
    "duration": 9,
    "start_time": "2025-01-31T11:56:51.078Z"
   },
   {
    "duration": 8,
    "start_time": "2025-01-31T11:56:51.089Z"
   },
   {
    "duration": 438,
    "start_time": "2025-01-31T11:56:51.098Z"
   },
   {
    "duration": 9,
    "start_time": "2025-01-31T11:56:51.537Z"
   },
   {
    "duration": 379,
    "start_time": "2025-01-31T11:56:51.548Z"
   },
   {
    "duration": 451,
    "start_time": "2025-01-31T11:56:51.929Z"
   },
   {
    "duration": 5,
    "start_time": "2025-01-31T11:56:52.383Z"
   },
   {
    "duration": 54,
    "start_time": "2025-01-31T11:56:52.390Z"
   },
   {
    "duration": 15,
    "start_time": "2025-01-31T11:56:52.446Z"
   },
   {
    "duration": 11,
    "start_time": "2025-01-31T11:56:52.463Z"
   },
   {
    "duration": 26,
    "start_time": "2025-01-31T11:56:52.476Z"
   },
   {
    "duration": 119,
    "start_time": "2025-01-31T11:56:52.504Z"
   },
   {
    "duration": 11,
    "start_time": "2025-01-31T11:56:52.625Z"
   },
   {
    "duration": 8,
    "start_time": "2025-01-31T11:56:52.638Z"
   },
   {
    "duration": 5,
    "start_time": "2025-01-31T11:56:52.648Z"
   },
   {
    "duration": 8,
    "start_time": "2025-01-31T11:56:52.654Z"
   },
   {
    "duration": 12,
    "start_time": "2025-01-31T11:56:52.664Z"
   },
   {
    "duration": 6,
    "start_time": "2025-01-31T11:56:52.680Z"
   },
   {
    "duration": 6,
    "start_time": "2025-01-31T11:56:52.688Z"
   },
   {
    "duration": 34586,
    "start_time": "2025-01-31T11:56:52.695Z"
   },
   {
    "duration": 4,
    "start_time": "2025-01-31T11:57:27.283Z"
   },
   {
    "duration": 12,
    "start_time": "2025-01-31T11:57:27.289Z"
   },
   {
    "duration": 12,
    "start_time": "2025-01-31T11:57:27.303Z"
   },
   {
    "duration": 5,
    "start_time": "2025-01-31T11:57:27.317Z"
   },
   {
    "duration": 227,
    "start_time": "2025-01-31T11:57:27.324Z"
   },
   {
    "duration": 166448,
    "start_time": "2025-01-31T11:57:42.037Z"
   },
   {
    "duration": 167367,
    "start_time": "2025-01-31T12:11:35.044Z"
   },
   {
    "duration": 18,
    "start_time": "2025-01-31T12:15:53.525Z"
   },
   {
    "duration": 17,
    "start_time": "2025-01-31T12:16:25.804Z"
   },
   {
    "duration": 17,
    "start_time": "2025-01-31T12:16:29.153Z"
   },
   {
    "duration": 29,
    "start_time": "2025-01-31T12:17:06.958Z"
   },
   {
    "duration": 29,
    "start_time": "2025-01-31T12:17:38.156Z"
   },
   {
    "duration": 1766,
    "start_time": "2025-01-31T12:17:47.827Z"
   },
   {
    "duration": 1836,
    "start_time": "2025-01-31T12:17:58.084Z"
   },
   {
    "duration": 1074,
    "start_time": "2025-01-31T12:18:54.285Z"
   },
   {
    "duration": 1883,
    "start_time": "2025-01-31T12:19:27.529Z"
   },
   {
    "duration": 2016,
    "start_time": "2025-01-31T12:19:35.388Z"
   },
   {
    "duration": 16,
    "start_time": "2025-01-31T12:20:07.086Z"
   },
   {
    "duration": 22,
    "start_time": "2025-01-31T12:20:24.853Z"
   },
   {
    "duration": 18,
    "start_time": "2025-01-31T12:20:34.357Z"
   },
   {
    "duration": 15,
    "start_time": "2025-01-31T12:20:52.515Z"
   },
   {
    "duration": 1230,
    "start_time": "2025-01-31T12:21:20.456Z"
   },
   {
    "duration": 17,
    "start_time": "2025-01-31T12:21:33.903Z"
   },
   {
    "duration": 380,
    "start_time": "2025-01-31T12:21:41.951Z"
   },
   {
    "duration": 3203,
    "start_time": "2025-01-31T12:24:12.280Z"
   },
   {
    "duration": 6010,
    "start_time": "2025-01-31T12:28:15.400Z"
   },
   {
    "duration": 7771,
    "start_time": "2025-01-31T12:28:21.415Z"
   },
   {
    "duration": 7296,
    "start_time": "2025-01-31T12:28:29.230Z"
   },
   {
    "duration": 8868,
    "start_time": "2025-01-31T12:28:36.528Z"
   },
   {
    "duration": 4,
    "start_time": "2025-01-31T12:28:45.399Z"
   },
   {
    "duration": 45,
    "start_time": "2025-01-31T12:28:45.405Z"
   },
   {
    "duration": 41,
    "start_time": "2025-01-31T12:28:45.453Z"
   },
   {
    "duration": 18,
    "start_time": "2025-01-31T12:28:45.497Z"
   },
   {
    "duration": 12,
    "start_time": "2025-01-31T12:28:45.517Z"
   },
   {
    "duration": 24,
    "start_time": "2025-01-31T12:28:45.531Z"
   },
   {
    "duration": 10,
    "start_time": "2025-01-31T12:28:45.557Z"
   },
   {
    "duration": 24,
    "start_time": "2025-01-31T12:28:45.570Z"
   },
   {
    "duration": 466,
    "start_time": "2025-01-31T12:28:45.598Z"
   },
   {
    "duration": 21,
    "start_time": "2025-01-31T12:28:46.067Z"
   },
   {
    "duration": 426,
    "start_time": "2025-01-31T12:28:46.090Z"
   },
   {
    "duration": 607,
    "start_time": "2025-01-31T12:28:46.518Z"
   },
   {
    "duration": 5,
    "start_time": "2025-01-31T12:28:47.127Z"
   },
   {
    "duration": 23,
    "start_time": "2025-01-31T12:28:47.134Z"
   },
   {
    "duration": 42,
    "start_time": "2025-01-31T12:28:47.159Z"
   },
   {
    "duration": 8,
    "start_time": "2025-01-31T12:28:47.204Z"
   },
   {
    "duration": 16,
    "start_time": "2025-01-31T12:28:47.214Z"
   },
   {
    "duration": 4,
    "start_time": "2025-01-31T12:28:47.232Z"
   },
   {
    "duration": 6,
    "start_time": "2025-01-31T12:28:47.238Z"
   },
   {
    "duration": 9,
    "start_time": "2025-01-31T12:28:47.283Z"
   },
   {
    "duration": 4,
    "start_time": "2025-01-31T12:28:47.295Z"
   },
   {
    "duration": 3,
    "start_time": "2025-01-31T12:28:47.302Z"
   },
   {
    "duration": 4,
    "start_time": "2025-01-31T12:28:47.307Z"
   },
   {
    "duration": 9,
    "start_time": "2025-01-31T12:28:47.313Z"
   },
   {
    "duration": 11,
    "start_time": "2025-01-31T12:28:47.324Z"
   },
   {
    "duration": 567503,
    "start_time": "2025-01-31T12:28:47.336Z"
   },
   {
    "duration": 4,
    "start_time": "2025-01-31T12:38:14.841Z"
   },
   {
    "duration": 31,
    "start_time": "2025-01-31T12:38:14.847Z"
   },
   {
    "duration": 27,
    "start_time": "2025-01-31T12:38:14.881Z"
   },
   {
    "duration": 11,
    "start_time": "2025-01-31T12:38:14.983Z"
   },
   {
    "duration": 1933,
    "start_time": "2025-01-31T12:38:14.998Z"
   },
   {
    "duration": 1189,
    "start_time": "2025-01-31T12:38:16.933Z"
   },
   {
    "duration": 452,
    "start_time": "2025-01-31T12:38:18.174Z"
   },
   {
    "duration": 280595,
    "start_time": "2025-01-31T14:24:51.252Z"
   },
   {
    "duration": 12356,
    "start_time": "2025-01-31T14:29:31.849Z"
   },
   {
    "duration": 2,
    "start_time": "2025-01-31T14:29:44.207Z"
   },
   {
    "duration": 6511,
    "start_time": "2025-01-31T14:29:44.211Z"
   },
   {
    "duration": 0,
    "start_time": "2025-01-31T14:29:50.724Z"
   },
   {
    "duration": 0,
    "start_time": "2025-01-31T14:29:50.726Z"
   },
   {
    "duration": 0,
    "start_time": "2025-01-31T14:29:50.727Z"
   },
   {
    "duration": 0,
    "start_time": "2025-01-31T14:29:50.728Z"
   },
   {
    "duration": 0,
    "start_time": "2025-01-31T14:29:50.729Z"
   },
   {
    "duration": 0,
    "start_time": "2025-01-31T14:29:50.730Z"
   },
   {
    "duration": 0,
    "start_time": "2025-01-31T14:29:50.731Z"
   },
   {
    "duration": 0,
    "start_time": "2025-01-31T14:29:50.732Z"
   },
   {
    "duration": 0,
    "start_time": "2025-01-31T14:29:50.733Z"
   },
   {
    "duration": 0,
    "start_time": "2025-01-31T14:29:50.736Z"
   },
   {
    "duration": 0,
    "start_time": "2025-01-31T14:29:50.737Z"
   },
   {
    "duration": 0,
    "start_time": "2025-01-31T14:29:50.738Z"
   },
   {
    "duration": 0,
    "start_time": "2025-01-31T14:29:50.739Z"
   },
   {
    "duration": 0,
    "start_time": "2025-01-31T14:29:50.740Z"
   },
   {
    "duration": 0,
    "start_time": "2025-01-31T14:29:50.741Z"
   },
   {
    "duration": 0,
    "start_time": "2025-01-31T14:29:50.742Z"
   },
   {
    "duration": 0,
    "start_time": "2025-01-31T14:29:50.743Z"
   },
   {
    "duration": 0,
    "start_time": "2025-01-31T14:29:50.744Z"
   },
   {
    "duration": 0,
    "start_time": "2025-01-31T14:29:50.745Z"
   },
   {
    "duration": 0,
    "start_time": "2025-01-31T14:29:50.746Z"
   },
   {
    "duration": 0,
    "start_time": "2025-01-31T14:29:50.747Z"
   },
   {
    "duration": 0,
    "start_time": "2025-01-31T14:29:50.748Z"
   },
   {
    "duration": 0,
    "start_time": "2025-01-31T14:29:50.749Z"
   },
   {
    "duration": 0,
    "start_time": "2025-01-31T14:29:50.750Z"
   },
   {
    "duration": 0,
    "start_time": "2025-01-31T14:29:50.751Z"
   },
   {
    "duration": 0,
    "start_time": "2025-01-31T14:29:50.752Z"
   },
   {
    "duration": 0,
    "start_time": "2025-01-31T14:29:50.753Z"
   },
   {
    "duration": 8610,
    "start_time": "2025-01-31T14:35:25.631Z"
   },
   {
    "duration": 7398,
    "start_time": "2025-01-31T14:35:34.245Z"
   },
   {
    "duration": 2,
    "start_time": "2025-01-31T14:35:41.648Z"
   },
   {
    "duration": 4656,
    "start_time": "2025-01-31T14:35:41.654Z"
   },
   {
    "duration": 0,
    "start_time": "2025-01-31T14:35:46.314Z"
   },
   {
    "duration": 0,
    "start_time": "2025-01-31T14:35:46.317Z"
   },
   {
    "duration": 0,
    "start_time": "2025-01-31T14:35:46.320Z"
   },
   {
    "duration": 0,
    "start_time": "2025-01-31T14:35:46.323Z"
   },
   {
    "duration": 0,
    "start_time": "2025-01-31T14:35:46.326Z"
   },
   {
    "duration": 0,
    "start_time": "2025-01-31T14:35:46.328Z"
   },
   {
    "duration": 0,
    "start_time": "2025-01-31T14:35:46.333Z"
   },
   {
    "duration": 0,
    "start_time": "2025-01-31T14:35:46.336Z"
   },
   {
    "duration": 0,
    "start_time": "2025-01-31T14:35:46.339Z"
   },
   {
    "duration": 0,
    "start_time": "2025-01-31T14:35:46.342Z"
   },
   {
    "duration": 0,
    "start_time": "2025-01-31T14:35:46.344Z"
   },
   {
    "duration": 0,
    "start_time": "2025-01-31T14:35:46.400Z"
   },
   {
    "duration": 0,
    "start_time": "2025-01-31T14:35:46.403Z"
   },
   {
    "duration": 0,
    "start_time": "2025-01-31T14:35:46.416Z"
   },
   {
    "duration": 0,
    "start_time": "2025-01-31T14:35:46.417Z"
   },
   {
    "duration": 0,
    "start_time": "2025-01-31T14:35:46.418Z"
   },
   {
    "duration": 0,
    "start_time": "2025-01-31T14:35:46.419Z"
   },
   {
    "duration": 0,
    "start_time": "2025-01-31T14:35:46.420Z"
   },
   {
    "duration": 0,
    "start_time": "2025-01-31T14:35:46.421Z"
   },
   {
    "duration": 0,
    "start_time": "2025-01-31T14:35:46.423Z"
   },
   {
    "duration": 0,
    "start_time": "2025-01-31T14:35:46.424Z"
   },
   {
    "duration": 0,
    "start_time": "2025-01-31T14:35:46.425Z"
   },
   {
    "duration": 0,
    "start_time": "2025-01-31T14:35:46.426Z"
   },
   {
    "duration": 0,
    "start_time": "2025-01-31T14:35:46.427Z"
   },
   {
    "duration": 0,
    "start_time": "2025-01-31T14:35:46.428Z"
   },
   {
    "duration": 0,
    "start_time": "2025-01-31T14:35:46.429Z"
   },
   {
    "duration": 0,
    "start_time": "2025-01-31T14:35:46.430Z"
   },
   {
    "duration": 0,
    "start_time": "2025-01-31T14:35:46.431Z"
   },
   {
    "duration": 0,
    "start_time": "2025-01-31T14:35:46.432Z"
   },
   {
    "duration": 0,
    "start_time": "2025-01-31T14:35:46.433Z"
   },
   {
    "duration": 0,
    "start_time": "2025-01-31T14:35:46.434Z"
   },
   {
    "duration": 0,
    "start_time": "2025-01-31T14:35:46.435Z"
   },
   {
    "duration": 0,
    "start_time": "2025-01-31T14:35:46.436Z"
   },
   {
    "duration": 20095,
    "start_time": "2025-01-31T14:38:17.207Z"
   },
   {
    "duration": 12529,
    "start_time": "2025-01-31T14:38:37.306Z"
   },
   {
    "duration": 8863,
    "start_time": "2025-01-31T14:38:49.839Z"
   },
   {
    "duration": 32311,
    "start_time": "2025-01-31T14:38:58.706Z"
   },
   {
    "duration": 2,
    "start_time": "2025-01-31T14:39:31.021Z"
   },
   {
    "duration": 172,
    "start_time": "2025-01-31T14:39:31.027Z"
   },
   {
    "duration": 16,
    "start_time": "2025-01-31T14:39:31.202Z"
   },
   {
    "duration": 11,
    "start_time": "2025-01-31T14:39:31.221Z"
   },
   {
    "duration": 11,
    "start_time": "2025-01-31T14:39:31.234Z"
   },
   {
    "duration": 7,
    "start_time": "2025-01-31T14:39:31.247Z"
   },
   {
    "duration": 10,
    "start_time": "2025-01-31T14:39:31.256Z"
   },
   {
    "duration": 35,
    "start_time": "2025-01-31T14:39:31.268Z"
   },
   {
    "duration": 472,
    "start_time": "2025-01-31T14:39:31.305Z"
   },
   {
    "duration": 22,
    "start_time": "2025-01-31T14:39:31.778Z"
   },
   {
    "duration": 386,
    "start_time": "2025-01-31T14:39:31.802Z"
   },
   {
    "duration": 528,
    "start_time": "2025-01-31T14:39:32.190Z"
   },
   {
    "duration": 5,
    "start_time": "2025-01-31T14:39:32.720Z"
   },
   {
    "duration": 37,
    "start_time": "2025-01-31T14:39:32.727Z"
   },
   {
    "duration": 17,
    "start_time": "2025-01-31T14:39:32.765Z"
   },
   {
    "duration": 23,
    "start_time": "2025-01-31T14:39:32.784Z"
   },
   {
    "duration": 18,
    "start_time": "2025-01-31T14:39:32.809Z"
   },
   {
    "duration": 71,
    "start_time": "2025-01-31T14:39:32.829Z"
   },
   {
    "duration": 56,
    "start_time": "2025-01-31T14:39:32.901Z"
   },
   {
    "duration": 41,
    "start_time": "2025-01-31T14:39:32.959Z"
   },
   {
    "duration": 4,
    "start_time": "2025-01-31T14:39:33.002Z"
   },
   {
    "duration": 5,
    "start_time": "2025-01-31T14:39:33.008Z"
   },
   {
    "duration": 21,
    "start_time": "2025-01-31T14:39:33.015Z"
   },
   {
    "duration": 62,
    "start_time": "2025-01-31T14:39:33.038Z"
   },
   {
    "duration": 37,
    "start_time": "2025-01-31T14:39:33.102Z"
   },
   {
    "duration": 72575,
    "start_time": "2025-01-31T14:39:33.140Z"
   },
   {
    "duration": 5,
    "start_time": "2025-01-31T14:40:45.716Z"
   },
   {
    "duration": 35,
    "start_time": "2025-01-31T14:40:45.722Z"
   },
   {
    "duration": 27,
    "start_time": "2025-01-31T14:40:45.759Z"
   },
   {
    "duration": 15,
    "start_time": "2025-01-31T14:40:45.788Z"
   },
   {
    "duration": 2288,
    "start_time": "2025-01-31T14:40:45.805Z"
   },
   {
    "duration": 1120,
    "start_time": "2025-01-31T14:40:48.095Z"
   },
   {
    "duration": 406,
    "start_time": "2025-01-31T14:40:49.217Z"
   },
   {
    "duration": 7,
    "start_time": "2025-01-31T14:41:18.641Z"
   },
   {
    "duration": 152,
    "start_time": "2025-01-31T14:42:09.918Z"
   },
   {
    "duration": 10,
    "start_time": "2025-01-31T14:42:34.057Z"
   },
   {
    "duration": 49,
    "start_time": "2025-02-03T06:06:57.312Z"
   },
   {
    "duration": 7171,
    "start_time": "2025-02-03T06:07:02.284Z"
   },
   {
    "duration": 3163,
    "start_time": "2025-02-03T06:07:09.458Z"
   },
   {
    "duration": 21851,
    "start_time": "2025-02-03T06:07:12.623Z"
   },
   {
    "duration": 2142,
    "start_time": "2025-02-03T06:07:34.477Z"
   },
   {
    "duration": 3,
    "start_time": "2025-02-03T06:07:36.620Z"
   },
   {
    "duration": 57,
    "start_time": "2025-02-03T06:07:36.625Z"
   },
   {
    "duration": 15,
    "start_time": "2025-02-03T06:07:36.684Z"
   },
   {
    "duration": 13,
    "start_time": "2025-02-03T06:07:36.700Z"
   },
   {
    "duration": 3,
    "start_time": "2025-02-03T06:07:36.715Z"
   },
   {
    "duration": 6,
    "start_time": "2025-02-03T06:07:36.720Z"
   },
   {
    "duration": 8,
    "start_time": "2025-02-03T06:07:36.727Z"
   },
   {
    "duration": 6,
    "start_time": "2025-02-03T06:07:36.737Z"
   },
   {
    "duration": 495,
    "start_time": "2025-02-03T06:07:36.744Z"
   },
   {
    "duration": 7,
    "start_time": "2025-02-03T06:07:37.241Z"
   },
   {
    "duration": 386,
    "start_time": "2025-02-03T06:07:37.249Z"
   },
   {
    "duration": 496,
    "start_time": "2025-02-03T06:07:37.637Z"
   },
   {
    "duration": 158,
    "start_time": "2025-02-03T06:07:38.135Z"
   },
   {
    "duration": 0,
    "start_time": "2025-02-03T06:07:38.295Z"
   },
   {
    "duration": 0,
    "start_time": "2025-02-03T06:07:38.296Z"
   },
   {
    "duration": 0,
    "start_time": "2025-02-03T06:07:38.297Z"
   },
   {
    "duration": 0,
    "start_time": "2025-02-03T06:07:38.298Z"
   },
   {
    "duration": 0,
    "start_time": "2025-02-03T06:07:38.299Z"
   },
   {
    "duration": 0,
    "start_time": "2025-02-03T06:07:38.300Z"
   },
   {
    "duration": 0,
    "start_time": "2025-02-03T06:07:38.301Z"
   },
   {
    "duration": 0,
    "start_time": "2025-02-03T06:07:38.302Z"
   },
   {
    "duration": 0,
    "start_time": "2025-02-03T06:07:38.303Z"
   },
   {
    "duration": 0,
    "start_time": "2025-02-03T06:07:38.304Z"
   },
   {
    "duration": 0,
    "start_time": "2025-02-03T06:07:38.305Z"
   },
   {
    "duration": 0,
    "start_time": "2025-02-03T06:07:38.306Z"
   },
   {
    "duration": 0,
    "start_time": "2025-02-03T06:07:38.307Z"
   },
   {
    "duration": 0,
    "start_time": "2025-02-03T06:07:38.308Z"
   },
   {
    "duration": 0,
    "start_time": "2025-02-03T06:07:38.309Z"
   },
   {
    "duration": 0,
    "start_time": "2025-02-03T06:07:38.311Z"
   },
   {
    "duration": 0,
    "start_time": "2025-02-03T06:07:38.312Z"
   },
   {
    "duration": 0,
    "start_time": "2025-02-03T06:07:38.313Z"
   },
   {
    "duration": 0,
    "start_time": "2025-02-03T06:07:38.314Z"
   },
   {
    "duration": 1,
    "start_time": "2025-02-03T06:07:38.314Z"
   },
   {
    "duration": 0,
    "start_time": "2025-02-03T06:07:38.315Z"
   },
   {
    "duration": 14,
    "start_time": "2025-02-03T06:11:34.518Z"
   },
   {
    "duration": 380,
    "start_time": "2025-02-03T06:11:35.245Z"
   },
   {
    "duration": 18,
    "start_time": "2025-02-03T06:11:56.091Z"
   },
   {
    "duration": 12,
    "start_time": "2025-02-03T06:12:05.907Z"
   },
   {
    "duration": 12,
    "start_time": "2025-02-03T06:12:09.738Z"
   },
   {
    "duration": 294,
    "start_time": "2025-02-03T06:12:10.170Z"
   },
   {
    "duration": 260,
    "start_time": "2025-02-03T06:14:54.917Z"
   },
   {
    "duration": 319,
    "start_time": "2025-02-03T06:15:47.472Z"
   },
   {
    "duration": 315,
    "start_time": "2025-02-03T06:18:00.173Z"
   },
   {
    "duration": 298,
    "start_time": "2025-02-03T06:19:08.071Z"
   },
   {
    "duration": 288,
    "start_time": "2025-02-03T06:21:17.291Z"
   },
   {
    "duration": 303,
    "start_time": "2025-02-03T06:21:22.835Z"
   },
   {
    "duration": 15,
    "start_time": "2025-02-03T06:23:56.990Z"
   },
   {
    "duration": 352,
    "start_time": "2025-02-03T06:24:12.461Z"
   },
   {
    "duration": 4,
    "start_time": "2025-02-03T06:36:51.794Z"
   },
   {
    "duration": 3304,
    "start_time": "2025-02-03T08:15:52.472Z"
   },
   {
    "duration": 2710,
    "start_time": "2025-02-03T08:15:55.779Z"
   },
   {
    "duration": 4148,
    "start_time": "2025-02-03T08:15:58.492Z"
   },
   {
    "duration": 2605,
    "start_time": "2025-02-03T08:16:02.643Z"
   },
   {
    "duration": 2,
    "start_time": "2025-02-03T08:16:05.250Z"
   },
   {
    "duration": 252,
    "start_time": "2025-02-03T08:16:05.254Z"
   },
   {
    "duration": 14,
    "start_time": "2025-02-03T08:16:05.508Z"
   },
   {
    "duration": 53,
    "start_time": "2025-02-03T08:16:05.523Z"
   },
   {
    "duration": 10,
    "start_time": "2025-02-03T08:16:05.577Z"
   },
   {
    "duration": 12,
    "start_time": "2025-02-03T08:16:05.590Z"
   },
   {
    "duration": 10,
    "start_time": "2025-02-03T08:16:05.604Z"
   },
   {
    "duration": 8,
    "start_time": "2025-02-03T08:16:05.616Z"
   },
   {
    "duration": 400,
    "start_time": "2025-02-03T08:16:05.626Z"
   },
   {
    "duration": 8,
    "start_time": "2025-02-03T08:16:06.028Z"
   },
   {
    "duration": 372,
    "start_time": "2025-02-03T08:16:06.038Z"
   },
   {
    "duration": 524,
    "start_time": "2025-02-03T08:16:06.412Z"
   },
   {
    "duration": 15,
    "start_time": "2025-02-03T08:16:06.938Z"
   },
   {
    "duration": 325,
    "start_time": "2025-02-03T08:16:06.955Z"
   },
   {
    "duration": 347,
    "start_time": "2025-02-03T08:16:07.281Z"
   },
   {
    "duration": 4,
    "start_time": "2025-02-03T08:16:07.630Z"
   },
   {
    "duration": 17,
    "start_time": "2025-02-03T08:16:07.636Z"
   },
   {
    "duration": 30,
    "start_time": "2025-02-03T08:16:07.655Z"
   },
   {
    "duration": 9,
    "start_time": "2025-02-03T08:16:07.687Z"
   },
   {
    "duration": 13,
    "start_time": "2025-02-03T08:16:07.698Z"
   },
   {
    "duration": 21,
    "start_time": "2025-02-03T08:16:07.713Z"
   },
   {
    "duration": 6,
    "start_time": "2025-02-03T08:16:07.736Z"
   },
   {
    "duration": 5,
    "start_time": "2025-02-03T08:16:07.744Z"
   },
   {
    "duration": 10,
    "start_time": "2025-02-03T08:16:07.752Z"
   },
   {
    "duration": 162,
    "start_time": "2025-02-03T08:16:07.764Z"
   },
   {
    "duration": 0,
    "start_time": "2025-02-03T08:16:07.927Z"
   },
   {
    "duration": 0,
    "start_time": "2025-02-03T08:16:07.929Z"
   },
   {
    "duration": 0,
    "start_time": "2025-02-03T08:16:07.930Z"
   },
   {
    "duration": 0,
    "start_time": "2025-02-03T08:16:07.931Z"
   },
   {
    "duration": 0,
    "start_time": "2025-02-03T08:16:07.932Z"
   },
   {
    "duration": 0,
    "start_time": "2025-02-03T08:16:07.933Z"
   },
   {
    "duration": 0,
    "start_time": "2025-02-03T08:16:07.934Z"
   },
   {
    "duration": 0,
    "start_time": "2025-02-03T08:16:07.936Z"
   },
   {
    "duration": 0,
    "start_time": "2025-02-03T08:16:07.937Z"
   },
   {
    "duration": 0,
    "start_time": "2025-02-03T08:16:07.938Z"
   },
   {
    "duration": 0,
    "start_time": "2025-02-03T08:16:07.939Z"
   },
   {
    "duration": 0,
    "start_time": "2025-02-03T08:16:07.940Z"
   },
   {
    "duration": 4,
    "start_time": "2025-02-03T08:16:32.596Z"
   },
   {
    "duration": 3,
    "start_time": "2025-02-03T08:16:40.156Z"
   },
   {
    "duration": 2,
    "start_time": "2025-02-03T08:17:25.616Z"
   },
   {
    "duration": 2,
    "start_time": "2025-02-03T08:17:26.768Z"
   },
   {
    "duration": 3,
    "start_time": "2025-02-03T08:17:27.159Z"
   },
   {
    "duration": 3,
    "start_time": "2025-02-03T08:17:27.823Z"
   },
   {
    "duration": 3,
    "start_time": "2025-02-03T08:17:28.808Z"
   },
   {
    "duration": 5,
    "start_time": "2025-02-03T08:17:31.639Z"
   },
   {
    "duration": 3,
    "start_time": "2025-02-03T08:17:33.159Z"
   },
   {
    "duration": 35352,
    "start_time": "2025-02-03T08:17:39.407Z"
   },
   {
    "duration": 5,
    "start_time": "2025-02-03T08:18:34.697Z"
   },
   {
    "duration": 32,
    "start_time": "2025-02-03T08:18:35.945Z"
   },
   {
    "duration": 16,
    "start_time": "2025-02-03T08:18:41.625Z"
   },
   {
    "duration": 5,
    "start_time": "2025-02-03T08:18:50.280Z"
   },
   {
    "duration": 53,
    "start_time": "2025-02-03T08:31:28.183Z"
   },
   {
    "duration": 1705,
    "start_time": "2025-02-03T08:32:23.874Z"
   },
   {
    "duration": 1728,
    "start_time": "2025-02-03T08:32:30.249Z"
   },
   {
    "duration": 1438,
    "start_time": "2025-02-03T08:32:45.744Z"
   },
   {
    "duration": 5,
    "start_time": "2025-02-03T11:15:29.387Z"
   },
   {
    "duration": 269,
    "start_time": "2025-02-03T11:16:10.263Z"
   },
   {
    "duration": 5,
    "start_time": "2025-02-03T11:17:19.457Z"
   },
   {
    "duration": 211,
    "start_time": "2025-02-03T11:17:26.920Z"
   },
   {
    "duration": 10,
    "start_time": "2025-02-03T11:19:17.054Z"
   },
   {
    "duration": 5,
    "start_time": "2025-02-03T11:31:57.620Z"
   },
   {
    "duration": 11,
    "start_time": "2025-02-03T11:32:03.036Z"
   },
   {
    "duration": 252,
    "start_time": "2025-02-03T11:32:35.256Z"
   },
   {
    "duration": 272,
    "start_time": "2025-02-03T11:35:15.363Z"
   },
   {
    "duration": 222,
    "start_time": "2025-02-03T11:36:59.426Z"
   },
   {
    "duration": 238,
    "start_time": "2025-02-03T11:37:12.088Z"
   },
   {
    "duration": 265,
    "start_time": "2025-02-03T11:37:16.681Z"
   },
   {
    "duration": 227,
    "start_time": "2025-02-03T11:38:49.719Z"
   },
   {
    "duration": 251,
    "start_time": "2025-02-03T11:38:57.702Z"
   },
   {
    "duration": 214,
    "start_time": "2025-02-03T11:39:37.620Z"
   },
   {
    "duration": 227,
    "start_time": "2025-02-03T11:39:42.611Z"
   },
   {
    "duration": 3349,
    "start_time": "2025-02-03T11:45:16.954Z"
   },
   {
    "duration": 2840,
    "start_time": "2025-02-03T11:45:20.307Z"
   },
   {
    "duration": 3803,
    "start_time": "2025-02-03T11:45:23.150Z"
   },
   {
    "duration": 2104,
    "start_time": "2025-02-03T11:45:26.957Z"
   },
   {
    "duration": 3,
    "start_time": "2025-02-03T11:45:29.063Z"
   },
   {
    "duration": 43,
    "start_time": "2025-02-03T11:45:29.074Z"
   },
   {
    "duration": 14,
    "start_time": "2025-02-03T11:45:29.119Z"
   },
   {
    "duration": 14,
    "start_time": "2025-02-03T11:45:29.134Z"
   },
   {
    "duration": 2,
    "start_time": "2025-02-03T11:45:29.150Z"
   },
   {
    "duration": 20,
    "start_time": "2025-02-03T11:45:29.155Z"
   },
   {
    "duration": 9,
    "start_time": "2025-02-03T11:45:29.177Z"
   },
   {
    "duration": 140,
    "start_time": "2025-02-03T11:45:29.187Z"
   },
   {
    "duration": 378,
    "start_time": "2025-02-03T11:45:29.329Z"
   },
   {
    "duration": 8,
    "start_time": "2025-02-03T11:45:29.709Z"
   },
   {
    "duration": 395,
    "start_time": "2025-02-03T11:45:29.719Z"
   },
   {
    "duration": 528,
    "start_time": "2025-02-03T11:45:30.116Z"
   },
   {
    "duration": 15,
    "start_time": "2025-02-03T11:45:30.645Z"
   },
   {
    "duration": 322,
    "start_time": "2025-02-03T11:45:30.662Z"
   },
   {
    "duration": 364,
    "start_time": "2025-02-03T11:45:30.986Z"
   },
   {
    "duration": 1532,
    "start_time": "2025-02-03T11:45:31.353Z"
   },
   {
    "duration": 90,
    "start_time": "2025-02-03T11:45:32.886Z"
   },
   {
    "duration": 162,
    "start_time": "2025-02-03T11:45:32.983Z"
   },
   {
    "duration": 296,
    "start_time": "2025-02-03T11:45:33.146Z"
   },
   {
    "duration": 57,
    "start_time": "2025-02-03T11:45:33.444Z"
   },
   {
    "duration": 13,
    "start_time": "2025-02-03T11:45:33.503Z"
   },
   {
    "duration": 30,
    "start_time": "2025-02-03T11:45:33.518Z"
   },
   {
    "duration": 25,
    "start_time": "2025-02-03T11:45:33.550Z"
   },
   {
    "duration": 8,
    "start_time": "2025-02-03T11:45:33.579Z"
   },
   {
    "duration": 16,
    "start_time": "2025-02-03T11:45:33.588Z"
   },
   {
    "duration": 11,
    "start_time": "2025-02-03T11:45:33.605Z"
   },
   {
    "duration": 14,
    "start_time": "2025-02-03T11:45:33.617Z"
   },
   {
    "duration": 11,
    "start_time": "2025-02-03T11:45:33.632Z"
   },
   {
    "duration": 4,
    "start_time": "2025-02-03T11:45:33.644Z"
   },
   {
    "duration": 10,
    "start_time": "2025-02-03T11:45:33.649Z"
   },
   {
    "duration": 16,
    "start_time": "2025-02-03T11:45:33.661Z"
   },
   {
    "duration": 3333,
    "start_time": "2025-02-03T11:49:23.103Z"
   },
   {
    "duration": 2654,
    "start_time": "2025-02-03T11:49:26.438Z"
   },
   {
    "duration": 3913,
    "start_time": "2025-02-03T11:49:29.094Z"
   },
   {
    "duration": 2059,
    "start_time": "2025-02-03T11:49:33.010Z"
   },
   {
    "duration": 3,
    "start_time": "2025-02-03T11:49:35.074Z"
   },
   {
    "duration": 48,
    "start_time": "2025-02-03T11:49:35.079Z"
   },
   {
    "duration": 19,
    "start_time": "2025-02-03T11:49:35.128Z"
   },
   {
    "duration": 17,
    "start_time": "2025-02-03T11:49:35.149Z"
   },
   {
    "duration": 4,
    "start_time": "2025-02-03T11:49:35.174Z"
   },
   {
    "duration": 48,
    "start_time": "2025-02-03T11:49:35.182Z"
   },
   {
    "duration": 13,
    "start_time": "2025-02-03T11:49:35.231Z"
   },
   {
    "duration": 19,
    "start_time": "2025-02-03T11:49:35.246Z"
   },
   {
    "duration": 442,
    "start_time": "2025-02-03T11:49:35.267Z"
   },
   {
    "duration": 10,
    "start_time": "2025-02-03T11:49:35.712Z"
   },
   {
    "duration": 399,
    "start_time": "2025-02-03T11:49:35.724Z"
   },
   {
    "duration": 570,
    "start_time": "2025-02-03T11:49:36.125Z"
   },
   {
    "duration": 15,
    "start_time": "2025-02-03T11:49:36.697Z"
   },
   {
    "duration": 293,
    "start_time": "2025-02-03T11:49:36.714Z"
   },
   {
    "duration": 383,
    "start_time": "2025-02-03T11:49:37.009Z"
   },
   {
    "duration": 2386,
    "start_time": "2025-02-03T11:49:37.394Z"
   },
   {
    "duration": 98,
    "start_time": "2025-02-03T11:49:39.782Z"
   },
   {
    "duration": 149,
    "start_time": "2025-02-03T11:49:39.890Z"
   },
   {
    "duration": 299,
    "start_time": "2025-02-03T11:49:40.041Z"
   },
   {
    "duration": 39,
    "start_time": "2025-02-03T11:49:40.341Z"
   },
   {
    "duration": 13,
    "start_time": "2025-02-03T11:49:40.382Z"
   },
   {
    "duration": 39,
    "start_time": "2025-02-03T11:49:40.397Z"
   },
   {
    "duration": 6,
    "start_time": "2025-02-03T11:49:40.438Z"
   },
   {
    "duration": 9,
    "start_time": "2025-02-03T11:49:40.477Z"
   },
   {
    "duration": 14,
    "start_time": "2025-02-03T11:49:40.488Z"
   },
   {
    "duration": 7,
    "start_time": "2025-02-03T11:49:40.504Z"
   },
   {
    "duration": 4,
    "start_time": "2025-02-03T11:49:40.512Z"
   },
   {
    "duration": 4,
    "start_time": "2025-02-03T11:49:40.518Z"
   },
   {
    "duration": 4,
    "start_time": "2025-02-03T11:49:40.523Z"
   },
   {
    "duration": 6,
    "start_time": "2025-02-03T11:49:40.528Z"
   },
   {
    "duration": 7,
    "start_time": "2025-02-03T11:49:40.536Z"
   },
   {
    "duration": 30,
    "start_time": "2025-02-03T11:49:40.545Z"
   },
   {
    "duration": 197789,
    "start_time": "2025-02-03T11:49:40.577Z"
   },
   {
    "duration": 4,
    "start_time": "2025-02-03T11:52:58.375Z"
   },
   {
    "duration": 35,
    "start_time": "2025-02-03T11:52:58.380Z"
   },
   {
    "duration": 13,
    "start_time": "2025-02-03T11:52:58.417Z"
   },
   {
    "duration": 41,
    "start_time": "2025-02-03T11:52:58.437Z"
   },
   {
    "duration": 1164,
    "start_time": "2025-02-03T11:52:58.480Z"
   },
   {
    "duration": 0,
    "start_time": "2025-02-03T11:52:59.646Z"
   },
   {
    "duration": 0,
    "start_time": "2025-02-03T11:52:59.647Z"
   },
   {
    "duration": 4,
    "start_time": "2025-02-03T11:53:19.483Z"
   },
   {
    "duration": 3194,
    "start_time": "2025-02-03T11:53:36.735Z"
   },
   {
    "duration": 2710,
    "start_time": "2025-02-03T11:53:39.932Z"
   },
   {
    "duration": 4091,
    "start_time": "2025-02-03T11:53:42.644Z"
   },
   {
    "duration": 2013,
    "start_time": "2025-02-03T11:53:46.737Z"
   },
   {
    "duration": 3,
    "start_time": "2025-02-03T11:53:48.752Z"
   },
   {
    "duration": 44,
    "start_time": "2025-02-03T11:53:48.757Z"
   },
   {
    "duration": 14,
    "start_time": "2025-02-03T11:53:48.803Z"
   },
   {
    "duration": 28,
    "start_time": "2025-02-03T11:53:48.819Z"
   },
   {
    "duration": 3,
    "start_time": "2025-02-03T11:53:48.849Z"
   },
   {
    "duration": 6,
    "start_time": "2025-02-03T11:53:48.856Z"
   },
   {
    "duration": 10,
    "start_time": "2025-02-03T11:53:48.876Z"
   },
   {
    "duration": 7,
    "start_time": "2025-02-03T11:53:48.888Z"
   },
   {
    "duration": 413,
    "start_time": "2025-02-03T11:53:48.897Z"
   },
   {
    "duration": 8,
    "start_time": "2025-02-03T11:53:49.312Z"
   },
   {
    "duration": 373,
    "start_time": "2025-02-03T11:53:49.322Z"
   },
   {
    "duration": 531,
    "start_time": "2025-02-03T11:53:49.697Z"
   },
   {
    "duration": 14,
    "start_time": "2025-02-03T11:53:50.230Z"
   },
   {
    "duration": 315,
    "start_time": "2025-02-03T11:53:50.246Z"
   },
   {
    "duration": 342,
    "start_time": "2025-02-03T11:53:50.563Z"
   },
   {
    "duration": 1673,
    "start_time": "2025-02-03T11:53:50.907Z"
   },
   {
    "duration": 96,
    "start_time": "2025-02-03T11:53:52.582Z"
   },
   {
    "duration": 160,
    "start_time": "2025-02-03T11:53:52.681Z"
   },
   {
    "duration": 294,
    "start_time": "2025-02-03T11:53:52.843Z"
   },
   {
    "duration": 6,
    "start_time": "2025-02-03T11:53:53.139Z"
   },
   {
    "duration": 29,
    "start_time": "2025-02-03T11:53:53.147Z"
   },
   {
    "duration": 104,
    "start_time": "2025-02-03T11:53:53.178Z"
   },
   {
    "duration": 114,
    "start_time": "2025-02-03T11:53:53.284Z"
   },
   {
    "duration": 4,
    "start_time": "2025-02-03T11:53:53.402Z"
   },
   {
    "duration": 6,
    "start_time": "2025-02-03T11:53:53.407Z"
   },
   {
    "duration": 6,
    "start_time": "2025-02-03T11:53:53.415Z"
   },
   {
    "duration": 40,
    "start_time": "2025-02-03T11:53:53.423Z"
   },
   {
    "duration": 48,
    "start_time": "2025-02-03T11:53:53.464Z"
   },
   {
    "duration": 10,
    "start_time": "2025-02-03T11:53:53.513Z"
   },
   {
    "duration": 5,
    "start_time": "2025-02-03T11:53:53.524Z"
   },
   {
    "duration": 6,
    "start_time": "2025-02-03T11:53:53.530Z"
   },
   {
    "duration": 13,
    "start_time": "2025-02-03T11:53:53.538Z"
   },
   {
    "duration": 3,
    "start_time": "2025-02-03T11:53:53.552Z"
   },
   {
    "duration": 9401,
    "start_time": "2025-02-03T11:53:53.557Z"
   },
   {
    "duration": 0,
    "start_time": "2025-02-03T11:54:02.960Z"
   },
   {
    "duration": 0,
    "start_time": "2025-02-03T11:54:02.961Z"
   },
   {
    "duration": 0,
    "start_time": "2025-02-03T11:54:02.974Z"
   },
   {
    "duration": 0,
    "start_time": "2025-02-03T11:54:02.975Z"
   },
   {
    "duration": 0,
    "start_time": "2025-02-03T11:54:02.977Z"
   },
   {
    "duration": 0,
    "start_time": "2025-02-03T11:54:02.979Z"
   },
   {
    "duration": 0,
    "start_time": "2025-02-03T11:54:02.980Z"
   },
   {
    "duration": 14,
    "start_time": "2025-02-03T11:59:23.747Z"
   },
   {
    "duration": 15,
    "start_time": "2025-02-03T11:59:46.561Z"
   },
   {
    "duration": 16,
    "start_time": "2025-02-03T11:59:54.976Z"
   },
   {
    "duration": 16,
    "start_time": "2025-02-03T12:00:12.775Z"
   },
   {
    "duration": 3,
    "start_time": "2025-02-03T12:01:25.192Z"
   },
   {
    "duration": 4,
    "start_time": "2025-02-03T12:01:28.896Z"
   },
   {
    "duration": 14,
    "start_time": "2025-02-03T12:01:59.709Z"
   },
   {
    "duration": 4,
    "start_time": "2025-02-03T12:02:06.229Z"
   },
   {
    "duration": 14,
    "start_time": "2025-02-03T12:02:45.562Z"
   },
   {
    "duration": 3,
    "start_time": "2025-02-03T12:22:02.925Z"
   },
   {
    "duration": 3618,
    "start_time": "2025-02-03T12:22:07.920Z"
   },
   {
    "duration": 2698,
    "start_time": "2025-02-03T12:22:11.540Z"
   },
   {
    "duration": 3920,
    "start_time": "2025-02-03T12:22:14.240Z"
   },
   {
    "duration": 2098,
    "start_time": "2025-02-03T12:22:18.163Z"
   },
   {
    "duration": 3,
    "start_time": "2025-02-03T12:22:20.263Z"
   },
   {
    "duration": 44,
    "start_time": "2025-02-03T12:22:20.275Z"
   },
   {
    "duration": 15,
    "start_time": "2025-02-03T12:22:20.321Z"
   },
   {
    "duration": 11,
    "start_time": "2025-02-03T12:22:20.338Z"
   },
   {
    "duration": 24,
    "start_time": "2025-02-03T12:22:20.351Z"
   },
   {
    "duration": 5,
    "start_time": "2025-02-03T12:22:20.378Z"
   },
   {
    "duration": 11,
    "start_time": "2025-02-03T12:22:20.385Z"
   },
   {
    "duration": 7,
    "start_time": "2025-02-03T12:22:20.398Z"
   },
   {
    "duration": 413,
    "start_time": "2025-02-03T12:22:20.407Z"
   },
   {
    "duration": 8,
    "start_time": "2025-02-03T12:22:20.822Z"
   },
   {
    "duration": 378,
    "start_time": "2025-02-03T12:22:20.832Z"
   },
   {
    "duration": 548,
    "start_time": "2025-02-03T12:22:21.212Z"
   },
   {
    "duration": 19,
    "start_time": "2025-02-03T12:22:21.762Z"
   },
   {
    "duration": 304,
    "start_time": "2025-02-03T12:22:21.783Z"
   },
   {
    "duration": 343,
    "start_time": "2025-02-03T12:22:22.088Z"
   },
   {
    "duration": 1451,
    "start_time": "2025-02-03T12:22:22.433Z"
   },
   {
    "duration": 90,
    "start_time": "2025-02-03T12:22:23.886Z"
   },
   {
    "duration": 159,
    "start_time": "2025-02-03T12:22:23.982Z"
   },
   {
    "duration": 308,
    "start_time": "2025-02-03T12:22:24.143Z"
   },
   {
    "duration": 54,
    "start_time": "2025-02-03T12:22:24.453Z"
   },
   {
    "duration": 13,
    "start_time": "2025-02-03T12:22:24.509Z"
   },
   {
    "duration": 25,
    "start_time": "2025-02-03T12:22:24.524Z"
   },
   {
    "duration": 37,
    "start_time": "2025-02-03T12:22:24.551Z"
   },
   {
    "duration": 9,
    "start_time": "2025-02-03T12:22:24.592Z"
   },
   {
    "duration": 5,
    "start_time": "2025-02-03T12:22:24.603Z"
   },
   {
    "duration": 4,
    "start_time": "2025-02-03T12:22:24.610Z"
   },
   {
    "duration": 5,
    "start_time": "2025-02-03T12:22:24.616Z"
   },
   {
    "duration": 4,
    "start_time": "2025-02-03T12:22:24.622Z"
   },
   {
    "duration": 5,
    "start_time": "2025-02-03T12:22:24.627Z"
   },
   {
    "duration": 7,
    "start_time": "2025-02-03T12:22:24.634Z"
   },
   {
    "duration": 10,
    "start_time": "2025-02-03T12:22:24.643Z"
   },
   {
    "duration": 20,
    "start_time": "2025-02-03T12:22:24.655Z"
   },
   {
    "duration": 3313,
    "start_time": "2025-02-03T12:26:10.611Z"
   },
   {
    "duration": 2789,
    "start_time": "2025-02-03T12:26:13.927Z"
   },
   {
    "duration": 3910,
    "start_time": "2025-02-03T12:26:16.718Z"
   },
   {
    "duration": 2116,
    "start_time": "2025-02-03T12:26:20.631Z"
   },
   {
    "duration": 3,
    "start_time": "2025-02-03T12:26:22.748Z"
   },
   {
    "duration": 44,
    "start_time": "2025-02-03T12:26:22.753Z"
   },
   {
    "duration": 15,
    "start_time": "2025-02-03T12:26:22.799Z"
   },
   {
    "duration": 22,
    "start_time": "2025-02-03T12:26:22.816Z"
   },
   {
    "duration": 3,
    "start_time": "2025-02-03T12:26:22.840Z"
   },
   {
    "duration": 11,
    "start_time": "2025-02-03T12:26:22.846Z"
   },
   {
    "duration": 22,
    "start_time": "2025-02-03T12:26:22.858Z"
   },
   {
    "duration": 8,
    "start_time": "2025-02-03T12:26:22.882Z"
   },
   {
    "duration": 415,
    "start_time": "2025-02-03T12:26:22.892Z"
   },
   {
    "duration": 9,
    "start_time": "2025-02-03T12:26:23.309Z"
   },
   {
    "duration": 397,
    "start_time": "2025-02-03T12:26:23.319Z"
   },
   {
    "duration": 522,
    "start_time": "2025-02-03T12:26:23.717Z"
   },
   {
    "duration": 14,
    "start_time": "2025-02-03T12:26:24.240Z"
   },
   {
    "duration": 326,
    "start_time": "2025-02-03T12:26:24.256Z"
   },
   {
    "duration": 338,
    "start_time": "2025-02-03T12:26:24.583Z"
   },
   {
    "duration": 1652,
    "start_time": "2025-02-03T12:26:24.923Z"
   },
   {
    "duration": 6,
    "start_time": "2025-02-03T12:26:26.578Z"
   },
   {
    "duration": 156,
    "start_time": "2025-02-03T12:26:26.586Z"
   },
   {
    "duration": 295,
    "start_time": "2025-02-03T12:26:26.744Z"
   },
   {
    "duration": 36,
    "start_time": "2025-02-03T12:26:27.040Z"
   },
   {
    "duration": 14,
    "start_time": "2025-02-03T12:26:27.077Z"
   },
   {
    "duration": 27,
    "start_time": "2025-02-03T12:26:27.093Z"
   },
   {
    "duration": 6,
    "start_time": "2025-02-03T12:26:27.122Z"
   },
   {
    "duration": 7,
    "start_time": "2025-02-03T12:26:27.131Z"
   },
   {
    "duration": 2,
    "start_time": "2025-02-03T12:26:27.176Z"
   },
   {
    "duration": 11,
    "start_time": "2025-02-03T12:26:27.180Z"
   },
   {
    "duration": 3,
    "start_time": "2025-02-03T12:26:27.193Z"
   },
   {
    "duration": 4,
    "start_time": "2025-02-03T12:26:27.197Z"
   },
   {
    "duration": 28,
    "start_time": "2025-02-03T12:26:27.202Z"
   },
   {
    "duration": 12,
    "start_time": "2025-02-03T12:26:27.232Z"
   },
   {
    "duration": 9,
    "start_time": "2025-02-03T12:26:27.246Z"
   },
   {
    "duration": 4,
    "start_time": "2025-02-03T12:26:27.257Z"
   },
   {
    "duration": 12314,
    "start_time": "2025-02-03T12:26:27.263Z"
   },
   {
    "duration": 0,
    "start_time": "2025-02-03T12:26:39.579Z"
   },
   {
    "duration": 0,
    "start_time": "2025-02-03T12:26:39.581Z"
   },
   {
    "duration": 0,
    "start_time": "2025-02-03T12:26:39.582Z"
   },
   {
    "duration": 0,
    "start_time": "2025-02-03T12:26:39.583Z"
   },
   {
    "duration": 0,
    "start_time": "2025-02-03T12:26:39.585Z"
   },
   {
    "duration": 0,
    "start_time": "2025-02-03T12:26:39.586Z"
   },
   {
    "duration": 0,
    "start_time": "2025-02-03T12:26:39.587Z"
   },
   {
    "duration": 3367,
    "start_time": "2025-02-03T12:27:51.144Z"
   },
   {
    "duration": 2684,
    "start_time": "2025-02-03T12:27:54.514Z"
   },
   {
    "duration": 3975,
    "start_time": "2025-02-03T12:27:57.200Z"
   },
   {
    "duration": 2087,
    "start_time": "2025-02-03T12:28:01.178Z"
   },
   {
    "duration": 3,
    "start_time": "2025-02-03T12:28:03.266Z"
   },
   {
    "duration": 133,
    "start_time": "2025-02-03T12:28:03.275Z"
   },
   {
    "duration": 17,
    "start_time": "2025-02-03T12:28:03.409Z"
   },
   {
    "duration": 13,
    "start_time": "2025-02-03T12:28:03.428Z"
   },
   {
    "duration": 62,
    "start_time": "2025-02-03T12:28:03.443Z"
   },
   {
    "duration": 25,
    "start_time": "2025-02-03T12:28:03.507Z"
   },
   {
    "duration": 9,
    "start_time": "2025-02-03T12:28:03.534Z"
   },
   {
    "duration": 9,
    "start_time": "2025-02-03T12:28:03.545Z"
   },
   {
    "duration": 436,
    "start_time": "2025-02-03T12:28:03.556Z"
   },
   {
    "duration": 8,
    "start_time": "2025-02-03T12:28:03.994Z"
   },
   {
    "duration": 389,
    "start_time": "2025-02-03T12:28:04.004Z"
   },
   {
    "duration": 521,
    "start_time": "2025-02-03T12:28:04.395Z"
   },
   {
    "duration": 15,
    "start_time": "2025-02-03T12:28:04.918Z"
   },
   {
    "duration": 331,
    "start_time": "2025-02-03T12:28:04.934Z"
   },
   {
    "duration": 332,
    "start_time": "2025-02-03T12:28:05.275Z"
   },
   {
    "duration": 1675,
    "start_time": "2025-02-03T12:28:05.609Z"
   },
   {
    "duration": 94,
    "start_time": "2025-02-03T12:28:07.382Z"
   },
   {
    "duration": 104,
    "start_time": "2025-02-03T12:28:07.478Z"
   },
   {
    "duration": 293,
    "start_time": "2025-02-03T12:28:07.584Z"
   },
   {
    "duration": 7,
    "start_time": "2025-02-03T12:28:07.879Z"
   },
   {
    "duration": 13,
    "start_time": "2025-02-03T12:28:07.887Z"
   },
   {
    "duration": 7,
    "start_time": "2025-02-03T12:28:07.902Z"
   },
   {
    "duration": 18,
    "start_time": "2025-02-03T12:28:07.912Z"
   },
   {
    "duration": 40,
    "start_time": "2025-02-03T12:28:07.936Z"
   },
   {
    "duration": 9,
    "start_time": "2025-02-03T12:28:07.978Z"
   },
   {
    "duration": 6,
    "start_time": "2025-02-03T12:28:07.989Z"
   },
   {
    "duration": 6,
    "start_time": "2025-02-03T12:28:07.998Z"
   },
   {
    "duration": 6,
    "start_time": "2025-02-03T12:28:08.006Z"
   },
   {
    "duration": 4,
    "start_time": "2025-02-03T12:28:08.014Z"
   },
   {
    "duration": 14,
    "start_time": "2025-02-03T12:28:08.020Z"
   },
   {
    "duration": 18,
    "start_time": "2025-02-03T12:28:08.036Z"
   },
   {
    "duration": 20,
    "start_time": "2025-02-03T12:28:08.056Z"
   },
   {
    "duration": 70,
    "start_time": "2025-02-03T12:28:08.078Z"
   },
   {
    "duration": 332326,
    "start_time": "2025-02-03T12:28:08.150Z"
   },
   {
    "duration": 4,
    "start_time": "2025-02-03T12:33:40.479Z"
   },
   {
    "duration": 31,
    "start_time": "2025-02-03T12:33:40.484Z"
   },
   {
    "duration": 40,
    "start_time": "2025-02-03T12:33:40.517Z"
   },
   {
    "duration": 18,
    "start_time": "2025-02-03T12:33:40.558Z"
   },
   {
    "duration": 3259,
    "start_time": "2025-02-03T12:35:04.189Z"
   },
   {
    "duration": 2864,
    "start_time": "2025-02-03T12:35:07.450Z"
   },
   {
    "duration": 4550,
    "start_time": "2025-02-03T12:35:10.316Z"
   },
   {
    "duration": 2061,
    "start_time": "2025-02-03T12:35:14.869Z"
   },
   {
    "duration": 2,
    "start_time": "2025-02-03T12:35:16.932Z"
   },
   {
    "duration": 56,
    "start_time": "2025-02-03T12:35:16.936Z"
   },
   {
    "duration": 14,
    "start_time": "2025-02-03T12:35:16.993Z"
   },
   {
    "duration": 10,
    "start_time": "2025-02-03T12:35:17.009Z"
   },
   {
    "duration": 3,
    "start_time": "2025-02-03T12:35:17.021Z"
   },
   {
    "duration": 9,
    "start_time": "2025-02-03T12:35:17.026Z"
   },
   {
    "duration": 9,
    "start_time": "2025-02-03T12:35:17.036Z"
   },
   {
    "duration": 7,
    "start_time": "2025-02-03T12:35:17.077Z"
   },
   {
    "duration": 402,
    "start_time": "2025-02-03T12:35:17.086Z"
   },
   {
    "duration": 8,
    "start_time": "2025-02-03T12:35:17.490Z"
   },
   {
    "duration": 393,
    "start_time": "2025-02-03T12:35:17.500Z"
   },
   {
    "duration": 544,
    "start_time": "2025-02-03T12:35:17.895Z"
   },
   {
    "duration": 14,
    "start_time": "2025-02-03T12:35:18.440Z"
   },
   {
    "duration": 311,
    "start_time": "2025-02-03T12:35:18.455Z"
   },
   {
    "duration": 335,
    "start_time": "2025-02-03T12:35:18.768Z"
   },
   {
    "duration": 1771,
    "start_time": "2025-02-03T12:35:19.105Z"
   },
   {
    "duration": 5,
    "start_time": "2025-02-03T12:35:20.879Z"
   },
   {
    "duration": 72,
    "start_time": "2025-02-03T12:35:20.976Z"
   },
   {
    "duration": 334,
    "start_time": "2025-02-03T12:35:21.050Z"
   },
   {
    "duration": 6,
    "start_time": "2025-02-03T12:35:21.386Z"
   },
   {
    "duration": 16,
    "start_time": "2025-02-03T12:35:21.394Z"
   },
   {
    "duration": 10,
    "start_time": "2025-02-03T12:35:21.412Z"
   },
   {
    "duration": 14,
    "start_time": "2025-02-03T12:35:21.423Z"
   },
   {
    "duration": 17,
    "start_time": "2025-02-03T12:35:21.440Z"
   },
   {
    "duration": 47,
    "start_time": "2025-02-03T12:35:21.459Z"
   },
   {
    "duration": 48,
    "start_time": "2025-02-03T12:35:21.507Z"
   },
   {
    "duration": 12,
    "start_time": "2025-02-03T12:35:21.556Z"
   },
   {
    "duration": 6,
    "start_time": "2025-02-03T12:35:21.570Z"
   },
   {
    "duration": 5,
    "start_time": "2025-02-03T12:35:21.577Z"
   },
   {
    "duration": 9,
    "start_time": "2025-02-03T12:35:21.584Z"
   },
   {
    "duration": 5,
    "start_time": "2025-02-03T12:35:21.595Z"
   },
   {
    "duration": 85,
    "start_time": "2025-02-03T12:35:21.602Z"
   },
   {
    "duration": 14,
    "start_time": "2025-02-03T12:35:21.688Z"
   },
   {
    "duration": 68,
    "start_time": "2025-02-03T12:35:21.703Z"
   },
   {
    "duration": 0,
    "start_time": "2025-02-03T12:35:21.772Z"
   },
   {
    "duration": 0,
    "start_time": "2025-02-03T12:35:21.774Z"
   },
   {
    "duration": 0,
    "start_time": "2025-02-03T12:35:21.775Z"
   },
   {
    "duration": 0,
    "start_time": "2025-02-03T12:35:21.776Z"
   },
   {
    "duration": 0,
    "start_time": "2025-02-03T12:35:21.778Z"
   },
   {
    "duration": 0,
    "start_time": "2025-02-03T12:35:21.779Z"
   },
   {
    "duration": 0,
    "start_time": "2025-02-03T12:35:21.780Z"
   },
   {
    "duration": 0,
    "start_time": "2025-02-03T12:35:21.781Z"
   },
   {
    "duration": 0,
    "start_time": "2025-02-03T12:35:21.782Z"
   },
   {
    "duration": 17285,
    "start_time": "2025-02-03T12:35:36.191Z"
   },
   {
    "duration": 5,
    "start_time": "2025-02-03T12:36:03.060Z"
   },
   {
    "duration": 17102,
    "start_time": "2025-02-03T12:36:08.188Z"
   },
   {
    "duration": 5,
    "start_time": "2025-02-03T12:36:25.293Z"
   },
   {
    "duration": 36,
    "start_time": "2025-02-03T12:36:25.299Z"
   },
   {
    "duration": 39,
    "start_time": "2025-02-03T12:36:25.337Z"
   },
   {
    "duration": 5,
    "start_time": "2025-02-03T12:36:25.522Z"
   },
   {
    "duration": 384,
    "start_time": "2025-02-03T12:36:27.953Z"
   },
   {
    "duration": 11,
    "start_time": "2025-02-03T12:36:28.497Z"
   },
   {
    "duration": 3331,
    "start_time": "2025-02-03T12:37:54.163Z"
   },
   {
    "duration": 2707,
    "start_time": "2025-02-03T12:37:57.496Z"
   },
   {
    "duration": 3899,
    "start_time": "2025-02-03T12:38:00.205Z"
   },
   {
    "duration": 2084,
    "start_time": "2025-02-03T12:38:04.107Z"
   },
   {
    "duration": 3,
    "start_time": "2025-02-03T12:38:06.193Z"
   },
   {
    "duration": 71,
    "start_time": "2025-02-03T12:38:06.197Z"
   },
   {
    "duration": 13,
    "start_time": "2025-02-03T12:38:06.270Z"
   },
   {
    "duration": 21,
    "start_time": "2025-02-03T12:38:06.285Z"
   },
   {
    "duration": 36,
    "start_time": "2025-02-03T12:38:06.308Z"
   },
   {
    "duration": 6,
    "start_time": "2025-02-03T12:38:06.346Z"
   },
   {
    "duration": 9,
    "start_time": "2025-02-03T12:38:06.353Z"
   },
   {
    "duration": 18,
    "start_time": "2025-02-03T12:38:06.363Z"
   },
   {
    "duration": 418,
    "start_time": "2025-02-03T12:38:06.383Z"
   },
   {
    "duration": 9,
    "start_time": "2025-02-03T12:38:06.803Z"
   },
   {
    "duration": 398,
    "start_time": "2025-02-03T12:38:06.815Z"
   },
   {
    "duration": 520,
    "start_time": "2025-02-03T12:38:07.214Z"
   },
   {
    "duration": 14,
    "start_time": "2025-02-03T12:38:07.736Z"
   },
   {
    "duration": 336,
    "start_time": "2025-02-03T12:38:07.752Z"
   },
   {
    "duration": 365,
    "start_time": "2025-02-03T12:38:08.091Z"
   },
   {
    "duration": 2319,
    "start_time": "2025-02-03T12:38:08.457Z"
   },
   {
    "duration": 7,
    "start_time": "2025-02-03T12:38:10.778Z"
   },
   {
    "duration": 74,
    "start_time": "2025-02-03T12:38:10.876Z"
   },
   {
    "duration": 288,
    "start_time": "2025-02-03T12:38:10.952Z"
   },
   {
    "duration": 6,
    "start_time": "2025-02-03T12:38:11.242Z"
   },
   {
    "duration": 26,
    "start_time": "2025-02-03T12:38:11.250Z"
   },
   {
    "duration": 7,
    "start_time": "2025-02-03T12:38:11.277Z"
   },
   {
    "duration": 110,
    "start_time": "2025-02-03T12:38:11.286Z"
   },
   {
    "duration": 12,
    "start_time": "2025-02-03T12:38:11.399Z"
   },
   {
    "duration": 10,
    "start_time": "2025-02-03T12:38:11.413Z"
   },
   {
    "duration": 4,
    "start_time": "2025-02-03T12:38:11.425Z"
   },
   {
    "duration": 5,
    "start_time": "2025-02-03T12:38:11.431Z"
   },
   {
    "duration": 5,
    "start_time": "2025-02-03T12:38:11.438Z"
   },
   {
    "duration": 9,
    "start_time": "2025-02-03T12:38:11.444Z"
   },
   {
    "duration": 3,
    "start_time": "2025-02-03T12:38:11.455Z"
   },
   {
    "duration": 8,
    "start_time": "2025-02-03T12:38:11.460Z"
   },
   {
    "duration": 5,
    "start_time": "2025-02-03T12:38:11.470Z"
   },
   {
    "duration": 4,
    "start_time": "2025-02-03T12:38:11.476Z"
   },
   {
    "duration": 23483,
    "start_time": "2025-02-03T12:38:11.482Z"
   },
   {
    "duration": 4,
    "start_time": "2025-02-03T12:38:34.974Z"
   },
   {
    "duration": 37,
    "start_time": "2025-02-03T12:38:34.980Z"
   },
   {
    "duration": 35,
    "start_time": "2025-02-03T12:38:35.019Z"
   },
   {
    "duration": 19,
    "start_time": "2025-02-03T12:38:35.056Z"
   }
  ],
  "kernelspec": {
   "display_name": "Python 3 (ipykernel)",
   "language": "python",
   "name": "python3"
  },
  "language_info": {
   "codemirror_mode": {
    "name": "ipython",
    "version": 3
   },
   "file_extension": ".py",
   "mimetype": "text/x-python",
   "name": "python",
   "nbconvert_exporter": "python",
   "pygments_lexer": "ipython3",
   "version": "3.11.7"
  },
  "toc": {
   "base_numbering": 1,
   "nav_menu": {},
   "number_sections": true,
   "sideBar": true,
   "skip_h1_title": true,
   "title_cell": "Содержание",
   "title_sidebar": "Contents",
   "toc_cell": true,
   "toc_position": {
    "height": "calc(100% - 180px)",
    "left": "10px",
    "top": "150px",
    "width": "165px"
   },
   "toc_section_display": true,
   "toc_window_display": true
  }
 },
 "nbformat": 4,
 "nbformat_minor": 4
}
