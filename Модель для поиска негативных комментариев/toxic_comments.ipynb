{
 "cells": [
  {
   "cell_type": "markdown",
   "metadata": {
    "toc": true
   },
   "source": [
    "<h1>Содержание<span class=\"tocSkip\"></span></h1>\n",
    "<div class=\"toc\"><ul class=\"toc-item\"><li><span><a href=\"#Подготовка\" data-toc-modified-id=\"Подготовка-1\"><span class=\"toc-item-num\">1&nbsp;&nbsp;</span>Подготовка</a></span><ul class=\"toc-item\"><li><span><a href=\"#Установка-необходимых-версий,-загрузки-библиотек-и-объявление-констант\" data-toc-modified-id=\"Установка-необходимых-версий,-загрузки-библиотек-и-объявление-констант-1.1\"><span class=\"toc-item-num\">1.1&nbsp;&nbsp;</span>Установка необходимых версий, загрузки библиотек и объявление констант</a></span></li><li><span><a href=\"#Загрузка-данных-из-файла\" data-toc-modified-id=\"Загрузка-данных-из-файла-1.2\"><span class=\"toc-item-num\">1.2&nbsp;&nbsp;</span>Загрузка данных из файла</a></span></li><li><span><a href=\"#Лемматизируем-столбец-text\" data-toc-modified-id=\"Лемматизируем-столбец-text-1.3\"><span class=\"toc-item-num\">1.3&nbsp;&nbsp;</span>Лемматизируем столбец text</a></span></li><li><span><a href=\"#Очистим-данные-от-лишних-символов\" data-toc-modified-id=\"Очистим-данные-от-лишних-символов-1.4\"><span class=\"toc-item-num\">1.4&nbsp;&nbsp;</span>Очистим данные от лишних символов</a></span></li><li><span><a href=\"#Очистим-данные-от-лишних-слов\" data-toc-modified-id=\"Очистим-данные-от-лишних-слов-1.5\"><span class=\"toc-item-num\">1.5&nbsp;&nbsp;</span>Очистим данные от лишних слов</a></span></li><li><span><a href=\"#Подсчитайте-величину-TF-IDF-для-текстов\" data-toc-modified-id=\"Подсчитайте-величину-TF-IDF-для-текстов-1.6\"><span class=\"toc-item-num\">1.6&nbsp;&nbsp;</span>Подсчитайте величину TF-IDF для текстов</a></span></li></ul></li><li><span><a href=\"#Обучение\" data-toc-modified-id=\"Обучение-2\"><span class=\"toc-item-num\">2&nbsp;&nbsp;</span>Обучение</a></span></li><li><span><a href=\"#Выводы\" data-toc-modified-id=\"Выводы-3\"><span class=\"toc-item-num\">3&nbsp;&nbsp;</span>Выводы</a></span></li><li><span><a href=\"#Чек-лист-проверки\" data-toc-modified-id=\"Чек-лист-проверки-4\"><span class=\"toc-item-num\">4&nbsp;&nbsp;</span>Чек-лист проверки</a></span></li></ul></div>"
   ]
  },
  {
   "cell_type": "markdown",
   "metadata": {},
   "source": [
    "# Классификация комментариев»"
   ]
  },
  {
   "cell_type": "markdown",
   "metadata": {},
   "source": [
    "**Цель исследования:** Необходимо обучить модель классифицировать комментарии на позитивные и негативные. \n",
    "\n",
    "**Описание проекта:** Интернет-магазин «Викишоп» запускает новый сервис. Теперь пользователи могут редактировать и дополнять описания товаров, как в вики-сообществах. То есть клиенты предлагают свои правки и комментируют изменения других. Магазину нужен инструмент, который будет искать токсичные комментарии и отправлять их на модерацию. \n",
    "\n",
    "Значение метрики качества *F1* должно быть не меньше 0.75. \n",
    "\n",
    "**Описание данных**\n",
    "\n",
    "Данные находятся в файле `toxic_comments.csv` с разметкой от токсичности правок. Столбец *text* в нём содержит текст комментария, а *toxic* — целевой признак."
   ]
  },
  {
   "cell_type": "markdown",
   "metadata": {},
   "source": [
    "## Подготовка"
   ]
  },
  {
   "cell_type": "markdown",
   "metadata": {},
   "source": [
    "### Установка необходимых версий, загрузки библиотек и объявление констант"
   ]
  },
  {
   "cell_type": "code",
   "execution_count": 2,
   "metadata": {},
   "outputs": [
    {
     "name": "stdout",
     "output_type": "stream",
     "text": [
      "Collecting pymystem3\n",
      "  Downloading pymystem3-0.2.0-py3-none-any.whl.metadata (5.5 kB)\n",
      "Requirement already satisfied: requests in c:\\users\\peredkova\\appdata\\local\\anaconda3\\lib\\site-packages (from pymystem3) (2.31.0)\n",
      "Requirement already satisfied: charset-normalizer<4,>=2 in c:\\users\\peredkova\\appdata\\local\\anaconda3\\lib\\site-packages (from requests->pymystem3) (2.0.4)\n",
      "Requirement already satisfied: idna<4,>=2.5 in c:\\users\\peredkova\\appdata\\local\\anaconda3\\lib\\site-packages (from requests->pymystem3) (3.4)\n",
      "Requirement already satisfied: urllib3<3,>=1.21.1 in c:\\users\\peredkova\\appdata\\local\\anaconda3\\lib\\site-packages (from requests->pymystem3) (2.0.7)\n",
      "Requirement already satisfied: certifi>=2017.4.17 in c:\\users\\peredkova\\appdata\\local\\anaconda3\\lib\\site-packages (from requests->pymystem3) (2024.2.2)\n",
      "Downloading pymystem3-0.2.0-py3-none-any.whl (10 kB)\n",
      "Installing collected packages: pymystem3\n",
      "Successfully installed pymystem3-0.2.0\n"
     ]
    }
   ],
   "source": [
    "!pip install pymystem3"
   ]
  },
  {
   "cell_type": "code",
   "execution_count": 3,
   "metadata": {},
   "outputs": [
    {
     "name": "stderr",
     "output_type": "stream",
     "text": [
      "[nltk_data] Downloading package averaged_perceptron_tagger to\n",
      "[nltk_data]     C:\\Users\\peredkova\\AppData\\Roaming\\nltk_data...\n",
      "[nltk_data]   Unzipping taggers\\averaged_perceptron_tagger.zip.\n"
     ]
    }
   ],
   "source": [
    "import pandas as pd\n",
    "from pymystem3 import Mystem\n",
    "import re\n",
    "from nltk.corpus import stopwords\n",
    "import nltk\n",
    "from sklearn.feature_extraction.text import TfidfVectorizer\n",
    "from sklearn.model_selection import train_test_split\n",
    "from sklearn.pipeline import Pipeline\n",
    "from sklearn.linear_model import LogisticRegression\n",
    "from sklearn.tree import DecisionTreeClassifier\n",
    "from sklearn.model_selection import RandomizedSearchCV, GridSearchCV\n",
    "from sklearn.metrics import f1_score\n",
    "import time\n",
    "from nltk.stem import WordNetLemmatizer\n",
    "from tqdm.notebook import tqdm\n",
    "from nltk import pos_tag\n",
    "nltk.download('averaged_perceptron_tagger')\n",
    "from sklearn.pipeline import Pipeline"
   ]
  },
  {
   "cell_type": "markdown",
   "metadata": {},
   "source": [
    "### Загрузка данных из файла"
   ]
  },
  {
   "cell_type": "code",
   "execution_count": 4,
   "metadata": {},
   "outputs": [],
   "source": [
    "data = pd.read_csv('toxic_comments.csv', index_col=0)"
   ]
  },
  {
   "cell_type": "code",
   "execution_count": 5,
   "metadata": {},
   "outputs": [
    {
     "data": {
      "text/html": [
       "<div>\n",
       "<style scoped>\n",
       "    .dataframe tbody tr th:only-of-type {\n",
       "        vertical-align: middle;\n",
       "    }\n",
       "\n",
       "    .dataframe tbody tr th {\n",
       "        vertical-align: top;\n",
       "    }\n",
       "\n",
       "    .dataframe thead th {\n",
       "        text-align: right;\n",
       "    }\n",
       "</style>\n",
       "<table border=\"1\" class=\"dataframe\">\n",
       "  <thead>\n",
       "    <tr style=\"text-align: right;\">\n",
       "      <th></th>\n",
       "      <th>text</th>\n",
       "      <th>toxic</th>\n",
       "    </tr>\n",
       "  </thead>\n",
       "  <tbody>\n",
       "    <tr>\n",
       "      <th>0</th>\n",
       "      <td>Explanation\\nWhy the edits made under my usern...</td>\n",
       "      <td>0</td>\n",
       "    </tr>\n",
       "    <tr>\n",
       "      <th>1</th>\n",
       "      <td>D'aww! He matches this background colour I'm s...</td>\n",
       "      <td>0</td>\n",
       "    </tr>\n",
       "    <tr>\n",
       "      <th>2</th>\n",
       "      <td>Hey man, I'm really not trying to edit war. It...</td>\n",
       "      <td>0</td>\n",
       "    </tr>\n",
       "    <tr>\n",
       "      <th>3</th>\n",
       "      <td>\"\\nMore\\nI can't make any real suggestions on ...</td>\n",
       "      <td>0</td>\n",
       "    </tr>\n",
       "    <tr>\n",
       "      <th>4</th>\n",
       "      <td>You, sir, are my hero. Any chance you remember...</td>\n",
       "      <td>0</td>\n",
       "    </tr>\n",
       "  </tbody>\n",
       "</table>\n",
       "</div>"
      ],
      "text/plain": [
       "                                                text  toxic\n",
       "0  Explanation\\nWhy the edits made under my usern...      0\n",
       "1  D'aww! He matches this background colour I'm s...      0\n",
       "2  Hey man, I'm really not trying to edit war. It...      0\n",
       "3  \"\\nMore\\nI can't make any real suggestions on ...      0\n",
       "4  You, sir, are my hero. Any chance you remember...      0"
      ]
     },
     "execution_count": 5,
     "metadata": {},
     "output_type": "execute_result"
    }
   ],
   "source": [
    "data.head()"
   ]
  },
  {
   "cell_type": "code",
   "execution_count": 6,
   "metadata": {},
   "outputs": [
    {
     "name": "stdout",
     "output_type": "stream",
     "text": [
      "<class 'pandas.core.frame.DataFrame'>\n",
      "Index: 159292 entries, 0 to 159450\n",
      "Data columns (total 2 columns):\n",
      " #   Column  Non-Null Count   Dtype \n",
      "---  ------  --------------   ----- \n",
      " 0   text    159292 non-null  object\n",
      " 1   toxic   159292 non-null  int64 \n",
      "dtypes: int64(1), object(1)\n",
      "memory usage: 3.6+ MB\n"
     ]
    }
   ],
   "source": [
    "data.info()"
   ]
  },
  {
   "cell_type": "markdown",
   "metadata": {},
   "source": [
    "Пропусков нет, типы данных указаны верно."
   ]
  },
  {
   "cell_type": "markdown",
   "metadata": {},
   "source": [
    "### Лемматизируем столбец text"
   ]
  },
  {
   "cell_type": "code",
   "execution_count": 7,
   "metadata": {},
   "outputs": [],
   "source": [
    "wnl = WordNetLemmatizer()\n",
    "\n",
    "def penn2morphy(penntag):\n",
    "    morphy_tag = {'NN':'n', 'JJ':'a',\n",
    "                  'VB':'v', 'RB':'r'}\n",
    "    try:\n",
    "        return morphy_tag[penntag[:2]]\n",
    "    except:\n",
    "        return 'n' \n",
    "\n",
    "def lemmatize_sent(text): \n",
    "    list_word = nltk.word_tokenize(text)\n",
    "    return ' '.join(wnl.lemmatize(word.lower(), pos=penn2morphy(tag)) \n",
    "            for word, tag in pos_tag(list_word))"
   ]
  },
  {
   "cell_type": "code",
   "execution_count": 9,
   "metadata": {},
   "outputs": [
    {
     "data": {
      "text/html": [
       "<div>\n",
       "<style scoped>\n",
       "    .dataframe tbody tr th:only-of-type {\n",
       "        vertical-align: middle;\n",
       "    }\n",
       "\n",
       "    .dataframe tbody tr th {\n",
       "        vertical-align: top;\n",
       "    }\n",
       "\n",
       "    .dataframe thead th {\n",
       "        text-align: right;\n",
       "    }\n",
       "</style>\n",
       "<table border=\"1\" class=\"dataframe\">\n",
       "  <thead>\n",
       "    <tr style=\"text-align: right;\">\n",
       "      <th></th>\n",
       "      <th>text</th>\n",
       "      <th>toxic</th>\n",
       "    </tr>\n",
       "  </thead>\n",
       "  <tbody>\n",
       "    <tr>\n",
       "      <th>0</th>\n",
       "      <td>Explanation\\nWhy the edits made under my usern...</td>\n",
       "      <td>0</td>\n",
       "    </tr>\n",
       "    <tr>\n",
       "      <th>1</th>\n",
       "      <td>D'aww! He matches this background colour I'm s...</td>\n",
       "      <td>0</td>\n",
       "    </tr>\n",
       "    <tr>\n",
       "      <th>2</th>\n",
       "      <td>Hey man, I'm really not trying to edit war. It...</td>\n",
       "      <td>0</td>\n",
       "    </tr>\n",
       "    <tr>\n",
       "      <th>3</th>\n",
       "      <td>\"\\nMore\\nI can't make any real suggestions on ...</td>\n",
       "      <td>0</td>\n",
       "    </tr>\n",
       "    <tr>\n",
       "      <th>4</th>\n",
       "      <td>You, sir, are my hero. Any chance you remember...</td>\n",
       "      <td>0</td>\n",
       "    </tr>\n",
       "  </tbody>\n",
       "</table>\n",
       "</div>"
      ],
      "text/plain": [
       "                                                text  toxic\n",
       "0  Explanation\\nWhy the edits made under my usern...      0\n",
       "1  D'aww! He matches this background colour I'm s...      0\n",
       "2  Hey man, I'm really not trying to edit war. It...      0\n",
       "3  \"\\nMore\\nI can't make any real suggestions on ...      0\n",
       "4  You, sir, are my hero. Any chance you remember...      0"
      ]
     },
     "execution_count": 9,
     "metadata": {},
     "output_type": "execute_result"
    }
   ],
   "source": [
    "data.head()"
   ]
  },
  {
   "cell_type": "markdown",
   "metadata": {},
   "source": [
    "### Очистим данные от лишних символов"
   ]
  },
  {
   "cell_type": "code",
   "execution_count": 10,
   "metadata": {},
   "outputs": [],
   "source": [
    "def clear_text(text):\n",
    "    return \" \". join(re.sub(r'[^a-zA-Z\\']', ' ', text).split())"
   ]
  },
  {
   "cell_type": "code",
   "execution_count": 11,
   "metadata": {},
   "outputs": [],
   "source": [
    "data['text'] = data['text'].apply(lambda x: clear_text(x)) "
   ]
  },
  {
   "cell_type": "code",
   "execution_count": 12,
   "metadata": {},
   "outputs": [
    {
     "data": {
      "text/html": [
       "<div>\n",
       "<style scoped>\n",
       "    .dataframe tbody tr th:only-of-type {\n",
       "        vertical-align: middle;\n",
       "    }\n",
       "\n",
       "    .dataframe tbody tr th {\n",
       "        vertical-align: top;\n",
       "    }\n",
       "\n",
       "    .dataframe thead th {\n",
       "        text-align: right;\n",
       "    }\n",
       "</style>\n",
       "<table border=\"1\" class=\"dataframe\">\n",
       "  <thead>\n",
       "    <tr style=\"text-align: right;\">\n",
       "      <th></th>\n",
       "      <th>text</th>\n",
       "      <th>toxic</th>\n",
       "    </tr>\n",
       "  </thead>\n",
       "  <tbody>\n",
       "    <tr>\n",
       "      <th>0</th>\n",
       "      <td>Explanation Why the edits made under my userna...</td>\n",
       "      <td>0</td>\n",
       "    </tr>\n",
       "    <tr>\n",
       "      <th>1</th>\n",
       "      <td>D'aww He matches this background colour I'm se...</td>\n",
       "      <td>0</td>\n",
       "    </tr>\n",
       "    <tr>\n",
       "      <th>2</th>\n",
       "      <td>Hey man I'm really not trying to edit war It's...</td>\n",
       "      <td>0</td>\n",
       "    </tr>\n",
       "    <tr>\n",
       "      <th>3</th>\n",
       "      <td>More I can't make any real suggestions on impr...</td>\n",
       "      <td>0</td>\n",
       "    </tr>\n",
       "    <tr>\n",
       "      <th>4</th>\n",
       "      <td>You sir are my hero Any chance you remember wh...</td>\n",
       "      <td>0</td>\n",
       "    </tr>\n",
       "  </tbody>\n",
       "</table>\n",
       "</div>"
      ],
      "text/plain": [
       "                                                text  toxic\n",
       "0  Explanation Why the edits made under my userna...      0\n",
       "1  D'aww He matches this background colour I'm se...      0\n",
       "2  Hey man I'm really not trying to edit war It's...      0\n",
       "3  More I can't make any real suggestions on impr...      0\n",
       "4  You sir are my hero Any chance you remember wh...      0"
      ]
     },
     "execution_count": 12,
     "metadata": {},
     "output_type": "execute_result"
    }
   ],
   "source": [
    "data.head()"
   ]
  },
  {
   "cell_type": "markdown",
   "metadata": {},
   "source": [
    "### Очистим данные от лишних слов"
   ]
  },
  {
   "cell_type": "code",
   "execution_count": 13,
   "metadata": {},
   "outputs": [
    {
     "name": "stderr",
     "output_type": "stream",
     "text": [
      "[nltk_data] Downloading package stopwords to\n",
      "[nltk_data]     C:\\Users\\peredkova\\AppData\\Roaming\\nltk_data...\n",
      "[nltk_data]   Unzipping corpora\\stopwords.zip.\n"
     ]
    }
   ],
   "source": [
    "nltk.download('stopwords')\n",
    "stop_words = list(set(stopwords.words('english')))"
   ]
  },
  {
   "cell_type": "markdown",
   "metadata": {},
   "source": [
    "### Подсчитайте величину TF-IDF для текстов"
   ]
  },
  {
   "cell_type": "markdown",
   "metadata": {},
   "source": [
    "Посчитаем в пайплайне"
   ]
  },
  {
   "cell_type": "markdown",
   "metadata": {},
   "source": [
    "Разделим данные на тренировочную и тестовую выборки, выделим на тест 10%, така как модель чувствительна к объему обучающих данных"
   ]
  },
  {
   "cell_type": "code",
   "execution_count": 14,
   "metadata": {},
   "outputs": [],
   "source": [
    "train, test = train_test_split(data, test_size=0.1, random_state=42)"
   ]
  },
  {
   "cell_type": "code",
   "execution_count": 15,
   "metadata": {},
   "outputs": [],
   "source": [
    "X_train = train['text']\n",
    "X_test = test['text']"
   ]
  },
  {
   "cell_type": "code",
   "execution_count": 16,
   "metadata": {},
   "outputs": [],
   "source": [
    "y_train = train['toxic']\n",
    "y_test = test['toxic']"
   ]
  },
  {
   "cell_type": "markdown",
   "metadata": {},
   "source": [
    "## Обучение"
   ]
  },
  {
   "cell_type": "markdown",
   "metadata": {},
   "source": [
    "Будем обучать две модели: LogisticRegression(), DecisionTreeClassifier()"
   ]
  },
  {
   "cell_type": "markdown",
   "metadata": {},
   "source": [
    "**LogisticRegression()**"
   ]
  },
  {
   "cell_type": "code",
   "execution_count": 17,
   "metadata": {},
   "outputs": [],
   "source": [
    "pipeline = Pipeline(\n",
    "    [\n",
    "        (\"vect\", TfidfVectorizer(stop_words=stop_words)),\n",
    "        (\"model\", LogisticRegression(solver='liblinear')),\n",
    "    ]\n",
    ")"
   ]
  },
  {
   "cell_type": "markdown",
   "metadata": {},
   "source": [
    "С помощью TF-IDF мы получили очень длинные разряженные векторы. При использовании линейной модели регуляризации возрастает из-за большого количества признаков. Ее необходимо ослабить, подбирая гиперпараметр С."
   ]
  },
  {
   "cell_type": "code",
   "execution_count": 18,
   "metadata": {},
   "outputs": [],
   "source": [
    "params_logistic = {'model__C': [1, 5],\n",
    "                  'vect__min_df': range(1, 3, 1)}"
   ]
  },
  {
   "cell_type": "code",
   "execution_count": 19,
   "metadata": {},
   "outputs": [],
   "source": [
    "logistic_grid_search = GridSearchCV(estimator=pipeline, param_grid=params_logistic, scoring='f1', n_jobs=-1)"
   ]
  },
  {
   "cell_type": "code",
   "execution_count": 20,
   "metadata": {},
   "outputs": [
    {
     "data": {
      "text/html": [
       "<style>#sk-container-id-1 {\n",
       "  /* Definition of color scheme common for light and dark mode */\n",
       "  --sklearn-color-text: #000;\n",
       "  --sklearn-color-text-muted: #666;\n",
       "  --sklearn-color-line: gray;\n",
       "  /* Definition of color scheme for unfitted estimators */\n",
       "  --sklearn-color-unfitted-level-0: #fff5e6;\n",
       "  --sklearn-color-unfitted-level-1: #f6e4d2;\n",
       "  --sklearn-color-unfitted-level-2: #ffe0b3;\n",
       "  --sklearn-color-unfitted-level-3: chocolate;\n",
       "  /* Definition of color scheme for fitted estimators */\n",
       "  --sklearn-color-fitted-level-0: #f0f8ff;\n",
       "  --sklearn-color-fitted-level-1: #d4ebff;\n",
       "  --sklearn-color-fitted-level-2: #b3dbfd;\n",
       "  --sklearn-color-fitted-level-3: cornflowerblue;\n",
       "\n",
       "  /* Specific color for light theme */\n",
       "  --sklearn-color-text-on-default-background: var(--sg-text-color, var(--theme-code-foreground, var(--jp-content-font-color1, black)));\n",
       "  --sklearn-color-background: var(--sg-background-color, var(--theme-background, var(--jp-layout-color0, white)));\n",
       "  --sklearn-color-border-box: var(--sg-text-color, var(--theme-code-foreground, var(--jp-content-font-color1, black)));\n",
       "  --sklearn-color-icon: #696969;\n",
       "\n",
       "  @media (prefers-color-scheme: dark) {\n",
       "    /* Redefinition of color scheme for dark theme */\n",
       "    --sklearn-color-text-on-default-background: var(--sg-text-color, var(--theme-code-foreground, var(--jp-content-font-color1, white)));\n",
       "    --sklearn-color-background: var(--sg-background-color, var(--theme-background, var(--jp-layout-color0, #111)));\n",
       "    --sklearn-color-border-box: var(--sg-text-color, var(--theme-code-foreground, var(--jp-content-font-color1, white)));\n",
       "    --sklearn-color-icon: #878787;\n",
       "  }\n",
       "}\n",
       "\n",
       "#sk-container-id-1 {\n",
       "  color: var(--sklearn-color-text);\n",
       "}\n",
       "\n",
       "#sk-container-id-1 pre {\n",
       "  padding: 0;\n",
       "}\n",
       "\n",
       "#sk-container-id-1 input.sk-hidden--visually {\n",
       "  border: 0;\n",
       "  clip: rect(1px 1px 1px 1px);\n",
       "  clip: rect(1px, 1px, 1px, 1px);\n",
       "  height: 1px;\n",
       "  margin: -1px;\n",
       "  overflow: hidden;\n",
       "  padding: 0;\n",
       "  position: absolute;\n",
       "  width: 1px;\n",
       "}\n",
       "\n",
       "#sk-container-id-1 div.sk-dashed-wrapped {\n",
       "  border: 1px dashed var(--sklearn-color-line);\n",
       "  margin: 0 0.4em 0.5em 0.4em;\n",
       "  box-sizing: border-box;\n",
       "  padding-bottom: 0.4em;\n",
       "  background-color: var(--sklearn-color-background);\n",
       "}\n",
       "\n",
       "#sk-container-id-1 div.sk-container {\n",
       "  /* jupyter's `normalize.less` sets `[hidden] { display: none; }`\n",
       "     but bootstrap.min.css set `[hidden] { display: none !important; }`\n",
       "     so we also need the `!important` here to be able to override the\n",
       "     default hidden behavior on the sphinx rendered scikit-learn.org.\n",
       "     See: https://github.com/scikit-learn/scikit-learn/issues/21755 */\n",
       "  display: inline-block !important;\n",
       "  position: relative;\n",
       "}\n",
       "\n",
       "#sk-container-id-1 div.sk-text-repr-fallback {\n",
       "  display: none;\n",
       "}\n",
       "\n",
       "div.sk-parallel-item,\n",
       "div.sk-serial,\n",
       "div.sk-item {\n",
       "  /* draw centered vertical line to link estimators */\n",
       "  background-image: linear-gradient(var(--sklearn-color-text-on-default-background), var(--sklearn-color-text-on-default-background));\n",
       "  background-size: 2px 100%;\n",
       "  background-repeat: no-repeat;\n",
       "  background-position: center center;\n",
       "}\n",
       "\n",
       "/* Parallel-specific style estimator block */\n",
       "\n",
       "#sk-container-id-1 div.sk-parallel-item::after {\n",
       "  content: \"\";\n",
       "  width: 100%;\n",
       "  border-bottom: 2px solid var(--sklearn-color-text-on-default-background);\n",
       "  flex-grow: 1;\n",
       "}\n",
       "\n",
       "#sk-container-id-1 div.sk-parallel {\n",
       "  display: flex;\n",
       "  align-items: stretch;\n",
       "  justify-content: center;\n",
       "  background-color: var(--sklearn-color-background);\n",
       "  position: relative;\n",
       "}\n",
       "\n",
       "#sk-container-id-1 div.sk-parallel-item {\n",
       "  display: flex;\n",
       "  flex-direction: column;\n",
       "}\n",
       "\n",
       "#sk-container-id-1 div.sk-parallel-item:first-child::after {\n",
       "  align-self: flex-end;\n",
       "  width: 50%;\n",
       "}\n",
       "\n",
       "#sk-container-id-1 div.sk-parallel-item:last-child::after {\n",
       "  align-self: flex-start;\n",
       "  width: 50%;\n",
       "}\n",
       "\n",
       "#sk-container-id-1 div.sk-parallel-item:only-child::after {\n",
       "  width: 0;\n",
       "}\n",
       "\n",
       "/* Serial-specific style estimator block */\n",
       "\n",
       "#sk-container-id-1 div.sk-serial {\n",
       "  display: flex;\n",
       "  flex-direction: column;\n",
       "  align-items: center;\n",
       "  background-color: var(--sklearn-color-background);\n",
       "  padding-right: 1em;\n",
       "  padding-left: 1em;\n",
       "}\n",
       "\n",
       "\n",
       "/* Toggleable style: style used for estimator/Pipeline/ColumnTransformer box that is\n",
       "clickable and can be expanded/collapsed.\n",
       "- Pipeline and ColumnTransformer use this feature and define the default style\n",
       "- Estimators will overwrite some part of the style using the `sk-estimator` class\n",
       "*/\n",
       "\n",
       "/* Pipeline and ColumnTransformer style (default) */\n",
       "\n",
       "#sk-container-id-1 div.sk-toggleable {\n",
       "  /* Default theme specific background. It is overwritten whether we have a\n",
       "  specific estimator or a Pipeline/ColumnTransformer */\n",
       "  background-color: var(--sklearn-color-background);\n",
       "}\n",
       "\n",
       "/* Toggleable label */\n",
       "#sk-container-id-1 label.sk-toggleable__label {\n",
       "  cursor: pointer;\n",
       "  display: flex;\n",
       "  width: 100%;\n",
       "  margin-bottom: 0;\n",
       "  padding: 0.5em;\n",
       "  box-sizing: border-box;\n",
       "  text-align: center;\n",
       "  align-items: start;\n",
       "  justify-content: space-between;\n",
       "  gap: 0.5em;\n",
       "}\n",
       "\n",
       "#sk-container-id-1 label.sk-toggleable__label .caption {\n",
       "  font-size: 0.6rem;\n",
       "  font-weight: lighter;\n",
       "  color: var(--sklearn-color-text-muted);\n",
       "}\n",
       "\n",
       "#sk-container-id-1 label.sk-toggleable__label-arrow:before {\n",
       "  /* Arrow on the left of the label */\n",
       "  content: \"▸\";\n",
       "  float: left;\n",
       "  margin-right: 0.25em;\n",
       "  color: var(--sklearn-color-icon);\n",
       "}\n",
       "\n",
       "#sk-container-id-1 label.sk-toggleable__label-arrow:hover:before {\n",
       "  color: var(--sklearn-color-text);\n",
       "}\n",
       "\n",
       "/* Toggleable content - dropdown */\n",
       "\n",
       "#sk-container-id-1 div.sk-toggleable__content {\n",
       "  max-height: 0;\n",
       "  max-width: 0;\n",
       "  overflow: hidden;\n",
       "  text-align: left;\n",
       "  /* unfitted */\n",
       "  background-color: var(--sklearn-color-unfitted-level-0);\n",
       "}\n",
       "\n",
       "#sk-container-id-1 div.sk-toggleable__content.fitted {\n",
       "  /* fitted */\n",
       "  background-color: var(--sklearn-color-fitted-level-0);\n",
       "}\n",
       "\n",
       "#sk-container-id-1 div.sk-toggleable__content pre {\n",
       "  margin: 0.2em;\n",
       "  border-radius: 0.25em;\n",
       "  color: var(--sklearn-color-text);\n",
       "  /* unfitted */\n",
       "  background-color: var(--sklearn-color-unfitted-level-0);\n",
       "}\n",
       "\n",
       "#sk-container-id-1 div.sk-toggleable__content.fitted pre {\n",
       "  /* unfitted */\n",
       "  background-color: var(--sklearn-color-fitted-level-0);\n",
       "}\n",
       "\n",
       "#sk-container-id-1 input.sk-toggleable__control:checked~div.sk-toggleable__content {\n",
       "  /* Expand drop-down */\n",
       "  max-height: 200px;\n",
       "  max-width: 100%;\n",
       "  overflow: auto;\n",
       "}\n",
       "\n",
       "#sk-container-id-1 input.sk-toggleable__control:checked~label.sk-toggleable__label-arrow:before {\n",
       "  content: \"▾\";\n",
       "}\n",
       "\n",
       "/* Pipeline/ColumnTransformer-specific style */\n",
       "\n",
       "#sk-container-id-1 div.sk-label input.sk-toggleable__control:checked~label.sk-toggleable__label {\n",
       "  color: var(--sklearn-color-text);\n",
       "  background-color: var(--sklearn-color-unfitted-level-2);\n",
       "}\n",
       "\n",
       "#sk-container-id-1 div.sk-label.fitted input.sk-toggleable__control:checked~label.sk-toggleable__label {\n",
       "  background-color: var(--sklearn-color-fitted-level-2);\n",
       "}\n",
       "\n",
       "/* Estimator-specific style */\n",
       "\n",
       "/* Colorize estimator box */\n",
       "#sk-container-id-1 div.sk-estimator input.sk-toggleable__control:checked~label.sk-toggleable__label {\n",
       "  /* unfitted */\n",
       "  background-color: var(--sklearn-color-unfitted-level-2);\n",
       "}\n",
       "\n",
       "#sk-container-id-1 div.sk-estimator.fitted input.sk-toggleable__control:checked~label.sk-toggleable__label {\n",
       "  /* fitted */\n",
       "  background-color: var(--sklearn-color-fitted-level-2);\n",
       "}\n",
       "\n",
       "#sk-container-id-1 div.sk-label label.sk-toggleable__label,\n",
       "#sk-container-id-1 div.sk-label label {\n",
       "  /* The background is the default theme color */\n",
       "  color: var(--sklearn-color-text-on-default-background);\n",
       "}\n",
       "\n",
       "/* On hover, darken the color of the background */\n",
       "#sk-container-id-1 div.sk-label:hover label.sk-toggleable__label {\n",
       "  color: var(--sklearn-color-text);\n",
       "  background-color: var(--sklearn-color-unfitted-level-2);\n",
       "}\n",
       "\n",
       "/* Label box, darken color on hover, fitted */\n",
       "#sk-container-id-1 div.sk-label.fitted:hover label.sk-toggleable__label.fitted {\n",
       "  color: var(--sklearn-color-text);\n",
       "  background-color: var(--sklearn-color-fitted-level-2);\n",
       "}\n",
       "\n",
       "/* Estimator label */\n",
       "\n",
       "#sk-container-id-1 div.sk-label label {\n",
       "  font-family: monospace;\n",
       "  font-weight: bold;\n",
       "  display: inline-block;\n",
       "  line-height: 1.2em;\n",
       "}\n",
       "\n",
       "#sk-container-id-1 div.sk-label-container {\n",
       "  text-align: center;\n",
       "}\n",
       "\n",
       "/* Estimator-specific */\n",
       "#sk-container-id-1 div.sk-estimator {\n",
       "  font-family: monospace;\n",
       "  border: 1px dotted var(--sklearn-color-border-box);\n",
       "  border-radius: 0.25em;\n",
       "  box-sizing: border-box;\n",
       "  margin-bottom: 0.5em;\n",
       "  /* unfitted */\n",
       "  background-color: var(--sklearn-color-unfitted-level-0);\n",
       "}\n",
       "\n",
       "#sk-container-id-1 div.sk-estimator.fitted {\n",
       "  /* fitted */\n",
       "  background-color: var(--sklearn-color-fitted-level-0);\n",
       "}\n",
       "\n",
       "/* on hover */\n",
       "#sk-container-id-1 div.sk-estimator:hover {\n",
       "  /* unfitted */\n",
       "  background-color: var(--sklearn-color-unfitted-level-2);\n",
       "}\n",
       "\n",
       "#sk-container-id-1 div.sk-estimator.fitted:hover {\n",
       "  /* fitted */\n",
       "  background-color: var(--sklearn-color-fitted-level-2);\n",
       "}\n",
       "\n",
       "/* Specification for estimator info (e.g. \"i\" and \"?\") */\n",
       "\n",
       "/* Common style for \"i\" and \"?\" */\n",
       "\n",
       ".sk-estimator-doc-link,\n",
       "a:link.sk-estimator-doc-link,\n",
       "a:visited.sk-estimator-doc-link {\n",
       "  float: right;\n",
       "  font-size: smaller;\n",
       "  line-height: 1em;\n",
       "  font-family: monospace;\n",
       "  background-color: var(--sklearn-color-background);\n",
       "  border-radius: 1em;\n",
       "  height: 1em;\n",
       "  width: 1em;\n",
       "  text-decoration: none !important;\n",
       "  margin-left: 0.5em;\n",
       "  text-align: center;\n",
       "  /* unfitted */\n",
       "  border: var(--sklearn-color-unfitted-level-1) 1pt solid;\n",
       "  color: var(--sklearn-color-unfitted-level-1);\n",
       "}\n",
       "\n",
       ".sk-estimator-doc-link.fitted,\n",
       "a:link.sk-estimator-doc-link.fitted,\n",
       "a:visited.sk-estimator-doc-link.fitted {\n",
       "  /* fitted */\n",
       "  border: var(--sklearn-color-fitted-level-1) 1pt solid;\n",
       "  color: var(--sklearn-color-fitted-level-1);\n",
       "}\n",
       "\n",
       "/* On hover */\n",
       "div.sk-estimator:hover .sk-estimator-doc-link:hover,\n",
       ".sk-estimator-doc-link:hover,\n",
       "div.sk-label-container:hover .sk-estimator-doc-link:hover,\n",
       ".sk-estimator-doc-link:hover {\n",
       "  /* unfitted */\n",
       "  background-color: var(--sklearn-color-unfitted-level-3);\n",
       "  color: var(--sklearn-color-background);\n",
       "  text-decoration: none;\n",
       "}\n",
       "\n",
       "div.sk-estimator.fitted:hover .sk-estimator-doc-link.fitted:hover,\n",
       ".sk-estimator-doc-link.fitted:hover,\n",
       "div.sk-label-container:hover .sk-estimator-doc-link.fitted:hover,\n",
       ".sk-estimator-doc-link.fitted:hover {\n",
       "  /* fitted */\n",
       "  background-color: var(--sklearn-color-fitted-level-3);\n",
       "  color: var(--sklearn-color-background);\n",
       "  text-decoration: none;\n",
       "}\n",
       "\n",
       "/* Span, style for the box shown on hovering the info icon */\n",
       ".sk-estimator-doc-link span {\n",
       "  display: none;\n",
       "  z-index: 9999;\n",
       "  position: relative;\n",
       "  font-weight: normal;\n",
       "  right: .2ex;\n",
       "  padding: .5ex;\n",
       "  margin: .5ex;\n",
       "  width: min-content;\n",
       "  min-width: 20ex;\n",
       "  max-width: 50ex;\n",
       "  color: var(--sklearn-color-text);\n",
       "  box-shadow: 2pt 2pt 4pt #999;\n",
       "  /* unfitted */\n",
       "  background: var(--sklearn-color-unfitted-level-0);\n",
       "  border: .5pt solid var(--sklearn-color-unfitted-level-3);\n",
       "}\n",
       "\n",
       ".sk-estimator-doc-link.fitted span {\n",
       "  /* fitted */\n",
       "  background: var(--sklearn-color-fitted-level-0);\n",
       "  border: var(--sklearn-color-fitted-level-3);\n",
       "}\n",
       "\n",
       ".sk-estimator-doc-link:hover span {\n",
       "  display: block;\n",
       "}\n",
       "\n",
       "/* \"?\"-specific style due to the `<a>` HTML tag */\n",
       "\n",
       "#sk-container-id-1 a.estimator_doc_link {\n",
       "  float: right;\n",
       "  font-size: 1rem;\n",
       "  line-height: 1em;\n",
       "  font-family: monospace;\n",
       "  background-color: var(--sklearn-color-background);\n",
       "  border-radius: 1rem;\n",
       "  height: 1rem;\n",
       "  width: 1rem;\n",
       "  text-decoration: none;\n",
       "  /* unfitted */\n",
       "  color: var(--sklearn-color-unfitted-level-1);\n",
       "  border: var(--sklearn-color-unfitted-level-1) 1pt solid;\n",
       "}\n",
       "\n",
       "#sk-container-id-1 a.estimator_doc_link.fitted {\n",
       "  /* fitted */\n",
       "  border: var(--sklearn-color-fitted-level-1) 1pt solid;\n",
       "  color: var(--sklearn-color-fitted-level-1);\n",
       "}\n",
       "\n",
       "/* On hover */\n",
       "#sk-container-id-1 a.estimator_doc_link:hover {\n",
       "  /* unfitted */\n",
       "  background-color: var(--sklearn-color-unfitted-level-3);\n",
       "  color: var(--sklearn-color-background);\n",
       "  text-decoration: none;\n",
       "}\n",
       "\n",
       "#sk-container-id-1 a.estimator_doc_link.fitted:hover {\n",
       "  /* fitted */\n",
       "  background-color: var(--sklearn-color-fitted-level-3);\n",
       "}\n",
       "</style><div id=\"sk-container-id-1\" class=\"sk-top-container\"><div class=\"sk-text-repr-fallback\"><pre>GridSearchCV(estimator=Pipeline(steps=[(&#x27;vect&#x27;,\n",
       "                                        TfidfVectorizer(stop_words=[&quot;hasn&#x27;t&quot;,\n",
       "                                                                    &#x27;herself&#x27;,\n",
       "                                                                    &#x27;so&#x27;,\n",
       "                                                                    &#x27;because&#x27;,\n",
       "                                                                    &#x27;again&#x27;,\n",
       "                                                                    &#x27;couldn&#x27;,\n",
       "                                                                    &#x27;into&#x27;,\n",
       "                                                                    &#x27;you&#x27;,\n",
       "                                                                    &#x27;our&#x27;,\n",
       "                                                                    &#x27;yourselves&#x27;,\n",
       "                                                                    &#x27;we&#x27;,\n",
       "                                                                    &#x27;doing&#x27;,\n",
       "                                                                    &#x27;above&#x27;,\n",
       "                                                                    &#x27;hers&#x27;,\n",
       "                                                                    &#x27;will&#x27;,\n",
       "                                                                    &quot;couldn&#x27;t&quot;,\n",
       "                                                                    &#x27;but&#x27;, &#x27;by&#x27;,\n",
       "                                                                    &#x27;not&#x27;, &#x27;d&#x27;,\n",
       "                                                                    &#x27;did&#x27;,\n",
       "                                                                    &#x27;his&#x27;,\n",
       "                                                                    &#x27;until&#x27;,\n",
       "                                                                    &quot;mustn&#x27;t&quot;,\n",
       "                                                                    &quot;shouldn&#x27;t&quot;,\n",
       "                                                                    &#x27;too&#x27;,\n",
       "                                                                    &#x27;they&#x27;, &#x27;t&#x27;,\n",
       "                                                                    &#x27;about&#x27;,\n",
       "                                                                    &#x27;such&#x27;, ...])),\n",
       "                                       (&#x27;model&#x27;,\n",
       "                                        LogisticRegression(solver=&#x27;liblinear&#x27;))]),\n",
       "             n_jobs=-1,\n",
       "             param_grid={&#x27;model__C&#x27;: [1, 5], &#x27;vect__min_df&#x27;: range(1, 3)},\n",
       "             scoring=&#x27;f1&#x27;)</pre><b>In a Jupyter environment, please rerun this cell to show the HTML representation or trust the notebook. <br />On GitHub, the HTML representation is unable to render, please try loading this page with nbviewer.org.</b></div><div class=\"sk-container\" hidden><div class=\"sk-item sk-dashed-wrapped\"><div class=\"sk-label-container\"><div class=\"sk-label fitted sk-toggleable\"><input class=\"sk-toggleable__control sk-hidden--visually\" id=\"sk-estimator-id-1\" type=\"checkbox\" ><label for=\"sk-estimator-id-1\" class=\"sk-toggleable__label fitted sk-toggleable__label-arrow\"><div><div>GridSearchCV</div></div><div><a class=\"sk-estimator-doc-link fitted\" rel=\"noreferrer\" target=\"_blank\" href=\"https://scikit-learn.org/1.6/modules/generated/sklearn.model_selection.GridSearchCV.html\">?<span>Documentation for GridSearchCV</span></a><span class=\"sk-estimator-doc-link fitted\">i<span>Fitted</span></span></div></label><div class=\"sk-toggleable__content fitted\"><pre>GridSearchCV(estimator=Pipeline(steps=[(&#x27;vect&#x27;,\n",
       "                                        TfidfVectorizer(stop_words=[&quot;hasn&#x27;t&quot;,\n",
       "                                                                    &#x27;herself&#x27;,\n",
       "                                                                    &#x27;so&#x27;,\n",
       "                                                                    &#x27;because&#x27;,\n",
       "                                                                    &#x27;again&#x27;,\n",
       "                                                                    &#x27;couldn&#x27;,\n",
       "                                                                    &#x27;into&#x27;,\n",
       "                                                                    &#x27;you&#x27;,\n",
       "                                                                    &#x27;our&#x27;,\n",
       "                                                                    &#x27;yourselves&#x27;,\n",
       "                                                                    &#x27;we&#x27;,\n",
       "                                                                    &#x27;doing&#x27;,\n",
       "                                                                    &#x27;above&#x27;,\n",
       "                                                                    &#x27;hers&#x27;,\n",
       "                                                                    &#x27;will&#x27;,\n",
       "                                                                    &quot;couldn&#x27;t&quot;,\n",
       "                                                                    &#x27;but&#x27;, &#x27;by&#x27;,\n",
       "                                                                    &#x27;not&#x27;, &#x27;d&#x27;,\n",
       "                                                                    &#x27;did&#x27;,\n",
       "                                                                    &#x27;his&#x27;,\n",
       "                                                                    &#x27;until&#x27;,\n",
       "                                                                    &quot;mustn&#x27;t&quot;,\n",
       "                                                                    &quot;shouldn&#x27;t&quot;,\n",
       "                                                                    &#x27;too&#x27;,\n",
       "                                                                    &#x27;they&#x27;, &#x27;t&#x27;,\n",
       "                                                                    &#x27;about&#x27;,\n",
       "                                                                    &#x27;such&#x27;, ...])),\n",
       "                                       (&#x27;model&#x27;,\n",
       "                                        LogisticRegression(solver=&#x27;liblinear&#x27;))]),\n",
       "             n_jobs=-1,\n",
       "             param_grid={&#x27;model__C&#x27;: [1, 5], &#x27;vect__min_df&#x27;: range(1, 3)},\n",
       "             scoring=&#x27;f1&#x27;)</pre></div> </div></div><div class=\"sk-parallel\"><div class=\"sk-parallel-item\"><div class=\"sk-item\"><div class=\"sk-label-container\"><div class=\"sk-label fitted sk-toggleable\"><input class=\"sk-toggleable__control sk-hidden--visually\" id=\"sk-estimator-id-2\" type=\"checkbox\" ><label for=\"sk-estimator-id-2\" class=\"sk-toggleable__label fitted sk-toggleable__label-arrow\"><div><div>best_estimator_: Pipeline</div></div></label><div class=\"sk-toggleable__content fitted\"><pre>Pipeline(steps=[(&#x27;vect&#x27;,\n",
       "                 TfidfVectorizer(min_df=2,\n",
       "                                 stop_words=[&quot;hasn&#x27;t&quot;, &#x27;herself&#x27;, &#x27;so&#x27;,\n",
       "                                             &#x27;because&#x27;, &#x27;again&#x27;, &#x27;couldn&#x27;,\n",
       "                                             &#x27;into&#x27;, &#x27;you&#x27;, &#x27;our&#x27;, &#x27;yourselves&#x27;,\n",
       "                                             &#x27;we&#x27;, &#x27;doing&#x27;, &#x27;above&#x27;, &#x27;hers&#x27;,\n",
       "                                             &#x27;will&#x27;, &quot;couldn&#x27;t&quot;, &#x27;but&#x27;, &#x27;by&#x27;,\n",
       "                                             &#x27;not&#x27;, &#x27;d&#x27;, &#x27;did&#x27;, &#x27;his&#x27;, &#x27;until&#x27;,\n",
       "                                             &quot;mustn&#x27;t&quot;, &quot;shouldn&#x27;t&quot;, &#x27;too&#x27;,\n",
       "                                             &#x27;they&#x27;, &#x27;t&#x27;, &#x27;about&#x27;, &#x27;such&#x27;, ...])),\n",
       "                (&#x27;model&#x27;, LogisticRegression(C=5, solver=&#x27;liblinear&#x27;))])</pre></div> </div></div><div class=\"sk-serial\"><div class=\"sk-item\"><div class=\"sk-serial\"><div class=\"sk-item\"><div class=\"sk-estimator fitted sk-toggleable\"><input class=\"sk-toggleable__control sk-hidden--visually\" id=\"sk-estimator-id-3\" type=\"checkbox\" ><label for=\"sk-estimator-id-3\" class=\"sk-toggleable__label fitted sk-toggleable__label-arrow\"><div><div>TfidfVectorizer</div></div><div><a class=\"sk-estimator-doc-link fitted\" rel=\"noreferrer\" target=\"_blank\" href=\"https://scikit-learn.org/1.6/modules/generated/sklearn.feature_extraction.text.TfidfVectorizer.html\">?<span>Documentation for TfidfVectorizer</span></a></div></label><div class=\"sk-toggleable__content fitted\"><pre>TfidfVectorizer(min_df=2,\n",
       "                stop_words=[&quot;hasn&#x27;t&quot;, &#x27;herself&#x27;, &#x27;so&#x27;, &#x27;because&#x27;, &#x27;again&#x27;,\n",
       "                            &#x27;couldn&#x27;, &#x27;into&#x27;, &#x27;you&#x27;, &#x27;our&#x27;, &#x27;yourselves&#x27;, &#x27;we&#x27;,\n",
       "                            &#x27;doing&#x27;, &#x27;above&#x27;, &#x27;hers&#x27;, &#x27;will&#x27;, &quot;couldn&#x27;t&quot;, &#x27;but&#x27;,\n",
       "                            &#x27;by&#x27;, &#x27;not&#x27;, &#x27;d&#x27;, &#x27;did&#x27;, &#x27;his&#x27;, &#x27;until&#x27;, &quot;mustn&#x27;t&quot;,\n",
       "                            &quot;shouldn&#x27;t&quot;, &#x27;too&#x27;, &#x27;they&#x27;, &#x27;t&#x27;, &#x27;about&#x27;, &#x27;such&#x27;, ...])</pre></div> </div></div><div class=\"sk-item\"><div class=\"sk-estimator fitted sk-toggleable\"><input class=\"sk-toggleable__control sk-hidden--visually\" id=\"sk-estimator-id-4\" type=\"checkbox\" ><label for=\"sk-estimator-id-4\" class=\"sk-toggleable__label fitted sk-toggleable__label-arrow\"><div><div>LogisticRegression</div></div><div><a class=\"sk-estimator-doc-link fitted\" rel=\"noreferrer\" target=\"_blank\" href=\"https://scikit-learn.org/1.6/modules/generated/sklearn.linear_model.LogisticRegression.html\">?<span>Documentation for LogisticRegression</span></a></div></label><div class=\"sk-toggleable__content fitted\"><pre>LogisticRegression(C=5, solver=&#x27;liblinear&#x27;)</pre></div> </div></div></div></div></div></div></div></div></div></div></div>"
      ],
      "text/plain": [
       "GridSearchCV(estimator=Pipeline(steps=[('vect',\n",
       "                                        TfidfVectorizer(stop_words=[\"hasn't\",\n",
       "                                                                    'herself',\n",
       "                                                                    'so',\n",
       "                                                                    'because',\n",
       "                                                                    'again',\n",
       "                                                                    'couldn',\n",
       "                                                                    'into',\n",
       "                                                                    'you',\n",
       "                                                                    'our',\n",
       "                                                                    'yourselves',\n",
       "                                                                    'we',\n",
       "                                                                    'doing',\n",
       "                                                                    'above',\n",
       "                                                                    'hers',\n",
       "                                                                    'will',\n",
       "                                                                    \"couldn't\",\n",
       "                                                                    'but', 'by',\n",
       "                                                                    'not', 'd',\n",
       "                                                                    'did',\n",
       "                                                                    'his',\n",
       "                                                                    'until',\n",
       "                                                                    \"mustn't\",\n",
       "                                                                    \"shouldn't\",\n",
       "                                                                    'too',\n",
       "                                                                    'they', 't',\n",
       "                                                                    'about',\n",
       "                                                                    'such', ...])),\n",
       "                                       ('model',\n",
       "                                        LogisticRegression(solver='liblinear'))]),\n",
       "             n_jobs=-1,\n",
       "             param_grid={'model__C': [1, 5], 'vect__min_df': range(1, 3)},\n",
       "             scoring='f1')"
      ]
     },
     "execution_count": 20,
     "metadata": {},
     "output_type": "execute_result"
    }
   ],
   "source": [
    "logistic_grid_search.fit(X_train, y_train)"
   ]
  },
  {
   "cell_type": "code",
   "execution_count": 21,
   "metadata": {},
   "outputs": [
    {
     "data": {
      "text/plain": [
       "{'model__C': 5, 'vect__min_df': 2}"
      ]
     },
     "execution_count": 21,
     "metadata": {},
     "output_type": "execute_result"
    }
   ],
   "source": [
    "logistic_grid_search.best_params_"
   ]
  },
  {
   "cell_type": "code",
   "execution_count": 22,
   "metadata": {},
   "outputs": [
    {
     "data": {
      "text/plain": [
       "0.7687518672442702"
      ]
     },
     "execution_count": 22,
     "metadata": {},
     "output_type": "execute_result"
    }
   ],
   "source": [
    "logistic_grid_search.best_score_"
   ]
  },
  {
   "cell_type": "code",
   "execution_count": 23,
   "metadata": {},
   "outputs": [
    {
     "data": {
      "text/html": [
       "<style>#sk-container-id-2 {\n",
       "  /* Definition of color scheme common for light and dark mode */\n",
       "  --sklearn-color-text: #000;\n",
       "  --sklearn-color-text-muted: #666;\n",
       "  --sklearn-color-line: gray;\n",
       "  /* Definition of color scheme for unfitted estimators */\n",
       "  --sklearn-color-unfitted-level-0: #fff5e6;\n",
       "  --sklearn-color-unfitted-level-1: #f6e4d2;\n",
       "  --sklearn-color-unfitted-level-2: #ffe0b3;\n",
       "  --sklearn-color-unfitted-level-3: chocolate;\n",
       "  /* Definition of color scheme for fitted estimators */\n",
       "  --sklearn-color-fitted-level-0: #f0f8ff;\n",
       "  --sklearn-color-fitted-level-1: #d4ebff;\n",
       "  --sklearn-color-fitted-level-2: #b3dbfd;\n",
       "  --sklearn-color-fitted-level-3: cornflowerblue;\n",
       "\n",
       "  /* Specific color for light theme */\n",
       "  --sklearn-color-text-on-default-background: var(--sg-text-color, var(--theme-code-foreground, var(--jp-content-font-color1, black)));\n",
       "  --sklearn-color-background: var(--sg-background-color, var(--theme-background, var(--jp-layout-color0, white)));\n",
       "  --sklearn-color-border-box: var(--sg-text-color, var(--theme-code-foreground, var(--jp-content-font-color1, black)));\n",
       "  --sklearn-color-icon: #696969;\n",
       "\n",
       "  @media (prefers-color-scheme: dark) {\n",
       "    /* Redefinition of color scheme for dark theme */\n",
       "    --sklearn-color-text-on-default-background: var(--sg-text-color, var(--theme-code-foreground, var(--jp-content-font-color1, white)));\n",
       "    --sklearn-color-background: var(--sg-background-color, var(--theme-background, var(--jp-layout-color0, #111)));\n",
       "    --sklearn-color-border-box: var(--sg-text-color, var(--theme-code-foreground, var(--jp-content-font-color1, white)));\n",
       "    --sklearn-color-icon: #878787;\n",
       "  }\n",
       "}\n",
       "\n",
       "#sk-container-id-2 {\n",
       "  color: var(--sklearn-color-text);\n",
       "}\n",
       "\n",
       "#sk-container-id-2 pre {\n",
       "  padding: 0;\n",
       "}\n",
       "\n",
       "#sk-container-id-2 input.sk-hidden--visually {\n",
       "  border: 0;\n",
       "  clip: rect(1px 1px 1px 1px);\n",
       "  clip: rect(1px, 1px, 1px, 1px);\n",
       "  height: 1px;\n",
       "  margin: -1px;\n",
       "  overflow: hidden;\n",
       "  padding: 0;\n",
       "  position: absolute;\n",
       "  width: 1px;\n",
       "}\n",
       "\n",
       "#sk-container-id-2 div.sk-dashed-wrapped {\n",
       "  border: 1px dashed var(--sklearn-color-line);\n",
       "  margin: 0 0.4em 0.5em 0.4em;\n",
       "  box-sizing: border-box;\n",
       "  padding-bottom: 0.4em;\n",
       "  background-color: var(--sklearn-color-background);\n",
       "}\n",
       "\n",
       "#sk-container-id-2 div.sk-container {\n",
       "  /* jupyter's `normalize.less` sets `[hidden] { display: none; }`\n",
       "     but bootstrap.min.css set `[hidden] { display: none !important; }`\n",
       "     so we also need the `!important` here to be able to override the\n",
       "     default hidden behavior on the sphinx rendered scikit-learn.org.\n",
       "     See: https://github.com/scikit-learn/scikit-learn/issues/21755 */\n",
       "  display: inline-block !important;\n",
       "  position: relative;\n",
       "}\n",
       "\n",
       "#sk-container-id-2 div.sk-text-repr-fallback {\n",
       "  display: none;\n",
       "}\n",
       "\n",
       "div.sk-parallel-item,\n",
       "div.sk-serial,\n",
       "div.sk-item {\n",
       "  /* draw centered vertical line to link estimators */\n",
       "  background-image: linear-gradient(var(--sklearn-color-text-on-default-background), var(--sklearn-color-text-on-default-background));\n",
       "  background-size: 2px 100%;\n",
       "  background-repeat: no-repeat;\n",
       "  background-position: center center;\n",
       "}\n",
       "\n",
       "/* Parallel-specific style estimator block */\n",
       "\n",
       "#sk-container-id-2 div.sk-parallel-item::after {\n",
       "  content: \"\";\n",
       "  width: 100%;\n",
       "  border-bottom: 2px solid var(--sklearn-color-text-on-default-background);\n",
       "  flex-grow: 1;\n",
       "}\n",
       "\n",
       "#sk-container-id-2 div.sk-parallel {\n",
       "  display: flex;\n",
       "  align-items: stretch;\n",
       "  justify-content: center;\n",
       "  background-color: var(--sklearn-color-background);\n",
       "  position: relative;\n",
       "}\n",
       "\n",
       "#sk-container-id-2 div.sk-parallel-item {\n",
       "  display: flex;\n",
       "  flex-direction: column;\n",
       "}\n",
       "\n",
       "#sk-container-id-2 div.sk-parallel-item:first-child::after {\n",
       "  align-self: flex-end;\n",
       "  width: 50%;\n",
       "}\n",
       "\n",
       "#sk-container-id-2 div.sk-parallel-item:last-child::after {\n",
       "  align-self: flex-start;\n",
       "  width: 50%;\n",
       "}\n",
       "\n",
       "#sk-container-id-2 div.sk-parallel-item:only-child::after {\n",
       "  width: 0;\n",
       "}\n",
       "\n",
       "/* Serial-specific style estimator block */\n",
       "\n",
       "#sk-container-id-2 div.sk-serial {\n",
       "  display: flex;\n",
       "  flex-direction: column;\n",
       "  align-items: center;\n",
       "  background-color: var(--sklearn-color-background);\n",
       "  padding-right: 1em;\n",
       "  padding-left: 1em;\n",
       "}\n",
       "\n",
       "\n",
       "/* Toggleable style: style used for estimator/Pipeline/ColumnTransformer box that is\n",
       "clickable and can be expanded/collapsed.\n",
       "- Pipeline and ColumnTransformer use this feature and define the default style\n",
       "- Estimators will overwrite some part of the style using the `sk-estimator` class\n",
       "*/\n",
       "\n",
       "/* Pipeline and ColumnTransformer style (default) */\n",
       "\n",
       "#sk-container-id-2 div.sk-toggleable {\n",
       "  /* Default theme specific background. It is overwritten whether we have a\n",
       "  specific estimator or a Pipeline/ColumnTransformer */\n",
       "  background-color: var(--sklearn-color-background);\n",
       "}\n",
       "\n",
       "/* Toggleable label */\n",
       "#sk-container-id-2 label.sk-toggleable__label {\n",
       "  cursor: pointer;\n",
       "  display: flex;\n",
       "  width: 100%;\n",
       "  margin-bottom: 0;\n",
       "  padding: 0.5em;\n",
       "  box-sizing: border-box;\n",
       "  text-align: center;\n",
       "  align-items: start;\n",
       "  justify-content: space-between;\n",
       "  gap: 0.5em;\n",
       "}\n",
       "\n",
       "#sk-container-id-2 label.sk-toggleable__label .caption {\n",
       "  font-size: 0.6rem;\n",
       "  font-weight: lighter;\n",
       "  color: var(--sklearn-color-text-muted);\n",
       "}\n",
       "\n",
       "#sk-container-id-2 label.sk-toggleable__label-arrow:before {\n",
       "  /* Arrow on the left of the label */\n",
       "  content: \"▸\";\n",
       "  float: left;\n",
       "  margin-right: 0.25em;\n",
       "  color: var(--sklearn-color-icon);\n",
       "}\n",
       "\n",
       "#sk-container-id-2 label.sk-toggleable__label-arrow:hover:before {\n",
       "  color: var(--sklearn-color-text);\n",
       "}\n",
       "\n",
       "/* Toggleable content - dropdown */\n",
       "\n",
       "#sk-container-id-2 div.sk-toggleable__content {\n",
       "  max-height: 0;\n",
       "  max-width: 0;\n",
       "  overflow: hidden;\n",
       "  text-align: left;\n",
       "  /* unfitted */\n",
       "  background-color: var(--sklearn-color-unfitted-level-0);\n",
       "}\n",
       "\n",
       "#sk-container-id-2 div.sk-toggleable__content.fitted {\n",
       "  /* fitted */\n",
       "  background-color: var(--sklearn-color-fitted-level-0);\n",
       "}\n",
       "\n",
       "#sk-container-id-2 div.sk-toggleable__content pre {\n",
       "  margin: 0.2em;\n",
       "  border-radius: 0.25em;\n",
       "  color: var(--sklearn-color-text);\n",
       "  /* unfitted */\n",
       "  background-color: var(--sklearn-color-unfitted-level-0);\n",
       "}\n",
       "\n",
       "#sk-container-id-2 div.sk-toggleable__content.fitted pre {\n",
       "  /* unfitted */\n",
       "  background-color: var(--sklearn-color-fitted-level-0);\n",
       "}\n",
       "\n",
       "#sk-container-id-2 input.sk-toggleable__control:checked~div.sk-toggleable__content {\n",
       "  /* Expand drop-down */\n",
       "  max-height: 200px;\n",
       "  max-width: 100%;\n",
       "  overflow: auto;\n",
       "}\n",
       "\n",
       "#sk-container-id-2 input.sk-toggleable__control:checked~label.sk-toggleable__label-arrow:before {\n",
       "  content: \"▾\";\n",
       "}\n",
       "\n",
       "/* Pipeline/ColumnTransformer-specific style */\n",
       "\n",
       "#sk-container-id-2 div.sk-label input.sk-toggleable__control:checked~label.sk-toggleable__label {\n",
       "  color: var(--sklearn-color-text);\n",
       "  background-color: var(--sklearn-color-unfitted-level-2);\n",
       "}\n",
       "\n",
       "#sk-container-id-2 div.sk-label.fitted input.sk-toggleable__control:checked~label.sk-toggleable__label {\n",
       "  background-color: var(--sklearn-color-fitted-level-2);\n",
       "}\n",
       "\n",
       "/* Estimator-specific style */\n",
       "\n",
       "/* Colorize estimator box */\n",
       "#sk-container-id-2 div.sk-estimator input.sk-toggleable__control:checked~label.sk-toggleable__label {\n",
       "  /* unfitted */\n",
       "  background-color: var(--sklearn-color-unfitted-level-2);\n",
       "}\n",
       "\n",
       "#sk-container-id-2 div.sk-estimator.fitted input.sk-toggleable__control:checked~label.sk-toggleable__label {\n",
       "  /* fitted */\n",
       "  background-color: var(--sklearn-color-fitted-level-2);\n",
       "}\n",
       "\n",
       "#sk-container-id-2 div.sk-label label.sk-toggleable__label,\n",
       "#sk-container-id-2 div.sk-label label {\n",
       "  /* The background is the default theme color */\n",
       "  color: var(--sklearn-color-text-on-default-background);\n",
       "}\n",
       "\n",
       "/* On hover, darken the color of the background */\n",
       "#sk-container-id-2 div.sk-label:hover label.sk-toggleable__label {\n",
       "  color: var(--sklearn-color-text);\n",
       "  background-color: var(--sklearn-color-unfitted-level-2);\n",
       "}\n",
       "\n",
       "/* Label box, darken color on hover, fitted */\n",
       "#sk-container-id-2 div.sk-label.fitted:hover label.sk-toggleable__label.fitted {\n",
       "  color: var(--sklearn-color-text);\n",
       "  background-color: var(--sklearn-color-fitted-level-2);\n",
       "}\n",
       "\n",
       "/* Estimator label */\n",
       "\n",
       "#sk-container-id-2 div.sk-label label {\n",
       "  font-family: monospace;\n",
       "  font-weight: bold;\n",
       "  display: inline-block;\n",
       "  line-height: 1.2em;\n",
       "}\n",
       "\n",
       "#sk-container-id-2 div.sk-label-container {\n",
       "  text-align: center;\n",
       "}\n",
       "\n",
       "/* Estimator-specific */\n",
       "#sk-container-id-2 div.sk-estimator {\n",
       "  font-family: monospace;\n",
       "  border: 1px dotted var(--sklearn-color-border-box);\n",
       "  border-radius: 0.25em;\n",
       "  box-sizing: border-box;\n",
       "  margin-bottom: 0.5em;\n",
       "  /* unfitted */\n",
       "  background-color: var(--sklearn-color-unfitted-level-0);\n",
       "}\n",
       "\n",
       "#sk-container-id-2 div.sk-estimator.fitted {\n",
       "  /* fitted */\n",
       "  background-color: var(--sklearn-color-fitted-level-0);\n",
       "}\n",
       "\n",
       "/* on hover */\n",
       "#sk-container-id-2 div.sk-estimator:hover {\n",
       "  /* unfitted */\n",
       "  background-color: var(--sklearn-color-unfitted-level-2);\n",
       "}\n",
       "\n",
       "#sk-container-id-2 div.sk-estimator.fitted:hover {\n",
       "  /* fitted */\n",
       "  background-color: var(--sklearn-color-fitted-level-2);\n",
       "}\n",
       "\n",
       "/* Specification for estimator info (e.g. \"i\" and \"?\") */\n",
       "\n",
       "/* Common style for \"i\" and \"?\" */\n",
       "\n",
       ".sk-estimator-doc-link,\n",
       "a:link.sk-estimator-doc-link,\n",
       "a:visited.sk-estimator-doc-link {\n",
       "  float: right;\n",
       "  font-size: smaller;\n",
       "  line-height: 1em;\n",
       "  font-family: monospace;\n",
       "  background-color: var(--sklearn-color-background);\n",
       "  border-radius: 1em;\n",
       "  height: 1em;\n",
       "  width: 1em;\n",
       "  text-decoration: none !important;\n",
       "  margin-left: 0.5em;\n",
       "  text-align: center;\n",
       "  /* unfitted */\n",
       "  border: var(--sklearn-color-unfitted-level-1) 1pt solid;\n",
       "  color: var(--sklearn-color-unfitted-level-1);\n",
       "}\n",
       "\n",
       ".sk-estimator-doc-link.fitted,\n",
       "a:link.sk-estimator-doc-link.fitted,\n",
       "a:visited.sk-estimator-doc-link.fitted {\n",
       "  /* fitted */\n",
       "  border: var(--sklearn-color-fitted-level-1) 1pt solid;\n",
       "  color: var(--sklearn-color-fitted-level-1);\n",
       "}\n",
       "\n",
       "/* On hover */\n",
       "div.sk-estimator:hover .sk-estimator-doc-link:hover,\n",
       ".sk-estimator-doc-link:hover,\n",
       "div.sk-label-container:hover .sk-estimator-doc-link:hover,\n",
       ".sk-estimator-doc-link:hover {\n",
       "  /* unfitted */\n",
       "  background-color: var(--sklearn-color-unfitted-level-3);\n",
       "  color: var(--sklearn-color-background);\n",
       "  text-decoration: none;\n",
       "}\n",
       "\n",
       "div.sk-estimator.fitted:hover .sk-estimator-doc-link.fitted:hover,\n",
       ".sk-estimator-doc-link.fitted:hover,\n",
       "div.sk-label-container:hover .sk-estimator-doc-link.fitted:hover,\n",
       ".sk-estimator-doc-link.fitted:hover {\n",
       "  /* fitted */\n",
       "  background-color: var(--sklearn-color-fitted-level-3);\n",
       "  color: var(--sklearn-color-background);\n",
       "  text-decoration: none;\n",
       "}\n",
       "\n",
       "/* Span, style for the box shown on hovering the info icon */\n",
       ".sk-estimator-doc-link span {\n",
       "  display: none;\n",
       "  z-index: 9999;\n",
       "  position: relative;\n",
       "  font-weight: normal;\n",
       "  right: .2ex;\n",
       "  padding: .5ex;\n",
       "  margin: .5ex;\n",
       "  width: min-content;\n",
       "  min-width: 20ex;\n",
       "  max-width: 50ex;\n",
       "  color: var(--sklearn-color-text);\n",
       "  box-shadow: 2pt 2pt 4pt #999;\n",
       "  /* unfitted */\n",
       "  background: var(--sklearn-color-unfitted-level-0);\n",
       "  border: .5pt solid var(--sklearn-color-unfitted-level-3);\n",
       "}\n",
       "\n",
       ".sk-estimator-doc-link.fitted span {\n",
       "  /* fitted */\n",
       "  background: var(--sklearn-color-fitted-level-0);\n",
       "  border: var(--sklearn-color-fitted-level-3);\n",
       "}\n",
       "\n",
       ".sk-estimator-doc-link:hover span {\n",
       "  display: block;\n",
       "}\n",
       "\n",
       "/* \"?\"-specific style due to the `<a>` HTML tag */\n",
       "\n",
       "#sk-container-id-2 a.estimator_doc_link {\n",
       "  float: right;\n",
       "  font-size: 1rem;\n",
       "  line-height: 1em;\n",
       "  font-family: monospace;\n",
       "  background-color: var(--sklearn-color-background);\n",
       "  border-radius: 1rem;\n",
       "  height: 1rem;\n",
       "  width: 1rem;\n",
       "  text-decoration: none;\n",
       "  /* unfitted */\n",
       "  color: var(--sklearn-color-unfitted-level-1);\n",
       "  border: var(--sklearn-color-unfitted-level-1) 1pt solid;\n",
       "}\n",
       "\n",
       "#sk-container-id-2 a.estimator_doc_link.fitted {\n",
       "  /* fitted */\n",
       "  border: var(--sklearn-color-fitted-level-1) 1pt solid;\n",
       "  color: var(--sklearn-color-fitted-level-1);\n",
       "}\n",
       "\n",
       "/* On hover */\n",
       "#sk-container-id-2 a.estimator_doc_link:hover {\n",
       "  /* unfitted */\n",
       "  background-color: var(--sklearn-color-unfitted-level-3);\n",
       "  color: var(--sklearn-color-background);\n",
       "  text-decoration: none;\n",
       "}\n",
       "\n",
       "#sk-container-id-2 a.estimator_doc_link.fitted:hover {\n",
       "  /* fitted */\n",
       "  background-color: var(--sklearn-color-fitted-level-3);\n",
       "}\n",
       "</style><div id=\"sk-container-id-2\" class=\"sk-top-container\"><div class=\"sk-text-repr-fallback\"><pre>Pipeline(steps=[(&#x27;vect&#x27;,\n",
       "                 TfidfVectorizer(min_df=2,\n",
       "                                 stop_words=[&quot;hasn&#x27;t&quot;, &#x27;herself&#x27;, &#x27;so&#x27;,\n",
       "                                             &#x27;because&#x27;, &#x27;again&#x27;, &#x27;couldn&#x27;,\n",
       "                                             &#x27;into&#x27;, &#x27;you&#x27;, &#x27;our&#x27;, &#x27;yourselves&#x27;,\n",
       "                                             &#x27;we&#x27;, &#x27;doing&#x27;, &#x27;above&#x27;, &#x27;hers&#x27;,\n",
       "                                             &#x27;will&#x27;, &quot;couldn&#x27;t&quot;, &#x27;but&#x27;, &#x27;by&#x27;,\n",
       "                                             &#x27;not&#x27;, &#x27;d&#x27;, &#x27;did&#x27;, &#x27;his&#x27;, &#x27;until&#x27;,\n",
       "                                             &quot;mustn&#x27;t&quot;, &quot;shouldn&#x27;t&quot;, &#x27;too&#x27;,\n",
       "                                             &#x27;they&#x27;, &#x27;t&#x27;, &#x27;about&#x27;, &#x27;such&#x27;, ...])),\n",
       "                (&#x27;model&#x27;, LogisticRegression(C=5, solver=&#x27;liblinear&#x27;))])</pre><b>In a Jupyter environment, please rerun this cell to show the HTML representation or trust the notebook. <br />On GitHub, the HTML representation is unable to render, please try loading this page with nbviewer.org.</b></div><div class=\"sk-container\" hidden><div class=\"sk-item sk-dashed-wrapped\"><div class=\"sk-label-container\"><div class=\"sk-label fitted sk-toggleable\"><input class=\"sk-toggleable__control sk-hidden--visually\" id=\"sk-estimator-id-5\" type=\"checkbox\" ><label for=\"sk-estimator-id-5\" class=\"sk-toggleable__label fitted sk-toggleable__label-arrow\"><div><div>Pipeline</div></div><div><a class=\"sk-estimator-doc-link fitted\" rel=\"noreferrer\" target=\"_blank\" href=\"https://scikit-learn.org/1.6/modules/generated/sklearn.pipeline.Pipeline.html\">?<span>Documentation for Pipeline</span></a><span class=\"sk-estimator-doc-link fitted\">i<span>Fitted</span></span></div></label><div class=\"sk-toggleable__content fitted\"><pre>Pipeline(steps=[(&#x27;vect&#x27;,\n",
       "                 TfidfVectorizer(min_df=2,\n",
       "                                 stop_words=[&quot;hasn&#x27;t&quot;, &#x27;herself&#x27;, &#x27;so&#x27;,\n",
       "                                             &#x27;because&#x27;, &#x27;again&#x27;, &#x27;couldn&#x27;,\n",
       "                                             &#x27;into&#x27;, &#x27;you&#x27;, &#x27;our&#x27;, &#x27;yourselves&#x27;,\n",
       "                                             &#x27;we&#x27;, &#x27;doing&#x27;, &#x27;above&#x27;, &#x27;hers&#x27;,\n",
       "                                             &#x27;will&#x27;, &quot;couldn&#x27;t&quot;, &#x27;but&#x27;, &#x27;by&#x27;,\n",
       "                                             &#x27;not&#x27;, &#x27;d&#x27;, &#x27;did&#x27;, &#x27;his&#x27;, &#x27;until&#x27;,\n",
       "                                             &quot;mustn&#x27;t&quot;, &quot;shouldn&#x27;t&quot;, &#x27;too&#x27;,\n",
       "                                             &#x27;they&#x27;, &#x27;t&#x27;, &#x27;about&#x27;, &#x27;such&#x27;, ...])),\n",
       "                (&#x27;model&#x27;, LogisticRegression(C=5, solver=&#x27;liblinear&#x27;))])</pre></div> </div></div><div class=\"sk-serial\"><div class=\"sk-item\"><div class=\"sk-estimator fitted sk-toggleable\"><input class=\"sk-toggleable__control sk-hidden--visually\" id=\"sk-estimator-id-6\" type=\"checkbox\" ><label for=\"sk-estimator-id-6\" class=\"sk-toggleable__label fitted sk-toggleable__label-arrow\"><div><div>TfidfVectorizer</div></div><div><a class=\"sk-estimator-doc-link fitted\" rel=\"noreferrer\" target=\"_blank\" href=\"https://scikit-learn.org/1.6/modules/generated/sklearn.feature_extraction.text.TfidfVectorizer.html\">?<span>Documentation for TfidfVectorizer</span></a></div></label><div class=\"sk-toggleable__content fitted\"><pre>TfidfVectorizer(min_df=2,\n",
       "                stop_words=[&quot;hasn&#x27;t&quot;, &#x27;herself&#x27;, &#x27;so&#x27;, &#x27;because&#x27;, &#x27;again&#x27;,\n",
       "                            &#x27;couldn&#x27;, &#x27;into&#x27;, &#x27;you&#x27;, &#x27;our&#x27;, &#x27;yourselves&#x27;, &#x27;we&#x27;,\n",
       "                            &#x27;doing&#x27;, &#x27;above&#x27;, &#x27;hers&#x27;, &#x27;will&#x27;, &quot;couldn&#x27;t&quot;, &#x27;but&#x27;,\n",
       "                            &#x27;by&#x27;, &#x27;not&#x27;, &#x27;d&#x27;, &#x27;did&#x27;, &#x27;his&#x27;, &#x27;until&#x27;, &quot;mustn&#x27;t&quot;,\n",
       "                            &quot;shouldn&#x27;t&quot;, &#x27;too&#x27;, &#x27;they&#x27;, &#x27;t&#x27;, &#x27;about&#x27;, &#x27;such&#x27;, ...])</pre></div> </div></div><div class=\"sk-item\"><div class=\"sk-estimator fitted sk-toggleable\"><input class=\"sk-toggleable__control sk-hidden--visually\" id=\"sk-estimator-id-7\" type=\"checkbox\" ><label for=\"sk-estimator-id-7\" class=\"sk-toggleable__label fitted sk-toggleable__label-arrow\"><div><div>LogisticRegression</div></div><div><a class=\"sk-estimator-doc-link fitted\" rel=\"noreferrer\" target=\"_blank\" href=\"https://scikit-learn.org/1.6/modules/generated/sklearn.linear_model.LogisticRegression.html\">?<span>Documentation for LogisticRegression</span></a></div></label><div class=\"sk-toggleable__content fitted\"><pre>LogisticRegression(C=5, solver=&#x27;liblinear&#x27;)</pre></div> </div></div></div></div></div></div>"
      ],
      "text/plain": [
       "Pipeline(steps=[('vect',\n",
       "                 TfidfVectorizer(min_df=2,\n",
       "                                 stop_words=[\"hasn't\", 'herself', 'so',\n",
       "                                             'because', 'again', 'couldn',\n",
       "                                             'into', 'you', 'our', 'yourselves',\n",
       "                                             'we', 'doing', 'above', 'hers',\n",
       "                                             'will', \"couldn't\", 'but', 'by',\n",
       "                                             'not', 'd', 'did', 'his', 'until',\n",
       "                                             \"mustn't\", \"shouldn't\", 'too',\n",
       "                                             'they', 't', 'about', 'such', ...])),\n",
       "                ('model', LogisticRegression(C=5, solver='liblinear'))])"
      ]
     },
     "execution_count": 23,
     "metadata": {},
     "output_type": "execute_result"
    }
   ],
   "source": [
    "logistic_grid_search.best_estimator_"
   ]
  },
  {
   "cell_type": "markdown",
   "metadata": {},
   "source": [
    "**DecisionTreeClassifier**"
   ]
  },
  {
   "cell_type": "code",
   "execution_count": 24,
   "metadata": {},
   "outputs": [],
   "source": [
    "pipeline = Pipeline(\n",
    "    [\n",
    "        (\"vect\", TfidfVectorizer(stop_words=stop_words)),\n",
    "        (\"model\", DecisionTreeClassifier()),\n",
    "    ]\n",
    ")"
   ]
  },
  {
   "cell_type": "code",
   "execution_count": 25,
   "metadata": {},
   "outputs": [],
   "source": [
    "params_tree = {\n",
    "    'model__max_depth': range(1, 10),\n",
    "    'model__min_samples_split': range(2, 10),\n",
    "    'vect__min_df': range(1, 3, 1)\n",
    "}"
   ]
  },
  {
   "cell_type": "code",
   "execution_count": 26,
   "metadata": {},
   "outputs": [],
   "source": [
    "tree_grid_search = RandomizedSearchCV(estimator=pipeline, param_distributions=params_tree, scoring='f1', n_jobs=-1)"
   ]
  },
  {
   "cell_type": "code",
   "execution_count": null,
   "metadata": {},
   "outputs": [],
   "source": [
    "tree_grid_search.fit(X_train, y_train)"
   ]
  },
  {
   "cell_type": "code",
   "execution_count": null,
   "metadata": {},
   "outputs": [],
   "source": [
    "tree_grid_search.best_params_"
   ]
  },
  {
   "cell_type": "code",
   "execution_count": null,
   "metadata": {},
   "outputs": [],
   "source": [
    "tree_grid_search.best_score_"
   ]
  },
  {
   "cell_type": "code",
   "execution_count": null,
   "metadata": {},
   "outputs": [],
   "source": [
    "tree_grid_search.best_estimator_"
   ]
  },
  {
   "cell_type": "markdown",
   "metadata": {},
   "source": [
    "Метрика у модели LogisticRegression на тренировочной выборке равна 0,76, это выше заявленного значения. Проведем тестирование этой модели"
   ]
  },
  {
   "cell_type": "code",
   "execution_count": null,
   "metadata": {},
   "outputs": [],
   "source": [
    "y_pred = logistic_grid_search.predict(X_test)\n",
    "tect_score = f1_score(y_pred, y_test)\n",
    "tect_score"
   ]
  },
  {
   "cell_type": "markdown",
   "metadata": {},
   "source": [
    "Оценка на тестовой выборке 0,78"
   ]
  },
  {
   "cell_type": "markdown",
   "metadata": {},
   "source": [
    "## Выводы"
   ]
  },
  {
   "cell_type": "markdown",
   "metadata": {},
   "source": [
    "В проекте я классифицировала комментарии на положительные и отрицательные. В начале я подготовила данные: лемматизировала столбец, очистила данные от лишних символов и слов, провела оценку важности слов.\n",
    "\n",
    "Передо мной стояла задача бинарной классификации. Я построила две модели LogisticRegression и DecisionTreeClassifier и обучила их на тренировочный данных. У модели LogisticRegression получилась более высокая метрика качетсва 0,76. Я провели тестирование этой модели на тестовых данных и получила метрику 0,78, что соответствует заявленной в задании метрике качества."
   ]
  }
 ],
 "metadata": {
  "ExecuteTimeLog": [
   {
    "duration": 459,
    "start_time": "2025-02-11T11:26:18.902Z"
   },
   {
    "duration": 136,
    "start_time": "2025-02-11T11:27:01.657Z"
   },
   {
    "duration": 941,
    "start_time": "2025-02-11T11:27:19.264Z"
   },
   {
    "duration": 18,
    "start_time": "2025-02-11T11:27:29.015Z"
   },
   {
    "duration": 32,
    "start_time": "2025-02-11T11:27:42.973Z"
   },
   {
    "duration": 916,
    "start_time": "2025-02-11T11:30:24.752Z"
   },
   {
    "duration": 6,
    "start_time": "2025-02-11T11:30:25.670Z"
   },
   {
    "duration": 31,
    "start_time": "2025-02-11T11:30:30.607Z"
   },
   {
    "duration": 10,
    "start_time": "2025-02-11T11:45:39.198Z"
   },
   {
    "duration": 2139,
    "start_time": "2025-02-11T11:45:51.949Z"
   },
   {
    "duration": 402,
    "start_time": "2025-02-11T11:46:02.627Z"
   },
   {
    "duration": 996,
    "start_time": "2025-02-11T11:46:03.030Z"
   },
   {
    "duration": 14,
    "start_time": "2025-02-11T11:46:04.027Z"
   },
   {
    "duration": 33,
    "start_time": "2025-02-11T11:46:04.043Z"
   },
   {
    "duration": 2193,
    "start_time": "2025-02-11T11:46:04.077Z"
   },
   {
    "duration": 33,
    "start_time": "2025-02-11T11:46:17.079Z"
   },
   {
    "duration": 4,
    "start_time": "2025-02-11T11:49:55.428Z"
   },
   {
    "duration": 3,
    "start_time": "2025-02-11T11:50:52.039Z"
   },
   {
    "duration": 70,
    "start_time": "2025-02-11T11:52:10.905Z"
   },
   {
    "duration": 420,
    "start_time": "2025-02-11T12:42:28.210Z"
   },
   {
    "duration": 963,
    "start_time": "2025-02-11T12:42:28.632Z"
   },
   {
    "duration": 21,
    "start_time": "2025-02-11T12:42:29.597Z"
   },
   {
    "duration": 60,
    "start_time": "2025-02-11T12:42:29.620Z"
   },
   {
    "duration": 4802,
    "start_time": "2025-02-11T12:42:29.681Z"
   },
   {
    "duration": 16,
    "start_time": "2025-02-11T12:42:34.485Z"
   },
   {
    "duration": 74,
    "start_time": "2025-02-11T12:42:34.502Z"
   },
   {
    "duration": 8,
    "start_time": "2025-02-11T12:58:27.473Z"
   },
   {
    "duration": 25561,
    "start_time": "2025-02-11T12:58:32.305Z"
   },
   {
    "duration": 0,
    "start_time": "2025-02-11T12:58:57.867Z"
   },
   {
    "duration": 446,
    "start_time": "2025-02-11T12:59:00.002Z"
   },
   {
    "duration": 1029,
    "start_time": "2025-02-11T12:59:00.450Z"
   },
   {
    "duration": 14,
    "start_time": "2025-02-11T12:59:01.480Z"
   },
   {
    "duration": 45,
    "start_time": "2025-02-11T12:59:01.496Z"
   },
   {
    "duration": 87876,
    "start_time": "2025-02-11T12:59:01.542Z"
   },
   {
    "duration": 10,
    "start_time": "2025-02-11T13:00:29.420Z"
   },
   {
    "duration": 409,
    "start_time": "2025-02-11T13:06:24.151Z"
   },
   {
    "duration": 1025,
    "start_time": "2025-02-11T13:06:24.562Z"
   },
   {
    "duration": 14,
    "start_time": "2025-02-11T13:06:25.588Z"
   },
   {
    "duration": 41,
    "start_time": "2025-02-11T13:06:25.604Z"
   },
   {
    "duration": 89596,
    "start_time": "2025-02-11T13:06:25.647Z"
   },
   {
    "duration": 10,
    "start_time": "2025-02-11T13:07:55.245Z"
   },
   {
    "duration": 343,
    "start_time": "2025-02-11T13:12:39.767Z"
   },
   {
    "duration": 3,
    "start_time": "2025-02-11T13:12:52.173Z"
   },
   {
    "duration": 694,
    "start_time": "2025-02-11T13:12:56.141Z"
   },
   {
    "duration": 299,
    "start_time": "2025-02-11T13:13:53.336Z"
   },
   {
    "duration": 322,
    "start_time": "2025-02-11T13:14:31.845Z"
   },
   {
    "duration": 288,
    "start_time": "2025-02-11T13:14:37.372Z"
   },
   {
    "duration": 287,
    "start_time": "2025-02-11T13:18:42.486Z"
   },
   {
    "duration": 36,
    "start_time": "2025-02-11T13:19:39.481Z"
   },
   {
    "duration": 3,
    "start_time": "2025-02-11T13:19:57.998Z"
   },
   {
    "duration": 295,
    "start_time": "2025-02-11T13:20:48.377Z"
   },
   {
    "duration": 10,
    "start_time": "2025-02-11T13:22:15.937Z"
   },
   {
    "duration": 318,
    "start_time": "2025-02-11T13:22:48.030Z"
   },
   {
    "duration": 299,
    "start_time": "2025-02-11T13:23:49.464Z"
   },
   {
    "duration": 277,
    "start_time": "2025-02-11T13:23:57.872Z"
   },
   {
    "duration": 287,
    "start_time": "2025-02-11T13:24:07.110Z"
   },
   {
    "duration": 418,
    "start_time": "2025-02-11T13:24:13.020Z"
   },
   {
    "duration": 964,
    "start_time": "2025-02-11T13:24:13.439Z"
   },
   {
    "duration": 17,
    "start_time": "2025-02-11T13:24:14.404Z"
   },
   {
    "duration": 32,
    "start_time": "2025-02-11T13:24:14.423Z"
   },
   {
    "duration": 90083,
    "start_time": "2025-02-11T13:24:14.457Z"
   },
   {
    "duration": 10,
    "start_time": "2025-02-11T13:25:44.542Z"
   },
   {
    "duration": 3,
    "start_time": "2025-02-11T13:25:44.554Z"
   },
   {
    "duration": 359,
    "start_time": "2025-02-11T13:25:44.559Z"
   },
   {
    "duration": 69,
    "start_time": "2025-02-11T13:25:56.844Z"
   },
   {
    "duration": 404,
    "start_time": "2025-02-11T13:26:13.441Z"
   },
   {
    "duration": 1021,
    "start_time": "2025-02-11T13:26:13.847Z"
   },
   {
    "duration": 17,
    "start_time": "2025-02-11T13:26:14.870Z"
   },
   {
    "duration": 49,
    "start_time": "2025-02-11T13:26:14.890Z"
   },
   {
    "duration": 374,
    "start_time": "2025-02-11T13:26:14.942Z"
   },
   {
    "duration": 0,
    "start_time": "2025-02-11T13:26:15.318Z"
   },
   {
    "duration": 0,
    "start_time": "2025-02-11T13:26:15.319Z"
   },
   {
    "duration": 0,
    "start_time": "2025-02-11T13:26:15.321Z"
   },
   {
    "duration": 86068,
    "start_time": "2025-02-11T13:26:26.089Z"
   },
   {
    "duration": 8,
    "start_time": "2025-02-11T13:28:13.567Z"
   },
   {
    "duration": 3,
    "start_time": "2025-02-11T13:28:15.223Z"
   },
   {
    "duration": 4423,
    "start_time": "2025-02-11T13:28:15.975Z"
   },
   {
    "duration": 7,
    "start_time": "2025-02-11T13:28:40.581Z"
   },
   {
    "duration": 444,
    "start_time": "2025-02-12T06:13:06.136Z"
   },
   {
    "duration": 3882,
    "start_time": "2025-02-12T06:13:07.550Z"
   },
   {
    "duration": 15,
    "start_time": "2025-02-12T06:13:11.950Z"
   },
   {
    "duration": 38,
    "start_time": "2025-02-12T06:13:13.989Z"
   },
   {
    "duration": 90874,
    "start_time": "2025-02-12T06:13:15.677Z"
   },
   {
    "duration": 7,
    "start_time": "2025-02-12T06:14:46.554Z"
   },
   {
    "duration": 2784,
    "start_time": "2025-02-12T06:14:46.563Z"
   },
   {
    "duration": 448,
    "start_time": "2025-02-12T06:15:41.971Z"
   },
   {
    "duration": 3874,
    "start_time": "2025-02-12T06:15:42.421Z"
   },
   {
    "duration": 15,
    "start_time": "2025-02-12T06:15:46.297Z"
   },
   {
    "duration": 35,
    "start_time": "2025-02-12T06:15:46.315Z"
   },
   {
    "duration": 89932,
    "start_time": "2025-02-12T06:15:46.351Z"
   },
   {
    "duration": 8,
    "start_time": "2025-02-12T06:17:16.285Z"
   },
   {
    "duration": 2355,
    "start_time": "2025-02-12T06:17:16.295Z"
   },
   {
    "duration": 3,
    "start_time": "2025-02-12T06:17:18.652Z"
   },
   {
    "duration": 78,
    "start_time": "2025-02-12T06:17:18.657Z"
   },
   {
    "duration": 0,
    "start_time": "2025-02-12T06:17:18.737Z"
   },
   {
    "duration": 3,
    "start_time": "2025-02-12T06:17:44.752Z"
   },
   {
    "duration": 4699,
    "start_time": "2025-02-12T06:17:45.096Z"
   },
   {
    "duration": 7,
    "start_time": "2025-02-12T06:17:51.712Z"
   },
   {
    "duration": 1090,
    "start_time": "2025-02-12T06:20:24.714Z"
   },
   {
    "duration": 220,
    "start_time": "2025-02-12T06:21:02.607Z"
   },
   {
    "duration": 5,
    "start_time": "2025-02-12T06:21:59.658Z"
   },
   {
    "duration": 3,
    "start_time": "2025-02-12T06:23:51.728Z"
   },
   {
    "duration": 3,
    "start_time": "2025-02-12T06:26:02.261Z"
   },
   {
    "duration": 5,
    "start_time": "2025-02-12T06:28:46.887Z"
   },
   {
    "duration": 27,
    "start_time": "2025-02-12T06:29:51.697Z"
   },
   {
    "duration": 66,
    "start_time": "2025-02-12T06:30:04.299Z"
   },
   {
    "duration": 4,
    "start_time": "2025-02-12T06:30:12.263Z"
   },
   {
    "duration": 4,
    "start_time": "2025-02-12T06:30:20.494Z"
   },
   {
    "duration": 16,
    "start_time": "2025-02-12T06:33:31.741Z"
   },
   {
    "duration": 1553,
    "start_time": "2025-02-12T06:36:32.354Z"
   },
   {
    "duration": 1092,
    "start_time": "2025-02-12T06:36:33.909Z"
   },
   {
    "duration": 15,
    "start_time": "2025-02-12T06:36:35.003Z"
   },
   {
    "duration": 52,
    "start_time": "2025-02-12T06:36:35.020Z"
   },
   {
    "duration": 103232,
    "start_time": "2025-02-12T06:36:35.075Z"
   },
   {
    "duration": 8,
    "start_time": "2025-02-12T06:38:18.310Z"
   },
   {
    "duration": 6,
    "start_time": "2025-02-12T06:38:18.319Z"
   },
   {
    "duration": 5176,
    "start_time": "2025-02-12T06:38:18.327Z"
   },
   {
    "duration": 7,
    "start_time": "2025-02-12T06:38:23.505Z"
   },
   {
    "duration": 152,
    "start_time": "2025-02-12T06:38:23.514Z"
   },
   {
    "duration": 3,
    "start_time": "2025-02-12T06:38:23.667Z"
   },
   {
    "duration": 39,
    "start_time": "2025-02-12T06:38:23.673Z"
   },
   {
    "duration": 148,
    "start_time": "2025-02-12T06:38:23.714Z"
   },
   {
    "duration": 4,
    "start_time": "2025-02-12T06:39:56.952Z"
   },
   {
    "duration": 4,
    "start_time": "2025-02-12T06:39:57.992Z"
   },
   {
    "duration": 34,
    "start_time": "2025-02-12T06:39:58.464Z"
   },
   {
    "duration": 22,
    "start_time": "2025-02-12T06:39:59.377Z"
   },
   {
    "duration": 1447,
    "start_time": "2025-02-12T06:40:05.741Z"
   },
   {
    "duration": 1158,
    "start_time": "2025-02-12T06:40:07.191Z"
   },
   {
    "duration": 23,
    "start_time": "2025-02-12T06:40:08.350Z"
   },
   {
    "duration": 43,
    "start_time": "2025-02-12T06:40:08.375Z"
   },
   {
    "duration": 103960,
    "start_time": "2025-02-12T06:40:08.421Z"
   },
   {
    "duration": 12,
    "start_time": "2025-02-12T06:41:52.385Z"
   },
   {
    "duration": 8,
    "start_time": "2025-02-12T06:41:52.399Z"
   },
   {
    "duration": 4842,
    "start_time": "2025-02-12T06:41:52.409Z"
   },
   {
    "duration": 7,
    "start_time": "2025-02-12T06:41:57.253Z"
   },
   {
    "duration": 251,
    "start_time": "2025-02-12T06:41:57.262Z"
   },
   {
    "duration": 2,
    "start_time": "2025-02-12T06:41:57.515Z"
   },
   {
    "duration": 37,
    "start_time": "2025-02-12T06:41:57.519Z"
   },
   {
    "duration": 158,
    "start_time": "2025-02-12T06:41:57.558Z"
   },
   {
    "duration": 16,
    "start_time": "2025-02-12T06:46:00.728Z"
   },
   {
    "duration": 3,
    "start_time": "2025-02-12T06:53:55.302Z"
   },
   {
    "duration": 29,
    "start_time": "2025-02-12T06:53:55.990Z"
   },
   {
    "duration": 17,
    "start_time": "2025-02-12T06:53:56.590Z"
   },
   {
    "duration": 2,
    "start_time": "2025-02-12T06:54:02.526Z"
   },
   {
    "duration": 13,
    "start_time": "2025-02-12T06:54:09.326Z"
   },
   {
    "duration": 1837,
    "start_time": "2025-02-12T06:56:46.511Z"
   },
   {
    "duration": 6,
    "start_time": "2025-02-12T08:12:49.606Z"
   },
   {
    "duration": 245,
    "start_time": "2025-02-12T08:13:03.381Z"
   },
   {
    "duration": 6,
    "start_time": "2025-02-12T08:13:03.821Z"
   },
   {
    "duration": 9,
    "start_time": "2025-02-12T08:14:19.215Z"
   },
   {
    "duration": 3,
    "start_time": "2025-02-12T08:14:21.118Z"
   },
   {
    "duration": 28,
    "start_time": "2025-02-12T08:14:21.790Z"
   },
   {
    "duration": 14,
    "start_time": "2025-02-12T08:14:22.415Z"
   },
   {
    "duration": 42,
    "start_time": "2025-02-12T08:15:12.083Z"
   },
   {
    "duration": 1527,
    "start_time": "2025-02-12T08:15:34.454Z"
   },
   {
    "duration": 1050,
    "start_time": "2025-02-12T08:15:35.983Z"
   },
   {
    "duration": 15,
    "start_time": "2025-02-12T08:15:37.035Z"
   },
   {
    "duration": 48,
    "start_time": "2025-02-12T08:15:37.052Z"
   },
   {
    "duration": 1454,
    "start_time": "2025-02-12T08:16:56.108Z"
   },
   {
    "duration": 1045,
    "start_time": "2025-02-12T08:16:57.564Z"
   },
   {
    "duration": 16,
    "start_time": "2025-02-12T08:16:58.611Z"
   },
   {
    "duration": 51,
    "start_time": "2025-02-12T08:16:58.629Z"
   },
   {
    "duration": 98831,
    "start_time": "2025-02-12T08:16:58.682Z"
   },
   {
    "duration": 8,
    "start_time": "2025-02-12T08:18:37.515Z"
   },
   {
    "duration": 21,
    "start_time": "2025-02-12T08:18:37.524Z"
   },
   {
    "duration": 4851,
    "start_time": "2025-02-12T08:18:37.546Z"
   },
   {
    "duration": 9,
    "start_time": "2025-02-12T08:18:42.399Z"
   },
   {
    "duration": 153,
    "start_time": "2025-02-12T08:18:42.409Z"
   },
   {
    "duration": 5,
    "start_time": "2025-02-12T08:18:42.564Z"
   },
   {
    "duration": 9,
    "start_time": "2025-02-12T08:18:42.571Z"
   },
   {
    "duration": 28,
    "start_time": "2025-02-12T08:18:42.582Z"
   },
   {
    "duration": 1989,
    "start_time": "2025-02-12T08:18:42.613Z"
   },
   {
    "duration": 52,
    "start_time": "2025-02-12T08:19:52.912Z"
   },
   {
    "duration": 0,
    "start_time": "2025-02-12T08:19:52.966Z"
   },
   {
    "duration": 1599,
    "start_time": "2025-02-12T08:19:58.565Z"
   },
   {
    "duration": 4233,
    "start_time": "2025-02-12T08:20:00.167Z"
   },
   {
    "duration": 16,
    "start_time": "2025-02-12T08:20:04.401Z"
   },
   {
    "duration": 36,
    "start_time": "2025-02-12T08:20:04.419Z"
   },
   {
    "duration": 107183,
    "start_time": "2025-02-12T08:20:04.458Z"
   },
   {
    "duration": 8,
    "start_time": "2025-02-12T08:21:51.645Z"
   },
   {
    "duration": 17,
    "start_time": "2025-02-12T08:21:51.655Z"
   },
   {
    "duration": 5172,
    "start_time": "2025-02-12T08:21:51.674Z"
   },
   {
    "duration": 8,
    "start_time": "2025-02-12T08:21:56.848Z"
   },
   {
    "duration": 164,
    "start_time": "2025-02-12T08:21:56.858Z"
   },
   {
    "duration": 3,
    "start_time": "2025-02-12T08:21:57.024Z"
   },
   {
    "duration": 41,
    "start_time": "2025-02-12T08:21:57.029Z"
   },
   {
    "duration": 14908,
    "start_time": "2025-02-12T08:21:57.072Z"
   },
   {
    "duration": 9693,
    "start_time": "2025-02-12T08:22:23.638Z"
   },
   {
    "duration": 5,
    "start_time": "2025-02-12T08:23:08.188Z"
   },
   {
    "duration": 5,
    "start_time": "2025-02-12T08:24:04.157Z"
   },
   {
    "duration": 80,
    "start_time": "2025-02-13T06:30:52.401Z"
   },
   {
    "duration": 0,
    "start_time": "2025-02-13T06:30:52.483Z"
   },
   {
    "duration": 0,
    "start_time": "2025-02-13T06:30:52.484Z"
   },
   {
    "duration": 0,
    "start_time": "2025-02-13T06:30:52.485Z"
   },
   {
    "duration": 0,
    "start_time": "2025-02-13T06:30:52.486Z"
   },
   {
    "duration": 0,
    "start_time": "2025-02-13T06:30:52.487Z"
   },
   {
    "duration": 0,
    "start_time": "2025-02-13T06:30:52.489Z"
   },
   {
    "duration": 0,
    "start_time": "2025-02-13T06:30:52.489Z"
   },
   {
    "duration": 0,
    "start_time": "2025-02-13T06:30:52.491Z"
   },
   {
    "duration": 0,
    "start_time": "2025-02-13T06:30:52.492Z"
   },
   {
    "duration": 0,
    "start_time": "2025-02-13T06:30:52.492Z"
   },
   {
    "duration": 0,
    "start_time": "2025-02-13T06:30:52.493Z"
   },
   {
    "duration": 0,
    "start_time": "2025-02-13T06:30:52.494Z"
   },
   {
    "duration": 0,
    "start_time": "2025-02-13T06:30:52.495Z"
   },
   {
    "duration": 0,
    "start_time": "2025-02-13T06:30:52.496Z"
   },
   {
    "duration": 0,
    "start_time": "2025-02-13T06:30:52.497Z"
   },
   {
    "duration": 0,
    "start_time": "2025-02-13T06:30:52.498Z"
   },
   {
    "duration": 1276,
    "start_time": "2025-02-13T06:31:20.799Z"
   },
   {
    "duration": 1457,
    "start_time": "2025-02-13T06:31:22.077Z"
   },
   {
    "duration": 14,
    "start_time": "2025-02-13T06:31:23.536Z"
   },
   {
    "duration": 65,
    "start_time": "2025-02-13T06:31:23.552Z"
   },
   {
    "duration": 82989,
    "start_time": "2025-02-13T06:31:23.620Z"
   },
   {
    "duration": 8,
    "start_time": "2025-02-13T06:32:46.611Z"
   },
   {
    "duration": 26,
    "start_time": "2025-02-13T06:32:46.620Z"
   },
   {
    "duration": 4250,
    "start_time": "2025-02-13T06:32:46.648Z"
   },
   {
    "duration": 7,
    "start_time": "2025-02-13T06:32:50.900Z"
   },
   {
    "duration": 176,
    "start_time": "2025-02-13T06:32:50.908Z"
   },
   {
    "duration": 3,
    "start_time": "2025-02-13T06:32:51.085Z"
   },
   {
    "duration": 33,
    "start_time": "2025-02-13T06:32:51.089Z"
   },
   {
    "duration": 7005,
    "start_time": "2025-02-13T06:32:51.124Z"
   },
   {
    "duration": 3,
    "start_time": "2025-02-13T06:32:58.132Z"
   },
   {
    "duration": 5,
    "start_time": "2025-02-13T06:32:58.136Z"
   },
   {
    "duration": 136,
    "start_time": "2025-02-13T06:32:58.143Z"
   },
   {
    "duration": 0,
    "start_time": "2025-02-13T06:32:58.282Z"
   },
   {
    "duration": 11,
    "start_time": "2025-02-13T06:33:33.201Z"
   },
   {
    "duration": 5,
    "start_time": "2025-02-13T06:33:36.712Z"
   },
   {
    "duration": 12,
    "start_time": "2025-02-13T06:33:37.576Z"
   },
   {
    "duration": 4,
    "start_time": "2025-02-13T06:34:06.270Z"
   },
   {
    "duration": 3,
    "start_time": "2025-02-13T06:34:09.030Z"
   },
   {
    "duration": 7766,
    "start_time": "2025-02-13T06:35:22.687Z"
   },
   {
    "duration": 4,
    "start_time": "2025-02-13T06:36:19.282Z"
   },
   {
    "duration": 3,
    "start_time": "2025-02-13T06:36:19.794Z"
   },
   {
    "duration": 7672,
    "start_time": "2025-02-13T06:36:21.331Z"
   },
   {
    "duration": 4,
    "start_time": "2025-02-13T06:36:40.744Z"
   },
   {
    "duration": 3,
    "start_time": "2025-02-13T06:36:41.282Z"
   },
   {
    "duration": 396445,
    "start_time": "2025-02-13T06:36:41.561Z"
   },
   {
    "duration": 1356,
    "start_time": "2025-02-13T06:46:37.767Z"
   },
   {
    "duration": 992,
    "start_time": "2025-02-13T06:46:39.124Z"
   },
   {
    "duration": 13,
    "start_time": "2025-02-13T06:46:40.118Z"
   },
   {
    "duration": 45,
    "start_time": "2025-02-13T06:46:40.133Z"
   },
   {
    "duration": 85966,
    "start_time": "2025-02-13T06:46:40.180Z"
   },
   {
    "duration": 16,
    "start_time": "2025-02-13T06:48:06.147Z"
   },
   {
    "duration": 8,
    "start_time": "2025-02-13T06:48:06.164Z"
   },
   {
    "duration": 4379,
    "start_time": "2025-02-13T06:48:06.173Z"
   },
   {
    "duration": 11,
    "start_time": "2025-02-13T06:48:10.554Z"
   },
   {
    "duration": 186,
    "start_time": "2025-02-13T06:48:10.567Z"
   },
   {
    "duration": 3,
    "start_time": "2025-02-13T06:48:10.754Z"
   },
   {
    "duration": 25,
    "start_time": "2025-02-13T06:48:10.758Z"
   },
   {
    "duration": 7237,
    "start_time": "2025-02-13T06:48:10.784Z"
   },
   {
    "duration": 3,
    "start_time": "2025-02-13T06:48:18.023Z"
   },
   {
    "duration": 4,
    "start_time": "2025-02-13T06:48:18.027Z"
   },
   {
    "duration": 3,
    "start_time": "2025-02-13T06:48:18.033Z"
   },
   {
    "duration": 3,
    "start_time": "2025-02-13T06:48:18.037Z"
   },
   {
    "duration": 399869,
    "start_time": "2025-02-13T06:48:18.042Z"
   },
   {
    "duration": 1259,
    "start_time": "2025-02-17T11:22:29.861Z"
   },
   {
    "duration": 900,
    "start_time": "2025-02-17T11:22:31.122Z"
   },
   {
    "duration": 12,
    "start_time": "2025-02-17T11:22:32.024Z"
   },
   {
    "duration": 52,
    "start_time": "2025-02-17T11:22:32.038Z"
   },
   {
    "duration": 79342,
    "start_time": "2025-02-17T11:22:32.092Z"
   },
   {
    "duration": 7,
    "start_time": "2025-02-17T11:23:51.436Z"
   },
   {
    "duration": 10,
    "start_time": "2025-02-17T11:23:51.444Z"
   },
   {
    "duration": 4117,
    "start_time": "2025-02-17T11:23:51.455Z"
   },
   {
    "duration": 7,
    "start_time": "2025-02-17T11:23:55.574Z"
   },
   {
    "duration": 3253,
    "start_time": "2025-02-17T11:23:55.583Z"
   },
   {
    "duration": 4,
    "start_time": "2025-02-17T11:23:58.838Z"
   },
   {
    "duration": 29,
    "start_time": "2025-02-17T11:23:58.844Z"
   },
   {
    "duration": 6861,
    "start_time": "2025-02-17T11:23:58.875Z"
   },
   {
    "duration": 3,
    "start_time": "2025-02-17T11:24:05.739Z"
   },
   {
    "duration": 13,
    "start_time": "2025-02-17T11:24:05.743Z"
   },
   {
    "duration": 5,
    "start_time": "2025-02-17T11:24:05.758Z"
   },
   {
    "duration": 4,
    "start_time": "2025-02-17T11:24:05.765Z"
   },
   {
    "duration": 383285,
    "start_time": "2025-02-17T11:24:05.771Z"
   },
   {
    "duration": 3,
    "start_time": "2025-02-17T11:31:00.877Z"
   },
   {
    "duration": 1326,
    "start_time": "2025-02-17T11:32:56.484Z"
   },
   {
    "duration": 942,
    "start_time": "2025-02-17T11:32:57.812Z"
   },
   {
    "duration": 13,
    "start_time": "2025-02-17T11:32:58.755Z"
   },
   {
    "duration": 54,
    "start_time": "2025-02-17T11:32:58.770Z"
   },
   {
    "duration": 79330,
    "start_time": "2025-02-17T11:32:58.827Z"
   },
   {
    "duration": 8,
    "start_time": "2025-02-17T11:34:18.158Z"
   },
   {
    "duration": 4,
    "start_time": "2025-02-17T11:34:18.167Z"
   },
   {
    "duration": 4142,
    "start_time": "2025-02-17T11:34:18.173Z"
   },
   {
    "duration": 14,
    "start_time": "2025-02-17T11:34:22.318Z"
   },
   {
    "duration": 243,
    "start_time": "2025-02-17T11:34:22.336Z"
   },
   {
    "duration": 3,
    "start_time": "2025-02-17T11:34:22.581Z"
   },
   {
    "duration": 24,
    "start_time": "2025-02-17T11:34:22.585Z"
   },
   {
    "duration": 6823,
    "start_time": "2025-02-17T11:34:22.611Z"
   },
   {
    "duration": 3,
    "start_time": "2025-02-17T11:34:29.435Z"
   },
   {
    "duration": 23,
    "start_time": "2025-02-17T11:34:29.439Z"
   },
   {
    "duration": 8,
    "start_time": "2025-02-17T11:34:29.464Z"
   },
   {
    "duration": 3,
    "start_time": "2025-02-17T11:34:29.474Z"
   },
   {
    "duration": 3,
    "start_time": "2025-02-17T11:34:29.479Z"
   },
   {
    "duration": 373820,
    "start_time": "2025-02-17T11:34:29.484Z"
   },
   {
    "duration": 1366,
    "start_time": "2025-02-17T11:42:05.084Z"
   },
   {
    "duration": 930,
    "start_time": "2025-02-17T11:42:06.452Z"
   },
   {
    "duration": 13,
    "start_time": "2025-02-17T11:42:07.383Z"
   },
   {
    "duration": 51,
    "start_time": "2025-02-17T11:42:07.398Z"
   },
   {
    "duration": 80186,
    "start_time": "2025-02-17T11:42:07.450Z"
   },
   {
    "duration": 8,
    "start_time": "2025-02-17T11:43:27.638Z"
   },
   {
    "duration": 4,
    "start_time": "2025-02-17T11:43:27.647Z"
   },
   {
    "duration": 4095,
    "start_time": "2025-02-17T11:43:27.652Z"
   },
   {
    "duration": 7,
    "start_time": "2025-02-17T11:43:31.748Z"
   },
   {
    "duration": 2622,
    "start_time": "2025-02-17T11:43:31.759Z"
   },
   {
    "duration": 3,
    "start_time": "2025-02-17T11:43:34.383Z"
   },
   {
    "duration": 32,
    "start_time": "2025-02-17T11:43:34.387Z"
   },
   {
    "duration": 6856,
    "start_time": "2025-02-17T11:43:34.421Z"
   },
   {
    "duration": 3,
    "start_time": "2025-02-17T11:43:41.279Z"
   },
   {
    "duration": 7,
    "start_time": "2025-02-17T11:43:41.284Z"
   },
   {
    "duration": 3,
    "start_time": "2025-02-17T11:43:41.293Z"
   },
   {
    "duration": 3,
    "start_time": "2025-02-17T11:43:41.309Z"
   },
   {
    "duration": 2,
    "start_time": "2025-02-17T11:43:41.314Z"
   },
   {
    "duration": 1335,
    "start_time": "2025-02-17T12:21:36.686Z"
   },
   {
    "duration": 1005,
    "start_time": "2025-02-17T12:21:38.023Z"
   },
   {
    "duration": 14,
    "start_time": "2025-02-17T12:21:39.030Z"
   },
   {
    "duration": 45,
    "start_time": "2025-02-17T12:21:39.046Z"
   },
   {
    "duration": 88586,
    "start_time": "2025-02-17T12:21:39.093Z"
   },
   {
    "duration": 8,
    "start_time": "2025-02-17T12:23:07.680Z"
   },
   {
    "duration": 7,
    "start_time": "2025-02-17T12:23:07.690Z"
   },
   {
    "duration": 4160,
    "start_time": "2025-02-17T12:23:07.699Z"
   },
   {
    "duration": 7,
    "start_time": "2025-02-17T12:23:11.861Z"
   },
   {
    "duration": 421,
    "start_time": "2025-02-17T12:23:11.872Z"
   },
   {
    "duration": 3,
    "start_time": "2025-02-17T12:23:12.296Z"
   },
   {
    "duration": 33,
    "start_time": "2025-02-17T12:23:12.301Z"
   },
   {
    "duration": 6761,
    "start_time": "2025-02-17T12:23:12.336Z"
   },
   {
    "duration": 3,
    "start_time": "2025-02-17T12:23:19.098Z"
   },
   {
    "duration": 9,
    "start_time": "2025-02-17T12:23:19.103Z"
   },
   {
    "duration": 2,
    "start_time": "2025-02-17T12:23:19.114Z"
   },
   {
    "duration": 10,
    "start_time": "2025-02-17T12:23:19.118Z"
   },
   {
    "duration": 14,
    "start_time": "2025-02-17T12:23:19.129Z"
   },
   {
    "duration": 58025,
    "start_time": "2025-02-17T12:23:19.144Z"
   },
   {
    "duration": 1308,
    "start_time": "2025-02-17T12:25:43.108Z"
   },
   {
    "duration": 941,
    "start_time": "2025-02-17T12:25:44.418Z"
   },
   {
    "duration": 12,
    "start_time": "2025-02-17T12:25:45.361Z"
   },
   {
    "duration": 42,
    "start_time": "2025-02-17T12:25:45.375Z"
   },
   {
    "duration": 80516,
    "start_time": "2025-02-17T12:25:45.418Z"
   },
   {
    "duration": 7,
    "start_time": "2025-02-17T12:27:05.936Z"
   },
   {
    "duration": 19,
    "start_time": "2025-02-17T12:27:05.944Z"
   },
   {
    "duration": 4132,
    "start_time": "2025-02-17T12:27:05.964Z"
   },
   {
    "duration": 11,
    "start_time": "2025-02-17T12:27:10.098Z"
   },
   {
    "duration": 429,
    "start_time": "2025-02-17T12:27:10.111Z"
   },
   {
    "duration": 2,
    "start_time": "2025-02-17T12:27:10.542Z"
   },
   {
    "duration": 35,
    "start_time": "2025-02-17T12:27:10.546Z"
   },
   {
    "duration": 6836,
    "start_time": "2025-02-17T12:27:10.583Z"
   },
   {
    "duration": 3,
    "start_time": "2025-02-17T12:27:17.420Z"
   },
   {
    "duration": 4,
    "start_time": "2025-02-17T12:27:17.425Z"
   },
   {
    "duration": 45688,
    "start_time": "2025-02-17T12:27:17.431Z"
   },
   {
    "duration": 14,
    "start_time": "2025-02-17T12:29:18.575Z"
   },
   {
    "duration": 20,
    "start_time": "2025-02-17T12:29:22.239Z"
   },
   {
    "duration": 5,
    "start_time": "2025-02-17T12:29:57.085Z"
   },
   {
    "duration": 4,
    "start_time": "2025-02-17T12:29:59.043Z"
   },
   {
    "duration": 40,
    "start_time": "2025-02-17T12:30:19.697Z"
   },
   {
    "duration": 37,
    "start_time": "2025-02-17T12:30:23.657Z"
   },
   {
    "duration": 1334,
    "start_time": "2025-02-17T12:30:59.228Z"
   },
   {
    "duration": 951,
    "start_time": "2025-02-17T12:31:00.564Z"
   },
   {
    "duration": 13,
    "start_time": "2025-02-17T12:31:01.517Z"
   },
   {
    "duration": 86,
    "start_time": "2025-02-17T12:31:01.531Z"
   },
   {
    "duration": 84276,
    "start_time": "2025-02-17T12:31:01.619Z"
   },
   {
    "duration": 14,
    "start_time": "2025-02-17T12:32:25.897Z"
   },
   {
    "duration": 5,
    "start_time": "2025-02-17T12:32:25.914Z"
   },
   {
    "duration": 4245,
    "start_time": "2025-02-17T12:32:25.920Z"
   },
   {
    "duration": 7,
    "start_time": "2025-02-17T12:32:30.168Z"
   },
   {
    "duration": 257,
    "start_time": "2025-02-17T12:32:30.176Z"
   },
   {
    "duration": 3,
    "start_time": "2025-02-17T12:32:30.435Z"
   },
   {
    "duration": 36,
    "start_time": "2025-02-17T12:32:30.440Z"
   },
   {
    "duration": 7160,
    "start_time": "2025-02-17T12:32:30.478Z"
   },
   {
    "duration": 2,
    "start_time": "2025-02-17T12:32:37.641Z"
   },
   {
    "duration": 6,
    "start_time": "2025-02-17T12:32:37.645Z"
   },
   {
    "duration": 1258,
    "start_time": "2025-02-17T12:38:33.768Z"
   },
   {
    "duration": 965,
    "start_time": "2025-02-17T12:38:35.027Z"
   },
   {
    "duration": 19,
    "start_time": "2025-02-17T12:38:35.994Z"
   },
   {
    "duration": 97,
    "start_time": "2025-02-17T12:38:36.015Z"
   },
   {
    "duration": 82198,
    "start_time": "2025-02-17T12:38:36.113Z"
   },
   {
    "duration": 7,
    "start_time": "2025-02-17T12:39:58.313Z"
   },
   {
    "duration": 13,
    "start_time": "2025-02-17T12:39:58.322Z"
   },
   {
    "duration": 4112,
    "start_time": "2025-02-17T12:39:58.336Z"
   },
   {
    "duration": 6,
    "start_time": "2025-02-17T12:40:02.450Z"
   },
   {
    "duration": 2050,
    "start_time": "2025-02-17T12:40:02.458Z"
   },
   {
    "duration": 2,
    "start_time": "2025-02-17T12:40:04.510Z"
   },
   {
    "duration": 41,
    "start_time": "2025-02-17T12:40:04.514Z"
   },
   {
    "duration": 6793,
    "start_time": "2025-02-17T12:40:04.556Z"
   },
   {
    "duration": 3,
    "start_time": "2025-02-17T12:40:11.351Z"
   },
   {
    "duration": 8,
    "start_time": "2025-02-17T12:40:11.355Z"
   },
   {
    "duration": 1383,
    "start_time": "2025-02-17T12:49:19.173Z"
   },
   {
    "duration": 996,
    "start_time": "2025-02-17T12:49:20.557Z"
   },
   {
    "duration": 14,
    "start_time": "2025-02-17T12:49:21.554Z"
   },
   {
    "duration": 103,
    "start_time": "2025-02-17T12:49:21.569Z"
   },
   {
    "duration": 81162,
    "start_time": "2025-02-17T12:49:21.673Z"
   },
   {
    "duration": 7,
    "start_time": "2025-02-17T12:50:42.837Z"
   },
   {
    "duration": 2,
    "start_time": "2025-02-17T12:50:42.846Z"
   },
   {
    "duration": 4116,
    "start_time": "2025-02-17T12:50:42.850Z"
   },
   {
    "duration": 7,
    "start_time": "2025-02-17T12:50:46.968Z"
   },
   {
    "duration": 163,
    "start_time": "2025-02-17T12:50:46.977Z"
   },
   {
    "duration": 3,
    "start_time": "2025-02-17T12:50:47.141Z"
   },
   {
    "duration": 23,
    "start_time": "2025-02-17T12:50:47.146Z"
   },
   {
    "duration": 6804,
    "start_time": "2025-02-17T12:50:47.171Z"
   },
   {
    "duration": 3,
    "start_time": "2025-02-17T12:50:53.977Z"
   },
   {
    "duration": 4,
    "start_time": "2025-02-17T12:50:53.981Z"
   },
   {
    "duration": 36,
    "start_time": "2025-02-17T12:50:53.987Z"
   },
   {
    "duration": 284488,
    "start_time": "2025-02-17T12:50:54.024Z"
   },
   {
    "duration": 0,
    "start_time": "2025-02-17T12:55:38.514Z"
   },
   {
    "duration": 1242,
    "start_time": "2025-02-17T12:55:40.759Z"
   },
   {
    "duration": 958,
    "start_time": "2025-02-17T12:55:42.003Z"
   },
   {
    "duration": 13,
    "start_time": "2025-02-17T12:55:42.962Z"
   },
   {
    "duration": 46,
    "start_time": "2025-02-17T12:55:42.977Z"
   },
   {
    "duration": 80061,
    "start_time": "2025-02-17T12:55:43.025Z"
   },
   {
    "duration": 7,
    "start_time": "2025-02-17T12:57:03.087Z"
   },
   {
    "duration": 6806,
    "start_time": "2025-02-17T12:57:07.586Z"
   },
   {
    "duration": 3,
    "start_time": "2025-02-17T12:57:14.394Z"
   },
   {
    "duration": 12,
    "start_time": "2025-02-17T12:57:14.398Z"
   },
   {
    "duration": 30,
    "start_time": "2025-02-17T12:57:14.411Z"
   },
   {
    "duration": 84968,
    "start_time": "2025-02-17T12:57:14.443Z"
   },
   {
    "duration": 0,
    "start_time": "2025-02-17T12:58:39.414Z"
   },
   {
    "duration": 1331,
    "start_time": "2025-02-17T12:58:42.887Z"
   },
   {
    "duration": 938,
    "start_time": "2025-02-17T12:58:44.219Z"
   },
   {
    "duration": 14,
    "start_time": "2025-02-17T12:58:45.159Z"
   },
   {
    "duration": 65,
    "start_time": "2025-02-17T12:58:45.175Z"
   },
   {
    "duration": 80752,
    "start_time": "2025-02-17T12:58:45.241Z"
   },
   {
    "duration": 15,
    "start_time": "2025-02-17T13:00:05.995Z"
   },
   {
    "duration": 48,
    "start_time": "2025-02-17T13:00:06.011Z"
   },
   {
    "duration": 4360,
    "start_time": "2025-02-17T13:00:06.060Z"
   },
   {
    "duration": 7,
    "start_time": "2025-02-17T13:00:10.422Z"
   },
   {
    "duration": 294,
    "start_time": "2025-02-17T13:00:10.431Z"
   },
   {
    "duration": 3,
    "start_time": "2025-02-17T13:00:10.727Z"
   },
   {
    "duration": 30,
    "start_time": "2025-02-17T13:00:10.731Z"
   },
   {
    "duration": 6896,
    "start_time": "2025-02-17T13:00:10.762Z"
   },
   {
    "duration": 3,
    "start_time": "2025-02-17T13:00:17.660Z"
   },
   {
    "duration": 17,
    "start_time": "2025-02-17T13:00:17.664Z"
   },
   {
    "duration": 28,
    "start_time": "2025-02-17T13:00:17.683Z"
   },
   {
    "duration": 184055,
    "start_time": "2025-02-17T13:00:17.713Z"
   },
   {
    "duration": 23,
    "start_time": "2025-02-17T13:03:21.769Z"
   },
   {
    "duration": 1349,
    "start_time": "2025-02-17T13:23:48.693Z"
   },
   {
    "duration": 947,
    "start_time": "2025-02-17T13:23:50.044Z"
   },
   {
    "duration": 23,
    "start_time": "2025-02-17T13:23:50.995Z"
   },
   {
    "duration": 35,
    "start_time": "2025-02-17T13:23:51.020Z"
   },
   {
    "duration": 86916,
    "start_time": "2025-02-17T13:23:51.057Z"
   },
   {
    "duration": 7,
    "start_time": "2025-02-17T13:25:17.975Z"
   },
   {
    "duration": 4,
    "start_time": "2025-02-17T13:25:17.984Z"
   },
   {
    "duration": 4305,
    "start_time": "2025-02-17T13:25:17.989Z"
   },
   {
    "duration": 14,
    "start_time": "2025-02-17T13:25:22.297Z"
   },
   {
    "duration": 456,
    "start_time": "2025-02-17T13:25:22.313Z"
   },
   {
    "duration": 3,
    "start_time": "2025-02-17T13:25:22.771Z"
   },
   {
    "duration": 30,
    "start_time": "2025-02-17T13:25:22.776Z"
   },
   {
    "duration": 7294,
    "start_time": "2025-02-17T13:25:22.809Z"
   },
   {
    "duration": 4,
    "start_time": "2025-02-17T13:25:30.106Z"
   },
   {
    "duration": 34,
    "start_time": "2025-02-17T13:25:30.111Z"
   },
   {
    "duration": 315265,
    "start_time": "2025-02-17T13:25:30.146Z"
   },
   {
    "duration": 132,
    "start_time": "2025-02-17T13:30:45.413Z"
   },
   {
    "duration": 17,
    "start_time": "2025-02-17T13:30:45.547Z"
   },
   {
    "duration": 124,
    "start_time": "2025-02-17T13:33:13.557Z"
   },
   {
    "duration": 1324,
    "start_time": "2025-02-17T13:34:07.309Z"
   },
   {
    "duration": 1004,
    "start_time": "2025-02-17T13:34:08.635Z"
   },
   {
    "duration": 14,
    "start_time": "2025-02-17T13:34:09.641Z"
   },
   {
    "duration": 52,
    "start_time": "2025-02-17T13:34:09.657Z"
   },
   {
    "duration": 91978,
    "start_time": "2025-02-17T13:34:09.711Z"
   },
   {
    "duration": 8,
    "start_time": "2025-02-17T13:35:41.691Z"
   },
   {
    "duration": 32,
    "start_time": "2025-02-17T13:35:41.708Z"
   },
   {
    "duration": 4396,
    "start_time": "2025-02-17T13:35:41.742Z"
   },
   {
    "duration": 7,
    "start_time": "2025-02-17T13:35:46.140Z"
   },
   {
    "duration": 259,
    "start_time": "2025-02-17T13:35:46.149Z"
   },
   {
    "duration": 3,
    "start_time": "2025-02-17T13:35:46.410Z"
   },
   {
    "duration": 38,
    "start_time": "2025-02-17T13:35:46.415Z"
   },
   {
    "duration": 7235,
    "start_time": "2025-02-17T13:35:46.455Z"
   },
   {
    "duration": 3,
    "start_time": "2025-02-17T13:35:53.692Z"
   },
   {
    "duration": 64,
    "start_time": "2025-02-17T13:35:53.697Z"
   },
   {
    "duration": 131,
    "start_time": "2025-02-17T13:35:53.763Z"
   },
   {
    "duration": 0,
    "start_time": "2025-02-17T13:35:53.895Z"
   },
   {
    "duration": 0,
    "start_time": "2025-02-17T13:35:53.897Z"
   },
   {
    "duration": 0,
    "start_time": "2025-02-17T13:35:53.898Z"
   },
   {
    "duration": 1373,
    "start_time": "2025-02-17T13:35:58.299Z"
   },
   {
    "duration": 967,
    "start_time": "2025-02-17T13:35:59.675Z"
   },
   {
    "duration": 12,
    "start_time": "2025-02-17T13:36:00.643Z"
   },
   {
    "duration": 60,
    "start_time": "2025-02-17T13:36:00.657Z"
   },
   {
    "duration": 87624,
    "start_time": "2025-02-17T13:36:00.719Z"
   },
   {
    "duration": 7,
    "start_time": "2025-02-17T13:37:28.345Z"
   },
   {
    "duration": 10,
    "start_time": "2025-02-17T13:37:28.353Z"
   },
   {
    "duration": 4359,
    "start_time": "2025-02-17T13:37:28.365Z"
   },
   {
    "duration": 6,
    "start_time": "2025-02-17T13:37:32.727Z"
   },
   {
    "duration": 329,
    "start_time": "2025-02-17T13:37:32.735Z"
   },
   {
    "duration": 2,
    "start_time": "2025-02-17T13:37:33.066Z"
   },
   {
    "duration": 29,
    "start_time": "2025-02-17T13:37:33.069Z"
   },
   {
    "duration": 6987,
    "start_time": "2025-02-17T13:37:33.100Z"
   },
   {
    "duration": 3,
    "start_time": "2025-02-17T13:37:40.090Z"
   },
   {
    "duration": 26,
    "start_time": "2025-02-17T13:37:40.094Z"
   },
   {
    "duration": 118,
    "start_time": "2025-02-17T13:37:40.122Z"
   },
   {
    "duration": 0,
    "start_time": "2025-02-17T13:37:40.242Z"
   },
   {
    "duration": 0,
    "start_time": "2025-02-17T13:37:40.243Z"
   },
   {
    "duration": 0,
    "start_time": "2025-02-17T13:37:40.244Z"
   },
   {
    "duration": 11,
    "start_time": "2025-02-17T13:38:11.051Z"
   },
   {
    "duration": 4,
    "start_time": "2025-02-17T13:38:32.441Z"
   },
   {
    "duration": 4,
    "start_time": "2025-02-17T13:38:33.537Z"
   },
   {
    "duration": 3,
    "start_time": "2025-02-17T13:38:34.457Z"
   },
   {
    "duration": 115704,
    "start_time": "2025-02-17T13:38:36.369Z"
   },
   {
    "duration": 1374,
    "start_time": "2025-02-17T13:40:34.196Z"
   },
   {
    "duration": 959,
    "start_time": "2025-02-17T13:40:35.572Z"
   },
   {
    "duration": 14,
    "start_time": "2025-02-17T13:40:36.532Z"
   },
   {
    "duration": 46,
    "start_time": "2025-02-17T13:40:36.547Z"
   },
   {
    "duration": 80979,
    "start_time": "2025-02-17T13:40:36.595Z"
   },
   {
    "duration": 8,
    "start_time": "2025-02-17T13:41:57.576Z"
   },
   {
    "duration": 5,
    "start_time": "2025-02-17T13:41:57.585Z"
   },
   {
    "duration": 4123,
    "start_time": "2025-02-17T13:41:57.591Z"
   },
   {
    "duration": 7,
    "start_time": "2025-02-17T13:42:01.716Z"
   },
   {
    "duration": 2355,
    "start_time": "2025-02-17T13:42:01.726Z"
   },
   {
    "duration": 2,
    "start_time": "2025-02-17T13:42:04.083Z"
   },
   {
    "duration": 38,
    "start_time": "2025-02-17T13:42:04.086Z"
   },
   {
    "duration": 6992,
    "start_time": "2025-02-17T13:42:04.126Z"
   },
   {
    "duration": 3,
    "start_time": "2025-02-17T13:42:11.119Z"
   },
   {
    "duration": 18,
    "start_time": "2025-02-17T13:42:11.124Z"
   },
   {
    "duration": 3,
    "start_time": "2025-02-17T13:42:11.143Z"
   },
   {
    "duration": 5,
    "start_time": "2025-02-17T13:42:11.148Z"
   },
   {
    "duration": 3,
    "start_time": "2025-02-17T13:42:11.155Z"
   },
   {
    "duration": 174,
    "start_time": "2025-02-17T13:42:11.159Z"
   },
   {
    "duration": 1267,
    "start_time": "2025-02-17T13:43:35.846Z"
   },
   {
    "duration": 946,
    "start_time": "2025-02-17T13:43:37.115Z"
   },
   {
    "duration": 13,
    "start_time": "2025-02-17T13:43:38.062Z"
   },
   {
    "duration": 64,
    "start_time": "2025-02-17T13:43:38.076Z"
   },
   {
    "duration": 81404,
    "start_time": "2025-02-17T13:43:38.142Z"
   },
   {
    "duration": 8,
    "start_time": "2025-02-17T13:44:59.548Z"
   },
   {
    "duration": 3,
    "start_time": "2025-02-17T13:44:59.558Z"
   },
   {
    "duration": 4159,
    "start_time": "2025-02-17T13:44:59.563Z"
   },
   {
    "duration": 7,
    "start_time": "2025-02-17T13:45:03.724Z"
   },
   {
    "duration": 273,
    "start_time": "2025-02-17T13:45:03.733Z"
   },
   {
    "duration": 2,
    "start_time": "2025-02-17T13:45:04.009Z"
   },
   {
    "duration": 43,
    "start_time": "2025-02-17T13:45:04.013Z"
   },
   {
    "duration": 6824,
    "start_time": "2025-02-17T13:45:04.058Z"
   },
   {
    "duration": 3,
    "start_time": "2025-02-17T13:45:10.885Z"
   },
   {
    "duration": 7,
    "start_time": "2025-02-17T13:45:10.889Z"
   },
   {
    "duration": 15,
    "start_time": "2025-02-17T13:45:10.898Z"
   },
   {
    "duration": 11,
    "start_time": "2025-02-17T13:45:10.915Z"
   },
   {
    "duration": 6,
    "start_time": "2025-02-17T13:45:10.927Z"
   },
   {
    "duration": 1461,
    "start_time": "2025-02-18T06:20:56.705Z"
   },
   {
    "duration": 981,
    "start_time": "2025-02-18T06:20:58.168Z"
   },
   {
    "duration": 15,
    "start_time": "2025-02-18T06:20:59.151Z"
   },
   {
    "duration": 49,
    "start_time": "2025-02-18T06:20:59.168Z"
   },
   {
    "duration": 95189,
    "start_time": "2025-02-18T06:20:59.221Z"
   },
   {
    "duration": 7,
    "start_time": "2025-02-18T06:22:34.413Z"
   },
   {
    "duration": 4,
    "start_time": "2025-02-18T06:22:34.421Z"
   },
   {
    "duration": 4558,
    "start_time": "2025-02-18T06:22:34.427Z"
   },
   {
    "duration": 14,
    "start_time": "2025-02-18T06:22:38.987Z"
   },
   {
    "duration": 1491,
    "start_time": "2025-02-18T06:22:39.002Z"
   },
   {
    "duration": 4,
    "start_time": "2025-02-18T06:22:40.494Z"
   },
   {
    "duration": 29,
    "start_time": "2025-02-18T06:22:40.499Z"
   },
   {
    "duration": 7877,
    "start_time": "2025-02-18T06:22:40.530Z"
   },
   {
    "duration": 3,
    "start_time": "2025-02-18T06:22:48.410Z"
   },
   {
    "duration": 18,
    "start_time": "2025-02-18T06:22:48.416Z"
   },
   {
    "duration": 9,
    "start_time": "2025-02-18T06:22:48.436Z"
   },
   {
    "duration": 5,
    "start_time": "2025-02-18T06:22:48.447Z"
   },
   {
    "duration": 7,
    "start_time": "2025-02-18T06:22:48.455Z"
   },
   {
    "duration": 1491,
    "start_time": "2025-02-18T06:23:12.939Z"
   },
   {
    "duration": 1018,
    "start_time": "2025-02-18T06:23:14.433Z"
   },
   {
    "duration": 16,
    "start_time": "2025-02-18T06:23:15.453Z"
   },
   {
    "duration": 52,
    "start_time": "2025-02-18T06:23:15.472Z"
   },
   {
    "duration": 95173,
    "start_time": "2025-02-18T06:23:15.526Z"
   },
   {
    "duration": 7,
    "start_time": "2025-02-18T06:24:50.702Z"
   },
   {
    "duration": 47,
    "start_time": "2025-02-18T06:24:50.711Z"
   },
   {
    "duration": 4619,
    "start_time": "2025-02-18T06:24:50.760Z"
   },
   {
    "duration": 8,
    "start_time": "2025-02-18T06:24:55.381Z"
   },
   {
    "duration": 388,
    "start_time": "2025-02-18T06:24:55.400Z"
   },
   {
    "duration": 3,
    "start_time": "2025-02-18T06:24:55.791Z"
   },
   {
    "duration": 47,
    "start_time": "2025-02-18T06:24:55.795Z"
   },
   {
    "duration": 7725,
    "start_time": "2025-02-18T06:24:55.844Z"
   },
   {
    "duration": 3,
    "start_time": "2025-02-18T06:25:03.571Z"
   },
   {
    "duration": 38,
    "start_time": "2025-02-18T06:25:03.576Z"
   },
   {
    "duration": 16,
    "start_time": "2025-02-18T06:25:03.616Z"
   },
   {
    "duration": 27,
    "start_time": "2025-02-18T06:25:03.634Z"
   },
   {
    "duration": 78,
    "start_time": "2025-02-18T06:25:03.662Z"
   },
   {
    "duration": 1579,
    "start_time": "2025-02-18T06:41:11.382Z"
   },
   {
    "duration": 1770,
    "start_time": "2025-02-18T06:41:12.963Z"
   },
   {
    "duration": 16,
    "start_time": "2025-02-18T06:41:14.734Z"
   },
   {
    "duration": 36,
    "start_time": "2025-02-18T06:41:14.752Z"
   },
   {
    "duration": 96811,
    "start_time": "2025-02-18T06:41:14.798Z"
   },
   {
    "duration": 8,
    "start_time": "2025-02-18T06:42:51.611Z"
   },
   {
    "duration": 9,
    "start_time": "2025-02-18T06:42:51.622Z"
   },
   {
    "duration": 4566,
    "start_time": "2025-02-18T06:42:51.633Z"
   },
   {
    "duration": 8,
    "start_time": "2025-02-18T06:42:56.201Z"
   },
   {
    "duration": 233,
    "start_time": "2025-02-18T06:42:56.212Z"
   },
   {
    "duration": 3,
    "start_time": "2025-02-18T06:42:56.447Z"
   },
   {
    "duration": 26,
    "start_time": "2025-02-18T06:42:56.452Z"
   },
   {
    "duration": 7800,
    "start_time": "2025-02-18T06:42:56.480Z"
   },
   {
    "duration": 4,
    "start_time": "2025-02-18T06:43:04.283Z"
   },
   {
    "duration": 24,
    "start_time": "2025-02-18T06:43:04.289Z"
   },
   {
    "duration": 15,
    "start_time": "2025-02-18T06:43:04.315Z"
   },
   {
    "duration": 24,
    "start_time": "2025-02-18T06:43:04.332Z"
   },
   {
    "duration": 153,
    "start_time": "2025-02-18T06:43:04.358Z"
   },
   {
    "duration": 0,
    "start_time": "2025-02-18T06:43:04.514Z"
   },
   {
    "duration": 4,
    "start_time": "2025-02-18T06:45:56.702Z"
   },
   {
    "duration": 4,
    "start_time": "2025-02-18T07:38:51.549Z"
   },
   {
    "duration": 1427,
    "start_time": "2025-02-18T07:38:56.341Z"
   },
   {
    "duration": 1029,
    "start_time": "2025-02-18T07:38:57.771Z"
   },
   {
    "duration": 13,
    "start_time": "2025-02-18T07:38:58.804Z"
   },
   {
    "duration": 33,
    "start_time": "2025-02-18T07:38:58.819Z"
   },
   {
    "duration": 91063,
    "start_time": "2025-02-18T07:38:58.853Z"
   },
   {
    "duration": 8,
    "start_time": "2025-02-18T07:40:29.918Z"
   },
   {
    "duration": 11,
    "start_time": "2025-02-18T07:40:29.928Z"
   },
   {
    "duration": 4618,
    "start_time": "2025-02-18T07:40:29.941Z"
   },
   {
    "duration": 8,
    "start_time": "2025-02-18T07:40:34.562Z"
   },
   {
    "duration": 260,
    "start_time": "2025-02-18T07:40:34.573Z"
   },
   {
    "duration": 3,
    "start_time": "2025-02-18T07:40:34.835Z"
   },
   {
    "duration": 44,
    "start_time": "2025-02-18T07:40:34.839Z"
   },
   {
    "duration": 7800,
    "start_time": "2025-02-18T07:40:34.884Z"
   },
   {
    "duration": 3,
    "start_time": "2025-02-18T07:40:42.686Z"
   },
   {
    "duration": 7,
    "start_time": "2025-02-18T07:40:42.700Z"
   },
   {
    "duration": 13,
    "start_time": "2025-02-18T07:40:42.708Z"
   },
   {
    "duration": 6,
    "start_time": "2025-02-18T07:40:42.723Z"
   },
   {
    "duration": 4,
    "start_time": "2025-02-18T07:40:42.731Z"
   },
   {
    "duration": 100,
    "start_time": "2025-02-18T07:40:42.736Z"
   },
   {
    "duration": 4,
    "start_time": "2025-02-18T07:41:28.335Z"
   },
   {
    "duration": 151,
    "start_time": "2025-02-18T07:42:29.858Z"
   },
   {
    "duration": 2,
    "start_time": "2025-02-18T07:42:46.368Z"
   },
   {
    "duration": 3,
    "start_time": "2025-02-18T07:42:46.768Z"
   },
   {
    "duration": 3,
    "start_time": "2025-02-18T07:42:47.128Z"
   },
   {
    "duration": 37,
    "start_time": "2025-02-18T07:42:47.480Z"
   },
   {
    "duration": 3,
    "start_time": "2025-02-18T07:43:20.932Z"
   },
   {
    "duration": 5,
    "start_time": "2025-02-18T07:43:21.220Z"
   },
   {
    "duration": 3,
    "start_time": "2025-02-18T07:43:26.949Z"
   },
   {
    "duration": 2,
    "start_time": "2025-02-18T07:43:27.301Z"
   },
   {
    "duration": 219631,
    "start_time": "2025-02-18T07:43:27.684Z"
   },
   {
    "duration": 1775,
    "start_time": "2025-02-18T07:47:10.291Z"
   },
   {
    "duration": 1069,
    "start_time": "2025-02-18T07:47:12.068Z"
   },
   {
    "duration": 15,
    "start_time": "2025-02-18T07:47:13.138Z"
   },
   {
    "duration": 48,
    "start_time": "2025-02-18T07:47:13.155Z"
   },
   {
    "duration": 89820,
    "start_time": "2025-02-18T07:47:13.204Z"
   },
   {
    "duration": 8,
    "start_time": "2025-02-18T07:48:43.026Z"
   },
   {
    "duration": 44,
    "start_time": "2025-02-18T07:48:43.036Z"
   },
   {
    "duration": 4508,
    "start_time": "2025-02-18T07:48:43.082Z"
   },
   {
    "duration": 12,
    "start_time": "2025-02-18T07:48:47.592Z"
   },
   {
    "duration": 185,
    "start_time": "2025-02-18T07:48:47.607Z"
   },
   {
    "duration": 3,
    "start_time": "2025-02-18T07:48:47.794Z"
   },
   {
    "duration": 46,
    "start_time": "2025-02-18T07:48:47.799Z"
   },
   {
    "duration": 7758,
    "start_time": "2025-02-18T07:48:47.847Z"
   },
   {
    "duration": 3,
    "start_time": "2025-02-18T07:48:55.607Z"
   },
   {
    "duration": 31,
    "start_time": "2025-02-18T07:48:55.612Z"
   },
   {
    "duration": 3,
    "start_time": "2025-02-18T07:48:55.645Z"
   },
   {
    "duration": 4,
    "start_time": "2025-02-18T07:48:55.650Z"
   },
   {
    "duration": 8,
    "start_time": "2025-02-18T07:48:55.656Z"
   },
   {
    "duration": 4,
    "start_time": "2025-02-18T07:48:55.666Z"
   },
   {
    "duration": 0,
    "start_time": "2025-02-18T07:52:43.946Z"
   },
   {
    "duration": 0,
    "start_time": "2025-02-18T07:52:43.948Z"
   },
   {
    "duration": 0,
    "start_time": "2025-02-18T07:52:43.952Z"
   },
   {
    "duration": 0,
    "start_time": "2025-02-18T07:52:43.954Z"
   },
   {
    "duration": 1528,
    "start_time": "2025-02-18T07:52:46.383Z"
   },
   {
    "duration": 1095,
    "start_time": "2025-02-18T07:52:47.913Z"
   },
   {
    "duration": 14,
    "start_time": "2025-02-18T07:52:49.009Z"
   },
   {
    "duration": 55,
    "start_time": "2025-02-18T07:52:49.026Z"
   },
   {
    "duration": 91778,
    "start_time": "2025-02-18T07:52:49.082Z"
   },
   {
    "duration": 9,
    "start_time": "2025-02-18T07:54:20.862Z"
   },
   {
    "duration": 30,
    "start_time": "2025-02-18T07:54:20.873Z"
   },
   {
    "duration": 4474,
    "start_time": "2025-02-18T07:54:20.905Z"
   },
   {
    "duration": 8,
    "start_time": "2025-02-18T07:54:25.381Z"
   },
   {
    "duration": 254,
    "start_time": "2025-02-18T07:54:25.398Z"
   },
   {
    "duration": 2,
    "start_time": "2025-02-18T07:54:25.654Z"
   },
   {
    "duration": 31,
    "start_time": "2025-02-18T07:54:25.658Z"
   },
   {
    "duration": 7735,
    "start_time": "2025-02-18T07:54:25.690Z"
   },
   {
    "duration": 3,
    "start_time": "2025-02-18T07:54:33.427Z"
   },
   {
    "duration": 34,
    "start_time": "2025-02-18T07:54:33.432Z"
   },
   {
    "duration": 4,
    "start_time": "2025-02-18T07:54:33.468Z"
   },
   {
    "duration": 35,
    "start_time": "2025-02-18T07:54:33.474Z"
   },
   {
    "duration": 14,
    "start_time": "2025-02-18T07:54:33.510Z"
   },
   {
    "duration": 9,
    "start_time": "2025-02-18T07:54:33.525Z"
   },
   {
    "duration": 0,
    "start_time": "2025-02-18T07:55:51.650Z"
   },
   {
    "duration": 0,
    "start_time": "2025-02-18T07:55:51.652Z"
   },
   {
    "duration": 1,
    "start_time": "2025-02-18T07:55:51.652Z"
   },
   {
    "duration": 0,
    "start_time": "2025-02-18T07:55:51.653Z"
   },
   {
    "duration": 1409,
    "start_time": "2025-02-18T07:55:54.199Z"
   },
   {
    "duration": 1038,
    "start_time": "2025-02-18T07:55:55.610Z"
   },
   {
    "duration": 14,
    "start_time": "2025-02-18T07:55:56.650Z"
   },
   {
    "duration": 43,
    "start_time": "2025-02-18T07:55:56.666Z"
   },
   {
    "duration": 88527,
    "start_time": "2025-02-18T07:55:56.712Z"
   },
   {
    "duration": 9,
    "start_time": "2025-02-18T07:57:25.241Z"
   },
   {
    "duration": 12,
    "start_time": "2025-02-18T07:57:25.251Z"
   },
   {
    "duration": 4522,
    "start_time": "2025-02-18T07:57:25.265Z"
   },
   {
    "duration": 13,
    "start_time": "2025-02-18T07:57:29.789Z"
   },
   {
    "duration": 232,
    "start_time": "2025-02-18T07:57:29.804Z"
   },
   {
    "duration": 3,
    "start_time": "2025-02-18T07:57:30.038Z"
   },
   {
    "duration": 74,
    "start_time": "2025-02-18T07:57:30.042Z"
   },
   {
    "duration": 7853,
    "start_time": "2025-02-18T07:57:30.118Z"
   },
   {
    "duration": 3,
    "start_time": "2025-02-18T07:57:37.974Z"
   },
   {
    "duration": 27,
    "start_time": "2025-02-18T07:57:37.979Z"
   },
   {
    "duration": 29,
    "start_time": "2025-02-18T07:57:38.008Z"
   },
   {
    "duration": 23,
    "start_time": "2025-02-18T07:57:38.039Z"
   },
   {
    "duration": 5,
    "start_time": "2025-02-18T07:57:38.063Z"
   },
   {
    "duration": 5,
    "start_time": "2025-02-18T07:57:38.069Z"
   },
   {
    "duration": 0,
    "start_time": "2025-02-18T08:00:53.952Z"
   },
   {
    "duration": 0,
    "start_time": "2025-02-18T08:00:53.954Z"
   },
   {
    "duration": 0,
    "start_time": "2025-02-18T08:00:53.956Z"
   },
   {
    "duration": 0,
    "start_time": "2025-02-18T08:00:53.958Z"
   },
   {
    "duration": 0,
    "start_time": "2025-02-18T08:00:53.960Z"
   },
   {
    "duration": 0,
    "start_time": "2025-02-18T08:00:53.962Z"
   },
   {
    "duration": 0,
    "start_time": "2025-02-18T08:00:53.964Z"
   },
   {
    "duration": 1341,
    "start_time": "2025-02-18T08:00:56.536Z"
   },
   {
    "duration": 1041,
    "start_time": "2025-02-18T08:00:57.879Z"
   },
   {
    "duration": 14,
    "start_time": "2025-02-18T08:00:58.922Z"
   },
   {
    "duration": 40,
    "start_time": "2025-02-18T08:00:58.939Z"
   },
   {
    "duration": 89742,
    "start_time": "2025-02-18T08:00:58.981Z"
   },
   {
    "duration": 8,
    "start_time": "2025-02-18T08:02:28.725Z"
   },
   {
    "duration": 9,
    "start_time": "2025-02-18T08:02:28.735Z"
   },
   {
    "duration": 4528,
    "start_time": "2025-02-18T08:02:28.745Z"
   },
   {
    "duration": 8,
    "start_time": "2025-02-18T08:02:33.275Z"
   },
   {
    "duration": 244,
    "start_time": "2025-02-18T08:02:33.285Z"
   },
   {
    "duration": 3,
    "start_time": "2025-02-18T08:02:33.530Z"
   },
   {
    "duration": 54,
    "start_time": "2025-02-18T08:02:33.534Z"
   },
   {
    "duration": 7628,
    "start_time": "2025-02-18T08:02:33.590Z"
   },
   {
    "duration": 3,
    "start_time": "2025-02-18T08:02:41.220Z"
   },
   {
    "duration": 11,
    "start_time": "2025-02-18T08:02:41.224Z"
   },
   {
    "duration": 6,
    "start_time": "2025-02-18T08:02:41.236Z"
   },
   {
    "duration": 10,
    "start_time": "2025-02-18T08:02:41.243Z"
   },
   {
    "duration": 4,
    "start_time": "2025-02-18T08:02:41.255Z"
   },
   {
    "duration": 9,
    "start_time": "2025-02-18T08:02:41.261Z"
   },
   {
    "duration": 114459,
    "start_time": "2025-02-18T08:02:41.272Z"
   },
   {
    "duration": 3,
    "start_time": "2025-02-18T08:04:35.733Z"
   },
   {
    "duration": 11,
    "start_time": "2025-02-18T08:04:35.738Z"
   },
   {
    "duration": 12659,
    "start_time": "2025-02-18T08:08:42.883Z"
   },
   {
    "duration": 1478,
    "start_time": "2025-02-18T08:10:39.312Z"
   },
   {
    "duration": 1069,
    "start_time": "2025-02-18T08:10:40.792Z"
   },
   {
    "duration": 14,
    "start_time": "2025-02-18T08:10:41.863Z"
   },
   {
    "duration": 48,
    "start_time": "2025-02-18T08:10:41.879Z"
   },
   {
    "duration": 91215,
    "start_time": "2025-02-18T08:10:41.929Z"
   },
   {
    "duration": 9,
    "start_time": "2025-02-18T08:12:13.146Z"
   },
   {
    "duration": 4,
    "start_time": "2025-02-18T08:12:13.156Z"
   },
   {
    "duration": 4593,
    "start_time": "2025-02-18T08:12:13.162Z"
   },
   {
    "duration": 8,
    "start_time": "2025-02-18T08:12:17.758Z"
   },
   {
    "duration": 265,
    "start_time": "2025-02-18T08:12:17.768Z"
   },
   {
    "duration": 3,
    "start_time": "2025-02-18T08:12:18.035Z"
   },
   {
    "duration": 31,
    "start_time": "2025-02-18T08:12:18.039Z"
   },
   {
    "duration": 7827,
    "start_time": "2025-02-18T08:12:18.072Z"
   },
   {
    "duration": 3,
    "start_time": "2025-02-18T08:12:25.901Z"
   },
   {
    "duration": 16,
    "start_time": "2025-02-18T08:12:25.906Z"
   },
   {
    "duration": 12,
    "start_time": "2025-02-18T08:12:25.924Z"
   },
   {
    "duration": 16,
    "start_time": "2025-02-18T08:12:25.938Z"
   },
   {
    "duration": 17,
    "start_time": "2025-02-18T08:12:25.956Z"
   },
   {
    "duration": 19,
    "start_time": "2025-02-18T08:12:25.975Z"
   },
   {
    "duration": 114432,
    "start_time": "2025-02-18T08:12:25.996Z"
   },
   {
    "duration": 4,
    "start_time": "2025-02-18T08:14:20.429Z"
   },
   {
    "duration": 42,
    "start_time": "2025-02-18T08:14:20.435Z"
   },
   {
    "duration": 11,
    "start_time": "2025-02-18T08:14:20.479Z"
   },
   {
    "duration": 12731,
    "start_time": "2025-02-18T08:14:20.492Z"
   },
   {
    "duration": 22,
    "start_time": "2025-02-18T08:14:33.224Z"
   },
   {
    "duration": 12820,
    "start_time": "2025-02-18T08:14:37.794Z"
   },
   {
    "duration": 3,
    "start_time": "2025-02-18T08:15:58.900Z"
   },
   {
    "duration": 4,
    "start_time": "2025-02-18T08:15:59.628Z"
   },
   {
    "duration": 3,
    "start_time": "2025-02-18T08:16:15.099Z"
   },
   {
    "duration": 4,
    "start_time": "2025-02-18T08:16:15.667Z"
   },
   {
    "duration": 3,
    "start_time": "2025-02-18T08:16:16.130Z"
   },
   {
    "duration": 3,
    "start_time": "2025-02-18T08:16:28.913Z"
   },
   {
    "duration": 3,
    "start_time": "2025-02-18T08:17:12.206Z"
   },
   {
    "duration": 160,
    "start_time": "2025-02-18T08:17:30.212Z"
   },
   {
    "duration": 3,
    "start_time": "2025-02-18T08:18:07.816Z"
   },
   {
    "duration": 3,
    "start_time": "2025-02-18T08:18:08.233Z"
   },
   {
    "duration": 37,
    "start_time": "2025-02-18T08:18:08.649Z"
   },
   {
    "duration": 3,
    "start_time": "2025-02-18T08:20:13.526Z"
   },
   {
    "duration": 319074,
    "start_time": "2025-02-18T08:20:13.935Z"
   },
   {
    "duration": 0,
    "start_time": "2025-02-18T08:25:33.011Z"
   },
   {
    "duration": 1467,
    "start_time": "2025-02-18T08:25:35.941Z"
   },
   {
    "duration": 1172,
    "start_time": "2025-02-18T08:25:37.411Z"
   },
   {
    "duration": 16,
    "start_time": "2025-02-18T08:25:38.588Z"
   },
   {
    "duration": 60,
    "start_time": "2025-02-18T08:25:38.607Z"
   },
   {
    "duration": 88584,
    "start_time": "2025-02-18T08:25:38.669Z"
   },
   {
    "duration": 7,
    "start_time": "2025-02-18T08:27:07.256Z"
   },
   {
    "duration": 37,
    "start_time": "2025-02-18T08:27:07.265Z"
   },
   {
    "duration": 4525,
    "start_time": "2025-02-18T08:27:07.304Z"
   },
   {
    "duration": 7,
    "start_time": "2025-02-18T08:27:11.832Z"
   },
   {
    "duration": 179,
    "start_time": "2025-02-18T08:27:11.841Z"
   },
   {
    "duration": 3,
    "start_time": "2025-02-18T08:27:12.022Z"
   },
   {
    "duration": 29,
    "start_time": "2025-02-18T08:27:12.026Z"
   },
   {
    "duration": 7666,
    "start_time": "2025-02-18T08:27:12.058Z"
   },
   {
    "duration": 3,
    "start_time": "2025-02-18T08:27:19.726Z"
   },
   {
    "duration": 56,
    "start_time": "2025-02-18T08:27:19.730Z"
   },
   {
    "duration": 6,
    "start_time": "2025-02-18T08:27:19.787Z"
   },
   {
    "duration": 20,
    "start_time": "2025-02-18T08:27:19.794Z"
   },
   {
    "duration": 18,
    "start_time": "2025-02-18T08:27:19.816Z"
   },
   {
    "duration": 14,
    "start_time": "2025-02-18T08:27:19.836Z"
   },
   {
    "duration": 114383,
    "start_time": "2025-02-18T08:27:19.851Z"
   },
   {
    "duration": 4,
    "start_time": "2025-02-18T08:29:14.235Z"
   },
   {
    "duration": 10,
    "start_time": "2025-02-18T08:29:14.241Z"
   },
   {
    "duration": 8,
    "start_time": "2025-02-18T08:29:14.253Z"
   },
   {
    "duration": 12762,
    "start_time": "2025-02-18T08:29:14.262Z"
   },
   {
    "duration": 21,
    "start_time": "2025-02-18T08:29:27.026Z"
   },
   {
    "duration": 2,
    "start_time": "2025-02-18T08:29:27.049Z"
   },
   {
    "duration": 6,
    "start_time": "2025-02-18T08:29:27.053Z"
   },
   {
    "duration": 9,
    "start_time": "2025-02-18T08:29:27.061Z"
   },
   {
    "duration": 9,
    "start_time": "2025-02-18T08:29:27.072Z"
   },
   {
    "duration": 1485,
    "start_time": "2025-02-18T08:37:24.707Z"
   },
   {
    "duration": 1093,
    "start_time": "2025-02-18T08:37:26.195Z"
   },
   {
    "duration": 19,
    "start_time": "2025-02-18T08:37:27.289Z"
   },
   {
    "duration": 53,
    "start_time": "2025-02-18T08:37:27.310Z"
   },
   {
    "duration": 90669,
    "start_time": "2025-02-18T08:37:27.367Z"
   },
   {
    "duration": 8,
    "start_time": "2025-02-18T08:38:58.038Z"
   },
   {
    "duration": 6,
    "start_time": "2025-02-18T08:38:58.048Z"
   },
   {
    "duration": 4609,
    "start_time": "2025-02-18T08:38:58.056Z"
   },
   {
    "duration": 7,
    "start_time": "2025-02-18T08:39:02.667Z"
   },
   {
    "duration": 248,
    "start_time": "2025-02-18T08:39:02.676Z"
   },
   {
    "duration": 3,
    "start_time": "2025-02-18T08:39:02.925Z"
   },
   {
    "duration": 56,
    "start_time": "2025-02-18T08:39:02.929Z"
   },
   {
    "duration": 7629,
    "start_time": "2025-02-18T08:39:02.986Z"
   },
   {
    "duration": 3,
    "start_time": "2025-02-18T08:39:10.619Z"
   },
   {
    "duration": 31,
    "start_time": "2025-02-18T08:39:10.624Z"
   },
   {
    "duration": 5,
    "start_time": "2025-02-18T08:39:10.657Z"
   },
   {
    "duration": 7,
    "start_time": "2025-02-18T08:39:10.663Z"
   },
   {
    "duration": 4,
    "start_time": "2025-02-18T08:39:10.672Z"
   },
   {
    "duration": 5,
    "start_time": "2025-02-18T08:39:10.677Z"
   },
   {
    "duration": 114347,
    "start_time": "2025-02-18T08:39:10.683Z"
   },
   {
    "duration": 3,
    "start_time": "2025-02-18T08:41:05.032Z"
   },
   {
    "duration": 36,
    "start_time": "2025-02-18T08:41:05.037Z"
   },
   {
    "duration": 36,
    "start_time": "2025-02-18T08:41:05.075Z"
   },
   {
    "duration": 12718,
    "start_time": "2025-02-18T08:41:05.113Z"
   },
   {
    "duration": 23,
    "start_time": "2025-02-18T08:41:17.832Z"
   },
   {
    "duration": 2,
    "start_time": "2025-02-18T08:41:17.857Z"
   },
   {
    "duration": 10,
    "start_time": "2025-02-18T08:41:17.861Z"
   },
   {
    "duration": 28,
    "start_time": "2025-02-18T08:41:17.873Z"
   },
   {
    "duration": 23,
    "start_time": "2025-02-18T08:41:17.903Z"
   },
   {
    "duration": 624282,
    "start_time": "2025-02-18T08:41:17.928Z"
   },
   {
    "duration": 4,
    "start_time": "2025-02-18T08:55:52.894Z"
   },
   {
    "duration": 4,
    "start_time": "2025-02-18T08:56:01.598Z"
   },
   {
    "duration": 3,
    "start_time": "2025-02-18T08:57:03.128Z"
   },
   {
    "duration": 5245,
    "start_time": "2025-02-18T08:57:25.822Z"
   },
   {
    "duration": 54,
    "start_time": "2025-02-18T08:58:00.076Z"
   },
   {
    "duration": 3,
    "start_time": "2025-02-18T08:59:18.301Z"
   },
   {
    "duration": 3,
    "start_time": "2025-02-18T09:01:13.435Z"
   },
   {
    "duration": 74778,
    "start_time": "2025-02-18T09:01:13.439Z"
   },
   {
    "duration": 1520,
    "start_time": "2025-02-19T06:01:44.007Z"
   },
   {
    "duration": 1100,
    "start_time": "2025-02-19T06:01:45.529Z"
   },
   {
    "duration": 18,
    "start_time": "2025-02-19T06:01:46.630Z"
   },
   {
    "duration": 48,
    "start_time": "2025-02-19T06:01:46.650Z"
   },
   {
    "duration": 103449,
    "start_time": "2025-02-19T06:01:46.700Z"
   },
   {
    "duration": 21,
    "start_time": "2025-02-19T06:03:30.151Z"
   },
   {
    "duration": 29,
    "start_time": "2025-02-19T06:03:30.174Z"
   },
   {
    "duration": 4797,
    "start_time": "2025-02-19T06:03:30.205Z"
   },
   {
    "duration": 7,
    "start_time": "2025-02-19T06:03:35.005Z"
   },
   {
    "duration": 358,
    "start_time": "2025-02-19T06:03:35.015Z"
   },
   {
    "duration": 4,
    "start_time": "2025-02-19T06:03:35.376Z"
   },
   {
    "duration": 35,
    "start_time": "2025-02-19T06:03:35.383Z"
   },
   {
    "duration": 7979,
    "start_time": "2025-02-19T06:03:35.419Z"
   },
   {
    "duration": 4,
    "start_time": "2025-02-19T06:03:43.400Z"
   },
   {
    "duration": 7,
    "start_time": "2025-02-19T06:03:43.406Z"
   },
   {
    "duration": 4,
    "start_time": "2025-02-19T06:03:43.415Z"
   },
   {
    "duration": 15,
    "start_time": "2025-02-19T06:03:43.421Z"
   },
   {
    "duration": 5,
    "start_time": "2025-02-19T06:03:43.438Z"
   },
   {
    "duration": 7,
    "start_time": "2025-02-19T06:03:43.445Z"
   },
   {
    "duration": 4,
    "start_time": "2025-02-19T06:04:59.499Z"
   },
   {
    "duration": 10,
    "start_time": "2025-02-19T06:04:59.505Z"
   },
   {
    "duration": 3,
    "start_time": "2025-02-19T06:04:59.517Z"
   },
   {
    "duration": 1550,
    "start_time": "2025-02-19T06:05:08.167Z"
   },
   {
    "duration": 1079,
    "start_time": "2025-02-19T06:05:09.719Z"
   },
   {
    "duration": 14,
    "start_time": "2025-02-19T06:05:10.800Z"
   },
   {
    "duration": 34,
    "start_time": "2025-02-19T06:05:10.816Z"
   },
   {
    "duration": 116449,
    "start_time": "2025-02-19T06:05:10.871Z"
   },
   {
    "duration": 9,
    "start_time": "2025-02-19T06:07:07.322Z"
   },
   {
    "duration": 19,
    "start_time": "2025-02-19T06:07:07.333Z"
   },
   {
    "duration": 4785,
    "start_time": "2025-02-19T06:07:07.355Z"
   },
   {
    "duration": 7,
    "start_time": "2025-02-19T06:07:12.143Z"
   },
   {
    "duration": 249,
    "start_time": "2025-02-19T06:07:12.153Z"
   },
   {
    "duration": 3,
    "start_time": "2025-02-19T06:07:12.404Z"
   },
   {
    "duration": 42,
    "start_time": "2025-02-19T06:07:12.409Z"
   },
   {
    "duration": 8224,
    "start_time": "2025-02-19T06:07:12.453Z"
   },
   {
    "duration": 4,
    "start_time": "2025-02-19T06:07:20.680Z"
   },
   {
    "duration": 18,
    "start_time": "2025-02-19T06:07:20.687Z"
   },
   {
    "duration": 10,
    "start_time": "2025-02-19T06:07:20.707Z"
   },
   {
    "duration": 29,
    "start_time": "2025-02-19T06:07:20.719Z"
   },
   {
    "duration": 27,
    "start_time": "2025-02-19T06:07:20.750Z"
   },
   {
    "duration": 12,
    "start_time": "2025-02-19T06:07:20.779Z"
   },
   {
    "duration": 116300,
    "start_time": "2025-02-19T06:07:20.793Z"
   },
   {
    "duration": 4,
    "start_time": "2025-02-19T06:09:17.095Z"
   },
   {
    "duration": 4,
    "start_time": "2025-02-19T06:09:17.101Z"
   },
   {
    "duration": 3,
    "start_time": "2025-02-19T06:09:17.107Z"
   },
   {
    "duration": 13481,
    "start_time": "2025-02-19T06:09:17.112Z"
   },
   {
    "duration": 34,
    "start_time": "2025-02-19T06:09:30.595Z"
   },
   {
    "duration": 34,
    "start_time": "2025-02-19T06:09:30.631Z"
   },
   {
    "duration": 15,
    "start_time": "2025-02-19T06:09:30.668Z"
   },
   {
    "duration": 26,
    "start_time": "2025-02-19T06:09:30.688Z"
   },
   {
    "duration": 21,
    "start_time": "2025-02-19T06:09:30.716Z"
   },
   {
    "duration": 653613,
    "start_time": "2025-02-19T06:09:30.740Z"
   },
   {
    "duration": 5,
    "start_time": "2025-02-19T06:20:24.354Z"
   },
   {
    "duration": 19,
    "start_time": "2025-02-19T06:20:24.372Z"
   },
   {
    "duration": 4,
    "start_time": "2025-02-19T06:20:24.392Z"
   },
   {
    "duration": 5357,
    "start_time": "2025-02-19T06:20:24.397Z"
   },
   {
    "duration": 53,
    "start_time": "2025-02-19T06:20:29.756Z"
   },
   {
    "duration": 106,
    "start_time": "2025-02-19T06:21:41.450Z"
   },
   {
    "duration": 3,
    "start_time": "2025-02-19T06:22:22.550Z"
   },
   {
    "duration": 4,
    "start_time": "2025-02-19T06:22:50.021Z"
   },
   {
    "duration": 3,
    "start_time": "2025-02-19T06:23:09.795Z"
   },
   {
    "duration": 3,
    "start_time": "2025-02-19T06:23:30.242Z"
   },
   {
    "duration": 4,
    "start_time": "2025-02-19T06:23:30.672Z"
   },
   {
    "duration": 3,
    "start_time": "2025-02-19T06:23:31.394Z"
   },
   {
    "duration": 0,
    "start_time": "2025-02-19T06:47:33.377Z"
   },
   {
    "duration": 0,
    "start_time": "2025-02-19T06:47:33.379Z"
   },
   {
    "duration": 0,
    "start_time": "2025-02-19T06:47:33.380Z"
   },
   {
    "duration": 0,
    "start_time": "2025-02-19T06:47:33.381Z"
   },
   {
    "duration": 1,
    "start_time": "2025-02-19T06:47:33.382Z"
   },
   {
    "duration": 0,
    "start_time": "2025-02-19T06:47:33.384Z"
   },
   {
    "duration": 0,
    "start_time": "2025-02-19T06:47:33.385Z"
   },
   {
    "duration": 1571,
    "start_time": "2025-02-19T06:47:35.520Z"
   },
   {
    "duration": 1041,
    "start_time": "2025-02-19T06:47:37.093Z"
   },
   {
    "duration": 15,
    "start_time": "2025-02-19T06:47:38.137Z"
   },
   {
    "duration": 50,
    "start_time": "2025-02-19T06:47:38.154Z"
   },
   {
    "duration": 91579,
    "start_time": "2025-02-19T06:47:38.206Z"
   },
   {
    "duration": 8,
    "start_time": "2025-02-19T06:49:09.787Z"
   },
   {
    "duration": 27,
    "start_time": "2025-02-19T06:49:09.797Z"
   },
   {
    "duration": 4536,
    "start_time": "2025-02-19T06:49:09.826Z"
   },
   {
    "duration": 13,
    "start_time": "2025-02-19T06:49:14.364Z"
   },
   {
    "duration": 239,
    "start_time": "2025-02-19T06:49:14.381Z"
   },
   {
    "duration": 3,
    "start_time": "2025-02-19T06:49:14.622Z"
   },
   {
    "duration": 30,
    "start_time": "2025-02-19T06:49:14.627Z"
   },
   {
    "duration": 7830,
    "start_time": "2025-02-19T06:49:14.658Z"
   },
   {
    "duration": 3,
    "start_time": "2025-02-19T06:49:22.490Z"
   },
   {
    "duration": 6,
    "start_time": "2025-02-19T06:49:22.495Z"
   },
   {
    "duration": 3,
    "start_time": "2025-02-19T06:49:22.503Z"
   },
   {
    "duration": 5,
    "start_time": "2025-02-19T06:49:22.507Z"
   },
   {
    "duration": 3,
    "start_time": "2025-02-19T06:49:22.514Z"
   },
   {
    "duration": 4,
    "start_time": "2025-02-19T06:49:22.518Z"
   },
   {
    "duration": 114282,
    "start_time": "2025-02-19T06:49:22.524Z"
   },
   {
    "duration": 4,
    "start_time": "2025-02-19T06:51:16.807Z"
   },
   {
    "duration": 5,
    "start_time": "2025-02-19T06:51:16.812Z"
   },
   {
    "duration": 2,
    "start_time": "2025-02-19T06:51:16.819Z"
   },
   {
    "duration": 12775,
    "start_time": "2025-02-19T06:51:16.823Z"
   },
   {
    "duration": 21,
    "start_time": "2025-02-19T06:51:29.600Z"
   },
   {
    "duration": 3,
    "start_time": "2025-02-19T06:51:29.623Z"
   },
   {
    "duration": 7,
    "start_time": "2025-02-19T06:51:29.628Z"
   },
   {
    "duration": 32,
    "start_time": "2025-02-19T06:51:29.640Z"
   },
   {
    "duration": 4,
    "start_time": "2025-02-19T06:51:29.674Z"
   },
   {
    "duration": 581516,
    "start_time": "2025-02-19T06:51:29.680Z"
   },
   {
    "duration": 4,
    "start_time": "2025-02-19T07:01:11.198Z"
   },
   {
    "duration": 5,
    "start_time": "2025-02-19T07:01:11.203Z"
   },
   {
    "duration": 4,
    "start_time": "2025-02-19T07:01:11.209Z"
   },
   {
    "duration": 5172,
    "start_time": "2025-02-19T07:01:11.215Z"
   },
   {
    "duration": 40,
    "start_time": "2025-02-19T07:01:16.389Z"
   },
   {
    "duration": 3,
    "start_time": "2025-02-19T07:01:16.430Z"
   },
   {
    "duration": 8,
    "start_time": "2025-02-19T07:01:16.435Z"
   },
   {
    "duration": 15,
    "start_time": "2025-02-19T07:01:16.445Z"
   },
   {
    "duration": 2914394,
    "start_time": "2025-02-19T07:01:16.471Z"
   },
   {
    "duration": 0,
    "start_time": "2025-02-19T07:49:50.867Z"
   },
   {
    "duration": 0,
    "start_time": "2025-02-19T07:49:50.873Z"
   },
   {
    "duration": 0,
    "start_time": "2025-02-19T07:49:50.875Z"
   },
   {
    "duration": 1587,
    "start_time": "2025-02-19T07:49:53.794Z"
   },
   {
    "duration": 1112,
    "start_time": "2025-02-19T07:49:55.383Z"
   },
   {
    "duration": 15,
    "start_time": "2025-02-19T07:49:56.497Z"
   },
   {
    "duration": 39,
    "start_time": "2025-02-19T07:49:56.514Z"
   },
   {
    "duration": 93053,
    "start_time": "2025-02-19T07:49:56.554Z"
   },
   {
    "duration": 8,
    "start_time": "2025-02-19T07:51:29.609Z"
   },
   {
    "duration": 5,
    "start_time": "2025-02-19T07:51:29.620Z"
   },
   {
    "duration": 4585,
    "start_time": "2025-02-19T07:51:29.627Z"
   },
   {
    "duration": 9,
    "start_time": "2025-02-19T07:51:34.214Z"
   },
   {
    "duration": 1530,
    "start_time": "2025-02-19T07:51:34.227Z"
   },
   {
    "duration": 3,
    "start_time": "2025-02-19T07:51:35.759Z"
   },
   {
    "duration": 44,
    "start_time": "2025-02-19T07:51:35.764Z"
   },
   {
    "duration": 7816,
    "start_time": "2025-02-19T07:51:35.810Z"
   },
   {
    "duration": 3,
    "start_time": "2025-02-19T07:51:43.628Z"
   },
   {
    "duration": 4,
    "start_time": "2025-02-19T07:51:43.633Z"
   },
   {
    "duration": 3,
    "start_time": "2025-02-19T07:51:43.638Z"
   },
   {
    "duration": 5,
    "start_time": "2025-02-19T07:51:43.643Z"
   },
   {
    "duration": 12,
    "start_time": "2025-02-19T07:51:43.649Z"
   },
   {
    "duration": 2,
    "start_time": "2025-02-19T07:51:43.673Z"
   },
   {
    "duration": 114420,
    "start_time": "2025-02-19T07:51:43.677Z"
   },
   {
    "duration": 4,
    "start_time": "2025-02-19T07:53:38.099Z"
   },
   {
    "duration": 106,
    "start_time": "2025-02-19T07:53:38.104Z"
   },
   {
    "duration": 11,
    "start_time": "2025-02-19T07:53:38.211Z"
   },
   {
    "duration": 12778,
    "start_time": "2025-02-19T07:53:38.224Z"
   },
   {
    "duration": 23,
    "start_time": "2025-02-19T07:53:51.004Z"
   },
   {
    "duration": 3,
    "start_time": "2025-02-19T07:53:51.028Z"
   },
   {
    "duration": 25,
    "start_time": "2025-02-19T07:53:51.033Z"
   },
   {
    "duration": 17,
    "start_time": "2025-02-19T07:53:51.071Z"
   },
   {
    "duration": 11,
    "start_time": "2025-02-19T07:53:51.090Z"
   },
   {
    "duration": 612070,
    "start_time": "2025-02-19T07:53:51.103Z"
   },
   {
    "duration": 4,
    "start_time": "2025-02-19T08:04:03.175Z"
   },
   {
    "duration": 40,
    "start_time": "2025-02-19T08:04:03.181Z"
   },
   {
    "duration": 47,
    "start_time": "2025-02-19T08:04:03.223Z"
   },
   {
    "duration": 5572,
    "start_time": "2025-02-19T08:04:03.272Z"
   },
   {
    "duration": 50,
    "start_time": "2025-02-19T08:04:08.846Z"
   },
   {
    "duration": 3,
    "start_time": "2025-02-19T08:04:08.898Z"
   },
   {
    "duration": 8,
    "start_time": "2025-02-19T08:04:08.902Z"
   },
   {
    "duration": 5,
    "start_time": "2025-02-19T08:04:08.912Z"
   },
   {
    "duration": 11264764,
    "start_time": "2025-02-19T08:04:08.919Z"
   },
   {
    "duration": 4,
    "start_time": "2025-02-19T11:11:53.685Z"
   },
   {
    "duration": 4,
    "start_time": "2025-02-19T11:11:53.691Z"
   },
   {
    "duration": 149,
    "start_time": "2025-02-19T11:11:53.697Z"
   },
   {
    "duration": 1662,
    "start_time": "2025-02-19T11:48:17.667Z"
   },
   {
    "duration": 1104,
    "start_time": "2025-02-19T11:48:19.331Z"
   },
   {
    "duration": 14,
    "start_time": "2025-02-19T11:48:20.437Z"
   },
   {
    "duration": 47,
    "start_time": "2025-02-19T11:48:20.453Z"
   },
   {
    "duration": 91743,
    "start_time": "2025-02-19T11:48:20.504Z"
   },
   {
    "duration": 8,
    "start_time": "2025-02-19T11:49:52.249Z"
   },
   {
    "duration": 12,
    "start_time": "2025-02-19T11:49:52.259Z"
   },
   {
    "duration": 4616,
    "start_time": "2025-02-19T11:49:52.273Z"
   },
   {
    "duration": 8,
    "start_time": "2025-02-19T11:49:56.891Z"
   },
   {
    "duration": 247,
    "start_time": "2025-02-19T11:49:56.900Z"
   },
   {
    "duration": 3,
    "start_time": "2025-02-19T11:49:57.149Z"
   },
   {
    "duration": 35,
    "start_time": "2025-02-19T11:49:57.154Z"
   },
   {
    "duration": 7966,
    "start_time": "2025-02-19T11:49:57.191Z"
   },
   {
    "duration": 4,
    "start_time": "2025-02-19T11:50:05.160Z"
   },
   {
    "duration": 16,
    "start_time": "2025-02-19T11:50:05.165Z"
   },
   {
    "duration": 8,
    "start_time": "2025-02-19T11:50:05.182Z"
   },
   {
    "duration": 8,
    "start_time": "2025-02-19T11:50:05.192Z"
   },
   {
    "duration": 19,
    "start_time": "2025-02-19T11:50:05.202Z"
   },
   {
    "duration": 8,
    "start_time": "2025-02-19T11:50:05.223Z"
   },
   {
    "duration": 114173,
    "start_time": "2025-02-19T11:50:05.232Z"
   },
   {
    "duration": 5,
    "start_time": "2025-02-19T11:51:59.406Z"
   },
   {
    "duration": 33,
    "start_time": "2025-02-19T11:51:59.413Z"
   },
   {
    "duration": 18,
    "start_time": "2025-02-19T11:51:59.448Z"
   },
   {
    "duration": 12728,
    "start_time": "2025-02-19T11:51:59.468Z"
   },
   {
    "duration": 21,
    "start_time": "2025-02-19T11:52:12.198Z"
   },
   {
    "duration": 4,
    "start_time": "2025-02-19T11:52:12.220Z"
   },
   {
    "duration": 9,
    "start_time": "2025-02-19T11:52:12.225Z"
   },
   {
    "duration": 4,
    "start_time": "2025-02-19T11:52:12.236Z"
   },
   {
    "duration": 14,
    "start_time": "2025-02-19T11:52:12.241Z"
   },
   {
    "duration": 48426,
    "start_time": "2025-02-19T11:52:12.257Z"
   },
   {
    "duration": 0,
    "start_time": "2025-02-19T11:53:00.685Z"
   },
   {
    "duration": 0,
    "start_time": "2025-02-19T11:53:00.686Z"
   },
   {
    "duration": 0,
    "start_time": "2025-02-19T11:53:00.688Z"
   },
   {
    "duration": 0,
    "start_time": "2025-02-19T11:53:00.689Z"
   },
   {
    "duration": 0,
    "start_time": "2025-02-19T11:53:00.690Z"
   },
   {
    "duration": 0,
    "start_time": "2025-02-19T11:53:00.691Z"
   },
   {
    "duration": 0,
    "start_time": "2025-02-19T11:53:00.692Z"
   },
   {
    "duration": 0,
    "start_time": "2025-02-19T11:53:00.693Z"
   },
   {
    "duration": 0,
    "start_time": "2025-02-19T11:53:00.694Z"
   },
   {
    "duration": 0,
    "start_time": "2025-02-19T11:53:00.695Z"
   },
   {
    "duration": 0,
    "start_time": "2025-02-19T11:53:00.696Z"
   },
   {
    "duration": 0,
    "start_time": "2025-02-19T11:53:00.697Z"
   },
   {
    "duration": 6,
    "start_time": "2025-02-19T11:53:04.100Z"
   },
   {
    "duration": 1697,
    "start_time": "2025-02-19T11:53:25.466Z"
   },
   {
    "duration": 1126,
    "start_time": "2025-02-19T11:53:27.165Z"
   },
   {
    "duration": 15,
    "start_time": "2025-02-19T11:53:28.293Z"
   },
   {
    "duration": 37,
    "start_time": "2025-02-19T11:53:28.310Z"
   },
   {
    "duration": 94220,
    "start_time": "2025-02-19T11:53:29.417Z"
   },
   {
    "duration": 9,
    "start_time": "2025-02-19T11:55:03.639Z"
   },
   {
    "duration": 20,
    "start_time": "2025-02-19T11:55:03.649Z"
   },
   {
    "duration": 4675,
    "start_time": "2025-02-19T11:55:03.671Z"
   },
   {
    "duration": 9,
    "start_time": "2025-02-19T11:55:08.349Z"
   },
   {
    "duration": 1723,
    "start_time": "2025-02-19T11:55:08.371Z"
   },
   {
    "duration": 3,
    "start_time": "2025-02-19T11:55:10.096Z"
   },
   {
    "duration": 56,
    "start_time": "2025-02-19T11:55:10.100Z"
   },
   {
    "duration": 8230,
    "start_time": "2025-02-19T11:55:10.158Z"
   },
   {
    "duration": 4,
    "start_time": "2025-02-19T11:55:18.390Z"
   },
   {
    "duration": 8,
    "start_time": "2025-02-19T11:55:18.395Z"
   },
   {
    "duration": 9,
    "start_time": "2025-02-19T11:55:18.404Z"
   },
   {
    "duration": 147,
    "start_time": "2025-02-19T11:55:18.415Z"
   },
   {
    "duration": 0,
    "start_time": "2025-02-19T11:55:18.564Z"
   },
   {
    "duration": 0,
    "start_time": "2025-02-19T11:55:18.572Z"
   },
   {
    "duration": 0,
    "start_time": "2025-02-19T11:55:18.573Z"
   },
   {
    "duration": 0,
    "start_time": "2025-02-19T11:55:18.574Z"
   },
   {
    "duration": 12,
    "start_time": "2025-02-19T11:55:48.102Z"
   },
   {
    "duration": 3,
    "start_time": "2025-02-19T11:56:53.824Z"
   },
   {
    "duration": 3,
    "start_time": "2025-02-19T11:56:55.848Z"
   },
   {
    "duration": 1600,
    "start_time": "2025-02-19T11:57:38.493Z"
   },
   {
    "duration": 1159,
    "start_time": "2025-02-19T11:57:40.095Z"
   },
   {
    "duration": 30,
    "start_time": "2025-02-19T11:57:41.256Z"
   },
   {
    "duration": 36,
    "start_time": "2025-02-19T11:57:41.288Z"
   },
   {
    "duration": 96762,
    "start_time": "2025-02-19T11:57:41.325Z"
   },
   {
    "duration": 8,
    "start_time": "2025-02-19T11:59:18.089Z"
   },
   {
    "duration": 25,
    "start_time": "2025-02-19T11:59:18.099Z"
   },
   {
    "duration": 4934,
    "start_time": "2025-02-19T11:59:18.126Z"
   },
   {
    "duration": 16,
    "start_time": "2025-02-19T11:59:23.072Z"
   },
   {
    "duration": 251,
    "start_time": "2025-02-19T11:59:23.090Z"
   },
   {
    "duration": 3,
    "start_time": "2025-02-19T11:59:23.343Z"
   },
   {
    "duration": 48,
    "start_time": "2025-02-19T11:59:23.348Z"
   },
   {
    "duration": 8653,
    "start_time": "2025-02-19T11:59:23.398Z"
   },
   {
    "duration": 3,
    "start_time": "2025-02-19T11:59:32.053Z"
   },
   {
    "duration": 37,
    "start_time": "2025-02-19T11:59:32.058Z"
   },
   {
    "duration": 3,
    "start_time": "2025-02-19T11:59:32.097Z"
   },
   {
    "duration": 4,
    "start_time": "2025-02-19T11:59:32.102Z"
   },
   {
    "duration": 11,
    "start_time": "2025-02-19T11:59:32.107Z"
   },
   {
    "duration": 1648,
    "start_time": "2025-02-19T12:25:31.193Z"
   },
   {
    "duration": 1118,
    "start_time": "2025-02-19T12:25:32.843Z"
   },
   {
    "duration": 30,
    "start_time": "2025-02-19T12:25:33.963Z"
   },
   {
    "duration": 36,
    "start_time": "2025-02-19T12:25:33.994Z"
   },
   {
    "duration": 97543,
    "start_time": "2025-02-19T12:25:34.032Z"
   },
   {
    "duration": 9,
    "start_time": "2025-02-19T12:27:11.577Z"
   },
   {
    "duration": 96,
    "start_time": "2025-02-19T12:27:11.587Z"
   },
   {
    "duration": 4721,
    "start_time": "2025-02-19T12:27:11.685Z"
   },
   {
    "duration": 7,
    "start_time": "2025-02-19T12:27:16.408Z"
   },
   {
    "duration": 1705,
    "start_time": "2025-02-19T12:27:16.416Z"
   },
   {
    "duration": 3,
    "start_time": "2025-02-19T12:27:18.123Z"
   },
   {
    "duration": 28,
    "start_time": "2025-02-19T12:27:18.128Z"
   },
   {
    "duration": 7887,
    "start_time": "2025-02-19T12:27:18.158Z"
   },
   {
    "duration": 3,
    "start_time": "2025-02-19T12:27:26.050Z"
   },
   {
    "duration": 18,
    "start_time": "2025-02-19T12:27:26.055Z"
   },
   {
    "duration": 6,
    "start_time": "2025-02-19T12:27:26.075Z"
   },
   {
    "duration": 9,
    "start_time": "2025-02-19T12:27:26.083Z"
   },
   {
    "duration": 15,
    "start_time": "2025-02-19T12:27:26.094Z"
   },
   {
    "duration": 9,
    "start_time": "2025-02-19T12:27:26.112Z"
   },
   {
    "duration": 1518,
    "start_time": "2025-02-19T12:28:51.540Z"
   },
   {
    "duration": 1088,
    "start_time": "2025-02-19T12:28:53.060Z"
   },
   {
    "duration": 24,
    "start_time": "2025-02-19T12:28:54.149Z"
   },
   {
    "duration": 36,
    "start_time": "2025-02-19T12:28:54.175Z"
   },
   {
    "duration": 46447,
    "start_time": "2025-02-19T12:28:54.213Z"
   },
   {
    "duration": 0,
    "start_time": "2025-02-19T12:29:40.664Z"
   },
   {
    "duration": 0,
    "start_time": "2025-02-19T12:29:40.665Z"
   },
   {
    "duration": 0,
    "start_time": "2025-02-19T12:29:40.667Z"
   },
   {
    "duration": 0,
    "start_time": "2025-02-19T12:29:40.669Z"
   },
   {
    "duration": 0,
    "start_time": "2025-02-19T12:29:40.670Z"
   },
   {
    "duration": 0,
    "start_time": "2025-02-19T12:29:40.672Z"
   },
   {
    "duration": 0,
    "start_time": "2025-02-19T12:29:40.674Z"
   },
   {
    "duration": 0,
    "start_time": "2025-02-19T12:29:40.675Z"
   },
   {
    "duration": 0,
    "start_time": "2025-02-19T12:29:40.676Z"
   },
   {
    "duration": 0,
    "start_time": "2025-02-19T12:29:40.678Z"
   },
   {
    "duration": 0,
    "start_time": "2025-02-19T12:29:40.679Z"
   },
   {
    "duration": 0,
    "start_time": "2025-02-19T12:29:40.681Z"
   },
   {
    "duration": 0,
    "start_time": "2025-02-19T12:29:40.682Z"
   },
   {
    "duration": 0,
    "start_time": "2025-02-19T12:29:40.683Z"
   },
   {
    "duration": 1,
    "start_time": "2025-02-19T12:29:40.684Z"
   },
   {
    "duration": 0,
    "start_time": "2025-02-19T12:29:40.686Z"
   },
   {
    "duration": 0,
    "start_time": "2025-02-19T12:29:40.687Z"
   },
   {
    "duration": 0,
    "start_time": "2025-02-19T12:29:40.688Z"
   },
   {
    "duration": 0,
    "start_time": "2025-02-19T12:29:40.689Z"
   },
   {
    "duration": 0,
    "start_time": "2025-02-19T12:29:40.690Z"
   },
   {
    "duration": 0,
    "start_time": "2025-02-19T12:29:40.691Z"
   },
   {
    "duration": 0,
    "start_time": "2025-02-19T12:29:40.692Z"
   },
   {
    "duration": 0,
    "start_time": "2025-02-19T12:29:40.693Z"
   },
   {
    "duration": 1,
    "start_time": "2025-02-19T12:29:40.694Z"
   },
   {
    "duration": 0,
    "start_time": "2025-02-19T12:29:40.696Z"
   },
   {
    "duration": 0,
    "start_time": "2025-02-19T12:29:40.697Z"
   },
   {
    "duration": 0,
    "start_time": "2025-02-19T12:29:40.698Z"
   },
   {
    "duration": 0,
    "start_time": "2025-02-19T12:29:40.699Z"
   },
   {
    "duration": 0,
    "start_time": "2025-02-19T12:29:40.700Z"
   },
   {
    "duration": 0,
    "start_time": "2025-02-19T12:29:40.701Z"
   },
   {
    "duration": 0,
    "start_time": "2025-02-19T12:29:40.703Z"
   },
   {
    "duration": 0,
    "start_time": "2025-02-19T12:29:40.704Z"
   },
   {
    "duration": 0,
    "start_time": "2025-02-19T12:29:40.705Z"
   },
   {
    "duration": 0,
    "start_time": "2025-02-19T12:29:40.706Z"
   },
   {
    "duration": 0,
    "start_time": "2025-02-19T12:29:40.707Z"
   },
   {
    "duration": 0,
    "start_time": "2025-02-19T12:29:40.708Z"
   },
   {
    "duration": 0,
    "start_time": "2025-02-19T12:29:40.709Z"
   },
   {
    "duration": 33021,
    "start_time": "2025-02-19T12:29:43.171Z"
   },
   {
    "duration": 2281,
    "start_time": "2025-02-19T12:30:16.195Z"
   },
   {
    "duration": 0,
    "start_time": "2025-02-19T12:30:18.480Z"
   },
   {
    "duration": 0,
    "start_time": "2025-02-19T12:30:18.481Z"
   },
   {
    "duration": 0,
    "start_time": "2025-02-19T12:30:18.482Z"
   },
   {
    "duration": 0,
    "start_time": "2025-02-19T12:30:18.483Z"
   },
   {
    "duration": 0,
    "start_time": "2025-02-19T12:30:18.484Z"
   },
   {
    "duration": 0,
    "start_time": "2025-02-19T12:30:18.486Z"
   },
   {
    "duration": 0,
    "start_time": "2025-02-19T12:30:18.487Z"
   },
   {
    "duration": 0,
    "start_time": "2025-02-19T12:30:18.488Z"
   },
   {
    "duration": 0,
    "start_time": "2025-02-19T12:30:18.489Z"
   },
   {
    "duration": 0,
    "start_time": "2025-02-19T12:30:18.491Z"
   },
   {
    "duration": 0,
    "start_time": "2025-02-19T12:30:18.492Z"
   },
   {
    "duration": 0,
    "start_time": "2025-02-19T12:30:18.493Z"
   },
   {
    "duration": 0,
    "start_time": "2025-02-19T12:30:18.495Z"
   },
   {
    "duration": 0,
    "start_time": "2025-02-19T12:30:18.496Z"
   },
   {
    "duration": 0,
    "start_time": "2025-02-19T12:30:18.498Z"
   },
   {
    "duration": 0,
    "start_time": "2025-02-19T12:30:18.499Z"
   },
   {
    "duration": 0,
    "start_time": "2025-02-19T12:30:18.500Z"
   },
   {
    "duration": 0,
    "start_time": "2025-02-19T12:30:18.501Z"
   },
   {
    "duration": 0,
    "start_time": "2025-02-19T12:30:18.502Z"
   },
   {
    "duration": 0,
    "start_time": "2025-02-19T12:30:18.503Z"
   },
   {
    "duration": 0,
    "start_time": "2025-02-19T12:30:18.505Z"
   },
   {
    "duration": 0,
    "start_time": "2025-02-19T12:30:18.505Z"
   },
   {
    "duration": 0,
    "start_time": "2025-02-19T12:30:18.507Z"
   },
   {
    "duration": 0,
    "start_time": "2025-02-19T12:30:18.508Z"
   },
   {
    "duration": 0,
    "start_time": "2025-02-19T12:30:18.509Z"
   },
   {
    "duration": 0,
    "start_time": "2025-02-19T12:30:18.510Z"
   },
   {
    "duration": 0,
    "start_time": "2025-02-19T12:30:18.511Z"
   },
   {
    "duration": 0,
    "start_time": "2025-02-19T12:30:18.512Z"
   },
   {
    "duration": 0,
    "start_time": "2025-02-19T12:30:18.513Z"
   },
   {
    "duration": 0,
    "start_time": "2025-02-19T12:30:18.514Z"
   },
   {
    "duration": 0,
    "start_time": "2025-02-19T12:30:18.515Z"
   },
   {
    "duration": 0,
    "start_time": "2025-02-19T12:30:18.516Z"
   },
   {
    "duration": 0,
    "start_time": "2025-02-19T12:30:18.517Z"
   },
   {
    "duration": 0,
    "start_time": "2025-02-19T12:30:18.572Z"
   },
   {
    "duration": 0,
    "start_time": "2025-02-19T12:30:18.574Z"
   },
   {
    "duration": 0,
    "start_time": "2025-02-19T12:30:18.575Z"
   },
   {
    "duration": 0,
    "start_time": "2025-02-19T12:30:18.576Z"
   },
   {
    "duration": 0,
    "start_time": "2025-02-19T12:30:18.577Z"
   },
   {
    "duration": 0,
    "start_time": "2025-02-19T12:30:18.578Z"
   },
   {
    "duration": 0,
    "start_time": "2025-02-19T12:30:18.579Z"
   },
   {
    "duration": 1,
    "start_time": "2025-02-19T12:30:18.580Z"
   },
   {
    "duration": 4194,
    "start_time": "2025-02-19T12:30:59.892Z"
   },
   {
    "duration": 15,
    "start_time": "2025-02-19T12:31:10.620Z"
   },
   {
    "duration": 1167,
    "start_time": "2025-02-19T12:31:12.116Z"
   },
   {
    "duration": 17,
    "start_time": "2025-02-19T12:31:13.287Z"
   },
   {
    "duration": 36,
    "start_time": "2025-02-19T12:31:13.306Z"
   },
   {
    "duration": 98176,
    "start_time": "2025-02-19T12:31:13.570Z"
   },
   {
    "duration": 8,
    "start_time": "2025-02-19T12:32:51.749Z"
   },
   {
    "duration": 6,
    "start_time": "2025-02-19T12:32:51.771Z"
   },
   {
    "duration": 4755,
    "start_time": "2025-02-19T12:32:51.779Z"
   },
   {
    "duration": 9,
    "start_time": "2025-02-19T12:32:56.536Z"
   },
   {
    "duration": 317,
    "start_time": "2025-02-19T12:32:56.546Z"
   },
   {
    "duration": 4,
    "start_time": "2025-02-19T12:32:56.864Z"
   },
   {
    "duration": 30,
    "start_time": "2025-02-19T12:32:56.869Z"
   },
   {
    "duration": 7971,
    "start_time": "2025-02-19T12:32:56.901Z"
   },
   {
    "duration": 3,
    "start_time": "2025-02-19T12:33:04.875Z"
   },
   {
    "duration": 23,
    "start_time": "2025-02-19T12:33:04.879Z"
   },
   {
    "duration": 16,
    "start_time": "2025-02-19T12:33:04.904Z"
   },
   {
    "duration": 6,
    "start_time": "2025-02-19T12:33:04.922Z"
   },
   {
    "duration": 35,
    "start_time": "2025-02-19T12:33:04.930Z"
   },
   {
    "duration": 16,
    "start_time": "2025-02-19T12:33:04.967Z"
   },
   {
    "duration": 114315,
    "start_time": "2025-02-19T12:33:04.985Z"
   },
   {
    "duration": 5,
    "start_time": "2025-02-19T12:34:59.301Z"
   },
   {
    "duration": 5,
    "start_time": "2025-02-19T12:34:59.307Z"
   },
   {
    "duration": 4,
    "start_time": "2025-02-19T12:34:59.313Z"
   },
   {
    "duration": 12885,
    "start_time": "2025-02-19T12:34:59.319Z"
   },
   {
    "duration": 22,
    "start_time": "2025-02-19T12:35:12.206Z"
   },
   {
    "duration": 3,
    "start_time": "2025-02-19T12:35:12.230Z"
   },
   {
    "duration": 33,
    "start_time": "2025-02-19T12:35:12.234Z"
   },
   {
    "duration": 24,
    "start_time": "2025-02-19T12:35:12.271Z"
   },
   {
    "duration": 13,
    "start_time": "2025-02-19T12:35:12.296Z"
   },
   {
    "duration": 19,
    "start_time": "2025-02-19T12:35:12.310Z"
   },
   {
    "duration": 0,
    "start_time": "2025-02-19T12:35:12.331Z"
   },
   {
    "duration": 0,
    "start_time": "2025-02-19T12:35:12.332Z"
   },
   {
    "duration": 0,
    "start_time": "2025-02-19T12:35:12.333Z"
   },
   {
    "duration": 0,
    "start_time": "2025-02-19T12:35:12.334Z"
   },
   {
    "duration": 0,
    "start_time": "2025-02-19T12:35:12.335Z"
   },
   {
    "duration": 0,
    "start_time": "2025-02-19T12:35:12.337Z"
   },
   {
    "duration": 0,
    "start_time": "2025-02-19T12:35:12.338Z"
   },
   {
    "duration": 0,
    "start_time": "2025-02-19T12:35:12.339Z"
   },
   {
    "duration": 0,
    "start_time": "2025-02-19T12:35:12.340Z"
   },
   {
    "duration": 0,
    "start_time": "2025-02-19T12:35:12.341Z"
   },
   {
    "duration": 0,
    "start_time": "2025-02-19T12:35:12.343Z"
   },
   {
    "duration": 3,
    "start_time": "2025-02-19T12:35:35.036Z"
   },
   {
    "duration": 12,
    "start_time": "2025-02-19T12:35:37.908Z"
   },
   {
    "duration": 4,
    "start_time": "2025-02-19T12:37:00.556Z"
   },
   {
    "duration": 153216,
    "start_time": "2025-02-19T12:37:01.244Z"
   },
   {
    "duration": 0,
    "start_time": "2025-02-19T12:39:34.462Z"
   },
   {
    "duration": 0,
    "start_time": "2025-02-19T12:39:34.464Z"
   },
   {
    "duration": 0,
    "start_time": "2025-02-19T12:39:34.465Z"
   },
   {
    "duration": 0,
    "start_time": "2025-02-19T12:39:34.466Z"
   },
   {
    "duration": 0,
    "start_time": "2025-02-19T12:39:34.472Z"
   },
   {
    "duration": 0,
    "start_time": "2025-02-19T12:39:34.473Z"
   },
   {
    "duration": 0,
    "start_time": "2025-02-19T12:39:34.474Z"
   },
   {
    "duration": 27,
    "start_time": "2025-02-19T12:39:45.726Z"
   },
   {
    "duration": 1002,
    "start_time": "2025-02-19T12:39:46.870Z"
   },
   {
    "duration": 9,
    "start_time": "2025-02-19T12:39:47.874Z"
   },
   {
    "duration": 38,
    "start_time": "2025-02-19T12:39:48.126Z"
   },
   {
    "duration": 1723,
    "start_time": "2025-02-19T12:39:57.590Z"
   },
   {
    "duration": 1092,
    "start_time": "2025-02-19T12:39:59.315Z"
   },
   {
    "duration": 14,
    "start_time": "2025-02-19T12:40:00.409Z"
   },
   {
    "duration": 50,
    "start_time": "2025-02-19T12:40:00.425Z"
   },
   {
    "duration": 93694,
    "start_time": "2025-02-19T12:40:00.580Z"
   },
   {
    "duration": 9,
    "start_time": "2025-02-19T12:41:34.277Z"
   },
   {
    "duration": 26,
    "start_time": "2025-02-19T12:41:34.287Z"
   },
   {
    "duration": 4713,
    "start_time": "2025-02-19T12:41:34.316Z"
   },
   {
    "duration": 10,
    "start_time": "2025-02-19T12:41:39.031Z"
   },
   {
    "duration": 258,
    "start_time": "2025-02-19T12:41:39.043Z"
   },
   {
    "duration": 2,
    "start_time": "2025-02-19T12:41:39.303Z"
   },
   {
    "duration": 44,
    "start_time": "2025-02-19T12:41:39.307Z"
   },
   {
    "duration": 8112,
    "start_time": "2025-02-19T12:41:39.353Z"
   },
   {
    "duration": 5,
    "start_time": "2025-02-19T12:41:47.468Z"
   },
   {
    "duration": 6,
    "start_time": "2025-02-19T12:41:47.474Z"
   },
   {
    "duration": 4,
    "start_time": "2025-02-19T12:41:47.481Z"
   },
   {
    "duration": 287939,
    "start_time": "2025-02-19T12:41:47.486Z"
   },
   {
    "duration": 1776,
    "start_time": "2025-02-19T12:46:45.249Z"
   },
   {
    "duration": 1095,
    "start_time": "2025-02-19T12:46:47.027Z"
   },
   {
    "duration": 15,
    "start_time": "2025-02-19T12:46:48.124Z"
   },
   {
    "duration": 50,
    "start_time": "2025-02-19T12:46:48.142Z"
   },
   {
    "duration": 91898,
    "start_time": "2025-02-19T12:46:48.194Z"
   },
   {
    "duration": 9,
    "start_time": "2025-02-19T12:48:20.094Z"
   },
   {
    "duration": 10,
    "start_time": "2025-02-19T12:48:20.105Z"
   },
   {
    "duration": 4635,
    "start_time": "2025-02-19T12:48:20.117Z"
   },
   {
    "duration": 8,
    "start_time": "2025-02-19T12:48:24.754Z"
   },
   {
    "duration": 3410,
    "start_time": "2025-02-19T12:48:24.771Z"
   },
   {
    "duration": 3,
    "start_time": "2025-02-19T12:48:28.182Z"
   },
   {
    "duration": 28,
    "start_time": "2025-02-19T12:48:28.186Z"
   },
   {
    "duration": 7834,
    "start_time": "2025-02-19T12:48:28.216Z"
   },
   {
    "duration": 3,
    "start_time": "2025-02-19T12:48:36.051Z"
   },
   {
    "duration": 21,
    "start_time": "2025-02-19T12:48:36.056Z"
   },
   {
    "duration": 3,
    "start_time": "2025-02-19T12:48:36.079Z"
   },
   {
    "duration": 5,
    "start_time": "2025-02-19T12:48:36.084Z"
   },
   {
    "duration": 3,
    "start_time": "2025-02-19T12:48:36.091Z"
   },
   {
    "duration": 10,
    "start_time": "2025-02-19T12:48:36.096Z"
   },
   {
    "duration": 113990,
    "start_time": "2025-02-19T12:48:36.108Z"
   },
   {
    "duration": 4,
    "start_time": "2025-02-19T12:50:30.100Z"
   },
   {
    "duration": 26,
    "start_time": "2025-02-19T12:50:30.106Z"
   },
   {
    "duration": 5,
    "start_time": "2025-02-19T12:50:30.133Z"
   },
   {
    "duration": 12762,
    "start_time": "2025-02-19T12:50:30.140Z"
   },
   {
    "duration": 24,
    "start_time": "2025-02-19T12:50:42.904Z"
   },
   {
    "duration": 3,
    "start_time": "2025-02-19T12:50:42.930Z"
   },
   {
    "duration": 16,
    "start_time": "2025-02-19T12:50:42.935Z"
   },
   {
    "duration": 2,
    "start_time": "2025-02-19T12:50:42.976Z"
   },
   {
    "duration": 12,
    "start_time": "2025-02-19T12:50:42.981Z"
   },
   {
    "duration": 588644,
    "start_time": "2025-02-19T12:50:42.995Z"
   },
   {
    "duration": 4,
    "start_time": "2025-02-19T13:00:31.641Z"
   },
   {
    "duration": 47,
    "start_time": "2025-02-19T13:00:31.647Z"
   },
   {
    "duration": 3,
    "start_time": "2025-02-19T13:00:31.696Z"
   },
   {
    "duration": 5342,
    "start_time": "2025-02-19T13:00:31.700Z"
   },
   {
    "duration": 48,
    "start_time": "2025-02-19T13:00:37.044Z"
   },
   {
    "duration": 4,
    "start_time": "2025-02-19T13:00:37.094Z"
   },
   {
    "duration": 5,
    "start_time": "2025-02-19T13:00:37.100Z"
   },
   {
    "duration": 4,
    "start_time": "2025-02-19T13:00:37.107Z"
   },
   {
    "duration": 3,
    "start_time": "2025-02-19T13:00:37.113Z"
   },
   {
    "duration": 1592,
    "start_time": "2025-02-20T07:41:23.983Z"
   },
   {
    "duration": 0,
    "start_time": "2025-02-20T07:41:25.578Z"
   },
   {
    "duration": 0,
    "start_time": "2025-02-20T07:41:25.579Z"
   },
   {
    "duration": 0,
    "start_time": "2025-02-20T07:41:25.581Z"
   },
   {
    "duration": 0,
    "start_time": "2025-02-20T07:41:25.582Z"
   },
   {
    "duration": 0,
    "start_time": "2025-02-20T07:41:25.583Z"
   },
   {
    "duration": 0,
    "start_time": "2025-02-20T07:41:25.584Z"
   },
   {
    "duration": 0,
    "start_time": "2025-02-20T07:41:25.585Z"
   },
   {
    "duration": 0,
    "start_time": "2025-02-20T07:41:25.586Z"
   },
   {
    "duration": 0,
    "start_time": "2025-02-20T07:41:25.587Z"
   },
   {
    "duration": 0,
    "start_time": "2025-02-20T07:41:25.588Z"
   },
   {
    "duration": 0,
    "start_time": "2025-02-20T07:41:25.609Z"
   },
   {
    "duration": 0,
    "start_time": "2025-02-20T07:41:25.611Z"
   },
   {
    "duration": 0,
    "start_time": "2025-02-20T07:41:25.612Z"
   },
   {
    "duration": 0,
    "start_time": "2025-02-20T07:41:25.613Z"
   },
   {
    "duration": 0,
    "start_time": "2025-02-20T07:41:25.614Z"
   },
   {
    "duration": 0,
    "start_time": "2025-02-20T07:41:25.615Z"
   },
   {
    "duration": 0,
    "start_time": "2025-02-20T07:41:25.616Z"
   },
   {
    "duration": 0,
    "start_time": "2025-02-20T07:41:25.617Z"
   },
   {
    "duration": 0,
    "start_time": "2025-02-20T07:41:25.618Z"
   },
   {
    "duration": 0,
    "start_time": "2025-02-20T07:41:25.619Z"
   },
   {
    "duration": 0,
    "start_time": "2025-02-20T07:41:25.621Z"
   },
   {
    "duration": 0,
    "start_time": "2025-02-20T07:41:25.622Z"
   },
   {
    "duration": 0,
    "start_time": "2025-02-20T07:41:25.623Z"
   },
   {
    "duration": 0,
    "start_time": "2025-02-20T07:41:25.624Z"
   },
   {
    "duration": 0,
    "start_time": "2025-02-20T07:41:25.625Z"
   },
   {
    "duration": 0,
    "start_time": "2025-02-20T07:41:25.627Z"
   },
   {
    "duration": 0,
    "start_time": "2025-02-20T07:41:25.628Z"
   },
   {
    "duration": 0,
    "start_time": "2025-02-20T07:41:25.629Z"
   },
   {
    "duration": 0,
    "start_time": "2025-02-20T07:41:25.629Z"
   },
   {
    "duration": 0,
    "start_time": "2025-02-20T07:41:25.630Z"
   },
   {
    "duration": 0,
    "start_time": "2025-02-20T07:41:25.632Z"
   },
   {
    "duration": 0,
    "start_time": "2025-02-20T07:41:25.633Z"
   },
   {
    "duration": 0,
    "start_time": "2025-02-20T07:41:25.634Z"
   },
   {
    "duration": 0,
    "start_time": "2025-02-20T07:41:25.635Z"
   },
   {
    "duration": 0,
    "start_time": "2025-02-20T07:41:25.636Z"
   },
   {
    "duration": 0,
    "start_time": "2025-02-20T07:41:25.637Z"
   },
   {
    "duration": 0,
    "start_time": "2025-02-20T07:41:25.638Z"
   },
   {
    "duration": 0,
    "start_time": "2025-02-20T07:41:25.639Z"
   },
   {
    "duration": 0,
    "start_time": "2025-02-20T07:41:25.640Z"
   },
   {
    "duration": 1393,
    "start_time": "2025-02-20T07:48:52.532Z"
   },
   {
    "duration": 939,
    "start_time": "2025-02-20T07:48:53.927Z"
   },
   {
    "duration": 14,
    "start_time": "2025-02-20T07:48:54.867Z"
   },
   {
    "duration": 39,
    "start_time": "2025-02-20T07:48:54.882Z"
   },
   {
    "duration": 80354,
    "start_time": "2025-02-20T07:48:54.922Z"
   },
   {
    "duration": 8,
    "start_time": "2025-02-20T07:50:15.277Z"
   },
   {
    "duration": 39,
    "start_time": "2025-02-20T07:50:15.287Z"
   },
   {
    "duration": 4173,
    "start_time": "2025-02-20T07:50:15.328Z"
   },
   {
    "duration": 12,
    "start_time": "2025-02-20T07:50:19.503Z"
   },
   {
    "duration": 986,
    "start_time": "2025-02-20T07:50:19.517Z"
   },
   {
    "duration": 2,
    "start_time": "2025-02-20T07:50:20.505Z"
   },
   {
    "duration": 28,
    "start_time": "2025-02-20T07:50:20.508Z"
   },
   {
    "duration": 6880,
    "start_time": "2025-02-20T07:50:20.537Z"
   },
   {
    "duration": 3,
    "start_time": "2025-02-20T07:50:27.419Z"
   },
   {
    "duration": 7,
    "start_time": "2025-02-20T07:50:27.423Z"
   },
   {
    "duration": 2,
    "start_time": "2025-02-20T07:50:27.432Z"
   },
   {
    "duration": 4,
    "start_time": "2025-02-20T07:50:27.435Z"
   },
   {
    "duration": 4,
    "start_time": "2025-02-20T07:50:27.441Z"
   },
   {
    "duration": 3,
    "start_time": "2025-02-20T07:50:27.446Z"
   },
   {
    "duration": 114387,
    "start_time": "2025-02-20T07:50:27.450Z"
   },
   {
    "duration": 4,
    "start_time": "2025-02-20T07:52:21.838Z"
   },
   {
    "duration": 9,
    "start_time": "2025-02-20T07:52:21.843Z"
   },
   {
    "duration": 17,
    "start_time": "2025-02-20T07:52:21.853Z"
   },
   {
    "duration": 12768,
    "start_time": "2025-02-20T07:52:21.871Z"
   },
   {
    "duration": 20,
    "start_time": "2025-02-20T07:52:34.641Z"
   },
   {
    "duration": 3,
    "start_time": "2025-02-20T07:52:34.663Z"
   },
   {
    "duration": 13,
    "start_time": "2025-02-20T07:52:34.667Z"
   },
   {
    "duration": 3,
    "start_time": "2025-02-20T07:52:34.683Z"
   },
   {
    "duration": 3,
    "start_time": "2025-02-20T07:52:34.709Z"
   },
   {
    "duration": 557848,
    "start_time": "2025-02-20T07:52:34.714Z"
   },
   {
    "duration": 4,
    "start_time": "2025-02-20T08:01:52.564Z"
   },
   {
    "duration": 9,
    "start_time": "2025-02-20T08:01:52.569Z"
   },
   {
    "duration": 5,
    "start_time": "2025-02-20T08:01:52.580Z"
   },
   {
    "duration": 4318,
    "start_time": "2025-02-20T08:01:52.586Z"
   },
   {
    "duration": 34,
    "start_time": "2025-02-20T08:01:56.909Z"
   },
   {
    "duration": 2,
    "start_time": "2025-02-20T08:01:56.945Z"
   },
   {
    "duration": 7,
    "start_time": "2025-02-20T08:01:56.949Z"
   },
   {
    "duration": 72,
    "start_time": "2025-02-20T08:01:56.957Z"
   },
   {
    "duration": 39,
    "start_time": "2025-02-20T08:01:57.031Z"
   },
   {
    "duration": 137724,
    "start_time": "2025-02-20T08:01:57.071Z"
   },
   {
    "duration": 0,
    "start_time": "2025-02-20T08:04:14.797Z"
   },
   {
    "duration": 1457,
    "start_time": "2025-02-20T08:04:23.897Z"
   },
   {
    "duration": 954,
    "start_time": "2025-02-20T08:04:25.356Z"
   },
   {
    "duration": 13,
    "start_time": "2025-02-20T08:04:26.311Z"
   },
   {
    "duration": 49,
    "start_time": "2025-02-20T08:04:26.325Z"
   },
   {
    "duration": 81789,
    "start_time": "2025-02-20T08:04:26.376Z"
   },
   {
    "duration": 7,
    "start_time": "2025-02-20T08:05:48.167Z"
   },
   {
    "duration": 2,
    "start_time": "2025-02-20T08:05:48.176Z"
   },
   {
    "duration": 4210,
    "start_time": "2025-02-20T08:05:48.180Z"
   },
   {
    "duration": 7,
    "start_time": "2025-02-20T08:05:52.392Z"
   },
   {
    "duration": 159,
    "start_time": "2025-02-20T08:05:52.400Z"
   },
   {
    "duration": 2,
    "start_time": "2025-02-20T08:05:52.561Z"
   },
   {
    "duration": 31,
    "start_time": "2025-02-20T08:05:52.565Z"
   },
   {
    "duration": 6787,
    "start_time": "2025-02-20T08:05:52.597Z"
   },
   {
    "duration": 2,
    "start_time": "2025-02-20T08:05:59.388Z"
   },
   {
    "duration": 17,
    "start_time": "2025-02-20T08:05:59.392Z"
   },
   {
    "duration": 2,
    "start_time": "2025-02-20T08:05:59.411Z"
   },
   {
    "duration": 6,
    "start_time": "2025-02-20T08:05:59.414Z"
   },
   {
    "duration": 3,
    "start_time": "2025-02-20T08:05:59.421Z"
   },
   {
    "duration": 8,
    "start_time": "2025-02-20T08:05:59.425Z"
   },
   {
    "duration": 114403,
    "start_time": "2025-02-20T08:05:59.434Z"
   },
   {
    "duration": 3,
    "start_time": "2025-02-20T08:07:53.839Z"
   },
   {
    "duration": 9,
    "start_time": "2025-02-20T08:07:53.843Z"
   },
   {
    "duration": 7,
    "start_time": "2025-02-20T08:07:53.853Z"
   },
   {
    "duration": 12675,
    "start_time": "2025-02-20T08:07:53.861Z"
   },
   {
    "duration": 19,
    "start_time": "2025-02-20T08:08:06.538Z"
   },
   {
    "duration": 2,
    "start_time": "2025-02-20T08:08:06.559Z"
   },
   {
    "duration": 12,
    "start_time": "2025-02-20T08:08:06.562Z"
   },
   {
    "duration": 7,
    "start_time": "2025-02-20T08:08:06.575Z"
   },
   {
    "duration": 2,
    "start_time": "2025-02-20T08:08:06.584Z"
   },
   {
    "duration": 524826,
    "start_time": "2025-02-20T08:08:06.609Z"
   },
   {
    "duration": 3,
    "start_time": "2025-02-20T08:16:51.437Z"
   },
   {
    "duration": 19,
    "start_time": "2025-02-20T08:16:51.442Z"
   },
   {
    "duration": 25,
    "start_time": "2025-02-20T08:16:51.462Z"
   },
   {
    "duration": 4344,
    "start_time": "2025-02-20T08:16:51.489Z"
   },
   {
    "duration": 36,
    "start_time": "2025-02-20T08:16:55.834Z"
   },
   {
    "duration": 3,
    "start_time": "2025-02-20T08:16:55.872Z"
   },
   {
    "duration": 5,
    "start_time": "2025-02-20T08:16:55.876Z"
   },
   {
    "duration": 4,
    "start_time": "2025-02-20T08:16:55.883Z"
   },
   {
    "duration": 8,
    "start_time": "2025-02-20T08:16:55.910Z"
   },
   {
    "duration": 1432,
    "start_time": "2025-02-20T08:36:36.986Z"
   },
   {
    "duration": 970,
    "start_time": "2025-02-20T08:36:38.420Z"
   },
   {
    "duration": 21,
    "start_time": "2025-02-20T08:36:39.392Z"
   },
   {
    "duration": 32,
    "start_time": "2025-02-20T08:36:39.415Z"
   },
   {
    "duration": 79892,
    "start_time": "2025-02-20T08:36:39.448Z"
   },
   {
    "duration": 8,
    "start_time": "2025-02-20T08:37:59.342Z"
   },
   {
    "duration": 5,
    "start_time": "2025-02-20T08:37:59.351Z"
   },
   {
    "duration": 4124,
    "start_time": "2025-02-20T08:37:59.357Z"
   },
   {
    "duration": 7,
    "start_time": "2025-02-20T08:38:03.483Z"
   },
   {
    "duration": 346,
    "start_time": "2025-02-20T08:38:03.493Z"
   },
   {
    "duration": 3,
    "start_time": "2025-02-20T08:38:03.841Z"
   },
   {
    "duration": 33,
    "start_time": "2025-02-20T08:38:03.846Z"
   },
   {
    "duration": 6831,
    "start_time": "2025-02-20T08:38:03.881Z"
   },
   {
    "duration": 3,
    "start_time": "2025-02-20T08:38:10.714Z"
   },
   {
    "duration": 5,
    "start_time": "2025-02-20T08:38:10.718Z"
   },
   {
    "duration": 5,
    "start_time": "2025-02-20T08:38:10.724Z"
   },
   {
    "duration": 8,
    "start_time": "2025-02-20T08:38:10.731Z"
   },
   {
    "duration": 7,
    "start_time": "2025-02-20T08:38:10.740Z"
   },
   {
    "duration": 7,
    "start_time": "2025-02-20T08:38:10.748Z"
   },
   {
    "duration": 114178,
    "start_time": "2025-02-20T08:38:10.756Z"
   },
   {
    "duration": 4,
    "start_time": "2025-02-20T08:40:04.935Z"
   },
   {
    "duration": 22,
    "start_time": "2025-02-20T08:40:04.940Z"
   },
   {
    "duration": 15,
    "start_time": "2025-02-20T08:40:04.963Z"
   },
   {
    "duration": 12759,
    "start_time": "2025-02-20T08:40:04.979Z"
   },
   {
    "duration": 19,
    "start_time": "2025-02-20T08:40:17.739Z"
   },
   {
    "duration": 18,
    "start_time": "2025-02-20T08:40:17.760Z"
   },
   {
    "duration": 49,
    "start_time": "2025-02-20T08:40:17.779Z"
   },
   {
    "duration": 6,
    "start_time": "2025-02-20T08:40:17.831Z"
   },
   {
    "duration": 17,
    "start_time": "2025-02-20T08:40:17.839Z"
   },
   {
    "duration": 533775,
    "start_time": "2025-02-20T08:40:17.858Z"
   },
   {
    "duration": 4,
    "start_time": "2025-02-20T08:49:11.635Z"
   },
   {
    "duration": 4,
    "start_time": "2025-02-20T08:49:11.640Z"
   },
   {
    "duration": 4,
    "start_time": "2025-02-20T08:49:11.646Z"
   },
   {
    "duration": 4311,
    "start_time": "2025-02-20T08:49:11.651Z"
   },
   {
    "duration": 45,
    "start_time": "2025-02-20T08:49:15.964Z"
   },
   {
    "duration": 2,
    "start_time": "2025-02-20T08:49:16.011Z"
   },
   {
    "duration": 5,
    "start_time": "2025-02-20T08:49:16.015Z"
   },
   {
    "duration": 7,
    "start_time": "2025-02-20T08:49:16.021Z"
   },
   {
    "duration": 3,
    "start_time": "2025-02-20T08:49:16.029Z"
   },
   {
    "duration": 4291018,
    "start_time": "2025-02-20T08:49:16.033Z"
   },
   {
    "duration": 1541,
    "start_time": "2025-02-27T05:15:04.040Z"
   },
   {
    "duration": 989,
    "start_time": "2025-02-27T05:15:05.583Z"
   },
   {
    "duration": 13,
    "start_time": "2025-02-27T05:15:06.574Z"
   },
   {
    "duration": 43,
    "start_time": "2025-02-27T05:15:06.589Z"
   },
   {
    "duration": 87053,
    "start_time": "2025-02-27T05:15:06.633Z"
   },
   {
    "duration": 9,
    "start_time": "2025-02-27T05:16:33.688Z"
   },
   {
    "duration": 11,
    "start_time": "2025-02-27T05:16:33.699Z"
   },
   {
    "duration": 4201,
    "start_time": "2025-02-27T05:16:33.711Z"
   },
   {
    "duration": 7,
    "start_time": "2025-02-27T05:16:37.914Z"
   },
   {
    "duration": 306,
    "start_time": "2025-02-27T05:16:37.923Z"
   },
   {
    "duration": 2,
    "start_time": "2025-02-27T05:16:38.231Z"
   },
   {
    "duration": 24,
    "start_time": "2025-02-27T05:16:38.235Z"
   },
   {
    "duration": 6987,
    "start_time": "2025-02-27T05:16:38.260Z"
   },
   {
    "duration": 3,
    "start_time": "2025-02-27T05:16:45.249Z"
   },
   {
    "duration": 10,
    "start_time": "2025-02-27T05:16:45.254Z"
   },
   {
    "duration": 20,
    "start_time": "2025-02-27T05:16:45.266Z"
   },
   {
    "duration": 26,
    "start_time": "2025-02-27T05:16:45.287Z"
   },
   {
    "duration": 30,
    "start_time": "2025-02-27T05:16:45.315Z"
   },
   {
    "duration": 34,
    "start_time": "2025-02-27T05:16:45.346Z"
   },
   {
    "duration": 113460,
    "start_time": "2025-02-27T05:16:45.381Z"
   },
   {
    "duration": 6,
    "start_time": "2025-02-27T05:18:38.843Z"
   },
   {
    "duration": 8,
    "start_time": "2025-02-27T05:18:38.851Z"
   },
   {
    "duration": 4,
    "start_time": "2025-02-27T05:18:38.861Z"
   },
   {
    "duration": 12664,
    "start_time": "2025-02-27T05:18:38.866Z"
   },
   {
    "duration": 22,
    "start_time": "2025-02-27T05:18:51.532Z"
   },
   {
    "duration": 9,
    "start_time": "2025-02-27T05:18:51.556Z"
   },
   {
    "duration": 16,
    "start_time": "2025-02-27T05:18:51.567Z"
   },
   {
    "duration": 6,
    "start_time": "2025-02-27T05:18:51.587Z"
   },
   {
    "duration": 29,
    "start_time": "2025-02-27T05:18:51.595Z"
   },
   {
    "duration": 574513,
    "start_time": "2025-02-27T05:18:51.625Z"
   },
   {
    "duration": 4,
    "start_time": "2025-02-27T05:28:26.140Z"
   },
   {
    "duration": 21,
    "start_time": "2025-02-27T05:28:26.145Z"
   },
   {
    "duration": 2,
    "start_time": "2025-02-27T05:28:26.168Z"
   },
   {
    "duration": 4467,
    "start_time": "2025-02-27T05:28:26.172Z"
   },
   {
    "duration": 37,
    "start_time": "2025-02-27T05:28:30.641Z"
   },
   {
    "duration": 2,
    "start_time": "2025-02-27T05:28:30.680Z"
   },
   {
    "duration": 16,
    "start_time": "2025-02-27T05:28:30.683Z"
   },
   {
    "duration": 2,
    "start_time": "2025-02-27T05:28:30.709Z"
   },
   {
    "duration": 22,
    "start_time": "2025-02-27T05:28:30.713Z"
   },
   {
    "duration": 1610,
    "start_time": "2025-02-27T08:45:45.483Z"
   },
   {
    "duration": 1622,
    "start_time": "2025-02-27T08:45:47.095Z"
   },
   {
    "duration": 16,
    "start_time": "2025-02-27T08:45:48.719Z"
   },
   {
    "duration": 38,
    "start_time": "2025-02-27T08:45:48.737Z"
   },
   {
    "duration": 51188,
    "start_time": "2025-02-27T08:45:48.777Z"
   },
   {
    "duration": 0,
    "start_time": "2025-02-27T08:46:39.969Z"
   },
   {
    "duration": 0,
    "start_time": "2025-02-27T08:46:39.971Z"
   },
   {
    "duration": 0,
    "start_time": "2025-02-27T08:46:39.973Z"
   },
   {
    "duration": 0,
    "start_time": "2025-02-27T08:46:39.974Z"
   },
   {
    "duration": 0,
    "start_time": "2025-02-27T08:46:39.975Z"
   },
   {
    "duration": 0,
    "start_time": "2025-02-27T08:46:39.976Z"
   },
   {
    "duration": 1,
    "start_time": "2025-02-27T08:46:39.977Z"
   },
   {
    "duration": 1,
    "start_time": "2025-02-27T08:46:39.978Z"
   },
   {
    "duration": 0,
    "start_time": "2025-02-27T08:46:39.980Z"
   },
   {
    "duration": 0,
    "start_time": "2025-02-27T08:46:39.981Z"
   },
   {
    "duration": 0,
    "start_time": "2025-02-27T08:46:39.982Z"
   },
   {
    "duration": 0,
    "start_time": "2025-02-27T08:46:39.983Z"
   },
   {
    "duration": 0,
    "start_time": "2025-02-27T08:46:39.984Z"
   },
   {
    "duration": 0,
    "start_time": "2025-02-27T08:46:39.985Z"
   },
   {
    "duration": 0,
    "start_time": "2025-02-27T08:46:39.987Z"
   },
   {
    "duration": 0,
    "start_time": "2025-02-27T08:46:39.988Z"
   },
   {
    "duration": 0,
    "start_time": "2025-02-27T08:46:39.989Z"
   },
   {
    "duration": 0,
    "start_time": "2025-02-27T08:46:39.990Z"
   },
   {
    "duration": 0,
    "start_time": "2025-02-27T08:46:39.991Z"
   },
   {
    "duration": 0,
    "start_time": "2025-02-27T08:46:39.992Z"
   },
   {
    "duration": 0,
    "start_time": "2025-02-27T08:46:39.993Z"
   },
   {
    "duration": 0,
    "start_time": "2025-02-27T08:46:39.994Z"
   },
   {
    "duration": 0,
    "start_time": "2025-02-27T08:46:39.995Z"
   },
   {
    "duration": 0,
    "start_time": "2025-02-27T08:46:39.996Z"
   },
   {
    "duration": 0,
    "start_time": "2025-02-27T08:46:39.997Z"
   },
   {
    "duration": 0,
    "start_time": "2025-02-27T08:46:39.999Z"
   },
   {
    "duration": 0,
    "start_time": "2025-02-27T08:46:40.000Z"
   },
   {
    "duration": 0,
    "start_time": "2025-02-27T08:46:40.001Z"
   },
   {
    "duration": 0,
    "start_time": "2025-02-27T08:46:40.003Z"
   },
   {
    "duration": 0,
    "start_time": "2025-02-27T08:46:40.004Z"
   },
   {
    "duration": 0,
    "start_time": "2025-02-27T08:46:40.017Z"
   },
   {
    "duration": 0,
    "start_time": "2025-02-27T08:46:40.018Z"
   },
   {
    "duration": 0,
    "start_time": "2025-02-27T08:46:40.020Z"
   },
   {
    "duration": 0,
    "start_time": "2025-02-27T08:46:40.021Z"
   },
   {
    "duration": 0,
    "start_time": "2025-02-27T08:46:40.029Z"
   },
   {
    "duration": 1528,
    "start_time": "2025-02-27T08:47:33.016Z"
   },
   {
    "duration": 1010,
    "start_time": "2025-02-27T08:47:34.546Z"
   },
   {
    "duration": 14,
    "start_time": "2025-02-27T08:47:35.558Z"
   },
   {
    "duration": 89,
    "start_time": "2025-02-27T08:47:35.574Z"
   },
   {
    "duration": 97784,
    "start_time": "2025-02-27T08:47:35.665Z"
   },
   {
    "duration": 8,
    "start_time": "2025-02-27T08:49:13.451Z"
   },
   {
    "duration": 8,
    "start_time": "2025-02-27T08:49:13.461Z"
   },
   {
    "duration": 5861,
    "start_time": "2025-02-27T08:49:13.471Z"
   },
   {
    "duration": 13,
    "start_time": "2025-02-27T08:49:19.335Z"
   },
   {
    "duration": 151,
    "start_time": "2025-02-27T08:49:19.352Z"
   },
   {
    "duration": 2,
    "start_time": "2025-02-27T08:49:19.505Z"
   },
   {
    "duration": 88,
    "start_time": "2025-02-27T08:49:19.514Z"
   },
   {
    "duration": 8269,
    "start_time": "2025-02-27T08:49:19.605Z"
   },
   {
    "duration": 3,
    "start_time": "2025-02-27T08:49:27.876Z"
   },
   {
    "duration": 8,
    "start_time": "2025-02-27T08:49:27.880Z"
   },
   {
    "duration": 19,
    "start_time": "2025-02-27T08:49:27.889Z"
   },
   {
    "duration": 16,
    "start_time": "2025-02-27T08:49:27.914Z"
   },
   {
    "duration": 7,
    "start_time": "2025-02-27T08:49:27.932Z"
   },
   {
    "duration": 12,
    "start_time": "2025-02-27T08:49:27.941Z"
   },
   {
    "duration": 106266,
    "start_time": "2025-02-27T08:49:27.955Z"
   },
   {
    "duration": 4,
    "start_time": "2025-02-27T08:51:14.223Z"
   },
   {
    "duration": 39,
    "start_time": "2025-02-27T08:51:14.229Z"
   },
   {
    "duration": 34,
    "start_time": "2025-02-27T08:51:14.270Z"
   },
   {
    "duration": 12721,
    "start_time": "2025-02-27T08:51:14.305Z"
   },
   {
    "duration": 21,
    "start_time": "2025-02-27T08:51:27.028Z"
   },
   {
    "duration": 3,
    "start_time": "2025-02-27T08:51:27.050Z"
   },
   {
    "duration": 12,
    "start_time": "2025-02-27T08:51:27.054Z"
   },
   {
    "duration": 5,
    "start_time": "2025-02-27T08:51:27.069Z"
   },
   {
    "duration": 4,
    "start_time": "2025-02-27T08:51:27.075Z"
   },
   {
    "duration": 614407,
    "start_time": "2025-02-27T08:51:27.080Z"
   },
   {
    "duration": 4,
    "start_time": "2025-02-27T09:01:41.489Z"
   },
   {
    "duration": 6,
    "start_time": "2025-02-27T09:01:41.495Z"
   },
   {
    "duration": 9,
    "start_time": "2025-02-27T09:01:41.515Z"
   },
   {
    "duration": 5128,
    "start_time": "2025-02-27T09:01:41.526Z"
   },
   {
    "duration": 37,
    "start_time": "2025-02-27T09:01:46.656Z"
   },
   {
    "duration": 2,
    "start_time": "2025-02-27T09:01:46.695Z"
   },
   {
    "duration": 8,
    "start_time": "2025-02-27T09:01:46.713Z"
   },
   {
    "duration": 152,
    "start_time": "2025-02-27T09:01:46.724Z"
   },
   {
    "duration": 0,
    "start_time": "2025-02-27T09:01:46.878Z"
   },
   {
    "duration": 0,
    "start_time": "2025-02-27T09:01:46.879Z"
   },
   {
    "duration": 0,
    "start_time": "2025-02-27T09:01:46.880Z"
   },
   {
    "duration": 8,
    "start_time": "2025-02-27T10:12:58.652Z"
   },
   {
    "duration": 1407,
    "start_time": "2025-02-28T06:18:19.235Z"
   },
   {
    "duration": 902,
    "start_time": "2025-02-28T06:18:20.643Z"
   },
   {
    "duration": 12,
    "start_time": "2025-02-28T06:18:21.547Z"
   },
   {
    "duration": 29,
    "start_time": "2025-02-28T06:18:21.560Z"
   },
   {
    "duration": 77832,
    "start_time": "2025-02-28T06:18:21.591Z"
   },
   {
    "duration": 7,
    "start_time": "2025-02-28T06:19:39.431Z"
   },
   {
    "duration": 41,
    "start_time": "2025-02-28T06:19:39.440Z"
   },
   {
    "duration": 4038,
    "start_time": "2025-02-28T06:19:39.483Z"
   },
   {
    "duration": 11,
    "start_time": "2025-02-28T06:19:43.523Z"
   },
   {
    "duration": 368,
    "start_time": "2025-02-28T06:19:43.536Z"
   },
   {
    "duration": 3,
    "start_time": "2025-02-28T06:19:43.905Z"
   },
   {
    "duration": 24,
    "start_time": "2025-02-28T06:19:43.910Z"
   },
   {
    "duration": 6513,
    "start_time": "2025-02-28T06:19:43.935Z"
   },
   {
    "duration": 3,
    "start_time": "2025-02-28T06:19:50.451Z"
   },
   {
    "duration": 36,
    "start_time": "2025-02-28T06:19:50.456Z"
   },
   {
    "duration": 22,
    "start_time": "2025-02-28T06:19:50.493Z"
   },
   {
    "duration": 17,
    "start_time": "2025-02-28T06:19:50.516Z"
   },
   {
    "duration": 15,
    "start_time": "2025-02-28T06:19:50.535Z"
   },
   {
    "duration": 9,
    "start_time": "2025-02-28T06:19:50.551Z"
   },
   {
    "duration": 114186,
    "start_time": "2025-02-28T06:19:50.562Z"
   },
   {
    "duration": 4,
    "start_time": "2025-02-28T06:21:44.749Z"
   },
   {
    "duration": 21,
    "start_time": "2025-02-28T06:21:44.754Z"
   },
   {
    "duration": 8,
    "start_time": "2025-02-28T06:21:44.777Z"
   },
   {
    "duration": 12664,
    "start_time": "2025-02-28T06:21:44.786Z"
   },
   {
    "duration": 19,
    "start_time": "2025-02-28T06:21:57.451Z"
   },
   {
    "duration": 6,
    "start_time": "2025-02-28T06:21:57.472Z"
   },
   {
    "duration": 7,
    "start_time": "2025-02-28T06:21:57.479Z"
   },
   {
    "duration": 10,
    "start_time": "2025-02-28T06:21:57.487Z"
   },
   {
    "duration": 8,
    "start_time": "2025-02-28T06:21:57.498Z"
   },
   {
    "duration": 538844,
    "start_time": "2025-02-28T06:21:57.507Z"
   },
   {
    "duration": 3,
    "start_time": "2025-02-28T06:30:56.353Z"
   },
   {
    "duration": 37,
    "start_time": "2025-02-28T06:30:56.358Z"
   },
   {
    "duration": 69,
    "start_time": "2025-02-28T06:30:56.397Z"
   },
   {
    "duration": 4321,
    "start_time": "2025-02-28T06:30:56.468Z"
   },
   {
    "duration": 25,
    "start_time": "2025-02-28T06:31:00.791Z"
   },
   {
    "duration": 16,
    "start_time": "2025-02-28T06:31:00.829Z"
   },
   {
    "duration": 11,
    "start_time": "2025-02-28T06:31:00.847Z"
   },
   {
    "duration": 1402,
    "start_time": "2025-02-28T06:40:22.250Z"
   },
   {
    "duration": 891,
    "start_time": "2025-02-28T06:40:23.654Z"
   },
   {
    "duration": 13,
    "start_time": "2025-02-28T06:40:24.547Z"
   },
   {
    "duration": 28,
    "start_time": "2025-02-28T06:40:24.561Z"
   },
   {
    "duration": 84129,
    "start_time": "2025-02-28T06:40:24.592Z"
   },
   {
    "duration": 12,
    "start_time": "2025-02-28T06:41:48.722Z"
   },
   {
    "duration": 96,
    "start_time": "2025-02-28T06:41:48.736Z"
   },
   {
    "duration": 4041,
    "start_time": "2025-02-28T06:41:48.834Z"
   },
   {
    "duration": 6,
    "start_time": "2025-02-28T06:41:52.877Z"
   },
   {
    "duration": 155,
    "start_time": "2025-02-28T06:41:52.885Z"
   },
   {
    "duration": 3,
    "start_time": "2025-02-28T06:41:53.042Z"
   },
   {
    "duration": 41,
    "start_time": "2025-02-28T06:41:53.046Z"
   },
   {
    "duration": 6632,
    "start_time": "2025-02-28T06:41:53.088Z"
   },
   {
    "duration": 8,
    "start_time": "2025-02-28T06:41:59.722Z"
   },
   {
    "duration": 6,
    "start_time": "2025-02-28T06:41:59.732Z"
   },
   {
    "duration": 5,
    "start_time": "2025-02-28T06:41:59.739Z"
   },
   {
    "duration": 7,
    "start_time": "2025-02-28T06:41:59.745Z"
   },
   {
    "duration": 21,
    "start_time": "2025-02-28T06:41:59.753Z"
   },
   {
    "duration": 5,
    "start_time": "2025-02-28T06:41:59.775Z"
   },
   {
    "duration": 114172,
    "start_time": "2025-02-28T06:41:59.781Z"
   },
   {
    "duration": 3,
    "start_time": "2025-02-28T06:43:53.954Z"
   },
   {
    "duration": 6,
    "start_time": "2025-02-28T06:43:53.959Z"
   },
   {
    "duration": 9,
    "start_time": "2025-02-28T06:43:53.966Z"
   },
   {
    "duration": 12677,
    "start_time": "2025-02-28T06:43:53.976Z"
   },
   {
    "duration": 21,
    "start_time": "2025-02-28T06:44:06.654Z"
   },
   {
    "duration": 3,
    "start_time": "2025-02-28T06:44:06.676Z"
   },
   {
    "duration": 37,
    "start_time": "2025-02-28T06:44:06.680Z"
   },
   {
    "duration": 6,
    "start_time": "2025-02-28T06:44:06.719Z"
   },
   {
    "duration": 19,
    "start_time": "2025-02-28T06:44:06.727Z"
   },
   {
    "duration": 553384,
    "start_time": "2025-02-28T06:44:06.748Z"
   },
   {
    "duration": 3,
    "start_time": "2025-02-28T06:53:20.133Z"
   },
   {
    "duration": 11,
    "start_time": "2025-02-28T06:53:20.137Z"
   },
   {
    "duration": 4,
    "start_time": "2025-02-28T06:53:20.149Z"
   },
   {
    "duration": 4153,
    "start_time": "2025-02-28T06:53:20.154Z"
   },
   {
    "duration": 31,
    "start_time": "2025-02-28T06:53:24.309Z"
   },
   {
    "duration": 14,
    "start_time": "2025-02-28T06:53:24.342Z"
   },
   {
    "duration": 9,
    "start_time": "2025-02-28T06:53:24.357Z"
   },
   {
    "duration": 1404,
    "start_time": "2025-02-28T11:27:47.279Z"
   },
   {
    "duration": 926,
    "start_time": "2025-02-28T11:27:49.156Z"
   },
   {
    "duration": 12,
    "start_time": "2025-02-28T11:27:50.709Z"
   },
   {
    "duration": 31,
    "start_time": "2025-02-28T11:27:53.076Z"
   },
   {
    "duration": 2767,
    "start_time": "2025-02-28T11:27:58.515Z"
   },
   {
    "duration": 10,
    "start_time": "2025-02-28T11:28:11.267Z"
   },
   {
    "duration": 1629,
    "start_time": "2025-02-28T11:28:27.161Z"
   },
   {
    "duration": 7,
    "start_time": "2025-02-28T11:28:28.791Z"
   },
   {
    "duration": 1611,
    "start_time": "2025-02-28T11:29:22.564Z"
   },
   {
    "duration": 7,
    "start_time": "2025-02-28T11:29:24.996Z"
   },
   {
    "duration": 1459,
    "start_time": "2025-02-28T11:33:26.043Z"
   },
   {
    "duration": 936,
    "start_time": "2025-02-28T11:33:27.503Z"
   },
   {
    "duration": 13,
    "start_time": "2025-02-28T11:33:28.441Z"
   },
   {
    "duration": 33,
    "start_time": "2025-02-28T11:33:28.456Z"
   },
   {
    "duration": 2875,
    "start_time": "2025-02-28T11:33:28.491Z"
   },
   {
    "duration": 9,
    "start_time": "2025-02-28T11:33:31.367Z"
   },
   {
    "duration": 70,
    "start_time": "2025-02-28T11:33:31.377Z"
   },
   {
    "duration": 4245,
    "start_time": "2025-02-28T11:33:31.449Z"
   },
   {
    "duration": 7,
    "start_time": "2025-02-28T11:33:35.695Z"
   },
   {
    "duration": 233,
    "start_time": "2025-02-28T11:33:35.704Z"
   },
   {
    "duration": 0,
    "start_time": "2025-02-28T11:33:35.939Z"
   },
   {
    "duration": 0,
    "start_time": "2025-02-28T11:33:35.941Z"
   },
   {
    "duration": 0,
    "start_time": "2025-02-28T11:33:35.942Z"
   },
   {
    "duration": 0,
    "start_time": "2025-02-28T11:33:35.943Z"
   },
   {
    "duration": 1,
    "start_time": "2025-02-28T11:33:35.944Z"
   },
   {
    "duration": 0,
    "start_time": "2025-02-28T11:33:35.946Z"
   },
   {
    "duration": 0,
    "start_time": "2025-02-28T11:33:35.947Z"
   },
   {
    "duration": 0,
    "start_time": "2025-02-28T11:33:35.948Z"
   },
   {
    "duration": 0,
    "start_time": "2025-02-28T11:33:35.949Z"
   },
   {
    "duration": 0,
    "start_time": "2025-02-28T11:33:35.950Z"
   },
   {
    "duration": 0,
    "start_time": "2025-02-28T11:33:35.951Z"
   },
   {
    "duration": 0,
    "start_time": "2025-02-28T11:33:35.952Z"
   },
   {
    "duration": 0,
    "start_time": "2025-02-28T11:33:35.953Z"
   },
   {
    "duration": 0,
    "start_time": "2025-02-28T11:33:35.954Z"
   },
   {
    "duration": 0,
    "start_time": "2025-02-28T11:33:35.955Z"
   },
   {
    "duration": 0,
    "start_time": "2025-02-28T11:33:35.956Z"
   },
   {
    "duration": 0,
    "start_time": "2025-02-28T11:33:35.956Z"
   },
   {
    "duration": 0,
    "start_time": "2025-02-28T11:33:35.957Z"
   },
   {
    "duration": 0,
    "start_time": "2025-02-28T11:33:35.958Z"
   },
   {
    "duration": 0,
    "start_time": "2025-02-28T11:33:35.959Z"
   },
   {
    "duration": 0,
    "start_time": "2025-02-28T11:33:35.960Z"
   },
   {
    "duration": 0,
    "start_time": "2025-02-28T11:33:35.961Z"
   },
   {
    "duration": 0,
    "start_time": "2025-02-28T11:33:35.962Z"
   },
   {
    "duration": 1,
    "start_time": "2025-02-28T11:33:35.962Z"
   },
   {
    "duration": 0,
    "start_time": "2025-02-28T11:33:35.963Z"
   },
   {
    "duration": 0,
    "start_time": "2025-02-28T11:33:35.964Z"
   },
   {
    "duration": 0,
    "start_time": "2025-02-28T11:33:35.965Z"
   },
   {
    "duration": 1679,
    "start_time": "2025-02-28T11:38:47.928Z"
   },
   {
    "duration": 1477,
    "start_time": "2025-02-28T11:38:55.422Z"
   },
   {
    "duration": 939,
    "start_time": "2025-02-28T11:38:56.901Z"
   },
   {
    "duration": 12,
    "start_time": "2025-02-28T11:38:57.844Z"
   },
   {
    "duration": 75,
    "start_time": "2025-02-28T11:38:57.858Z"
   },
   {
    "duration": 2942,
    "start_time": "2025-02-28T11:38:57.935Z"
   },
   {
    "duration": 7,
    "start_time": "2025-02-28T11:39:00.879Z"
   },
   {
    "duration": 9,
    "start_time": "2025-02-28T11:39:00.888Z"
   },
   {
    "duration": 4192,
    "start_time": "2025-02-28T11:39:00.898Z"
   },
   {
    "duration": 7,
    "start_time": "2025-02-28T11:39:05.092Z"
   },
   {
    "duration": 464,
    "start_time": "2025-02-28T11:39:05.102Z"
   },
   {
    "duration": 2,
    "start_time": "2025-02-28T11:39:05.568Z"
   },
   {
    "duration": 62,
    "start_time": "2025-02-28T11:39:05.572Z"
   },
   {
    "duration": 7139,
    "start_time": "2025-02-28T11:39:05.636Z"
   },
   {
    "duration": 3,
    "start_time": "2025-02-28T11:39:12.776Z"
   },
   {
    "duration": 12,
    "start_time": "2025-02-28T11:39:12.781Z"
   },
   {
    "duration": 7,
    "start_time": "2025-02-28T11:39:12.794Z"
   },
   {
    "duration": 24,
    "start_time": "2025-02-28T11:39:12.803Z"
   },
   {
    "duration": 4,
    "start_time": "2025-02-28T11:39:12.828Z"
   },
   {
    "duration": 10,
    "start_time": "2025-02-28T11:39:12.833Z"
   },
   {
    "duration": 107910,
    "start_time": "2025-02-28T11:39:12.845Z"
   },
   {
    "duration": 3,
    "start_time": "2025-02-28T11:41:00.757Z"
   },
   {
    "duration": 75,
    "start_time": "2025-02-28T11:41:00.761Z"
   },
   {
    "duration": 24,
    "start_time": "2025-02-28T11:41:00.837Z"
   },
   {
    "duration": 12696,
    "start_time": "2025-02-28T11:41:00.862Z"
   },
   {
    "duration": 18,
    "start_time": "2025-02-28T11:41:13.559Z"
   },
   {
    "duration": 2,
    "start_time": "2025-02-28T11:41:13.579Z"
   },
   {
    "duration": 10,
    "start_time": "2025-02-28T11:41:13.582Z"
   },
   {
    "duration": 3,
    "start_time": "2025-02-28T11:41:13.594Z"
   },
   {
    "duration": 6,
    "start_time": "2025-02-28T11:41:13.598Z"
   },
   {
    "duration": 1358,
    "start_time": "2025-02-28T11:44:46.891Z"
   },
   {
    "duration": 916,
    "start_time": "2025-02-28T11:44:48.251Z"
   },
   {
    "duration": 12,
    "start_time": "2025-02-28T11:44:49.169Z"
   },
   {
    "duration": 29,
    "start_time": "2025-02-28T11:44:49.182Z"
   },
   {
    "duration": 2,
    "start_time": "2025-02-28T11:44:49.213Z"
   },
   {
    "duration": 3701,
    "start_time": "2025-02-28T11:44:49.229Z"
   },
   {
    "duration": 6,
    "start_time": "2025-02-28T11:44:52.932Z"
   },
   {
    "duration": 18,
    "start_time": "2025-02-28T11:44:52.940Z"
   },
   {
    "duration": 3919,
    "start_time": "2025-02-28T11:44:52.960Z"
   },
   {
    "duration": 8,
    "start_time": "2025-02-28T11:44:56.881Z"
   },
   {
    "duration": 159,
    "start_time": "2025-02-28T11:44:56.890Z"
   },
   {
    "duration": 2,
    "start_time": "2025-02-28T11:44:57.051Z"
   },
   {
    "duration": 37,
    "start_time": "2025-02-28T11:44:57.054Z"
   },
   {
    "duration": 6706,
    "start_time": "2025-02-28T11:44:57.093Z"
   },
   {
    "duration": 4,
    "start_time": "2025-02-28T11:45:03.801Z"
   },
   {
    "duration": 28,
    "start_time": "2025-02-28T11:45:03.807Z"
   },
   {
    "duration": 68,
    "start_time": "2025-02-28T11:45:03.837Z"
   },
   {
    "duration": 42,
    "start_time": "2025-02-28T11:45:03.907Z"
   },
   {
    "duration": 23,
    "start_time": "2025-02-28T11:45:03.951Z"
   },
   {
    "duration": 94,
    "start_time": "2025-02-28T11:45:03.975Z"
   },
   {
    "duration": 113986,
    "start_time": "2025-02-28T11:45:04.071Z"
   },
   {
    "duration": 3,
    "start_time": "2025-02-28T11:46:58.059Z"
   },
   {
    "duration": 10,
    "start_time": "2025-02-28T11:46:58.063Z"
   },
   {
    "duration": 11,
    "start_time": "2025-02-28T11:46:58.074Z"
   },
   {
    "duration": 12659,
    "start_time": "2025-02-28T11:46:58.087Z"
   },
   {
    "duration": 19,
    "start_time": "2025-02-28T11:47:10.748Z"
   },
   {
    "duration": 17,
    "start_time": "2025-02-28T11:47:10.768Z"
   },
   {
    "duration": 4,
    "start_time": "2025-02-28T11:47:10.787Z"
   },
   {
    "duration": 4,
    "start_time": "2025-02-28T11:47:10.793Z"
   },
   {
    "duration": 6,
    "start_time": "2025-02-28T11:47:10.798Z"
   },
   {
    "duration": 1501,
    "start_time": "2025-02-28T11:54:30.211Z"
   },
   {
    "duration": 964,
    "start_time": "2025-02-28T11:54:31.714Z"
   },
   {
    "duration": 12,
    "start_time": "2025-02-28T11:54:32.680Z"
   },
   {
    "duration": 43,
    "start_time": "2025-02-28T11:54:32.694Z"
   },
   {
    "duration": 69,
    "start_time": "2025-02-28T11:54:32.738Z"
   },
   {
    "duration": 3829,
    "start_time": "2025-02-28T11:54:32.808Z"
   },
   {
    "duration": 7,
    "start_time": "2025-02-28T11:54:36.638Z"
   },
   {
    "duration": 36,
    "start_time": "2025-02-28T11:54:36.647Z"
   },
   {
    "duration": 3883,
    "start_time": "2025-02-28T11:54:36.684Z"
   },
   {
    "duration": 6,
    "start_time": "2025-02-28T11:54:40.570Z"
   },
   {
    "duration": 266,
    "start_time": "2025-02-28T11:54:40.578Z"
   },
   {
    "duration": 2,
    "start_time": "2025-02-28T11:54:40.846Z"
   },
   {
    "duration": 47,
    "start_time": "2025-02-28T11:54:40.850Z"
   },
   {
    "duration": 6645,
    "start_time": "2025-02-28T11:54:40.898Z"
   },
   {
    "duration": 2,
    "start_time": "2025-02-28T11:54:47.545Z"
   },
   {
    "duration": 9,
    "start_time": "2025-02-28T11:54:47.549Z"
   },
   {
    "duration": 8,
    "start_time": "2025-02-28T11:54:47.559Z"
   },
   {
    "duration": 22,
    "start_time": "2025-02-28T11:54:47.568Z"
   },
   {
    "duration": 15,
    "start_time": "2025-02-28T11:54:47.591Z"
   },
   {
    "duration": 4,
    "start_time": "2025-02-28T11:54:47.607Z"
   },
   {
    "duration": 1452,
    "start_time": "2025-02-28T11:55:11.794Z"
   },
   {
    "duration": 939,
    "start_time": "2025-02-28T11:55:13.248Z"
   },
   {
    "duration": 12,
    "start_time": "2025-02-28T11:55:14.189Z"
   },
   {
    "duration": 39,
    "start_time": "2025-02-28T11:55:14.203Z"
   },
   {
    "duration": 2,
    "start_time": "2025-02-28T11:55:14.244Z"
   },
   {
    "duration": 3583,
    "start_time": "2025-02-28T11:55:14.247Z"
   },
   {
    "duration": 7,
    "start_time": "2025-02-28T11:55:17.831Z"
   },
   {
    "duration": 3,
    "start_time": "2025-02-28T11:55:17.840Z"
   },
   {
    "duration": 3973,
    "start_time": "2025-02-28T11:55:17.844Z"
   },
   {
    "duration": 12,
    "start_time": "2025-02-28T11:55:21.820Z"
   },
   {
    "duration": 253,
    "start_time": "2025-02-28T11:55:21.833Z"
   },
   {
    "duration": 3,
    "start_time": "2025-02-28T11:55:22.087Z"
   },
   {
    "duration": 46,
    "start_time": "2025-02-28T11:55:22.091Z"
   },
   {
    "duration": 6602,
    "start_time": "2025-02-28T11:55:22.138Z"
   },
   {
    "duration": 4,
    "start_time": "2025-02-28T11:55:28.741Z"
   },
   {
    "duration": 72,
    "start_time": "2025-02-28T11:55:28.746Z"
   },
   {
    "duration": 11,
    "start_time": "2025-02-28T11:55:28.820Z"
   },
   {
    "duration": 5,
    "start_time": "2025-02-28T11:55:28.833Z"
   },
   {
    "duration": 4,
    "start_time": "2025-02-28T11:55:28.840Z"
   },
   {
    "duration": 3,
    "start_time": "2025-02-28T11:55:28.845Z"
   },
   {
    "duration": 1455,
    "start_time": "2025-02-28T11:55:43.240Z"
   },
   {
    "duration": 933,
    "start_time": "2025-02-28T11:55:44.697Z"
   },
   {
    "duration": 13,
    "start_time": "2025-02-28T11:55:45.632Z"
   },
   {
    "duration": 31,
    "start_time": "2025-02-28T11:55:45.646Z"
   },
   {
    "duration": 24,
    "start_time": "2025-02-28T11:55:45.679Z"
   },
   {
    "duration": 3954,
    "start_time": "2025-02-28T11:55:45.704Z"
   },
   {
    "duration": 7,
    "start_time": "2025-02-28T11:55:49.659Z"
   },
   {
    "duration": 3,
    "start_time": "2025-02-28T11:55:49.668Z"
   },
   {
    "duration": 3974,
    "start_time": "2025-02-28T11:55:49.673Z"
   },
   {
    "duration": 7,
    "start_time": "2025-02-28T11:55:53.649Z"
   },
   {
    "duration": 234,
    "start_time": "2025-02-28T11:55:53.658Z"
   },
   {
    "duration": 2,
    "start_time": "2025-02-28T11:55:53.894Z"
   },
   {
    "duration": 172,
    "start_time": "2025-02-28T11:55:53.898Z"
   },
   {
    "duration": 6475,
    "start_time": "2025-02-28T11:55:54.075Z"
   },
   {
    "duration": 3,
    "start_time": "2025-02-28T11:56:00.552Z"
   },
   {
    "duration": 38,
    "start_time": "2025-02-28T11:56:00.556Z"
   },
   {
    "duration": 46,
    "start_time": "2025-02-28T11:56:00.595Z"
   },
   {
    "duration": 40,
    "start_time": "2025-02-28T11:56:00.642Z"
   },
   {
    "duration": 23,
    "start_time": "2025-02-28T11:56:00.683Z"
   },
   {
    "duration": 88,
    "start_time": "2025-02-28T11:56:00.707Z"
   },
   {
    "duration": 114160,
    "start_time": "2025-02-28T11:56:00.797Z"
   },
   {
    "duration": 3,
    "start_time": "2025-02-28T11:57:54.959Z"
   },
   {
    "duration": 13,
    "start_time": "2025-02-28T11:57:54.963Z"
   },
   {
    "duration": 4,
    "start_time": "2025-02-28T11:57:54.977Z"
   },
   {
    "duration": 12670,
    "start_time": "2025-02-28T11:57:54.983Z"
   },
   {
    "duration": 20,
    "start_time": "2025-02-28T11:58:07.655Z"
   },
   {
    "duration": 24,
    "start_time": "2025-02-28T11:58:07.676Z"
   },
   {
    "duration": 22,
    "start_time": "2025-02-28T11:58:07.703Z"
   },
   {
    "duration": 68,
    "start_time": "2025-02-28T11:58:07.726Z"
   },
   {
    "duration": 47,
    "start_time": "2025-02-28T11:58:07.796Z"
   },
   {
    "duration": 1417,
    "start_time": "2025-02-28T12:01:48.317Z"
   },
   {
    "duration": 929,
    "start_time": "2025-02-28T12:01:49.736Z"
   },
   {
    "duration": 12,
    "start_time": "2025-02-28T12:01:50.667Z"
   },
   {
    "duration": 90,
    "start_time": "2025-02-28T12:01:50.681Z"
   },
   {
    "duration": 68,
    "start_time": "2025-02-28T12:01:50.772Z"
   },
   {
    "duration": 132322,
    "start_time": "2025-02-28T12:01:50.841Z"
   },
   {
    "duration": 7,
    "start_time": "2025-02-28T12:04:03.164Z"
   },
   {
    "duration": 26,
    "start_time": "2025-02-28T12:04:03.172Z"
   },
   {
    "duration": 3988,
    "start_time": "2025-02-28T12:04:03.199Z"
   },
   {
    "duration": 8,
    "start_time": "2025-02-28T12:04:07.190Z"
   },
   {
    "duration": 245,
    "start_time": "2025-02-28T12:04:07.199Z"
   },
   {
    "duration": 2,
    "start_time": "2025-02-28T12:04:07.446Z"
   },
   {
    "duration": 58,
    "start_time": "2025-02-28T12:04:07.450Z"
   },
   {
    "duration": 6633,
    "start_time": "2025-02-28T12:04:07.510Z"
   },
   {
    "duration": 3,
    "start_time": "2025-02-28T12:04:14.144Z"
   },
   {
    "duration": 50,
    "start_time": "2025-02-28T12:04:14.148Z"
   },
   {
    "duration": 23,
    "start_time": "2025-02-28T12:04:14.199Z"
   },
   {
    "duration": 26,
    "start_time": "2025-02-28T12:04:14.223Z"
   },
   {
    "duration": 3,
    "start_time": "2025-02-28T12:04:14.251Z"
   },
   {
    "duration": 22,
    "start_time": "2025-02-28T12:04:14.256Z"
   },
   {
    "duration": 114075,
    "start_time": "2025-02-28T12:04:14.280Z"
   },
   {
    "duration": 4,
    "start_time": "2025-02-28T12:06:08.356Z"
   },
   {
    "duration": 27,
    "start_time": "2025-02-28T12:06:08.362Z"
   },
   {
    "duration": 8,
    "start_time": "2025-02-28T12:06:08.391Z"
   },
   {
    "duration": 12757,
    "start_time": "2025-02-28T12:06:08.401Z"
   },
   {
    "duration": 19,
    "start_time": "2025-02-28T12:06:21.159Z"
   },
   {
    "duration": 2,
    "start_time": "2025-02-28T12:06:21.180Z"
   },
   {
    "duration": 24,
    "start_time": "2025-02-28T12:06:21.184Z"
   },
   {
    "duration": 11,
    "start_time": "2025-02-28T12:06:21.210Z"
   },
   {
    "duration": 4,
    "start_time": "2025-02-28T12:06:21.222Z"
   },
   {
    "duration": 508157,
    "start_time": "2025-02-28T12:06:21.227Z"
   },
   {
    "duration": 3,
    "start_time": "2025-02-28T12:14:49.386Z"
   },
   {
    "duration": 6,
    "start_time": "2025-02-28T12:14:49.390Z"
   },
   {
    "duration": 5,
    "start_time": "2025-02-28T12:14:49.397Z"
   },
   {
    "duration": 4277,
    "start_time": "2025-02-28T12:14:49.403Z"
   },
   {
    "duration": 24,
    "start_time": "2025-02-28T12:14:53.682Z"
   },
   {
    "duration": 31,
    "start_time": "2025-02-28T12:14:53.708Z"
   },
   {
    "duration": 10,
    "start_time": "2025-02-28T12:14:53.741Z"
   },
   {
    "duration": 1429,
    "start_time": "2025-02-28T14:44:08.420Z"
   },
   {
    "duration": 937,
    "start_time": "2025-02-28T14:44:09.852Z"
   },
   {
    "duration": 13,
    "start_time": "2025-02-28T14:44:10.790Z"
   },
   {
    "duration": 41,
    "start_time": "2025-02-28T14:44:10.805Z"
   },
   {
    "duration": 3,
    "start_time": "2025-02-28T14:44:10.847Z"
   },
   {
    "duration": 2,
    "start_time": "2025-02-28T14:44:10.852Z"
   },
   {
    "duration": 1626,
    "start_time": "2025-02-28T14:44:10.856Z"
   },
   {
    "duration": 0,
    "start_time": "2025-02-28T14:44:12.485Z"
   },
   {
    "duration": 0,
    "start_time": "2025-02-28T14:44:12.486Z"
   },
   {
    "duration": 0,
    "start_time": "2025-02-28T14:44:12.487Z"
   },
   {
    "duration": 0,
    "start_time": "2025-02-28T14:44:12.488Z"
   },
   {
    "duration": 0,
    "start_time": "2025-02-28T14:44:12.489Z"
   },
   {
    "duration": 0,
    "start_time": "2025-02-28T14:44:12.490Z"
   },
   {
    "duration": 0,
    "start_time": "2025-02-28T14:44:12.492Z"
   },
   {
    "duration": 0,
    "start_time": "2025-02-28T14:44:12.492Z"
   },
   {
    "duration": 0,
    "start_time": "2025-02-28T14:44:12.493Z"
   },
   {
    "duration": 0,
    "start_time": "2025-02-28T14:44:12.494Z"
   },
   {
    "duration": 0,
    "start_time": "2025-02-28T14:44:12.495Z"
   },
   {
    "duration": 0,
    "start_time": "2025-02-28T14:44:12.496Z"
   },
   {
    "duration": 0,
    "start_time": "2025-02-28T14:44:12.497Z"
   },
   {
    "duration": 0,
    "start_time": "2025-02-28T14:44:12.498Z"
   },
   {
    "duration": 0,
    "start_time": "2025-02-28T14:44:12.499Z"
   },
   {
    "duration": 0,
    "start_time": "2025-02-28T14:44:12.500Z"
   },
   {
    "duration": 0,
    "start_time": "2025-02-28T14:44:12.501Z"
   },
   {
    "duration": 0,
    "start_time": "2025-02-28T14:44:12.502Z"
   },
   {
    "duration": 0,
    "start_time": "2025-02-28T14:44:12.503Z"
   },
   {
    "duration": 0,
    "start_time": "2025-02-28T14:44:12.504Z"
   },
   {
    "duration": 0,
    "start_time": "2025-02-28T14:44:12.505Z"
   },
   {
    "duration": 0,
    "start_time": "2025-02-28T14:44:12.506Z"
   },
   {
    "duration": 0,
    "start_time": "2025-02-28T14:44:12.507Z"
   },
   {
    "duration": 0,
    "start_time": "2025-02-28T14:44:12.508Z"
   },
   {
    "duration": 0,
    "start_time": "2025-02-28T14:44:12.509Z"
   },
   {
    "duration": 0,
    "start_time": "2025-02-28T14:44:12.510Z"
   },
   {
    "duration": 0,
    "start_time": "2025-02-28T14:44:12.511Z"
   },
   {
    "duration": 0,
    "start_time": "2025-02-28T14:44:12.511Z"
   },
   {
    "duration": 0,
    "start_time": "2025-02-28T14:44:12.513Z"
   },
   {
    "duration": 0,
    "start_time": "2025-02-28T14:44:12.513Z"
   },
   {
    "duration": 0,
    "start_time": "2025-02-28T14:44:12.514Z"
   },
   {
    "duration": 0,
    "start_time": "2025-02-28T14:44:12.515Z"
   },
   {
    "duration": 4,
    "start_time": "2025-02-28T14:48:20.029Z"
   },
   {
    "duration": 867,
    "start_time": "2025-02-28T14:48:21.188Z"
   },
   {
    "duration": 6,
    "start_time": "2025-02-28T14:48:22.057Z"
   },
   {
    "duration": 35,
    "start_time": "2025-02-28T14:48:22.064Z"
   },
   {
    "duration": 3,
    "start_time": "2025-02-28T14:48:24.388Z"
   },
   {
    "duration": 3,
    "start_time": "2025-02-28T14:48:25.308Z"
   },
   {
    "duration": 259,
    "start_time": "2025-02-28T14:48:26.175Z"
   },
   {
    "duration": 11,
    "start_time": "2025-02-28T14:53:55.503Z"
   },
   {
    "duration": 3,
    "start_time": "2025-02-28T14:53:55.863Z"
   },
   {
    "duration": 4,
    "start_time": "2025-02-28T14:58:03.312Z"
   },
   {
    "duration": 3,
    "start_time": "2025-02-28T14:58:04.017Z"
   },
   {
    "duration": 266,
    "start_time": "2025-02-28T14:58:06.595Z"
   },
   {
    "duration": 3,
    "start_time": "2025-02-28T14:59:37.425Z"
   },
   {
    "duration": 4,
    "start_time": "2025-02-28T14:59:37.784Z"
   },
   {
    "duration": 384,
    "start_time": "2025-02-28T14:59:38.433Z"
   },
   {
    "duration": 4,
    "start_time": "2025-02-28T15:08:36.076Z"
   },
   {
    "duration": 264,
    "start_time": "2025-02-28T15:08:38.415Z"
   },
   {
    "duration": 4,
    "start_time": "2025-02-28T15:09:44.983Z"
   },
   {
    "duration": 321,
    "start_time": "2025-02-28T15:09:46.399Z"
   },
   {
    "duration": 1573,
    "start_time": "2025-03-03T10:07:41.177Z"
   },
   {
    "duration": 982,
    "start_time": "2025-03-03T10:07:45.256Z"
   },
   {
    "duration": 23,
    "start_time": "2025-03-03T10:07:46.240Z"
   },
   {
    "duration": 33,
    "start_time": "2025-03-03T10:07:47.968Z"
   },
   {
    "duration": 4,
    "start_time": "2025-03-03T10:07:52.831Z"
   },
   {
    "duration": 4,
    "start_time": "2025-03-03T10:07:53.871Z"
   },
   {
    "duration": 135142,
    "start_time": "2025-03-03T10:07:56.176Z"
   },
   {
    "duration": 0,
    "start_time": "2025-03-03T10:10:11.319Z"
   },
   {
    "duration": 1473,
    "start_time": "2025-03-03T10:10:26.177Z"
   },
   {
    "duration": 994,
    "start_time": "2025-03-03T10:10:27.652Z"
   },
   {
    "duration": 18,
    "start_time": "2025-03-03T10:10:28.647Z"
   },
   {
    "duration": 90,
    "start_time": "2025-03-03T10:10:28.667Z"
   },
   {
    "duration": 4,
    "start_time": "2025-03-03T10:10:28.759Z"
   },
   {
    "duration": 558,
    "start_time": "2025-03-03T10:10:28.764Z"
   },
   {
    "duration": 0,
    "start_time": "2025-03-03T10:10:29.324Z"
   },
   {
    "duration": 0,
    "start_time": "2025-03-03T10:10:29.326Z"
   },
   {
    "duration": 0,
    "start_time": "2025-03-03T10:10:29.327Z"
   },
   {
    "duration": 0,
    "start_time": "2025-03-03T10:10:29.328Z"
   },
   {
    "duration": 0,
    "start_time": "2025-03-03T10:10:29.330Z"
   },
   {
    "duration": 0,
    "start_time": "2025-03-03T10:10:29.331Z"
   },
   {
    "duration": 0,
    "start_time": "2025-03-03T10:10:29.332Z"
   },
   {
    "duration": 0,
    "start_time": "2025-03-03T10:10:29.333Z"
   },
   {
    "duration": 0,
    "start_time": "2025-03-03T10:10:29.334Z"
   },
   {
    "duration": 0,
    "start_time": "2025-03-03T10:10:29.336Z"
   },
   {
    "duration": 0,
    "start_time": "2025-03-03T10:10:29.337Z"
   },
   {
    "duration": 0,
    "start_time": "2025-03-03T10:10:29.338Z"
   },
   {
    "duration": 0,
    "start_time": "2025-03-03T10:10:29.339Z"
   },
   {
    "duration": 0,
    "start_time": "2025-03-03T10:10:29.340Z"
   },
   {
    "duration": 0,
    "start_time": "2025-03-03T10:10:29.341Z"
   },
   {
    "duration": 0,
    "start_time": "2025-03-03T10:10:29.342Z"
   },
   {
    "duration": 0,
    "start_time": "2025-03-03T10:10:29.343Z"
   },
   {
    "duration": 0,
    "start_time": "2025-03-03T10:10:29.344Z"
   },
   {
    "duration": 0,
    "start_time": "2025-03-03T10:10:29.345Z"
   },
   {
    "duration": 0,
    "start_time": "2025-03-03T10:10:29.347Z"
   },
   {
    "duration": 0,
    "start_time": "2025-03-03T10:10:29.347Z"
   },
   {
    "duration": 0,
    "start_time": "2025-03-03T10:10:29.348Z"
   },
   {
    "duration": 0,
    "start_time": "2025-03-03T10:10:29.349Z"
   },
   {
    "duration": 0,
    "start_time": "2025-03-03T10:10:29.350Z"
   },
   {
    "duration": 0,
    "start_time": "2025-03-03T10:10:29.351Z"
   },
   {
    "duration": 0,
    "start_time": "2025-03-03T10:10:29.353Z"
   },
   {
    "duration": 0,
    "start_time": "2025-03-03T10:10:29.354Z"
   },
   {
    "duration": 0,
    "start_time": "2025-03-03T10:10:29.355Z"
   },
   {
    "duration": 0,
    "start_time": "2025-03-03T10:10:29.356Z"
   },
   {
    "duration": 0,
    "start_time": "2025-03-03T10:10:29.357Z"
   },
   {
    "duration": 0,
    "start_time": "2025-03-03T10:10:29.358Z"
   },
   {
    "duration": 0,
    "start_time": "2025-03-03T10:10:29.359Z"
   },
   {
    "duration": 5,
    "start_time": "2025-03-03T10:12:45.315Z"
   },
   {
    "duration": 345,
    "start_time": "2025-03-03T10:12:49.036Z"
   },
   {
    "duration": 1500,
    "start_time": "2025-03-03T10:12:58.245Z"
   },
   {
    "duration": 991,
    "start_time": "2025-03-03T10:12:59.747Z"
   },
   {
    "duration": 23,
    "start_time": "2025-03-03T10:13:00.739Z"
   },
   {
    "duration": 34,
    "start_time": "2025-03-03T10:13:00.764Z"
   },
   {
    "duration": 51,
    "start_time": "2025-03-03T10:13:00.799Z"
   },
   {
    "duration": 497,
    "start_time": "2025-03-03T10:13:00.851Z"
   },
   {
    "duration": 0,
    "start_time": "2025-03-03T10:13:01.351Z"
   },
   {
    "duration": 0,
    "start_time": "2025-03-03T10:13:01.352Z"
   },
   {
    "duration": 0,
    "start_time": "2025-03-03T10:13:01.354Z"
   },
   {
    "duration": 1,
    "start_time": "2025-03-03T10:13:01.354Z"
   },
   {
    "duration": 0,
    "start_time": "2025-03-03T10:13:01.356Z"
   },
   {
    "duration": 0,
    "start_time": "2025-03-03T10:13:01.357Z"
   },
   {
    "duration": 0,
    "start_time": "2025-03-03T10:13:01.358Z"
   },
   {
    "duration": 0,
    "start_time": "2025-03-03T10:13:01.360Z"
   },
   {
    "duration": 0,
    "start_time": "2025-03-03T10:13:01.361Z"
   },
   {
    "duration": 0,
    "start_time": "2025-03-03T10:13:01.362Z"
   },
   {
    "duration": 0,
    "start_time": "2025-03-03T10:13:01.364Z"
   },
   {
    "duration": 0,
    "start_time": "2025-03-03T10:13:01.365Z"
   },
   {
    "duration": 0,
    "start_time": "2025-03-03T10:13:01.367Z"
   },
   {
    "duration": 0,
    "start_time": "2025-03-03T10:13:01.367Z"
   },
   {
    "duration": 0,
    "start_time": "2025-03-03T10:13:01.369Z"
   },
   {
    "duration": 0,
    "start_time": "2025-03-03T10:13:01.370Z"
   },
   {
    "duration": 0,
    "start_time": "2025-03-03T10:13:01.371Z"
   },
   {
    "duration": 0,
    "start_time": "2025-03-03T10:13:01.372Z"
   },
   {
    "duration": 0,
    "start_time": "2025-03-03T10:13:01.374Z"
   },
   {
    "duration": 0,
    "start_time": "2025-03-03T10:13:01.375Z"
   },
   {
    "duration": 0,
    "start_time": "2025-03-03T10:13:01.376Z"
   },
   {
    "duration": 0,
    "start_time": "2025-03-03T10:13:01.378Z"
   },
   {
    "duration": 0,
    "start_time": "2025-03-03T10:13:01.379Z"
   },
   {
    "duration": 0,
    "start_time": "2025-03-03T10:13:01.380Z"
   },
   {
    "duration": 0,
    "start_time": "2025-03-03T10:13:01.381Z"
   },
   {
    "duration": 0,
    "start_time": "2025-03-03T10:13:01.382Z"
   },
   {
    "duration": 0,
    "start_time": "2025-03-03T10:13:01.383Z"
   },
   {
    "duration": 0,
    "start_time": "2025-03-03T10:13:01.384Z"
   },
   {
    "duration": 0,
    "start_time": "2025-03-03T10:13:01.385Z"
   },
   {
    "duration": 0,
    "start_time": "2025-03-03T10:13:01.386Z"
   },
   {
    "duration": 0,
    "start_time": "2025-03-03T10:13:01.387Z"
   },
   {
    "duration": 0,
    "start_time": "2025-03-03T10:13:01.388Z"
   },
   {
    "duration": 565,
    "start_time": "2025-03-03T10:13:41.351Z"
   },
   {
    "duration": 941,
    "start_time": "2025-03-03T10:13:50.294Z"
   },
   {
    "duration": 7,
    "start_time": "2025-03-03T10:13:51.237Z"
   },
   {
    "duration": 45,
    "start_time": "2025-03-03T10:13:51.245Z"
   },
   {
    "duration": 5,
    "start_time": "2025-03-03T10:13:55.565Z"
   },
   {
    "duration": 625488,
    "start_time": "2025-03-03T10:13:58.430Z"
   },
   {
    "duration": 11,
    "start_time": "2025-03-03T10:25:09.753Z"
   },
   {
    "duration": 1841,
    "start_time": "2025-03-03T10:25:51.167Z"
   },
   {
    "duration": 1017,
    "start_time": "2025-03-03T10:25:56.047Z"
   },
   {
    "duration": 10,
    "start_time": "2025-03-03T10:25:58.190Z"
   },
   {
    "duration": 34,
    "start_time": "2025-03-03T10:26:00.806Z"
   },
   {
    "duration": 4,
    "start_time": "2025-03-03T10:26:04.838Z"
   },
   {
    "duration": 387944,
    "start_time": "2025-03-03T10:26:07.974Z"
   },
   {
    "duration": 1670,
    "start_time": "2025-03-03T10:32:48.753Z"
   },
   {
    "duration": 1002,
    "start_time": "2025-03-03T10:32:51.881Z"
   },
   {
    "duration": 9,
    "start_time": "2025-03-03T10:32:52.885Z"
   },
   {
    "duration": 33,
    "start_time": "2025-03-03T10:32:53.145Z"
   },
   {
    "duration": 85,
    "start_time": "2025-03-03T10:32:58.609Z"
   },
   {
    "duration": 4,
    "start_time": "2025-03-03T10:33:27.736Z"
   },
   {
    "duration": 3,
    "start_time": "2025-03-03T10:33:29.341Z"
   },
   {
    "duration": 1830,
    "start_time": "2025-03-03T10:33:43.582Z"
   },
   {
    "duration": 984,
    "start_time": "2025-03-03T10:33:46.421Z"
   },
   {
    "duration": 9,
    "start_time": "2025-03-03T10:33:47.407Z"
   },
   {
    "duration": 34,
    "start_time": "2025-03-03T10:33:48.101Z"
   },
   {
    "duration": 5,
    "start_time": "2025-03-03T10:33:53.860Z"
   },
   {
    "duration": 645254,
    "start_time": "2025-03-03T10:33:55.860Z"
   },
   {
    "duration": 7,
    "start_time": "2025-03-03T10:44:41.116Z"
   },
   {
    "duration": 4,
    "start_time": "2025-03-03T10:45:01.000Z"
   },
   {
    "duration": 3,
    "start_time": "2025-03-03T10:47:33.922Z"
   },
   {
    "duration": 4397,
    "start_time": "2025-03-03T10:47:39.530Z"
   },
   {
    "duration": 8,
    "start_time": "2025-03-03T10:47:43.929Z"
   },
   {
    "duration": 115,
    "start_time": "2025-03-03T10:47:48.224Z"
   },
   {
    "duration": 2,
    "start_time": "2025-03-03T10:47:50.232Z"
   },
   {
    "duration": 25,
    "start_time": "2025-03-03T10:47:54.489Z"
   },
   {
    "duration": 7252,
    "start_time": "2025-03-03T10:47:56.512Z"
   },
   {
    "duration": 4,
    "start_time": "2025-03-03T10:48:03.766Z"
   },
   {
    "duration": 46,
    "start_time": "2025-03-03T10:48:03.772Z"
   },
   {
    "duration": 9,
    "start_time": "2025-03-03T11:00:18.670Z"
   },
   {
    "duration": 1730,
    "start_time": "2025-03-03T11:00:29.957Z"
   },
   {
    "duration": 1023,
    "start_time": "2025-03-03T11:00:33.540Z"
   },
   {
    "duration": 9,
    "start_time": "2025-03-03T11:00:34.565Z"
   },
   {
    "duration": 53,
    "start_time": "2025-03-03T11:00:34.576Z"
   },
   {
    "duration": 4,
    "start_time": "2025-03-03T11:00:37.003Z"
   },
   {
    "duration": 634176,
    "start_time": "2025-03-03T11:00:38.523Z"
   },
   {
    "duration": 7,
    "start_time": "2025-03-03T11:11:35.896Z"
   },
   {
    "duration": 3,
    "start_time": "2025-03-03T11:11:38.857Z"
   },
   {
    "duration": 4449,
    "start_time": "2025-03-03T11:11:41.568Z"
   },
   {
    "duration": 7,
    "start_time": "2025-03-03T11:11:46.019Z"
   },
   {
    "duration": 6,
    "start_time": "2025-03-03T11:11:46.028Z"
   },
   {
    "duration": 28,
    "start_time": "2025-03-03T11:11:52.064Z"
   },
   {
    "duration": 3,
    "start_time": "2025-03-03T11:12:06.047Z"
   },
   {
    "duration": 126,
    "start_time": "2025-03-03T11:12:07.881Z"
   },
   {
    "duration": 6,
    "start_time": "2025-03-03T11:12:33.108Z"
   },
   {
    "duration": 4,
    "start_time": "2025-03-03T11:12:39.859Z"
   },
   {
    "duration": 3,
    "start_time": "2025-03-03T11:12:41.963Z"
   },
   {
    "duration": 127,
    "start_time": "2025-03-03T11:12:43.459Z"
   },
   {
    "duration": 14,
    "start_time": "2025-03-03T11:14:00.261Z"
   },
   {
    "duration": 2,
    "start_time": "2025-03-03T11:14:14.300Z"
   },
   {
    "duration": 10,
    "start_time": "2025-03-03T11:14:18.602Z"
   },
   {
    "duration": 3,
    "start_time": "2025-03-03T11:15:07.479Z"
   },
   {
    "duration": 45,
    "start_time": "2025-03-03T11:15:18.013Z"
   },
   {
    "duration": 5,
    "start_time": "2025-03-03T11:16:50.950Z"
   },
   {
    "duration": 3,
    "start_time": "2025-03-03T11:30:47.852Z"
   },
   {
    "duration": 3,
    "start_time": "2025-03-03T11:30:52.251Z"
   },
   {
    "duration": 4,
    "start_time": "2025-03-03T11:30:54.604Z"
   },
   {
    "duration": 43,
    "start_time": "2025-03-03T11:30:57.012Z"
   },
   {
    "duration": 11,
    "start_time": "2025-03-03T11:31:12.674Z"
   },
   {
    "duration": 2,
    "start_time": "2025-03-03T11:31:27.401Z"
   },
   {
    "duration": 4,
    "start_time": "2025-03-03T11:31:28.552Z"
   },
   {
    "duration": 44,
    "start_time": "2025-03-03T11:31:29.233Z"
   },
   {
    "duration": 2,
    "start_time": "2025-03-03T11:32:00.142Z"
   },
   {
    "duration": 3,
    "start_time": "2025-03-03T11:32:01.101Z"
   },
   {
    "duration": 4,
    "start_time": "2025-03-03T11:32:02.078Z"
   },
   {
    "duration": 0,
    "start_time": "2025-03-03T11:32:48.891Z"
   },
   {
    "duration": 0,
    "start_time": "2025-03-03T11:32:48.893Z"
   },
   {
    "duration": 0,
    "start_time": "2025-03-03T11:32:48.894Z"
   },
   {
    "duration": 1663,
    "start_time": "2025-03-03T11:32:54.252Z"
   },
   {
    "duration": 1006,
    "start_time": "2025-03-03T11:32:55.918Z"
   },
   {
    "duration": 15,
    "start_time": "2025-03-03T11:32:56.926Z"
   },
   {
    "duration": 65,
    "start_time": "2025-03-03T11:32:56.943Z"
   },
   {
    "duration": 76,
    "start_time": "2025-03-03T11:32:57.010Z"
   },
   {
    "duration": 639746,
    "start_time": "2025-03-03T11:32:57.088Z"
   },
   {
    "duration": 8,
    "start_time": "2025-03-03T11:43:36.835Z"
   },
   {
    "duration": 14,
    "start_time": "2025-03-03T11:43:36.845Z"
   },
   {
    "duration": 4419,
    "start_time": "2025-03-03T11:43:36.861Z"
   },
   {
    "duration": 7,
    "start_time": "2025-03-03T11:43:41.282Z"
   },
   {
    "duration": 8,
    "start_time": "2025-03-03T11:43:41.290Z"
   },
   {
    "duration": 22,
    "start_time": "2025-03-03T11:43:41.300Z"
   },
   {
    "duration": 144,
    "start_time": "2025-03-03T11:43:41.324Z"
   },
   {
    "duration": 0,
    "start_time": "2025-03-03T11:43:41.470Z"
   },
   {
    "duration": 0,
    "start_time": "2025-03-03T11:43:41.471Z"
   },
   {
    "duration": 0,
    "start_time": "2025-03-03T11:43:41.472Z"
   },
   {
    "duration": 0,
    "start_time": "2025-03-03T11:43:41.473Z"
   },
   {
    "duration": 0,
    "start_time": "2025-03-03T11:43:41.474Z"
   },
   {
    "duration": 0,
    "start_time": "2025-03-03T11:43:41.475Z"
   },
   {
    "duration": 0,
    "start_time": "2025-03-03T11:43:41.476Z"
   },
   {
    "duration": 0,
    "start_time": "2025-03-03T11:43:41.478Z"
   },
   {
    "duration": 0,
    "start_time": "2025-03-03T11:43:41.479Z"
   },
   {
    "duration": 0,
    "start_time": "2025-03-03T11:43:41.480Z"
   },
   {
    "duration": 0,
    "start_time": "2025-03-03T11:43:41.481Z"
   },
   {
    "duration": 0,
    "start_time": "2025-03-03T11:43:41.482Z"
   },
   {
    "duration": 0,
    "start_time": "2025-03-03T11:43:41.483Z"
   },
   {
    "duration": 0,
    "start_time": "2025-03-03T11:43:41.484Z"
   },
   {
    "duration": 0,
    "start_time": "2025-03-03T11:43:41.485Z"
   },
   {
    "duration": 0,
    "start_time": "2025-03-03T11:43:41.486Z"
   },
   {
    "duration": 0,
    "start_time": "2025-03-03T11:43:41.487Z"
   },
   {
    "duration": 0,
    "start_time": "2025-03-03T11:43:41.488Z"
   },
   {
    "duration": 0,
    "start_time": "2025-03-03T11:43:41.490Z"
   },
   {
    "duration": 0,
    "start_time": "2025-03-03T11:43:41.491Z"
   },
   {
    "duration": 0,
    "start_time": "2025-03-03T11:43:41.492Z"
   },
   {
    "duration": 0,
    "start_time": "2025-03-03T11:43:41.493Z"
   },
   {
    "duration": 0,
    "start_time": "2025-03-03T11:43:41.494Z"
   },
   {
    "duration": 0,
    "start_time": "2025-03-03T11:43:41.495Z"
   },
   {
    "duration": 3,
    "start_time": "2025-03-03T11:50:55.857Z"
   },
   {
    "duration": 3,
    "start_time": "2025-03-03T11:50:56.369Z"
   },
   {
    "duration": 3,
    "start_time": "2025-03-03T11:50:58.993Z"
   },
   {
    "duration": 2,
    "start_time": "2025-03-03T11:51:01.377Z"
   },
   {
    "duration": 4,
    "start_time": "2025-03-03T11:51:03.872Z"
   },
   {
    "duration": 4,
    "start_time": "2025-03-03T11:51:08.136Z"
   },
   {
    "duration": 374804,
    "start_time": "2025-03-03T11:51:09.392Z"
   },
   {
    "duration": 4,
    "start_time": "2025-03-03T11:57:24.199Z"
   },
   {
    "duration": 12,
    "start_time": "2025-03-03T11:57:24.205Z"
   },
   {
    "duration": 10,
    "start_time": "2025-03-03T11:58:31.849Z"
   },
   {
    "duration": 3,
    "start_time": "2025-03-03T11:58:43.176Z"
   },
   {
    "duration": 3,
    "start_time": "2025-03-03T11:58:44.032Z"
   },
   {
    "duration": 11,
    "start_time": "2025-03-03T11:58:46.383Z"
   },
   {
    "duration": 3,
    "start_time": "2025-03-03T11:59:23.349Z"
   },
   {
    "duration": 426543,
    "start_time": "2025-03-03T11:59:24.132Z"
   },
   {
    "duration": 4,
    "start_time": "2025-03-03T12:06:30.677Z"
   },
   {
    "duration": 7,
    "start_time": "2025-03-03T12:06:30.683Z"
   },
   {
    "duration": 15,
    "start_time": "2025-03-03T12:06:30.692Z"
   },
   {
    "duration": 6360,
    "start_time": "2025-03-03T12:19:00.693Z"
   },
   {
    "duration": 3,
    "start_time": "2025-03-03T12:21:21.145Z"
   },
   {
    "duration": 3,
    "start_time": "2025-03-03T12:21:23.223Z"
   },
   {
    "duration": 710,
    "start_time": "2025-03-03T12:21:27.728Z"
   },
   {
    "duration": 1642,
    "start_time": "2025-03-03T12:25:17.483Z"
   },
   {
    "duration": 1025,
    "start_time": "2025-03-03T12:25:19.127Z"
   },
   {
    "duration": 14,
    "start_time": "2025-03-03T12:25:20.154Z"
   },
   {
    "duration": 34,
    "start_time": "2025-03-03T12:25:20.170Z"
   },
   {
    "duration": 4,
    "start_time": "2025-03-03T12:25:20.206Z"
   },
   {
    "duration": 640388,
    "start_time": "2025-03-03T12:25:20.211Z"
   },
   {
    "duration": 7,
    "start_time": "2025-03-03T12:36:00.601Z"
   },
   {
    "duration": 4,
    "start_time": "2025-03-03T12:36:00.609Z"
   },
   {
    "duration": 4468,
    "start_time": "2025-03-03T12:36:00.614Z"
   },
   {
    "duration": 7,
    "start_time": "2025-03-03T12:36:05.085Z"
   },
   {
    "duration": 68,
    "start_time": "2025-03-03T12:36:05.094Z"
   },
   {
    "duration": 41,
    "start_time": "2025-03-03T12:36:05.164Z"
   },
   {
    "duration": 4,
    "start_time": "2025-03-03T12:36:05.207Z"
   },
   {
    "duration": 10,
    "start_time": "2025-03-03T12:36:05.213Z"
   },
   {
    "duration": 58,
    "start_time": "2025-03-03T12:36:05.225Z"
   },
   {
    "duration": 127,
    "start_time": "2025-03-03T12:36:05.285Z"
   },
   {
    "duration": 20,
    "start_time": "2025-03-03T12:36:05.414Z"
   },
   {
    "duration": 373465,
    "start_time": "2025-03-03T12:36:05.435Z"
   },
   {
    "duration": 5,
    "start_time": "2025-03-03T12:42:18.902Z"
   },
   {
    "duration": 4,
    "start_time": "2025-03-03T12:42:18.909Z"
   },
   {
    "duration": 10,
    "start_time": "2025-03-03T12:42:18.915Z"
   },
   {
    "duration": 4,
    "start_time": "2025-03-03T12:42:18.957Z"
   },
   {
    "duration": 4,
    "start_time": "2025-03-03T12:42:18.963Z"
   },
   {
    "duration": 3,
    "start_time": "2025-03-03T12:42:18.969Z"
   },
   {
    "duration": 477610,
    "start_time": "2025-03-03T12:42:18.974Z"
   },
   {
    "duration": 4,
    "start_time": "2025-03-03T12:50:16.586Z"
   },
   {
    "duration": 11,
    "start_time": "2025-03-03T12:50:16.591Z"
   },
   {
    "duration": 8,
    "start_time": "2025-03-03T12:50:16.605Z"
   },
   {
    "duration": 732,
    "start_time": "2025-03-03T12:50:16.615Z"
   }
  ],
  "kernelspec": {
   "display_name": "Python 3 (ipykernel)",
   "language": "python",
   "name": "python3"
  },
  "language_info": {
   "codemirror_mode": {
    "name": "ipython",
    "version": 3
   },
   "file_extension": ".py",
   "mimetype": "text/x-python",
   "name": "python",
   "nbconvert_exporter": "python",
   "pygments_lexer": "ipython3",
   "version": "3.11.7"
  },
  "toc": {
   "base_numbering": 1,
   "nav_menu": {},
   "number_sections": true,
   "sideBar": true,
   "skip_h1_title": true,
   "title_cell": "Содержание",
   "title_sidebar": "Contents",
   "toc_cell": true,
   "toc_position": {
    "height": "calc(100% - 180px)",
    "left": "10px",
    "top": "150px",
    "width": "302.391px"
   },
   "toc_section_display": true,
   "toc_window_display": false
  }
 },
 "nbformat": 4,
 "nbformat_minor": 4
}
