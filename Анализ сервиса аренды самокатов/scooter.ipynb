{
 "cells": [
  {
   "cell_type": "markdown",
   "id": "fa3d8efd",
   "metadata": {},
   "source": [
    "# Анализ сервиса аренды самокатов"
   ]
  },
  {
   "cell_type": "markdown",
   "id": "901a8a51-c69a-46c9-b210-1d67a0ee1e4e",
   "metadata": {},
   "source": [
    "**Цель исследования:** Проанализировать данные и проверить некоторые гипотезы, которые могут помочь бизнесу вырасти.\n",
    "\n",
    "**Описание проекта:** Сервис аренды самокатов GoFast собрал данные о поездках своих клиентов. Чтобы совершать поездки по городу, пользователи GoFast пользуются мобильным приложением. Сервисом можно пользоваться:\n",
    "* без подписки\n",
    "    * абонентская плата отсутсвует;\n",
    "    * стоимость одной минуты поездки - 88 рублей;\n",
    "    * стоимость старта (начала поездки) - 50 рублей;\n",
    "* с подпиской Ultra\n",
    "    * абонентска плата - 199 рублей в месяц;\n",
    "    * стоимость одной минуты поездки - 66 рублей;\n",
    "    * стоимость старта - бесплатно\n",
    "     \n",
    "**Описание данных:**\n",
    "\n",
    "У нас есть три датасета:\n",
    "* с данными о пользователях;\n",
    "* с данными о поездках;\n",
    "* с данными о подписках\n",
    "\n",
    "**Ход исследования:**\n",
    "1. Подготовка данных: загрузка и изучение общей информации о датасете;\n",
    "2. Предобработка данных: приведение к верному типу данных, добавление новых признаков, обработка пропущенных значений и дубликатов;\n",
    "3. Исследовательский анализ данных: визуализация общей информации о пользователях и поездках;\n",
    "4. Объединение и расширение данных;\n",
    "5. Подсчет выручки;\n",
    "6. Проверка гипотез;\n",
    "7. Распределения.\n",
    "\n",
    "**Общий вывод:** резюмирование полученных результатов, формулировка ключевых выводов и рекомендаций.\n",
    "\n",
    "С помощью данного анализа мы изучим, насколько отличается среднее время поездки и расстояние для пользователей с подпиской и без. Результаты исследования помогут нам понять, какие пользователи наиболее выгодны для бизнеса и какие цели можно будет поставить, чтобы бизнес вырос."
   ]
  },
  {
   "cell_type": "code",
   "execution_count": 1,
   "id": "72576667",
   "metadata": {},
   "outputs": [],
   "source": [
    "# импортируем библиотеки\n",
    "import pandas as pd\n",
    "import matplotlib.pyplot as plt\n",
    "import numpy as np\n",
    "import scipy.stats as st\n",
    "from math import sqrt"
   ]
  },
  {
   "cell_type": "markdown",
   "id": "c42cbe00",
   "metadata": {},
   "source": [
    "## 1. Подготовка данных"
   ]
  },
  {
   "cell_type": "markdown",
   "id": "b68cf55a",
   "metadata": {},
   "source": [
    "### Загрузим CSV-файлы с данными"
   ]
  },
  {
   "cell_type": "code",
   "execution_count": 2,
   "id": "cb865fac-d71d-4e0b-b63f-2684b56c22cf",
   "metadata": {},
   "outputs": [],
   "source": [
    "#Данные о пользователях\n",
    "users_data = pd.read_csv('users_go.csv')"
   ]
  },
  {
   "cell_type": "code",
   "execution_count": 3,
   "id": "b078191e",
   "metadata": {},
   "outputs": [],
   "source": [
    "#Данные о поездках\n",
    "rides_data = pd.read_csv('rides_go.csv', parse_dates=['date'])"
   ]
  },
  {
   "cell_type": "code",
   "execution_count": 4,
   "id": "95f0db71",
   "metadata": {},
   "outputs": [],
   "source": [
    "#Данные о подписках\n",
    "subscriotions_data = pd.read_csv('subscriptions_go.csv')"
   ]
  },
  {
   "cell_type": "markdown",
   "id": "423c586d",
   "metadata": {},
   "source": [
    "### Выведем первые строки каждого датасета и изучим общую информацию"
   ]
  },
  {
   "cell_type": "code",
   "execution_count": 5,
   "id": "c92b6165-e9ff-47eb-885d-7ac04c122962",
   "metadata": {},
   "outputs": [],
   "source": [
    "def data_characteristics(df):\n",
    "    return display(df.head(10), df.info())"
   ]
  },
  {
   "cell_type": "code",
   "execution_count": 6,
   "id": "d2a4e314",
   "metadata": {},
   "outputs": [
    {
     "name": "stdout",
     "output_type": "stream",
     "text": [
      "<class 'pandas.core.frame.DataFrame'>\n",
      "RangeIndex: 1565 entries, 0 to 1564\n",
      "Data columns (total 5 columns):\n",
      " #   Column             Non-Null Count  Dtype \n",
      "---  ------             --------------  ----- \n",
      " 0   user_id            1565 non-null   int64 \n",
      " 1   name               1565 non-null   object\n",
      " 2   age                1565 non-null   int64 \n",
      " 3   city               1565 non-null   object\n",
      " 4   subscription_type  1565 non-null   object\n",
      "dtypes: int64(2), object(3)\n",
      "memory usage: 61.3+ KB\n"
     ]
    },
    {
     "data": {
      "text/html": [
       "<div>\n",
       "<style scoped>\n",
       "    .dataframe tbody tr th:only-of-type {\n",
       "        vertical-align: middle;\n",
       "    }\n",
       "\n",
       "    .dataframe tbody tr th {\n",
       "        vertical-align: top;\n",
       "    }\n",
       "\n",
       "    .dataframe thead th {\n",
       "        text-align: right;\n",
       "    }\n",
       "</style>\n",
       "<table border=\"1\" class=\"dataframe\">\n",
       "  <thead>\n",
       "    <tr style=\"text-align: right;\">\n",
       "      <th></th>\n",
       "      <th>user_id</th>\n",
       "      <th>name</th>\n",
       "      <th>age</th>\n",
       "      <th>city</th>\n",
       "      <th>subscription_type</th>\n",
       "    </tr>\n",
       "  </thead>\n",
       "  <tbody>\n",
       "    <tr>\n",
       "      <th>0</th>\n",
       "      <td>1</td>\n",
       "      <td>Кира</td>\n",
       "      <td>22</td>\n",
       "      <td>Тюмень</td>\n",
       "      <td>ultra</td>\n",
       "    </tr>\n",
       "    <tr>\n",
       "      <th>1</th>\n",
       "      <td>2</td>\n",
       "      <td>Станислав</td>\n",
       "      <td>31</td>\n",
       "      <td>Омск</td>\n",
       "      <td>ultra</td>\n",
       "    </tr>\n",
       "    <tr>\n",
       "      <th>2</th>\n",
       "      <td>3</td>\n",
       "      <td>Алексей</td>\n",
       "      <td>20</td>\n",
       "      <td>Москва</td>\n",
       "      <td>ultra</td>\n",
       "    </tr>\n",
       "    <tr>\n",
       "      <th>3</th>\n",
       "      <td>4</td>\n",
       "      <td>Константин</td>\n",
       "      <td>26</td>\n",
       "      <td>Ростов-на-Дону</td>\n",
       "      <td>ultra</td>\n",
       "    </tr>\n",
       "    <tr>\n",
       "      <th>4</th>\n",
       "      <td>5</td>\n",
       "      <td>Адель</td>\n",
       "      <td>28</td>\n",
       "      <td>Омск</td>\n",
       "      <td>ultra</td>\n",
       "    </tr>\n",
       "    <tr>\n",
       "      <th>5</th>\n",
       "      <td>6</td>\n",
       "      <td>Регина</td>\n",
       "      <td>25</td>\n",
       "      <td>Краснодар</td>\n",
       "      <td>ultra</td>\n",
       "    </tr>\n",
       "    <tr>\n",
       "      <th>6</th>\n",
       "      <td>7</td>\n",
       "      <td>Игорь</td>\n",
       "      <td>23</td>\n",
       "      <td>Омск</td>\n",
       "      <td>ultra</td>\n",
       "    </tr>\n",
       "    <tr>\n",
       "      <th>7</th>\n",
       "      <td>8</td>\n",
       "      <td>Юрий</td>\n",
       "      <td>23</td>\n",
       "      <td>Краснодар</td>\n",
       "      <td>ultra</td>\n",
       "    </tr>\n",
       "    <tr>\n",
       "      <th>8</th>\n",
       "      <td>9</td>\n",
       "      <td>Ян</td>\n",
       "      <td>21</td>\n",
       "      <td>Пятигорск</td>\n",
       "      <td>ultra</td>\n",
       "    </tr>\n",
       "    <tr>\n",
       "      <th>9</th>\n",
       "      <td>10</td>\n",
       "      <td>Валерий</td>\n",
       "      <td>18</td>\n",
       "      <td>Екатеринбург</td>\n",
       "      <td>ultra</td>\n",
       "    </tr>\n",
       "  </tbody>\n",
       "</table>\n",
       "</div>"
      ],
      "text/plain": [
       "   user_id        name  age            city subscription_type\n",
       "0        1        Кира   22          Тюмень             ultra\n",
       "1        2   Станислав   31            Омск             ultra\n",
       "2        3     Алексей   20          Москва             ultra\n",
       "3        4  Константин   26  Ростов-на-Дону             ultra\n",
       "4        5       Адель   28            Омск             ultra\n",
       "5        6      Регина   25       Краснодар             ultra\n",
       "6        7       Игорь   23            Омск             ultra\n",
       "7        8        Юрий   23       Краснодар             ultra\n",
       "8        9          Ян   21       Пятигорск             ultra\n",
       "9       10     Валерий   18    Екатеринбург             ultra"
      ]
     },
     "metadata": {},
     "output_type": "display_data"
    },
    {
     "data": {
      "text/plain": [
       "None"
      ]
     },
     "metadata": {},
     "output_type": "display_data"
    }
   ],
   "source": [
    "#Данные о пользователях\n",
    "data_characteristics(users_data)"
   ]
  },
  {
   "cell_type": "markdown",
   "id": "744abe63",
   "metadata": {},
   "source": [
    "В датасете о пользователях есть следующие столбцы:\n",
    "- user_id - уникальный индентификатора пользователя\n",
    "- name - имя пользователя\n",
    "- age - возраст пользователя\n",
    "- city - город\n",
    "- subscription_type - тип подписки (free, ultra)\n",
    "  \n",
    "В датасете 18068 строк, 5 столбцов. Названия столбцов записаны корректно. Пропусков в данных нет. Типы данных указаны корректно."
   ]
  },
  {
   "cell_type": "code",
   "execution_count": 7,
   "id": "628fd260",
   "metadata": {},
   "outputs": [
    {
     "name": "stdout",
     "output_type": "stream",
     "text": [
      "<class 'pandas.core.frame.DataFrame'>\n",
      "RangeIndex: 18068 entries, 0 to 18067\n",
      "Data columns (total 4 columns):\n",
      " #   Column    Non-Null Count  Dtype         \n",
      "---  ------    --------------  -----         \n",
      " 0   user_id   18068 non-null  int64         \n",
      " 1   distance  18068 non-null  float64       \n",
      " 2   duration  18068 non-null  float64       \n",
      " 3   date      18068 non-null  datetime64[ns]\n",
      "dtypes: datetime64[ns](1), float64(2), int64(1)\n",
      "memory usage: 564.8 KB\n"
     ]
    },
    {
     "data": {
      "text/html": [
       "<div>\n",
       "<style scoped>\n",
       "    .dataframe tbody tr th:only-of-type {\n",
       "        vertical-align: middle;\n",
       "    }\n",
       "\n",
       "    .dataframe tbody tr th {\n",
       "        vertical-align: top;\n",
       "    }\n",
       "\n",
       "    .dataframe thead th {\n",
       "        text-align: right;\n",
       "    }\n",
       "</style>\n",
       "<table border=\"1\" class=\"dataframe\">\n",
       "  <thead>\n",
       "    <tr style=\"text-align: right;\">\n",
       "      <th></th>\n",
       "      <th>user_id</th>\n",
       "      <th>distance</th>\n",
       "      <th>duration</th>\n",
       "      <th>date</th>\n",
       "    </tr>\n",
       "  </thead>\n",
       "  <tbody>\n",
       "    <tr>\n",
       "      <th>0</th>\n",
       "      <td>1</td>\n",
       "      <td>4409.919140</td>\n",
       "      <td>25.599769</td>\n",
       "      <td>2021-01-01</td>\n",
       "    </tr>\n",
       "    <tr>\n",
       "      <th>1</th>\n",
       "      <td>1</td>\n",
       "      <td>2617.592153</td>\n",
       "      <td>15.816871</td>\n",
       "      <td>2021-01-18</td>\n",
       "    </tr>\n",
       "    <tr>\n",
       "      <th>2</th>\n",
       "      <td>1</td>\n",
       "      <td>754.159807</td>\n",
       "      <td>6.232113</td>\n",
       "      <td>2021-04-20</td>\n",
       "    </tr>\n",
       "    <tr>\n",
       "      <th>3</th>\n",
       "      <td>1</td>\n",
       "      <td>2694.783254</td>\n",
       "      <td>18.511000</td>\n",
       "      <td>2021-08-11</td>\n",
       "    </tr>\n",
       "    <tr>\n",
       "      <th>4</th>\n",
       "      <td>1</td>\n",
       "      <td>4028.687306</td>\n",
       "      <td>26.265803</td>\n",
       "      <td>2021-08-28</td>\n",
       "    </tr>\n",
       "    <tr>\n",
       "      <th>5</th>\n",
       "      <td>1</td>\n",
       "      <td>2770.890808</td>\n",
       "      <td>16.650138</td>\n",
       "      <td>2021-10-09</td>\n",
       "    </tr>\n",
       "    <tr>\n",
       "      <th>6</th>\n",
       "      <td>1</td>\n",
       "      <td>3039.020292</td>\n",
       "      <td>14.927879</td>\n",
       "      <td>2021-10-19</td>\n",
       "    </tr>\n",
       "    <tr>\n",
       "      <th>7</th>\n",
       "      <td>1</td>\n",
       "      <td>2842.118050</td>\n",
       "      <td>23.117468</td>\n",
       "      <td>2021-11-06</td>\n",
       "    </tr>\n",
       "    <tr>\n",
       "      <th>8</th>\n",
       "      <td>1</td>\n",
       "      <td>3412.690668</td>\n",
       "      <td>15.238072</td>\n",
       "      <td>2021-11-14</td>\n",
       "    </tr>\n",
       "    <tr>\n",
       "      <th>9</th>\n",
       "      <td>1</td>\n",
       "      <td>748.690645</td>\n",
       "      <td>15.041884</td>\n",
       "      <td>2021-11-22</td>\n",
       "    </tr>\n",
       "  </tbody>\n",
       "</table>\n",
       "</div>"
      ],
      "text/plain": [
       "   user_id     distance   duration       date\n",
       "0        1  4409.919140  25.599769 2021-01-01\n",
       "1        1  2617.592153  15.816871 2021-01-18\n",
       "2        1   754.159807   6.232113 2021-04-20\n",
       "3        1  2694.783254  18.511000 2021-08-11\n",
       "4        1  4028.687306  26.265803 2021-08-28\n",
       "5        1  2770.890808  16.650138 2021-10-09\n",
       "6        1  3039.020292  14.927879 2021-10-19\n",
       "7        1  2842.118050  23.117468 2021-11-06\n",
       "8        1  3412.690668  15.238072 2021-11-14\n",
       "9        1   748.690645  15.041884 2021-11-22"
      ]
     },
     "metadata": {},
     "output_type": "display_data"
    },
    {
     "data": {
      "text/plain": [
       "None"
      ]
     },
     "metadata": {},
     "output_type": "display_data"
    }
   ],
   "source": [
    "#Данные о поездках\n",
    "data_characteristics(rides_data)"
   ]
  },
  {
   "cell_type": "markdown",
   "id": "38824527",
   "metadata": {},
   "source": [
    "В датасете о поездках есть следующие столбцы:\n",
    "- user_id - уникалальный индентификатора пользователя\n",
    "- distance - расстояние, которое пользователь проехал в текущей сессии (в метрах)\n",
    "- duration - продолжительность сессии (в минутах) - время с того момента, как пользователь нажал кнопку \"Начать поездку\" до момента, как он нажал кнопку \"Завершить поездку\"\n",
    "- date - дата совершения поездки\n",
    "  \n",
    "В датасете 18068 строк, 4 столбца. Названия столбцов записаны корректно. Пропусков в данных нет. Типы данных указаны корректно."
   ]
  },
  {
   "cell_type": "code",
   "execution_count": 8,
   "id": "a109ef06",
   "metadata": {},
   "outputs": [
    {
     "name": "stdout",
     "output_type": "stream",
     "text": [
      "<class 'pandas.core.frame.DataFrame'>\n",
      "RangeIndex: 2 entries, 0 to 1\n",
      "Data columns (total 4 columns):\n",
      " #   Column             Non-Null Count  Dtype \n",
      "---  ------             --------------  ----- \n",
      " 0   subscription_type  2 non-null      object\n",
      " 1   minute_price       2 non-null      int64 \n",
      " 2   start_ride_price   2 non-null      int64 \n",
      " 3   subscription_fee   2 non-null      int64 \n",
      "dtypes: int64(3), object(1)\n",
      "memory usage: 196.0+ bytes\n"
     ]
    },
    {
     "data": {
      "text/html": [
       "<div>\n",
       "<style scoped>\n",
       "    .dataframe tbody tr th:only-of-type {\n",
       "        vertical-align: middle;\n",
       "    }\n",
       "\n",
       "    .dataframe tbody tr th {\n",
       "        vertical-align: top;\n",
       "    }\n",
       "\n",
       "    .dataframe thead th {\n",
       "        text-align: right;\n",
       "    }\n",
       "</style>\n",
       "<table border=\"1\" class=\"dataframe\">\n",
       "  <thead>\n",
       "    <tr style=\"text-align: right;\">\n",
       "      <th></th>\n",
       "      <th>subscription_type</th>\n",
       "      <th>minute_price</th>\n",
       "      <th>start_ride_price</th>\n",
       "      <th>subscription_fee</th>\n",
       "    </tr>\n",
       "  </thead>\n",
       "  <tbody>\n",
       "    <tr>\n",
       "      <th>0</th>\n",
       "      <td>free</td>\n",
       "      <td>8</td>\n",
       "      <td>50</td>\n",
       "      <td>0</td>\n",
       "    </tr>\n",
       "    <tr>\n",
       "      <th>1</th>\n",
       "      <td>ultra</td>\n",
       "      <td>6</td>\n",
       "      <td>0</td>\n",
       "      <td>199</td>\n",
       "    </tr>\n",
       "  </tbody>\n",
       "</table>\n",
       "</div>"
      ],
      "text/plain": [
       "  subscription_type  minute_price  start_ride_price  subscription_fee\n",
       "0              free             8                50                 0\n",
       "1             ultra             6                 0               199"
      ]
     },
     "metadata": {},
     "output_type": "display_data"
    },
    {
     "data": {
      "text/plain": [
       "None"
      ]
     },
     "metadata": {},
     "output_type": "display_data"
    }
   ],
   "source": [
    "#Данные о подписках\n",
    "data_characteristics(subscriotions_data)"
   ]
  },
  {
   "cell_type": "markdown",
   "id": "e10d9c30",
   "metadata": {},
   "source": [
    "В датасете о подписках есть следующие столбцы:\n",
    "- subscription_type   - тип подписки\n",
    "- minute_price - стоимость одной минуты поездки по данной подписке\n",
    "- start_ride_price - стоимость начала поездки\n",
    "- subscription_fee - стоимость ежемесячного платежа\n",
    "\n",
    "В датасете 2 строки, 4 столбца. Названия столбцов записаны корректно. Пропусков в данных нет. Типы данных указаны корректно."
   ]
  },
  {
   "cell_type": "markdown",
   "id": "e95ebca7",
   "metadata": {},
   "source": [
    "## Предобработка данных"
   ]
  },
  {
   "cell_type": "markdown",
   "id": "40e98d15-2625-433c-988c-2bf53a94c491",
   "metadata": {},
   "source": [
    "### Создание новых признаков"
   ]
  },
  {
   "cell_type": "markdown",
   "id": "0aef7f54",
   "metadata": {},
   "source": [
    "Создадим новый столбец с номером месяца на основе столбца `date`"
   ]
  },
  {
   "cell_type": "code",
   "execution_count": 9,
   "id": "bf879f1f",
   "metadata": {},
   "outputs": [],
   "source": [
    "rides_data['month'] = pd.DatetimeIndex(rides_data['date']).month"
   ]
  },
  {
   "cell_type": "markdown",
   "id": "259ec2be",
   "metadata": {},
   "source": [
    "### Обработка пропущенных значений"
   ]
  },
  {
   "cell_type": "code",
   "execution_count": 10,
   "id": "ef580b0a",
   "metadata": {},
   "outputs": [
    {
     "data": {
      "text/plain": [
       "user_id              0\n",
       "name                 0\n",
       "age                  0\n",
       "city                 0\n",
       "subscription_type    0\n",
       "dtype: int64"
      ]
     },
     "execution_count": 10,
     "metadata": {},
     "output_type": "execute_result"
    }
   ],
   "source": [
    "# Проверим наличие пропущенных значений в данных о пользователях\n",
    "users_data.isna().sum()"
   ]
  },
  {
   "cell_type": "markdown",
   "id": "687c096e",
   "metadata": {},
   "source": [
    "В данных о пользователях пропусков нет."
   ]
  },
  {
   "cell_type": "code",
   "execution_count": 11,
   "id": "eec6911c",
   "metadata": {},
   "outputs": [
    {
     "data": {
      "text/plain": [
       "user_id     0\n",
       "distance    0\n",
       "duration    0\n",
       "date        0\n",
       "month       0\n",
       "dtype: int64"
      ]
     },
     "execution_count": 11,
     "metadata": {},
     "output_type": "execute_result"
    }
   ],
   "source": [
    "# Проверим наличие пропущенных значений в данных о поездках\n",
    "rides_data.isna().sum()"
   ]
  },
  {
   "cell_type": "markdown",
   "id": "312bfc38",
   "metadata": {},
   "source": [
    "В данных о поездках пропусков нет."
   ]
  },
  {
   "cell_type": "code",
   "execution_count": 12,
   "id": "f33adbd1",
   "metadata": {},
   "outputs": [
    {
     "data": {
      "text/plain": [
       "subscription_type    0\n",
       "minute_price         0\n",
       "start_ride_price     0\n",
       "subscription_fee     0\n",
       "dtype: int64"
      ]
     },
     "execution_count": 12,
     "metadata": {},
     "output_type": "execute_result"
    }
   ],
   "source": [
    "# Проверим наличие пропущенных значений в данных о подписках\n",
    "subscriotions_data.isna().sum()"
   ]
  },
  {
   "cell_type": "markdown",
   "id": "5c037b2c",
   "metadata": {},
   "source": [
    "В данных о подписках пропусков нет."
   ]
  },
  {
   "cell_type": "markdown",
   "id": "aa7d7350-cf21-48e7-b630-64c13241722a",
   "metadata": {},
   "source": [
    "### Обработка дубликатов"
   ]
  },
  {
   "cell_type": "markdown",
   "id": "8bf3f3a7-fa13-4adb-87f4-303b075e4b71",
   "metadata": {},
   "source": [
    "Проверим наличие явных дубликатов в столбце `user_id` датасета users_data"
   ]
  },
  {
   "cell_type": "code",
   "execution_count": 13,
   "id": "eb69d50d",
   "metadata": {},
   "outputs": [
    {
     "data": {
      "text/plain": [
       "31"
      ]
     },
     "execution_count": 13,
     "metadata": {},
     "output_type": "execute_result"
    }
   ],
   "source": [
    "users_data['user_id'].duplicated().sum()"
   ]
  },
  {
   "cell_type": "markdown",
   "id": "163c71a1",
   "metadata": {},
   "source": [
    "В столбце `user_id` датасета users_data 31 явный дубликат. Удалим их."
   ]
  },
  {
   "cell_type": "code",
   "execution_count": 14,
   "id": "c49bfc47",
   "metadata": {},
   "outputs": [],
   "source": [
    "users_data = users_data.drop_duplicates()"
   ]
  },
  {
   "cell_type": "markdown",
   "id": "74c14ece",
   "metadata": {},
   "source": [
    "Проверим наличие явных дубликатов в датасете rides_data"
   ]
  },
  {
   "cell_type": "code",
   "execution_count": 15,
   "id": "deb5d661",
   "metadata": {},
   "outputs": [
    {
     "data": {
      "text/plain": [
       "0"
      ]
     },
     "execution_count": 15,
     "metadata": {},
     "output_type": "execute_result"
    }
   ],
   "source": [
    "rides_data.duplicated().sum()"
   ]
  },
  {
   "cell_type": "markdown",
   "id": "78590919",
   "metadata": {},
   "source": [
    "Явных дубликатов нет"
   ]
  },
  {
   "cell_type": "markdown",
   "id": "5b1e3e02",
   "metadata": {},
   "source": [
    "В датасете subscriptions_data всего две строки, дубликатов там нет."
   ]
  },
  {
   "cell_type": "markdown",
   "id": "b2a3aeed",
   "metadata": {},
   "source": [
    "**Вывод:** Я произвела предобработку данных:\n",
    "- cоздала новый столбец с номером месяца на основе столбца `date`, он понадобится для будующих исследований;\n",
    "- пропусков в данных обнаружено не было;\n",
    "- все явные дубликаты удалены."
   ]
  },
  {
   "cell_type": "code",
   "execution_count": 16,
   "id": "f7b81a7c",
   "metadata": {},
   "outputs": [
    {
     "data": {
      "text/plain": [
       "(Timestamp('2021-01-01 00:00:00'), Timestamp('2021-12-30 00:00:00'))"
      ]
     },
     "execution_count": 16,
     "metadata": {},
     "output_type": "execute_result"
    }
   ],
   "source": [
    "#Проверим, за какой период у нас данные\n",
    "rides_data['date'].min(), rides_data['date'].max()"
   ]
  },
  {
   "cell_type": "markdown",
   "id": "85315ee0",
   "metadata": {},
   "source": [
    "Данные представлены с 01 января 2021 года по 30 декабря 2021 года"
   ]
  },
  {
   "cell_type": "code",
   "execution_count": 17,
   "id": "203a0942",
   "metadata": {},
   "outputs": [],
   "source": [
    "#Округлим расстояния методом round()\n",
    "rides_data['distance'] = rides_data['distance'].round(0)"
   ]
  },
  {
   "cell_type": "markdown",
   "id": "212593c7",
   "metadata": {},
   "source": [
    "## Исследовательский анализ данных"
   ]
  },
  {
   "cell_type": "markdown",
   "id": "cac7c22d",
   "metadata": {},
   "source": [
    "### Частота встречаемости городов"
   ]
  },
  {
   "cell_type": "code",
   "execution_count": 18,
   "id": "af320510",
   "metadata": {},
   "outputs": [
    {
     "data": {
      "image/png": "[encoded data removed]",
      "text/plain": [
       "<Figure size 1000x600 with 1 Axes>"
      ]
     },
     "metadata": {},
     "output_type": "display_data"
    }
   ],
   "source": [
    "#Построим столбчатую диаграмму\n",
    "users_data.pivot_table(index='city', values='user_id', aggfunc='count').sort_values(by='user_id', ascending=True).plot(kind='barh', grid=True, figsize=(10, 6))\n",
    "plt.title('Частота встречаемости городов')\n",
    "plt.xlabel('Количество пользователей')\n",
    "plt.ylabel('Название города')\n",
    "plt.show()"
   ]
  },
  {
   "cell_type": "code",
   "execution_count": 19,
   "id": "b1927616-a6b8-4ec9-9bee-84a2b084eaf1",
   "metadata": {},
   "outputs": [
    {
     "data": {
      "text/html": [
       "<div>\n",
       "<style scoped>\n",
       "    .dataframe tbody tr th:only-of-type {\n",
       "        vertical-align: middle;\n",
       "    }\n",
       "\n",
       "    .dataframe tbody tr th {\n",
       "        vertical-align: top;\n",
       "    }\n",
       "\n",
       "    .dataframe thead th {\n",
       "        text-align: right;\n",
       "    }\n",
       "</style>\n",
       "<table border=\"1\" class=\"dataframe\">\n",
       "  <thead>\n",
       "    <tr style=\"text-align: right;\">\n",
       "      <th></th>\n",
       "      <th>user_id</th>\n",
       "    </tr>\n",
       "    <tr>\n",
       "      <th>city</th>\n",
       "      <th></th>\n",
       "    </tr>\n",
       "  </thead>\n",
       "  <tbody>\n",
       "    <tr>\n",
       "      <th>Пятигорск</th>\n",
       "      <td>219</td>\n",
       "    </tr>\n",
       "    <tr>\n",
       "      <th>Екатеринбург</th>\n",
       "      <td>204</td>\n",
       "    </tr>\n",
       "    <tr>\n",
       "      <th>Ростов-на-Дону</th>\n",
       "      <td>198</td>\n",
       "    </tr>\n",
       "    <tr>\n",
       "      <th>Краснодар</th>\n",
       "      <td>193</td>\n",
       "    </tr>\n",
       "    <tr>\n",
       "      <th>Сочи</th>\n",
       "      <td>189</td>\n",
       "    </tr>\n",
       "    <tr>\n",
       "      <th>Омск</th>\n",
       "      <td>183</td>\n",
       "    </tr>\n",
       "    <tr>\n",
       "      <th>Тюмень</th>\n",
       "      <td>180</td>\n",
       "    </tr>\n",
       "    <tr>\n",
       "      <th>Москва</th>\n",
       "      <td>168</td>\n",
       "    </tr>\n",
       "  </tbody>\n",
       "</table>\n",
       "</div>"
      ],
      "text/plain": [
       "                user_id\n",
       "city                   \n",
       "Пятигорск           219\n",
       "Екатеринбург        204\n",
       "Ростов-на-Дону      198\n",
       "Краснодар           193\n",
       "Сочи                189\n",
       "Омск                183\n",
       "Тюмень              180\n",
       "Москва              168"
      ]
     },
     "execution_count": 19,
     "metadata": {},
     "output_type": "execute_result"
    }
   ],
   "source": [
    "# Выведем таблицу с числовыми значениями частотности городов\n",
    "users_data.pivot_table(index='city', values='user_id', aggfunc='count').sort_values(by='user_id', ascending=False)"
   ]
  },
  {
   "cell_type": "markdown",
   "id": "efc3bf3a",
   "metadata": {},
   "source": [
    "По графику видно, что больше всего пользователей из Пятигорска, на втором и третьем местах Екатеринбург и Ростов-на-Дону, последнее место занимает Москва."
   ]
  },
  {
   "cell_type": "markdown",
   "id": "95cb4d3b",
   "metadata": {},
   "source": [
    "### Соотношение пользователей с подпиской и без подписки"
   ]
  },
  {
   "cell_type": "code",
   "execution_count": 20,
   "id": "c68baa97",
   "metadata": {},
   "outputs": [
    {
     "data": {
      "image/png": "[encoded data removed]",
      "text/plain": [
       "<Figure size 1000x600 with 1 Axes>"
      ]
     },
     "metadata": {},
     "output_type": "display_data"
    }
   ],
   "source": [
    "#Построим круговую диаграмму\n",
    "users_data.pivot_table(index='subscription_type', values='user_id', aggfunc='count').plot(kind='pie', y='user_id', autopct='%1.1f%%', figsize=(10,6))\n",
    "plt.title('Соотношение пользователей с подпиской и без подписки')\n",
    "plt.xlabel(None)\n",
    "plt.ylabel(None)\n",
    "plt.show()"
   ]
  },
  {
   "cell_type": "markdown",
   "id": "28de5cfd",
   "metadata": {},
   "source": [
    "На графике мы видим, что 54,4% пользователей пользуются самокатами без подписки, а 45,6% с подпиской."
   ]
  },
  {
   "cell_type": "markdown",
   "id": "dcaf89e4",
   "metadata": {},
   "source": [
    "### Возраст пользователей"
   ]
  },
  {
   "cell_type": "code",
   "execution_count": 21,
   "id": "a77adcc3",
   "metadata": {},
   "outputs": [
    {
     "data": {
      "image/png": "[encoded data removed]",
      "text/plain": [
       "<Figure size 1000x600 with 1 Axes>"
      ]
     },
     "metadata": {},
     "output_type": "display_data"
    }
   ],
   "source": [
    "#Построим гистограмму\n",
    "users_data['age'].hist(figsize=(10,6), bins=30)\n",
    "plt.title('Возраст пользователей')\n",
    "plt.xlabel('Расстояние')\n",
    "plt.ylabel('Количество пользователей')\n",
    "plt.show()"
   ]
  },
  {
   "cell_type": "code",
   "execution_count": 22,
   "id": "3e4e7ab0",
   "metadata": {},
   "outputs": [
    {
     "data": {
      "text/plain": [
       "count    1534.000000\n",
       "mean       24.903520\n",
       "std         4.572367\n",
       "min        12.000000\n",
       "25%        22.000000\n",
       "50%        25.000000\n",
       "75%        28.000000\n",
       "max        43.000000\n",
       "Name: age, dtype: float64"
      ]
     },
     "execution_count": 22,
     "metadata": {},
     "output_type": "execute_result"
    }
   ],
   "source": [
    "# выведем описательную статистику\n",
    "users_data['age'].describe()"
   ]
  },
  {
   "cell_type": "markdown",
   "id": "54e5abce-8c3e-4114-a584-4960000f0d01",
   "metadata": {},
   "source": [
    "На графике мы видим, что возраст большинства пользователей от 20 до 30 лет (75% пользоватлей в возрасте до 28 лет), средний возраст - 25 лет. Также мы видим несколько совсем молодых пользователей в возрасте 12 лет, и несколько в возрасте 43 лет. Это максимальный возраст."
   ]
  },
  {
   "cell_type": "markdown",
   "id": "3f53f964",
   "metadata": {},
   "source": [
    "### Расстояние, которое пользователь преодолел за одну поездку"
   ]
  },
  {
   "cell_type": "code",
   "execution_count": 23,
   "id": "87055942",
   "metadata": {},
   "outputs": [
    {
     "data": {
      "image/png": "[encoded data removed]",
      "text/plain": [
       "<Figure size 1000x600 with 1 Axes>"
      ]
     },
     "metadata": {},
     "output_type": "display_data"
    }
   ],
   "source": [
    "#Построим гистограмму\n",
    "rides_data['distance'].hist(figsize=(10,6), bins=30)\n",
    "plt.title('Расстояние, которое пользователь преодолел за одну поездку')\n",
    "plt.xlabel('Расстояние, метры')\n",
    "plt.ylabel('Количество пользователей')\n",
    "plt.show()"
   ]
  },
  {
   "cell_type": "code",
   "execution_count": 24,
   "id": "d4b7dca3",
   "metadata": {},
   "outputs": [
    {
     "data": {
      "text/plain": [
       "count    18068.000000\n",
       "mean      3070.659010\n",
       "std       1116.832209\n",
       "min          1.000000\n",
       "25%       2543.000000\n",
       "50%       3134.000000\n",
       "75%       3776.000000\n",
       "max       7211.000000\n",
       "Name: distance, dtype: float64"
      ]
     },
     "execution_count": 24,
     "metadata": {},
     "output_type": "execute_result"
    }
   ],
   "source": [
    "# выведем описательную статистику\n",
    "rides_data['distance'].describe()"
   ]
  },
  {
   "cell_type": "markdown",
   "id": "8b238e80",
   "metadata": {},
   "source": [
    "На данном графике мы видим, что среднее расстояние, которое проехало большинство пользователей составляет 3 километра, максимальное - 7 км, минимальное -  меньше метра, возвомжно в этих случаях пользователи передумали бронировать самокат. Так же мы видим небольшой скачок на пятистах метрах. Большинство поездок (75%) все же составляют до 3,7 км."
   ]
  },
  {
   "cell_type": "markdown",
   "id": "692b8907",
   "metadata": {},
   "source": [
    "### Продолжительность поездок"
   ]
  },
  {
   "cell_type": "code",
   "execution_count": 25,
   "id": "6333a58b",
   "metadata": {},
   "outputs": [
    {
     "data": {
      "image/png": "[encoded data removed]",
      "text/plain": [
       "<Figure size 1000x600 with 1 Axes>"
      ]
     },
     "metadata": {},
     "output_type": "display_data"
    }
   ],
   "source": [
    "#Построим гистограмму\n",
    "rides_data['duration'].hist(figsize=(10,6), bins=30)\n",
    "plt.title('Продолжительность поездок')\n",
    "plt.xlabel('Продолжительность сессии, минуты')\n",
    "plt.ylabel('Количество пользователей')\n",
    "plt.show()"
   ]
  },
  {
   "cell_type": "code",
   "execution_count": 26,
   "id": "830b6141",
   "metadata": {},
   "outputs": [
    {
     "data": {
      "text/plain": [
       "count    18068.000000\n",
       "mean        17.805011\n",
       "std          6.091051\n",
       "min          0.500000\n",
       "25%         13.597563\n",
       "50%         17.678395\n",
       "75%         21.724800\n",
       "max         40.823963\n",
       "Name: duration, dtype: float64"
      ]
     },
     "execution_count": 26,
     "metadata": {},
     "output_type": "execute_result"
    }
   ],
   "source": [
    "# выведем описательную статистику\n",
    "rides_data['duration'].describe()"
   ]
  },
  {
   "cell_type": "markdown",
   "id": "4cdb9f21",
   "metadata": {},
   "source": [
    "На графике видно, что в основном длительность поездок находится в диапазоне от 13 до 21 минуты. Есть очень длинные поездки, например, самое длинное время бронирования 40 минут, но таких мало. А также очень короткие: меньше минуты. Возможно пользователь передумал бронировать самокат. В целом график имеет нормальное распределение и данные кажутся адекватными."
   ]
  },
  {
   "cell_type": "markdown",
   "id": "c94a4cc2",
   "metadata": {},
   "source": [
    "**Вывод:** Я провела исследовательский анализ данных и выяснила следующее:\n",
    "- Больше всего пользователей из Пятигорска, на втором и третьем местах Екатеринбург и Ростов-на-Дону, последнее место занимает Москва;\n",
    "- 54,4% пользователей пользуются самокатами без подписки, а 45,6% с подпиской;\n",
    "- Возраст большинства пользователей от 20 до 30 лет. Есть несколько совсем молодых пользователей в возрасте 7 лет, а также в возрасте 43 лет. Это максимальный возраст;\n",
    "- Cреднее расстояние, которое проехало большинство пользователей составляет 3 километра, максимамальное - 7 км, минимальное - меньше метра, возможно в этих случаях пользователи передумали бронировать самокат. Так есть небольшой скачок на пятистах метрах. Большинство поездок (75%) все же составляют до 3,7 км;\n",
    "- В основном длительность поездок находится в диапазоне от 13 до 21 минуты. Есть очень длинные поездки, например, самое длинное время бронирования 40 минут, но таких мало. А также очень короткие: меньше минуты. Возможно пользователь передумал бронировать самокат. \n",
    "\n",
    "В целом графики имеют нормальное распределение и данные кажутся адекватными."
   ]
  },
  {
   "cell_type": "markdown",
   "id": "4ef51331",
   "metadata": {},
   "source": [
    "## Объединение данных"
   ]
  },
  {
   "cell_type": "markdown",
   "id": "f74a3568",
   "metadata": {},
   "source": [
    "### Объединим данные о пользователях, поездках и подписках в один датасет"
   ]
  },
  {
   "cell_type": "markdown",
   "id": "97d96371-4397-4a01-b306-6c902a8bef43",
   "metadata": {},
   "source": [
    "Перед объединением проверим исходную размерность датасетов"
   ]
  },
  {
   "cell_type": "code",
   "execution_count": 27,
   "id": "0d3b3351-164c-4f53-8bff-eeab1bc3e230",
   "metadata": {},
   "outputs": [
    {
     "data": {
      "text/plain": [
       "(1534, 5)"
      ]
     },
     "execution_count": 27,
     "metadata": {},
     "output_type": "execute_result"
    }
   ],
   "source": [
    "users_data.shape"
   ]
  },
  {
   "cell_type": "code",
   "execution_count": 28,
   "id": "93f0e13a-8edd-467d-874c-24a0306d1f50",
   "metadata": {},
   "outputs": [
    {
     "data": {
      "text/plain": [
       "(18068, 5)"
      ]
     },
     "execution_count": 28,
     "metadata": {},
     "output_type": "execute_result"
    }
   ],
   "source": [
    "rides_data.shape"
   ]
  },
  {
   "cell_type": "code",
   "execution_count": 29,
   "id": "e56ad8bc-cf77-44fc-a5ca-194a54b37925",
   "metadata": {},
   "outputs": [
    {
     "data": {
      "text/plain": [
       "(2, 4)"
      ]
     },
     "execution_count": 29,
     "metadata": {},
     "output_type": "execute_result"
    }
   ],
   "source": [
    "subscriotions_data.shape"
   ]
  },
  {
   "cell_type": "code",
   "execution_count": 30,
   "id": "f2db2394",
   "metadata": {},
   "outputs": [],
   "source": [
    "merge_data = pd.merge(users_data, rides_data, on='user_id')"
   ]
  },
  {
   "cell_type": "code",
   "execution_count": 31,
   "id": "629bc178",
   "metadata": {},
   "outputs": [],
   "source": [
    "merge_data = merge_data.merge(subscriotions_data, on='subscription_type')"
   ]
  },
  {
   "cell_type": "code",
   "execution_count": 32,
   "id": "30344df3",
   "metadata": {},
   "outputs": [
    {
     "data": {
      "text/html": [
       "<div>\n",
       "<style scoped>\n",
       "    .dataframe tbody tr th:only-of-type {\n",
       "        vertical-align: middle;\n",
       "    }\n",
       "\n",
       "    .dataframe tbody tr th {\n",
       "        vertical-align: top;\n",
       "    }\n",
       "\n",
       "    .dataframe thead th {\n",
       "        text-align: right;\n",
       "    }\n",
       "</style>\n",
       "<table border=\"1\" class=\"dataframe\">\n",
       "  <thead>\n",
       "    <tr style=\"text-align: right;\">\n",
       "      <th></th>\n",
       "      <th>user_id</th>\n",
       "      <th>name</th>\n",
       "      <th>age</th>\n",
       "      <th>city</th>\n",
       "      <th>subscription_type</th>\n",
       "      <th>distance</th>\n",
       "      <th>duration</th>\n",
       "      <th>date</th>\n",
       "      <th>month</th>\n",
       "      <th>minute_price</th>\n",
       "      <th>start_ride_price</th>\n",
       "      <th>subscription_fee</th>\n",
       "    </tr>\n",
       "  </thead>\n",
       "  <tbody>\n",
       "    <tr>\n",
       "      <th>0</th>\n",
       "      <td>1</td>\n",
       "      <td>Кира</td>\n",
       "      <td>22</td>\n",
       "      <td>Тюмень</td>\n",
       "      <td>ultra</td>\n",
       "      <td>4410.0</td>\n",
       "      <td>25.599769</td>\n",
       "      <td>2021-01-01</td>\n",
       "      <td>1</td>\n",
       "      <td>6</td>\n",
       "      <td>0</td>\n",
       "      <td>199</td>\n",
       "    </tr>\n",
       "    <tr>\n",
       "      <th>1</th>\n",
       "      <td>1</td>\n",
       "      <td>Кира</td>\n",
       "      <td>22</td>\n",
       "      <td>Тюмень</td>\n",
       "      <td>ultra</td>\n",
       "      <td>2618.0</td>\n",
       "      <td>15.816871</td>\n",
       "      <td>2021-01-18</td>\n",
       "      <td>1</td>\n",
       "      <td>6</td>\n",
       "      <td>0</td>\n",
       "      <td>199</td>\n",
       "    </tr>\n",
       "    <tr>\n",
       "      <th>2</th>\n",
       "      <td>1</td>\n",
       "      <td>Кира</td>\n",
       "      <td>22</td>\n",
       "      <td>Тюмень</td>\n",
       "      <td>ultra</td>\n",
       "      <td>754.0</td>\n",
       "      <td>6.232113</td>\n",
       "      <td>2021-04-20</td>\n",
       "      <td>4</td>\n",
       "      <td>6</td>\n",
       "      <td>0</td>\n",
       "      <td>199</td>\n",
       "    </tr>\n",
       "    <tr>\n",
       "      <th>3</th>\n",
       "      <td>1</td>\n",
       "      <td>Кира</td>\n",
       "      <td>22</td>\n",
       "      <td>Тюмень</td>\n",
       "      <td>ultra</td>\n",
       "      <td>2695.0</td>\n",
       "      <td>18.511000</td>\n",
       "      <td>2021-08-11</td>\n",
       "      <td>8</td>\n",
       "      <td>6</td>\n",
       "      <td>0</td>\n",
       "      <td>199</td>\n",
       "    </tr>\n",
       "    <tr>\n",
       "      <th>4</th>\n",
       "      <td>1</td>\n",
       "      <td>Кира</td>\n",
       "      <td>22</td>\n",
       "      <td>Тюмень</td>\n",
       "      <td>ultra</td>\n",
       "      <td>4029.0</td>\n",
       "      <td>26.265803</td>\n",
       "      <td>2021-08-28</td>\n",
       "      <td>8</td>\n",
       "      <td>6</td>\n",
       "      <td>0</td>\n",
       "      <td>199</td>\n",
       "    </tr>\n",
       "  </tbody>\n",
       "</table>\n",
       "</div>"
      ],
      "text/plain": [
       "   user_id  name  age    city subscription_type  distance   duration  \\\n",
       "0        1  Кира   22  Тюмень             ultra    4410.0  25.599769   \n",
       "1        1  Кира   22  Тюмень             ultra    2618.0  15.816871   \n",
       "2        1  Кира   22  Тюмень             ultra     754.0   6.232113   \n",
       "3        1  Кира   22  Тюмень             ultra    2695.0  18.511000   \n",
       "4        1  Кира   22  Тюмень             ultra    4029.0  26.265803   \n",
       "\n",
       "        date  month  minute_price  start_ride_price  subscription_fee  \n",
       "0 2021-01-01      1             6                 0               199  \n",
       "1 2021-01-18      1             6                 0               199  \n",
       "2 2021-04-20      4             6                 0               199  \n",
       "3 2021-08-11      8             6                 0               199  \n",
       "4 2021-08-28      8             6                 0               199  "
      ]
     },
     "execution_count": 32,
     "metadata": {},
     "output_type": "execute_result"
    }
   ],
   "source": [
    "merge_data.head()"
   ]
  },
  {
   "cell_type": "markdown",
   "id": "9ebda935-7925-4b50-a17c-e6be599aca2b",
   "metadata": {},
   "source": [
    "Проверим размерность таблицы после присоединения"
   ]
  },
  {
   "cell_type": "code",
   "execution_count": 33,
   "id": "04c97d38",
   "metadata": {},
   "outputs": [
    {
     "data": {
      "text/plain": [
       "(18068, 12)"
      ]
     },
     "execution_count": 33,
     "metadata": {},
     "output_type": "execute_result"
    }
   ],
   "source": [
    "merge_data.shape"
   ]
  },
  {
   "cell_type": "markdown",
   "id": "61457b87",
   "metadata": {},
   "source": [
    "Размерность объединенной таблицы совпадает с исходной"
   ]
  },
  {
   "cell_type": "code",
   "execution_count": 34,
   "id": "ba49f62f",
   "metadata": {},
   "outputs": [
    {
     "data": {
      "text/plain": [
       "user_id              0\n",
       "name                 0\n",
       "age                  0\n",
       "city                 0\n",
       "subscription_type    0\n",
       "distance             0\n",
       "duration             0\n",
       "date                 0\n",
       "month                0\n",
       "minute_price         0\n",
       "start_ride_price     0\n",
       "subscription_fee     0\n",
       "dtype: int64"
      ]
     },
     "execution_count": 34,
     "metadata": {},
     "output_type": "execute_result"
    }
   ],
   "source": [
    "#Проверим объединенный датасет на пропуски\n",
    "merge_data.isna().sum()"
   ]
  },
  {
   "cell_type": "markdown",
   "id": "910f5269",
   "metadata": {},
   "source": [
    "Пропусков в объединенном датасете нет"
   ]
  },
  {
   "cell_type": "markdown",
   "id": "982cb961",
   "metadata": {},
   "source": [
    "### Создадим два датафрейма на основе полученного датасета"
   ]
  },
  {
   "cell_type": "markdown",
   "id": "be43cb28",
   "metadata": {},
   "source": [
    "**Датасет с данными о пользователях без подписки**"
   ]
  },
  {
   "cell_type": "code",
   "execution_count": 35,
   "id": "085fbd9f",
   "metadata": {},
   "outputs": [
    {
     "data": {
      "text/html": [
       "<div>\n",
       "<style scoped>\n",
       "    .dataframe tbody tr th:only-of-type {\n",
       "        vertical-align: middle;\n",
       "    }\n",
       "\n",
       "    .dataframe tbody tr th {\n",
       "        vertical-align: top;\n",
       "    }\n",
       "\n",
       "    .dataframe thead th {\n",
       "        text-align: right;\n",
       "    }\n",
       "</style>\n",
       "<table border=\"1\" class=\"dataframe\">\n",
       "  <thead>\n",
       "    <tr style=\"text-align: right;\">\n",
       "      <th></th>\n",
       "      <th>user_id</th>\n",
       "      <th>name</th>\n",
       "      <th>age</th>\n",
       "      <th>city</th>\n",
       "      <th>subscription_type</th>\n",
       "      <th>distance</th>\n",
       "      <th>duration</th>\n",
       "      <th>date</th>\n",
       "      <th>month</th>\n",
       "      <th>minute_price</th>\n",
       "      <th>start_ride_price</th>\n",
       "      <th>subscription_fee</th>\n",
       "    </tr>\n",
       "  </thead>\n",
       "  <tbody>\n",
       "    <tr>\n",
       "      <th>6500</th>\n",
       "      <td>700</td>\n",
       "      <td>Айдар</td>\n",
       "      <td>22</td>\n",
       "      <td>Омск</td>\n",
       "      <td>free</td>\n",
       "      <td>2516.0</td>\n",
       "      <td>14.944286</td>\n",
       "      <td>2021-01-02</td>\n",
       "      <td>1</td>\n",
       "      <td>8</td>\n",
       "      <td>50</td>\n",
       "      <td>0</td>\n",
       "    </tr>\n",
       "    <tr>\n",
       "      <th>6501</th>\n",
       "      <td>700</td>\n",
       "      <td>Айдар</td>\n",
       "      <td>22</td>\n",
       "      <td>Омск</td>\n",
       "      <td>free</td>\n",
       "      <td>847.0</td>\n",
       "      <td>16.234663</td>\n",
       "      <td>2021-02-01</td>\n",
       "      <td>2</td>\n",
       "      <td>8</td>\n",
       "      <td>50</td>\n",
       "      <td>0</td>\n",
       "    </tr>\n",
       "    <tr>\n",
       "      <th>6502</th>\n",
       "      <td>700</td>\n",
       "      <td>Айдар</td>\n",
       "      <td>22</td>\n",
       "      <td>Омск</td>\n",
       "      <td>free</td>\n",
       "      <td>4004.0</td>\n",
       "      <td>20.016628</td>\n",
       "      <td>2021-02-04</td>\n",
       "      <td>2</td>\n",
       "      <td>8</td>\n",
       "      <td>50</td>\n",
       "      <td>0</td>\n",
       "    </tr>\n",
       "    <tr>\n",
       "      <th>6503</th>\n",
       "      <td>700</td>\n",
       "      <td>Айдар</td>\n",
       "      <td>22</td>\n",
       "      <td>Омск</td>\n",
       "      <td>free</td>\n",
       "      <td>1206.0</td>\n",
       "      <td>9.782872</td>\n",
       "      <td>2021-02-10</td>\n",
       "      <td>2</td>\n",
       "      <td>8</td>\n",
       "      <td>50</td>\n",
       "      <td>0</td>\n",
       "    </tr>\n",
       "    <tr>\n",
       "      <th>6504</th>\n",
       "      <td>700</td>\n",
       "      <td>Айдар</td>\n",
       "      <td>22</td>\n",
       "      <td>Омск</td>\n",
       "      <td>free</td>\n",
       "      <td>3047.0</td>\n",
       "      <td>17.427673</td>\n",
       "      <td>2021-02-14</td>\n",
       "      <td>2</td>\n",
       "      <td>8</td>\n",
       "      <td>50</td>\n",
       "      <td>0</td>\n",
       "    </tr>\n",
       "  </tbody>\n",
       "</table>\n",
       "</div>"
      ],
      "text/plain": [
       "      user_id   name  age  city subscription_type  distance   duration  \\\n",
       "6500      700  Айдар   22  Омск              free    2516.0  14.944286   \n",
       "6501      700  Айдар   22  Омск              free     847.0  16.234663   \n",
       "6502      700  Айдар   22  Омск              free    4004.0  20.016628   \n",
       "6503      700  Айдар   22  Омск              free    1206.0   9.782872   \n",
       "6504      700  Айдар   22  Омск              free    3047.0  17.427673   \n",
       "\n",
       "           date  month  minute_price  start_ride_price  subscription_fee  \n",
       "6500 2021-01-02      1             8                50                 0  \n",
       "6501 2021-02-01      2             8                50                 0  \n",
       "6502 2021-02-04      2             8                50                 0  \n",
       "6503 2021-02-10      2             8                50                 0  \n",
       "6504 2021-02-14      2             8                50                 0  "
      ]
     },
     "execution_count": 35,
     "metadata": {},
     "output_type": "execute_result"
    }
   ],
   "source": [
    "data_free = merge_data[merge_data['subscription_type']=='free']\n",
    "data_free.head()"
   ]
  },
  {
   "cell_type": "markdown",
   "id": "8ad1a9df",
   "metadata": {},
   "source": [
    "**Датасет с данными о пользователях с подпиской**"
   ]
  },
  {
   "cell_type": "code",
   "execution_count": 36,
   "id": "6bbef85e",
   "metadata": {},
   "outputs": [
    {
     "data": {
      "text/html": [
       "<div>\n",
       "<style scoped>\n",
       "    .dataframe tbody tr th:only-of-type {\n",
       "        vertical-align: middle;\n",
       "    }\n",
       "\n",
       "    .dataframe tbody tr th {\n",
       "        vertical-align: top;\n",
       "    }\n",
       "\n",
       "    .dataframe thead th {\n",
       "        text-align: right;\n",
       "    }\n",
       "</style>\n",
       "<table border=\"1\" class=\"dataframe\">\n",
       "  <thead>\n",
       "    <tr style=\"text-align: right;\">\n",
       "      <th></th>\n",
       "      <th>user_id</th>\n",
       "      <th>name</th>\n",
       "      <th>age</th>\n",
       "      <th>city</th>\n",
       "      <th>subscription_type</th>\n",
       "      <th>distance</th>\n",
       "      <th>duration</th>\n",
       "      <th>date</th>\n",
       "      <th>month</th>\n",
       "      <th>minute_price</th>\n",
       "      <th>start_ride_price</th>\n",
       "      <th>subscription_fee</th>\n",
       "    </tr>\n",
       "  </thead>\n",
       "  <tbody>\n",
       "    <tr>\n",
       "      <th>0</th>\n",
       "      <td>1</td>\n",
       "      <td>Кира</td>\n",
       "      <td>22</td>\n",
       "      <td>Тюмень</td>\n",
       "      <td>ultra</td>\n",
       "      <td>4410.0</td>\n",
       "      <td>25.599769</td>\n",
       "      <td>2021-01-01</td>\n",
       "      <td>1</td>\n",
       "      <td>6</td>\n",
       "      <td>0</td>\n",
       "      <td>199</td>\n",
       "    </tr>\n",
       "    <tr>\n",
       "      <th>1</th>\n",
       "      <td>1</td>\n",
       "      <td>Кира</td>\n",
       "      <td>22</td>\n",
       "      <td>Тюмень</td>\n",
       "      <td>ultra</td>\n",
       "      <td>2618.0</td>\n",
       "      <td>15.816871</td>\n",
       "      <td>2021-01-18</td>\n",
       "      <td>1</td>\n",
       "      <td>6</td>\n",
       "      <td>0</td>\n",
       "      <td>199</td>\n",
       "    </tr>\n",
       "    <tr>\n",
       "      <th>2</th>\n",
       "      <td>1</td>\n",
       "      <td>Кира</td>\n",
       "      <td>22</td>\n",
       "      <td>Тюмень</td>\n",
       "      <td>ultra</td>\n",
       "      <td>754.0</td>\n",
       "      <td>6.232113</td>\n",
       "      <td>2021-04-20</td>\n",
       "      <td>4</td>\n",
       "      <td>6</td>\n",
       "      <td>0</td>\n",
       "      <td>199</td>\n",
       "    </tr>\n",
       "    <tr>\n",
       "      <th>3</th>\n",
       "      <td>1</td>\n",
       "      <td>Кира</td>\n",
       "      <td>22</td>\n",
       "      <td>Тюмень</td>\n",
       "      <td>ultra</td>\n",
       "      <td>2695.0</td>\n",
       "      <td>18.511000</td>\n",
       "      <td>2021-08-11</td>\n",
       "      <td>8</td>\n",
       "      <td>6</td>\n",
       "      <td>0</td>\n",
       "      <td>199</td>\n",
       "    </tr>\n",
       "    <tr>\n",
       "      <th>4</th>\n",
       "      <td>1</td>\n",
       "      <td>Кира</td>\n",
       "      <td>22</td>\n",
       "      <td>Тюмень</td>\n",
       "      <td>ultra</td>\n",
       "      <td>4029.0</td>\n",
       "      <td>26.265803</td>\n",
       "      <td>2021-08-28</td>\n",
       "      <td>8</td>\n",
       "      <td>6</td>\n",
       "      <td>0</td>\n",
       "      <td>199</td>\n",
       "    </tr>\n",
       "  </tbody>\n",
       "</table>\n",
       "</div>"
      ],
      "text/plain": [
       "   user_id  name  age    city subscription_type  distance   duration  \\\n",
       "0        1  Кира   22  Тюмень             ultra    4410.0  25.599769   \n",
       "1        1  Кира   22  Тюмень             ultra    2618.0  15.816871   \n",
       "2        1  Кира   22  Тюмень             ultra     754.0   6.232113   \n",
       "3        1  Кира   22  Тюмень             ultra    2695.0  18.511000   \n",
       "4        1  Кира   22  Тюмень             ultra    4029.0  26.265803   \n",
       "\n",
       "        date  month  minute_price  start_ride_price  subscription_fee  \n",
       "0 2021-01-01      1             6                 0               199  \n",
       "1 2021-01-18      1             6                 0               199  \n",
       "2 2021-04-20      4             6                 0               199  \n",
       "3 2021-08-11      8             6                 0               199  \n",
       "4 2021-08-28      8             6                 0               199  "
      ]
     },
     "execution_count": 36,
     "metadata": {},
     "output_type": "execute_result"
    }
   ],
   "source": [
    "data_ultra = merge_data[merge_data['subscription_type']=='ultra']\n",
    "data_ultra.head()"
   ]
  },
  {
   "cell_type": "markdown",
   "id": "e536aa53",
   "metadata": {},
   "source": [
    "### Визуализируем информацию о расстоянии и времени поездки для пользователей обеих категорий"
   ]
  },
  {
   "cell_type": "markdown",
   "id": "8a2263c1",
   "metadata": {},
   "source": [
    "**Расстояние, которое преодолели пользователя за одну поездку для пользователей с подпиской и без**"
   ]
  },
  {
   "cell_type": "code",
   "execution_count": 37,
   "id": "f91bc7f7",
   "metadata": {},
   "outputs": [
    {
     "data": {
      "image/png": "[encoded data removed]",
      "text/plain": [
       "<Figure size 1000x600 with 1 Axes>"
      ]
     },
     "metadata": {},
     "output_type": "display_data"
    }
   ],
   "source": [
    "names = ['без подписки', 'с подпиской']\n",
    "plt.figure(figsize=(10, 6))\n",
    "plt.grid(True)\n",
    "plt.hist([data_free['distance'], data_ultra['distance']], label=['без подписки', 'с подпиской'])\n",
    "plt.legend()\n",
    "plt.title('Информация о расстоянии поездки в зависимости от наличия подписки')\n",
    "plt.xlabel('Расстояние, метры')\n",
    "plt.ylabel('Количество пользователей')\n",
    "plt.show()"
   ]
  },
  {
   "cell_type": "markdown",
   "id": "ee4c21b1",
   "metadata": {},
   "source": [
    "На графике мы видим, что поездки длиной 3 км совершались больше пользователями с подписком, чем без, на рассотяние больше 5 километров пользователи с подпиской вообще не ездят. Также пользователи с подпиской значительно реже ездят на расстояния до 3 км, чем пользователи без подписки и редко отменяют бронирование в самом начале."
   ]
  },
  {
   "cell_type": "markdown",
   "id": "bc0e411b",
   "metadata": {},
   "source": [
    "**Время в пути для пользователей с подпиской и без**"
   ]
  },
  {
   "cell_type": "code",
   "execution_count": 38,
   "id": "580b3b38",
   "metadata": {},
   "outputs": [
    {
     "data": {
      "image/png": "[encoded data removed]",
      "text/plain": [
       "<Figure size 1000x600 with 1 Axes>"
      ]
     },
     "metadata": {},
     "output_type": "display_data"
    }
   ],
   "source": [
    "names = ['без подписки', 'с подпиской']\n",
    "plt.figure(figsize=(10, 6))\n",
    "plt.grid(True)\n",
    "plt.hist([data_free['duration'], data_ultra['duration']], label=['без подписки', 'с подпиской'])\n",
    "plt.legend()\n",
    "plt.title('Информация о времени в зависимости от наличия подписки')\n",
    "plt.xlabel('Время, минуты')\n",
    "plt.ylabel('Количество пользователей')\n",
    "plt.show()"
   ]
  },
  {
   "cell_type": "markdown",
   "id": "c596e07a",
   "metadata": {},
   "source": [
    "Время в пути для пользователей с подпиской и без подписки распределно равномерно."
   ]
  },
  {
   "cell_type": "markdown",
   "id": "402d620f",
   "metadata": {},
   "source": [
    "## Подсчёт выручки"
   ]
  },
  {
   "cell_type": "markdown",
   "id": "9fb45c6e",
   "metadata": {},
   "source": [
    "### Создадим датасет с аггрегированными данными о поездках"
   ]
  },
  {
   "cell_type": "code",
   "execution_count": 39,
   "id": "683a5674",
   "metadata": {},
   "outputs": [
    {
     "data": {
      "text/html": [
       "<div>\n",
       "<style scoped>\n",
       "    .dataframe tbody tr th:only-of-type {\n",
       "        vertical-align: middle;\n",
       "    }\n",
       "\n",
       "    .dataframe tbody tr th {\n",
       "        vertical-align: top;\n",
       "    }\n",
       "\n",
       "    .dataframe thead th {\n",
       "        text-align: right;\n",
       "    }\n",
       "</style>\n",
       "<table border=\"1\" class=\"dataframe\">\n",
       "  <thead>\n",
       "    <tr style=\"text-align: right;\">\n",
       "      <th></th>\n",
       "      <th></th>\n",
       "      <th></th>\n",
       "      <th>count</th>\n",
       "      <th>distance_sum</th>\n",
       "      <th>duration_sum</th>\n",
       "      <th>minute_price</th>\n",
       "      <th>start_ride_price</th>\n",
       "      <th>subscription_free</th>\n",
       "    </tr>\n",
       "    <tr>\n",
       "      <th>user_id</th>\n",
       "      <th>month</th>\n",
       "      <th>subscription_type</th>\n",
       "      <th></th>\n",
       "      <th></th>\n",
       "      <th></th>\n",
       "      <th></th>\n",
       "      <th></th>\n",
       "      <th></th>\n",
       "    </tr>\n",
       "  </thead>\n",
       "  <tbody>\n",
       "    <tr>\n",
       "      <th rowspan=\"6\" valign=\"top\">1</th>\n",
       "      <th>1</th>\n",
       "      <th>ultra</th>\n",
       "      <td>2</td>\n",
       "      <td>7028.0</td>\n",
       "      <td>41.416640</td>\n",
       "      <td>6.0</td>\n",
       "      <td>0.0</td>\n",
       "      <td>199.0</td>\n",
       "    </tr>\n",
       "    <tr>\n",
       "      <th>4</th>\n",
       "      <th>ultra</th>\n",
       "      <td>1</td>\n",
       "      <td>754.0</td>\n",
       "      <td>6.232113</td>\n",
       "      <td>6.0</td>\n",
       "      <td>0.0</td>\n",
       "      <td>199.0</td>\n",
       "    </tr>\n",
       "    <tr>\n",
       "      <th>8</th>\n",
       "      <th>ultra</th>\n",
       "      <td>2</td>\n",
       "      <td>6724.0</td>\n",
       "      <td>44.776802</td>\n",
       "      <td>6.0</td>\n",
       "      <td>0.0</td>\n",
       "      <td>199.0</td>\n",
       "    </tr>\n",
       "    <tr>\n",
       "      <th>10</th>\n",
       "      <th>ultra</th>\n",
       "      <td>2</td>\n",
       "      <td>5810.0</td>\n",
       "      <td>31.578017</td>\n",
       "      <td>6.0</td>\n",
       "      <td>0.0</td>\n",
       "      <td>199.0</td>\n",
       "    </tr>\n",
       "    <tr>\n",
       "      <th>11</th>\n",
       "      <th>ultra</th>\n",
       "      <td>3</td>\n",
       "      <td>7004.0</td>\n",
       "      <td>53.397424</td>\n",
       "      <td>6.0</td>\n",
       "      <td>0.0</td>\n",
       "      <td>199.0</td>\n",
       "    </tr>\n",
       "    <tr>\n",
       "      <th>12</th>\n",
       "      <th>ultra</th>\n",
       "      <td>2</td>\n",
       "      <td>6752.0</td>\n",
       "      <td>27.203912</td>\n",
       "      <td>6.0</td>\n",
       "      <td>0.0</td>\n",
       "      <td>199.0</td>\n",
       "    </tr>\n",
       "    <tr>\n",
       "      <th rowspan=\"4\" valign=\"top\">2</th>\n",
       "      <th>3</th>\n",
       "      <th>ultra</th>\n",
       "      <td>3</td>\n",
       "      <td>10188.0</td>\n",
       "      <td>60.959959</td>\n",
       "      <td>6.0</td>\n",
       "      <td>0.0</td>\n",
       "      <td>199.0</td>\n",
       "    </tr>\n",
       "    <tr>\n",
       "      <th>4</th>\n",
       "      <th>ultra</th>\n",
       "      <td>2</td>\n",
       "      <td>6165.0</td>\n",
       "      <td>39.048633</td>\n",
       "      <td>6.0</td>\n",
       "      <td>0.0</td>\n",
       "      <td>199.0</td>\n",
       "    </tr>\n",
       "    <tr>\n",
       "      <th>6</th>\n",
       "      <th>ultra</th>\n",
       "      <td>1</td>\n",
       "      <td>3255.0</td>\n",
       "      <td>13.851127</td>\n",
       "      <td>6.0</td>\n",
       "      <td>0.0</td>\n",
       "      <td>199.0</td>\n",
       "    </tr>\n",
       "    <tr>\n",
       "      <th>7</th>\n",
       "      <th>ultra</th>\n",
       "      <td>2</td>\n",
       "      <td>6781.0</td>\n",
       "      <td>46.170157</td>\n",
       "      <td>6.0</td>\n",
       "      <td>0.0</td>\n",
       "      <td>199.0</td>\n",
       "    </tr>\n",
       "  </tbody>\n",
       "</table>\n",
       "</div>"
      ],
      "text/plain": [
       "                                 count  distance_sum  duration_sum  \\\n",
       "user_id month subscription_type                                      \n",
       "1       1     ultra                  2        7028.0     41.416640   \n",
       "        4     ultra                  1         754.0      6.232113   \n",
       "        8     ultra                  2        6724.0     44.776802   \n",
       "        10    ultra                  2        5810.0     31.578017   \n",
       "        11    ultra                  3        7004.0     53.397424   \n",
       "        12    ultra                  2        6752.0     27.203912   \n",
       "2       3     ultra                  3       10188.0     60.959959   \n",
       "        4     ultra                  2        6165.0     39.048633   \n",
       "        6     ultra                  1        3255.0     13.851127   \n",
       "        7     ultra                  2        6781.0     46.170157   \n",
       "\n",
       "                                 minute_price  start_ride_price  \\\n",
       "user_id month subscription_type                                   \n",
       "1       1     ultra                       6.0               0.0   \n",
       "        4     ultra                       6.0               0.0   \n",
       "        8     ultra                       6.0               0.0   \n",
       "        10    ultra                       6.0               0.0   \n",
       "        11    ultra                       6.0               0.0   \n",
       "        12    ultra                       6.0               0.0   \n",
       "2       3     ultra                       6.0               0.0   \n",
       "        4     ultra                       6.0               0.0   \n",
       "        6     ultra                       6.0               0.0   \n",
       "        7     ultra                       6.0               0.0   \n",
       "\n",
       "                                 subscription_free  \n",
       "user_id month subscription_type                     \n",
       "1       1     ultra                          199.0  \n",
       "        4     ultra                          199.0  \n",
       "        8     ultra                          199.0  \n",
       "        10    ultra                          199.0  \n",
       "        11    ultra                          199.0  \n",
       "        12    ultra                          199.0  \n",
       "2       3     ultra                          199.0  \n",
       "        4     ultra                          199.0  \n",
       "        6     ultra                          199.0  \n",
       "        7     ultra                          199.0  "
      ]
     },
     "execution_count": 39,
     "metadata": {},
     "output_type": "execute_result"
    }
   ],
   "source": [
    "revenue_data = merge_data.pivot_table(index = ['user_id', 'month', 'subscription_type'], values = ['distance', 'duration','minute_price', 'start_ride_price', 'subscription_fee'], aggfunc = ({'distance':{'count', 'sum'}, 'duration':'sum', 'minute_price': 'mean', 'start_ride_price': 'mean', 'subscription_fee':'mean'}))\n",
    "revenue_data.columns = ['count', 'distance_sum', 'duration_sum', 'minute_price', 'start_ride_price', 'subscription_free']\n",
    "revenue_data.head(10)"
   ]
  },
  {
   "cell_type": "code",
   "execution_count": 40,
   "id": "949f580d",
   "metadata": {},
   "outputs": [],
   "source": [
    "revenue_data['duration_sum'] = np.ceil(revenue_data['duration_sum'])"
   ]
  },
  {
   "cell_type": "markdown",
   "id": "c2ab735f",
   "metadata": {},
   "source": [
    "### Добавим столбец с помесячной выручкой, которую принес каждый пользователь"
   ]
  },
  {
   "cell_type": "code",
   "execution_count": 41,
   "id": "9aee6183",
   "metadata": {},
   "outputs": [
    {
     "data": {
      "text/html": [
       "<div>\n",
       "<style scoped>\n",
       "    .dataframe tbody tr th:only-of-type {\n",
       "        vertical-align: middle;\n",
       "    }\n",
       "\n",
       "    .dataframe tbody tr th {\n",
       "        vertical-align: top;\n",
       "    }\n",
       "\n",
       "    .dataframe thead th {\n",
       "        text-align: right;\n",
       "    }\n",
       "</style>\n",
       "<table border=\"1\" class=\"dataframe\">\n",
       "  <thead>\n",
       "    <tr style=\"text-align: right;\">\n",
       "      <th></th>\n",
       "      <th></th>\n",
       "      <th></th>\n",
       "      <th>count</th>\n",
       "      <th>distance_sum</th>\n",
       "      <th>duration_sum</th>\n",
       "      <th>minute_price</th>\n",
       "      <th>start_ride_price</th>\n",
       "      <th>subscription_free</th>\n",
       "      <th>revenue</th>\n",
       "    </tr>\n",
       "    <tr>\n",
       "      <th>user_id</th>\n",
       "      <th>month</th>\n",
       "      <th>subscription_type</th>\n",
       "      <th></th>\n",
       "      <th></th>\n",
       "      <th></th>\n",
       "      <th></th>\n",
       "      <th></th>\n",
       "      <th></th>\n",
       "      <th></th>\n",
       "    </tr>\n",
       "  </thead>\n",
       "  <tbody>\n",
       "    <tr>\n",
       "      <th rowspan=\"6\" valign=\"top\">1</th>\n",
       "      <th>1</th>\n",
       "      <th>ultra</th>\n",
       "      <td>2</td>\n",
       "      <td>7028.0</td>\n",
       "      <td>42.0</td>\n",
       "      <td>6.0</td>\n",
       "      <td>0.0</td>\n",
       "      <td>199.0</td>\n",
       "      <td>451.0</td>\n",
       "    </tr>\n",
       "    <tr>\n",
       "      <th>4</th>\n",
       "      <th>ultra</th>\n",
       "      <td>1</td>\n",
       "      <td>754.0</td>\n",
       "      <td>7.0</td>\n",
       "      <td>6.0</td>\n",
       "      <td>0.0</td>\n",
       "      <td>199.0</td>\n",
       "      <td>241.0</td>\n",
       "    </tr>\n",
       "    <tr>\n",
       "      <th>8</th>\n",
       "      <th>ultra</th>\n",
       "      <td>2</td>\n",
       "      <td>6724.0</td>\n",
       "      <td>45.0</td>\n",
       "      <td>6.0</td>\n",
       "      <td>0.0</td>\n",
       "      <td>199.0</td>\n",
       "      <td>469.0</td>\n",
       "    </tr>\n",
       "    <tr>\n",
       "      <th>10</th>\n",
       "      <th>ultra</th>\n",
       "      <td>2</td>\n",
       "      <td>5810.0</td>\n",
       "      <td>32.0</td>\n",
       "      <td>6.0</td>\n",
       "      <td>0.0</td>\n",
       "      <td>199.0</td>\n",
       "      <td>391.0</td>\n",
       "    </tr>\n",
       "    <tr>\n",
       "      <th>11</th>\n",
       "      <th>ultra</th>\n",
       "      <td>3</td>\n",
       "      <td>7004.0</td>\n",
       "      <td>54.0</td>\n",
       "      <td>6.0</td>\n",
       "      <td>0.0</td>\n",
       "      <td>199.0</td>\n",
       "      <td>523.0</td>\n",
       "    </tr>\n",
       "    <tr>\n",
       "      <th>12</th>\n",
       "      <th>ultra</th>\n",
       "      <td>2</td>\n",
       "      <td>6752.0</td>\n",
       "      <td>28.0</td>\n",
       "      <td>6.0</td>\n",
       "      <td>0.0</td>\n",
       "      <td>199.0</td>\n",
       "      <td>367.0</td>\n",
       "    </tr>\n",
       "    <tr>\n",
       "      <th rowspan=\"4\" valign=\"top\">2</th>\n",
       "      <th>3</th>\n",
       "      <th>ultra</th>\n",
       "      <td>3</td>\n",
       "      <td>10188.0</td>\n",
       "      <td>61.0</td>\n",
       "      <td>6.0</td>\n",
       "      <td>0.0</td>\n",
       "      <td>199.0</td>\n",
       "      <td>565.0</td>\n",
       "    </tr>\n",
       "    <tr>\n",
       "      <th>4</th>\n",
       "      <th>ultra</th>\n",
       "      <td>2</td>\n",
       "      <td>6165.0</td>\n",
       "      <td>40.0</td>\n",
       "      <td>6.0</td>\n",
       "      <td>0.0</td>\n",
       "      <td>199.0</td>\n",
       "      <td>439.0</td>\n",
       "    </tr>\n",
       "    <tr>\n",
       "      <th>6</th>\n",
       "      <th>ultra</th>\n",
       "      <td>1</td>\n",
       "      <td>3255.0</td>\n",
       "      <td>14.0</td>\n",
       "      <td>6.0</td>\n",
       "      <td>0.0</td>\n",
       "      <td>199.0</td>\n",
       "      <td>283.0</td>\n",
       "    </tr>\n",
       "    <tr>\n",
       "      <th>7</th>\n",
       "      <th>ultra</th>\n",
       "      <td>2</td>\n",
       "      <td>6781.0</td>\n",
       "      <td>47.0</td>\n",
       "      <td>6.0</td>\n",
       "      <td>0.0</td>\n",
       "      <td>199.0</td>\n",
       "      <td>481.0</td>\n",
       "    </tr>\n",
       "  </tbody>\n",
       "</table>\n",
       "</div>"
      ],
      "text/plain": [
       "                                 count  distance_sum  duration_sum  \\\n",
       "user_id month subscription_type                                      \n",
       "1       1     ultra                  2        7028.0          42.0   \n",
       "        4     ultra                  1         754.0           7.0   \n",
       "        8     ultra                  2        6724.0          45.0   \n",
       "        10    ultra                  2        5810.0          32.0   \n",
       "        11    ultra                  3        7004.0          54.0   \n",
       "        12    ultra                  2        6752.0          28.0   \n",
       "2       3     ultra                  3       10188.0          61.0   \n",
       "        4     ultra                  2        6165.0          40.0   \n",
       "        6     ultra                  1        3255.0          14.0   \n",
       "        7     ultra                  2        6781.0          47.0   \n",
       "\n",
       "                                 minute_price  start_ride_price  \\\n",
       "user_id month subscription_type                                   \n",
       "1       1     ultra                       6.0               0.0   \n",
       "        4     ultra                       6.0               0.0   \n",
       "        8     ultra                       6.0               0.0   \n",
       "        10    ultra                       6.0               0.0   \n",
       "        11    ultra                       6.0               0.0   \n",
       "        12    ultra                       6.0               0.0   \n",
       "2       3     ultra                       6.0               0.0   \n",
       "        4     ultra                       6.0               0.0   \n",
       "        6     ultra                       6.0               0.0   \n",
       "        7     ultra                       6.0               0.0   \n",
       "\n",
       "                                 subscription_free  revenue  \n",
       "user_id month subscription_type                              \n",
       "1       1     ultra                          199.0    451.0  \n",
       "        4     ultra                          199.0    241.0  \n",
       "        8     ultra                          199.0    469.0  \n",
       "        10    ultra                          199.0    391.0  \n",
       "        11    ultra                          199.0    523.0  \n",
       "        12    ultra                          199.0    367.0  \n",
       "2       3     ultra                          199.0    565.0  \n",
       "        4     ultra                          199.0    439.0  \n",
       "        6     ultra                          199.0    283.0  \n",
       "        7     ultra                          199.0    481.0  "
      ]
     },
     "execution_count": 41,
     "metadata": {},
     "output_type": "execute_result"
    }
   ],
   "source": [
    "revenue_data['revenue'] = revenue_data['start_ride_price'] * revenue_data['count'] + revenue_data['minute_price'] * revenue_data['duration_sum'] + revenue_data['subscription_free']\n",
    "revenue_data.head(10)"
   ]
  },
  {
   "cell_type": "markdown",
   "id": "19fb41fd",
   "metadata": {},
   "source": [
    "Посчитали помесячную выручку, которую принес каждый пользователь"
   ]
  },
  {
   "cell_type": "markdown",
   "id": "41545ac0",
   "metadata": {},
   "source": [
    "## Проверка гипотез"
   ]
  },
  {
   "cell_type": "markdown",
   "id": "edaaa6aa",
   "metadata": {},
   "source": [
    "### Проверим, тратят ли пользователи с подпиской больше времени на поездки"
   ]
  },
  {
   "cell_type": "markdown",
   "id": "3353710f",
   "metadata": {},
   "source": [
    "H0: Среднее время поездки у пользователей с подпиской такое же, как у пользователей без подписки.\n",
    "\n",
    "H1: Среднее время поездки у пользователей с подпиской больше, чем у пользователей без подписки."
   ]
  },
  {
   "cell_type": "code",
   "execution_count": 42,
   "id": "6920c46a",
   "metadata": {},
   "outputs": [
    {
     "name": "stdout",
     "output_type": "stream",
     "text": [
      "P-значение: 1.2804098316645618e-34\n",
      "Отвергаем нулевую гипотезу\n"
     ]
    }
   ],
   "source": [
    "alpha = 0.05\n",
    "duration_user_free = data_free['duration']\n",
    "duration_user_ultra = data_ultra['duration']\n",
    "results = st.ttest_ind( duration_user_ultra, duration_user_free, alternative='greater')\n",
    "print('P-значение:', results.pvalue)\n",
    "if results.pvalue < alpha:\n",
    "    print('Отвергаем нулевую гипотезу')\n",
    "else:\n",
    "    print('Не получилось отвергнуть нулевую гипотезу')"
   ]
  },
  {
   "cell_type": "markdown",
   "id": "ae68a712",
   "metadata": {},
   "source": [
    "У нас есть достаточно оснований утверждать, что среднее время у пользователей с подпиской больше, чем у пользователей без подписки."
   ]
  },
  {
   "cell_type": "markdown",
   "id": "fc76a0ac",
   "metadata": {},
   "source": [
    "### Проверим, превышает ли среднее расстояние, которое проезжают пользователи с подпиской 3130 метров"
   ]
  },
  {
   "cell_type": "markdown",
   "id": "609327be",
   "metadata": {},
   "source": [
    "H0: Среднее расстояние, которое проезжают пользователи с подпиской за одну поездку равно 3130 метров.\n",
    "\n",
    "H1: Среднее расстояние, которое проезжают пользователи с подпиской за одну поездку больше 3130 метров."
   ]
  },
  {
   "cell_type": "code",
   "execution_count": 43,
   "id": "5a0ff634",
   "metadata": {},
   "outputs": [
    {
     "name": "stdout",
     "output_type": "stream",
     "text": [
      "P-значение: 0.9195649894697724\n",
      "Не получилось отвергнуть нулевую гипотезу\n"
     ]
    }
   ],
   "source": [
    "optimal_distance = 3130\n",
    "alpha = 0.05\n",
    "results = st.ttest_1samp(data_ultra['distance'], optimal_distance, alternative='greater')\n",
    "print('P-значение:', results.pvalue)\n",
    "if results.pvalue < alpha:\n",
    "    print('Отвергаем нулевую гипотезу')\n",
    "else:\n",
    "    print('Не получилось отвергнуть нулевую гипотезу')"
   ]
  },
  {
   "cell_type": "markdown",
   "id": "efcc8822",
   "metadata": {},
   "source": [
    "Следовательно у нас недостаточно оснований полагать, что пользователи с подпиской проезжают расстояние больше оптимального."
   ]
  },
  {
   "cell_type": "markdown",
   "id": "81453b5c",
   "metadata": {},
   "source": [
    "##### Проверим, будет ли помесячная выручка от пользователей с подпиской по месяцам выше, чем выручка от пользователей без подписки"
   ]
  },
  {
   "cell_type": "code",
   "execution_count": 44,
   "id": "05c24282",
   "metadata": {},
   "outputs": [
    {
     "data": {
      "text/html": [
       "<div>\n",
       "<style scoped>\n",
       "    .dataframe tbody tr th:only-of-type {\n",
       "        vertical-align: middle;\n",
       "    }\n",
       "\n",
       "    .dataframe tbody tr th {\n",
       "        vertical-align: top;\n",
       "    }\n",
       "\n",
       "    .dataframe thead th {\n",
       "        text-align: right;\n",
       "    }\n",
       "</style>\n",
       "<table border=\"1\" class=\"dataframe\">\n",
       "  <thead>\n",
       "    <tr style=\"text-align: right;\">\n",
       "      <th></th>\n",
       "      <th></th>\n",
       "      <th></th>\n",
       "      <th>count</th>\n",
       "      <th>distance_sum</th>\n",
       "      <th>duration_sum</th>\n",
       "      <th>minute_price</th>\n",
       "      <th>start_ride_price</th>\n",
       "      <th>subscription_free</th>\n",
       "      <th>revenue</th>\n",
       "    </tr>\n",
       "    <tr>\n",
       "      <th>user_id</th>\n",
       "      <th>month</th>\n",
       "      <th>subscription_type</th>\n",
       "      <th></th>\n",
       "      <th></th>\n",
       "      <th></th>\n",
       "      <th></th>\n",
       "      <th></th>\n",
       "      <th></th>\n",
       "      <th></th>\n",
       "    </tr>\n",
       "  </thead>\n",
       "  <tbody>\n",
       "    <tr>\n",
       "      <th rowspan=\"5\" valign=\"top\">700</th>\n",
       "      <th>1</th>\n",
       "      <th>free</th>\n",
       "      <td>1</td>\n",
       "      <td>2516.0</td>\n",
       "      <td>15.0</td>\n",
       "      <td>8.0</td>\n",
       "      <td>50.0</td>\n",
       "      <td>0.0</td>\n",
       "      <td>170.0</td>\n",
       "    </tr>\n",
       "    <tr>\n",
       "      <th>2</th>\n",
       "      <th>free</th>\n",
       "      <td>5</td>\n",
       "      <td>13446.0</td>\n",
       "      <td>86.0</td>\n",
       "      <td>8.0</td>\n",
       "      <td>50.0</td>\n",
       "      <td>0.0</td>\n",
       "      <td>938.0</td>\n",
       "    </tr>\n",
       "    <tr>\n",
       "      <th>3</th>\n",
       "      <th>free</th>\n",
       "      <td>1</td>\n",
       "      <td>3798.0</td>\n",
       "      <td>19.0</td>\n",
       "      <td>8.0</td>\n",
       "      <td>50.0</td>\n",
       "      <td>0.0</td>\n",
       "      <td>202.0</td>\n",
       "    </tr>\n",
       "    <tr>\n",
       "      <th>4</th>\n",
       "      <th>free</th>\n",
       "      <td>1</td>\n",
       "      <td>2985.0</td>\n",
       "      <td>16.0</td>\n",
       "      <td>8.0</td>\n",
       "      <td>50.0</td>\n",
       "      <td>0.0</td>\n",
       "      <td>178.0</td>\n",
       "    </tr>\n",
       "    <tr>\n",
       "      <th>6</th>\n",
       "      <th>free</th>\n",
       "      <td>2</td>\n",
       "      <td>5928.0</td>\n",
       "      <td>29.0</td>\n",
       "      <td>8.0</td>\n",
       "      <td>50.0</td>\n",
       "      <td>0.0</td>\n",
       "      <td>332.0</td>\n",
       "    </tr>\n",
       "  </tbody>\n",
       "</table>\n",
       "</div>"
      ],
      "text/plain": [
       "                                 count  distance_sum  duration_sum  \\\n",
       "user_id month subscription_type                                      \n",
       "700     1     free                   1        2516.0          15.0   \n",
       "        2     free                   5       13446.0          86.0   \n",
       "        3     free                   1        3798.0          19.0   \n",
       "        4     free                   1        2985.0          16.0   \n",
       "        6     free                   2        5928.0          29.0   \n",
       "\n",
       "                                 minute_price  start_ride_price  \\\n",
       "user_id month subscription_type                                   \n",
       "700     1     free                        8.0              50.0   \n",
       "        2     free                        8.0              50.0   \n",
       "        3     free                        8.0              50.0   \n",
       "        4     free                        8.0              50.0   \n",
       "        6     free                        8.0              50.0   \n",
       "\n",
       "                                 subscription_free  revenue  \n",
       "user_id month subscription_type                              \n",
       "700     1     free                             0.0    170.0  \n",
       "        2     free                             0.0    938.0  \n",
       "        3     free                             0.0    202.0  \n",
       "        4     free                             0.0    178.0  \n",
       "        6     free                             0.0    332.0  "
      ]
     },
     "execution_count": 44,
     "metadata": {},
     "output_type": "execute_result"
    }
   ],
   "source": [
    "revenue_data_free = revenue_data[revenue_data['subscription_free']==0]\n",
    "revenue_data_free.head()"
   ]
  },
  {
   "cell_type": "code",
   "execution_count": 45,
   "id": "9cb99393",
   "metadata": {
    "scrolled": true
   },
   "outputs": [
    {
     "data": {
      "text/html": [
       "<div>\n",
       "<style scoped>\n",
       "    .dataframe tbody tr th:only-of-type {\n",
       "        vertical-align: middle;\n",
       "    }\n",
       "\n",
       "    .dataframe tbody tr th {\n",
       "        vertical-align: top;\n",
       "    }\n",
       "\n",
       "    .dataframe thead th {\n",
       "        text-align: right;\n",
       "    }\n",
       "</style>\n",
       "<table border=\"1\" class=\"dataframe\">\n",
       "  <thead>\n",
       "    <tr style=\"text-align: right;\">\n",
       "      <th></th>\n",
       "      <th></th>\n",
       "      <th></th>\n",
       "      <th>count</th>\n",
       "      <th>distance_sum</th>\n",
       "      <th>duration_sum</th>\n",
       "      <th>minute_price</th>\n",
       "      <th>start_ride_price</th>\n",
       "      <th>subscription_free</th>\n",
       "      <th>revenue</th>\n",
       "    </tr>\n",
       "    <tr>\n",
       "      <th>user_id</th>\n",
       "      <th>month</th>\n",
       "      <th>subscription_type</th>\n",
       "      <th></th>\n",
       "      <th></th>\n",
       "      <th></th>\n",
       "      <th></th>\n",
       "      <th></th>\n",
       "      <th></th>\n",
       "      <th></th>\n",
       "    </tr>\n",
       "  </thead>\n",
       "  <tbody>\n",
       "    <tr>\n",
       "      <th rowspan=\"5\" valign=\"top\">1</th>\n",
       "      <th>1</th>\n",
       "      <th>ultra</th>\n",
       "      <td>2</td>\n",
       "      <td>7028.0</td>\n",
       "      <td>42.0</td>\n",
       "      <td>6.0</td>\n",
       "      <td>0.0</td>\n",
       "      <td>199.0</td>\n",
       "      <td>451.0</td>\n",
       "    </tr>\n",
       "    <tr>\n",
       "      <th>4</th>\n",
       "      <th>ultra</th>\n",
       "      <td>1</td>\n",
       "      <td>754.0</td>\n",
       "      <td>7.0</td>\n",
       "      <td>6.0</td>\n",
       "      <td>0.0</td>\n",
       "      <td>199.0</td>\n",
       "      <td>241.0</td>\n",
       "    </tr>\n",
       "    <tr>\n",
       "      <th>8</th>\n",
       "      <th>ultra</th>\n",
       "      <td>2</td>\n",
       "      <td>6724.0</td>\n",
       "      <td>45.0</td>\n",
       "      <td>6.0</td>\n",
       "      <td>0.0</td>\n",
       "      <td>199.0</td>\n",
       "      <td>469.0</td>\n",
       "    </tr>\n",
       "    <tr>\n",
       "      <th>10</th>\n",
       "      <th>ultra</th>\n",
       "      <td>2</td>\n",
       "      <td>5810.0</td>\n",
       "      <td>32.0</td>\n",
       "      <td>6.0</td>\n",
       "      <td>0.0</td>\n",
       "      <td>199.0</td>\n",
       "      <td>391.0</td>\n",
       "    </tr>\n",
       "    <tr>\n",
       "      <th>11</th>\n",
       "      <th>ultra</th>\n",
       "      <td>3</td>\n",
       "      <td>7004.0</td>\n",
       "      <td>54.0</td>\n",
       "      <td>6.0</td>\n",
       "      <td>0.0</td>\n",
       "      <td>199.0</td>\n",
       "      <td>523.0</td>\n",
       "    </tr>\n",
       "  </tbody>\n",
       "</table>\n",
       "</div>"
      ],
      "text/plain": [
       "                                 count  distance_sum  duration_sum  \\\n",
       "user_id month subscription_type                                      \n",
       "1       1     ultra                  2        7028.0          42.0   \n",
       "        4     ultra                  1         754.0           7.0   \n",
       "        8     ultra                  2        6724.0          45.0   \n",
       "        10    ultra                  2        5810.0          32.0   \n",
       "        11    ultra                  3        7004.0          54.0   \n",
       "\n",
       "                                 minute_price  start_ride_price  \\\n",
       "user_id month subscription_type                                   \n",
       "1       1     ultra                       6.0               0.0   \n",
       "        4     ultra                       6.0               0.0   \n",
       "        8     ultra                       6.0               0.0   \n",
       "        10    ultra                       6.0               0.0   \n",
       "        11    ultra                       6.0               0.0   \n",
       "\n",
       "                                 subscription_free  revenue  \n",
       "user_id month subscription_type                              \n",
       "1       1     ultra                          199.0    451.0  \n",
       "        4     ultra                          199.0    241.0  \n",
       "        8     ultra                          199.0    469.0  \n",
       "        10    ultra                          199.0    391.0  \n",
       "        11    ultra                          199.0    523.0  "
      ]
     },
     "execution_count": 45,
     "metadata": {},
     "output_type": "execute_result"
    }
   ],
   "source": [
    "revenue_data_ultra = revenue_data[revenue_data['subscription_free']==199]\n",
    "revenue_data_ultra.head()"
   ]
  },
  {
   "cell_type": "markdown",
   "id": "520189ee",
   "metadata": {},
   "source": [
    "H0: Помесячная выручка от пользователей с подпиской равна выручке от пользователей без подписки.\n",
    "\n",
    "H1: Помесячная выручка от пользователей с подпиской больше выручки от пользователей без подписки."
   ]
  },
  {
   "cell_type": "code",
   "execution_count": 46,
   "id": "2df174b7",
   "metadata": {
    "scrolled": true
   },
   "outputs": [
    {
     "name": "stdout",
     "output_type": "stream",
     "text": [
      "P-значение: 1.2804098316645618e-34\n",
      "Отвергаем нулевую гипотезу\n"
     ]
    }
   ],
   "source": [
    "alpha = 0.05\n",
    "revenue_user_free = revenue_data_free['revenue']\n",
    "revenue_user_ultra = revenue_data_ultra['revenue']\n",
    "results = st.ttest_ind(duration_user_ultra, duration_user_free, alternative='greater')\n",
    "print('P-значение:', results.pvalue)\n",
    "if results.pvalue < alpha:\n",
    "    print('Отвергаем нулевую гипотезу')\n",
    "else:\n",
    "    print('Не получилось отвергнуть нулевую гипотезу')"
   ]
  },
  {
   "cell_type": "markdown",
   "id": "9193fb37",
   "metadata": {},
   "source": [
    "У нас достаточно оснований полагать, что помесячная выручка от пользователей с подпиской больше выручки от пользователей без подписки."
   ]
  },
  {
   "cell_type": "markdown",
   "id": "5d34a53e",
   "metadata": {},
   "source": [
    "**Вывод:** Я проверила гипотезы и сделала следующие выводы:\n",
    "- У нас есть достаточно оснований утверждать, что среднее время у пользователей с подпиской больше, чем у пользователей без подписки и, что помесячная выручка от пользователей с подпиской больше выручки от пользователей без подписки;\n",
    "- Недостаточно оснований полагать, что пользователи с подпиской проезжают расстояние больше оптимального;\n",
    "\n",
    "На основе доступных мне данных у меня достаточно оснований полагать, что пользователи с подпиской выгоднее для компании, так как приносят больше прибыли."
   ]
  },
  {
   "cell_type": "markdown",
   "id": "61213c5e",
   "metadata": {},
   "source": [
    "## Распределения"
   ]
  },
  {
   "cell_type": "markdown",
   "id": "814b5359",
   "metadata": {},
   "source": [
    "### Выясним, какое минимальное количество промокодов нужно разослать,чтобы вероятность не выполнить план была примерно 5%"
   ]
  },
  {
   "cell_type": "code",
   "execution_count": 47,
   "id": "65c217b8",
   "metadata": {},
   "outputs": [
    {
     "name": "stdout",
     "output_type": "stream",
     "text": [
      "Минимальное количество промокодов, которые нужно разослать,чтобы вероятность не выполнить план была примерно 5%: 1161\n"
     ]
    },
    {
     "data": {
      "image/png": "[encoded data removed]",
      "text/plain": [
       "<Figure size 1000x600 with 1 Axes>"
      ]
     },
     "metadata": {},
     "output_type": "display_data"
    }
   ],
   "source": [
    "n = 100\n",
    "p = 0.1\n",
    "k = 99\n",
    "alpha = 0.05\n",
    "while st.binom.cdf(k, n, p) > alpha:\n",
    "    n+=1\n",
    "print('Минимальное количество промокодов, которые нужно разослать,чтобы вероятность не выполнить план была примерно 5%:', n)\n",
    "\n",
    "binom = np.random.binomial(n, p, k)\n",
    "\n",
    "plt.figure(figsize=(10, 6))\n",
    "plt.grid(True)\n",
    "plt.hist(binom, bins=50)\n",
    "plt.xlabel('Количество успешных попыток')\n",
    "plt.ylabel('Частота')\n",
    "plt.title('График распределения')\n",
    "plt.show()"
   ]
  },
  {
   "cell_type": "markdown",
   "id": "2702ce4b",
   "metadata": {},
   "source": [
    "### Вероятность открытия push-уведомлений"
   ]
  },
  {
   "cell_type": "code",
   "execution_count": 48,
   "id": "abbf379a",
   "metadata": {},
   "outputs": [
    {
     "name": "stdout",
     "output_type": "stream",
     "text": [
      "0.15371708296369768\n"
     ]
    }
   ],
   "source": [
    "n = 1000000\n",
    "p = 0.4\n",
    "k=399500\n",
    "\n",
    "mu = n*p\n",
    "sigma = sqrt(n*p*(1-p))\n",
    "\n",
    "distr = st.norm(mu, sigma)\n",
    "\n",
    "result = distr.cdf(k)\n",
    "print(result)"
   ]
  },
  {
   "cell_type": "markdown",
   "id": "2a721ba2",
   "metadata": {},
   "source": [
    "Вероятность того, что уведомление откроют не более 399,5 тысяч пользователей составляет 15%"
   ]
  },
  {
   "cell_type": "code",
   "execution_count": 49,
   "id": "aba42c79",
   "metadata": {},
   "outputs": [
    {
     "data": {
      "image/png": "[encoded data removed]",
      "text/plain": [
       "<Figure size 1000x600 with 1 Axes>"
      ]
     },
     "metadata": {},
     "output_type": "display_data"
    }
   ],
   "source": [
    "binom = np.random.binomial(n, p, k)\n",
    "\n",
    "plt.figure(figsize=(10, 6))\n",
    "plt.grid(True)\n",
    "plt.hist(binom, bins=50)\n",
    "plt.xlabel('Количество успешных попыток')\n",
    "plt.ylabel('Частота')\n",
    "plt.title('График распределения')\n",
    "plt.show()"
   ]
  },
  {
   "cell_type": "markdown",
   "id": "88d7740b",
   "metadata": {},
   "source": [
    "# Вывод\n",
    "В данном проекте я выполнила следующие шаги:\n",
    "* **Выполнила предобработку данных.** \n",
    "    * Привела столбцы к правильному типу данных;\n",
    "    * Добавила в датасет новые столбцы, которые мне понадобились для последующего анализа данных;\n",
    "    * Удалила явные дубликаты;\n",
    "    * Пропусков в данных нет, их обрабатывать не пришлось\n",
    "* **Провела исследовательский анализ данных и сделала следующие выводы**\n",
    "    * Больше всего пользователей в датафрейме из Пятигорска, на втором и третьем местах Екатеринбург и Ростов-на-Дону, последнее место занимает Москва;\n",
    "    * 54,4% пользователей пользуются самокатами без подписки, а 45,6% с подпиской;\n",
    "    * Возраст большинства пользователей от 20 до 30 лет. Есть несколько совсем молодых пользователей в возрасте 7 лет, а также в возрасте 43 лет. Это максимальный возраст;\n",
    "    * Cреднее расстояние, которое проехало большинство пользователей составляет 3 километра, максимамальное - 7 км, минимальное - меньше метра, возможно в этих случаях пользователи передумали бронировать самокат. Так есть небольшой скачок на пятистах метрах. Большинство поездок (75%) все же составляют до 3,7 км;\n",
    "    * В основном длительность поездок находится в диапазоне от 13 до 21 минуты. Есть очень длинные поездки, например, самое длинное время бронирования 40 минут, но таких мало. А также очень короткие: меньше минуты. Возможно пользователь передумал бронировать самокат\n",
    "* **Объединина данные в один датафрейм**\n",
    "* **Сравнила расстояние и время поездки для разных категорий (с подпиской и без)**)\n",
    "* **Подсчитала помесячную выручку для клиентов разных категрий (с подпиской и без)**\n",
    "* **Проверила гипотезы и сделала следующие выводы:**\n",
    "    * У нас есть достаточно оснований утверждать, что среднее время у пользователей с подпиской больше, чем у пользователей без подписки и, что помесячная выручка от пользователей с подпиской больше выручки от пользователей без подписки;\n",
    "    * Недостаточно оснований полагать, что пользователи с подпиской проезжают расстояние больше оптимального;\n",
    "\n",
    "На основе доступных мне данных у меня достаточно оснований полагать, что пользователи с подпиской выгоднее для компании, так как приносят больше прибыли.\n",
    "    \n",
    "Выяснила, что минимальное количество промокодов, которые нужно разослать,чтобы вероятность не выполнить план была примерно 5% - 1161, а также, что вероятность того, что уведомление откроют не более 399,5 тысяч пользователей из миллиона составляет 15% \n",
    "   \n",
    "   На основе проделанной работы могу сказать, что компании необходимо привлекать больше пользователей с подпиской, так как они приносят больше прибыли."
   ]
  },
  {
   "cell_type": "code",
   "execution_count": null,
   "id": "d200d2a8-0d87-47ee-9600-8e0b5b9d92c5",
   "metadata": {},
   "outputs": [],
   "source": []
  }
 ],
 "metadata": {
  "ExecuteTimeLog": [
   {
    "duration": 46,
    "start_time": "2024-07-26T09:10:29.920Z"
   },
   {
    "duration": 405,
    "start_time": "2024-07-26T09:10:38.092Z"
   },
   {
    "duration": 118,
    "start_time": "2024-07-26T09:10:39.683Z"
   },
   {
    "duration": 204,
    "start_time": "2024-07-26T09:11:10.917Z"
   },
   {
    "duration": 52,
    "start_time": "2024-07-26T12:14:16.261Z"
   },
   {
    "duration": 98,
    "start_time": "2024-07-26T12:15:19.085Z"
   },
   {
    "duration": 15,
    "start_time": "2024-07-26T12:16:29.932Z"
   },
   {
    "duration": 7,
    "start_time": "2024-07-26T12:17:06.968Z"
   },
   {
    "duration": 8,
    "start_time": "2024-07-26T12:17:20.548Z"
   },
   {
    "duration": 13,
    "start_time": "2024-07-26T12:19:03.232Z"
   },
   {
    "duration": 11,
    "start_time": "2024-07-26T12:25:22.408Z"
   },
   {
    "duration": 11,
    "start_time": "2024-07-26T12:25:41.165Z"
   },
   {
    "duration": 9,
    "start_time": "2024-07-26T12:26:12.248Z"
   },
   {
    "duration": 370,
    "start_time": "2024-07-26T12:26:19.133Z"
   },
   {
    "duration": 34,
    "start_time": "2024-07-26T12:26:19.506Z"
   },
   {
    "duration": 30,
    "start_time": "2024-07-26T12:26:19.542Z"
   },
   {
    "duration": 17,
    "start_time": "2024-07-26T12:26:19.574Z"
   },
   {
    "duration": 19,
    "start_time": "2024-07-26T12:26:19.592Z"
   },
   {
    "duration": 15,
    "start_time": "2024-07-26T12:26:19.613Z"
   },
   {
    "duration": 18,
    "start_time": "2024-07-26T12:26:19.629Z"
   },
   {
    "duration": 9,
    "start_time": "2024-07-26T12:27:35.708Z"
   },
   {
    "duration": 9,
    "start_time": "2024-07-26T12:28:49.649Z"
   },
   {
    "duration": 10,
    "start_time": "2024-07-26T12:34:03.798Z"
   },
   {
    "duration": 13,
    "start_time": "2024-07-26T12:34:31.921Z"
   },
   {
    "duration": 1106,
    "start_time": "2024-07-26T12:43:55.418Z"
   },
   {
    "duration": 7,
    "start_time": "2024-07-26T12:44:49.534Z"
   },
   {
    "duration": 8,
    "start_time": "2024-07-26T12:45:00.666Z"
   },
   {
    "duration": 10,
    "start_time": "2024-07-26T12:45:10.729Z"
   },
   {
    "duration": 5,
    "start_time": "2024-07-26T12:47:42.998Z"
   },
   {
    "duration": 11,
    "start_time": "2024-07-26T12:47:52.473Z"
   },
   {
    "duration": 45,
    "start_time": "2024-07-26T12:49:47.138Z"
   },
   {
    "duration": 5,
    "start_time": "2024-07-26T12:50:38.142Z"
   },
   {
    "duration": 6,
    "start_time": "2024-07-26T12:52:00.965Z"
   },
   {
    "duration": 63,
    "start_time": "2024-07-26T12:52:11.042Z"
   },
   {
    "duration": 6,
    "start_time": "2024-07-26T12:52:34.802Z"
   },
   {
    "duration": 9,
    "start_time": "2024-07-26T12:54:49.517Z"
   },
   {
    "duration": 11,
    "start_time": "2024-07-26T12:55:01.758Z"
   },
   {
    "duration": 13,
    "start_time": "2024-07-26T12:57:58.206Z"
   },
   {
    "duration": 7,
    "start_time": "2024-07-26T12:58:04.457Z"
   },
   {
    "duration": 4,
    "start_time": "2024-07-26T12:58:16.750Z"
   },
   {
    "duration": 9,
    "start_time": "2024-07-26T12:58:30.937Z"
   },
   {
    "duration": 5,
    "start_time": "2024-07-26T12:58:52.575Z"
   },
   {
    "duration": 11,
    "start_time": "2024-07-26T13:00:14.203Z"
   },
   {
    "duration": 7,
    "start_time": "2024-07-26T13:00:25.602Z"
   },
   {
    "duration": 5,
    "start_time": "2024-07-26T13:00:29.374Z"
   },
   {
    "duration": 5,
    "start_time": "2024-07-26T13:01:54.122Z"
   },
   {
    "duration": 8,
    "start_time": "2024-07-26T13:02:11.113Z"
   },
   {
    "duration": 65,
    "start_time": "2024-07-26T13:03:28.150Z"
   },
   {
    "duration": 441,
    "start_time": "2024-07-29T08:05:20.475Z"
   },
   {
    "duration": 108,
    "start_time": "2024-07-29T08:05:20.918Z"
   },
   {
    "duration": 178,
    "start_time": "2024-07-29T08:05:21.027Z"
   },
   {
    "duration": 72,
    "start_time": "2024-07-29T08:05:21.207Z"
   },
   {
    "duration": 15,
    "start_time": "2024-07-29T08:05:21.281Z"
   },
   {
    "duration": 25,
    "start_time": "2024-07-29T08:05:21.298Z"
   },
   {
    "duration": 37,
    "start_time": "2024-07-29T08:05:21.324Z"
   },
   {
    "duration": 22,
    "start_time": "2024-07-29T08:05:21.363Z"
   },
   {
    "duration": 14,
    "start_time": "2024-07-29T08:05:21.387Z"
   },
   {
    "duration": 23,
    "start_time": "2024-07-29T08:05:21.404Z"
   },
   {
    "duration": 21,
    "start_time": "2024-07-29T08:05:21.429Z"
   },
   {
    "duration": 6,
    "start_time": "2024-07-29T08:05:21.451Z"
   },
   {
    "duration": 11,
    "start_time": "2024-07-29T08:05:21.459Z"
   },
   {
    "duration": 27,
    "start_time": "2024-07-29T08:05:21.471Z"
   },
   {
    "duration": 7,
    "start_time": "2024-07-29T08:05:21.500Z"
   },
   {
    "duration": 17,
    "start_time": "2024-07-29T08:05:21.509Z"
   },
   {
    "duration": 17,
    "start_time": "2024-07-29T08:05:21.527Z"
   },
   {
    "duration": 36,
    "start_time": "2024-07-29T08:05:21.546Z"
   },
   {
    "duration": 23,
    "start_time": "2024-07-29T08:05:21.584Z"
   },
   {
    "duration": 23,
    "start_time": "2024-07-29T08:05:21.609Z"
   },
   {
    "duration": 604,
    "start_time": "2024-07-29T08:05:21.634Z"
   },
   {
    "duration": 3,
    "start_time": "2024-07-29T08:06:51.588Z"
   },
   {
    "duration": 190,
    "start_time": "2024-07-29T08:07:39.715Z"
   },
   {
    "duration": 7,
    "start_time": "2024-07-29T08:09:36.955Z"
   },
   {
    "duration": 143,
    "start_time": "2024-07-29T08:16:16.099Z"
   },
   {
    "duration": 664,
    "start_time": "2024-07-29T08:19:50.678Z"
   },
   {
    "duration": 30,
    "start_time": "2024-07-29T08:19:51.344Z"
   },
   {
    "duration": 30,
    "start_time": "2024-07-29T08:19:51.375Z"
   },
   {
    "duration": 15,
    "start_time": "2024-07-29T08:19:51.407Z"
   },
   {
    "duration": 13,
    "start_time": "2024-07-29T08:19:51.424Z"
   },
   {
    "duration": 16,
    "start_time": "2024-07-29T08:19:51.439Z"
   },
   {
    "duration": 32,
    "start_time": "2024-07-29T08:19:51.457Z"
   },
   {
    "duration": 41,
    "start_time": "2024-07-29T08:19:51.491Z"
   },
   {
    "duration": 9,
    "start_time": "2024-07-29T08:19:51.534Z"
   },
   {
    "duration": 27,
    "start_time": "2024-07-29T08:19:51.546Z"
   },
   {
    "duration": 11,
    "start_time": "2024-07-29T08:19:51.574Z"
   },
   {
    "duration": 26,
    "start_time": "2024-07-29T08:19:51.586Z"
   },
   {
    "duration": 17,
    "start_time": "2024-07-29T08:19:51.613Z"
   },
   {
    "duration": 10,
    "start_time": "2024-07-29T08:19:51.632Z"
   },
   {
    "duration": 28,
    "start_time": "2024-07-29T08:19:51.643Z"
   },
   {
    "duration": 14,
    "start_time": "2024-07-29T08:19:51.673Z"
   },
   {
    "duration": 123,
    "start_time": "2024-07-29T08:19:51.688Z"
   },
   {
    "duration": 26,
    "start_time": "2024-07-29T08:19:51.812Z"
   },
   {
    "duration": 10,
    "start_time": "2024-07-29T08:19:51.840Z"
   },
   {
    "duration": 21,
    "start_time": "2024-07-29T08:19:51.852Z"
   },
   {
    "duration": 22516,
    "start_time": "2024-07-29T08:19:51.874Z"
   },
   {
    "duration": 128,
    "start_time": "2024-07-29T08:22:23.428Z"
   },
   {
    "duration": 13,
    "start_time": "2024-07-29T08:24:22.611Z"
   },
   {
    "duration": 9,
    "start_time": "2024-07-29T08:24:31.463Z"
   },
   {
    "duration": 11,
    "start_time": "2024-07-29T08:24:45.815Z"
   },
   {
    "duration": 5,
    "start_time": "2024-07-29T08:25:07.258Z"
   },
   {
    "duration": 5,
    "start_time": "2024-07-29T08:26:04.758Z"
   },
   {
    "duration": 80,
    "start_time": "2024-07-29T08:27:38.518Z"
   },
   {
    "duration": 22455,
    "start_time": "2024-07-29T08:28:06.618Z"
   },
   {
    "duration": 11,
    "start_time": "2024-07-29T08:38:57.011Z"
   },
   {
    "duration": 9,
    "start_time": "2024-07-29T08:39:23.243Z"
   },
   {
    "duration": 618,
    "start_time": "2024-07-29T08:39:31.238Z"
   },
   {
    "duration": 31,
    "start_time": "2024-07-29T08:39:31.858Z"
   },
   {
    "duration": 30,
    "start_time": "2024-07-29T08:39:31.890Z"
   },
   {
    "duration": 16,
    "start_time": "2024-07-29T08:39:31.922Z"
   },
   {
    "duration": 44,
    "start_time": "2024-07-29T08:39:31.940Z"
   },
   {
    "duration": 12,
    "start_time": "2024-07-29T08:39:31.985Z"
   },
   {
    "duration": 27,
    "start_time": "2024-07-29T08:39:31.999Z"
   },
   {
    "duration": 50,
    "start_time": "2024-07-29T08:39:32.028Z"
   },
   {
    "duration": 8,
    "start_time": "2024-07-29T08:39:32.080Z"
   },
   {
    "duration": 17,
    "start_time": "2024-07-29T08:39:32.090Z"
   },
   {
    "duration": 8,
    "start_time": "2024-07-29T08:39:32.109Z"
   },
   {
    "duration": 5,
    "start_time": "2024-07-29T08:39:32.118Z"
   },
   {
    "duration": 9,
    "start_time": "2024-07-29T08:39:32.124Z"
   },
   {
    "duration": 11,
    "start_time": "2024-07-29T08:39:32.135Z"
   },
   {
    "duration": 8,
    "start_time": "2024-07-29T08:39:32.147Z"
   },
   {
    "duration": 29,
    "start_time": "2024-07-29T08:39:32.157Z"
   },
   {
    "duration": 16,
    "start_time": "2024-07-29T08:39:32.188Z"
   },
   {
    "duration": 7,
    "start_time": "2024-07-29T08:39:32.205Z"
   },
   {
    "duration": 6,
    "start_time": "2024-07-29T08:39:32.213Z"
   },
   {
    "duration": 8,
    "start_time": "2024-07-29T08:39:32.220Z"
   },
   {
    "duration": 101,
    "start_time": "2024-07-29T08:39:32.229Z"
   },
   {
    "duration": 8,
    "start_time": "2024-07-29T08:40:29.627Z"
   },
   {
    "duration": 7,
    "start_time": "2024-07-29T08:40:37.115Z"
   },
   {
    "duration": 610,
    "start_time": "2024-07-29T08:43:08.039Z"
   },
   {
    "duration": 30,
    "start_time": "2024-07-29T08:43:08.651Z"
   },
   {
    "duration": 29,
    "start_time": "2024-07-29T08:43:08.683Z"
   },
   {
    "duration": 16,
    "start_time": "2024-07-29T08:43:08.714Z"
   },
   {
    "duration": 12,
    "start_time": "2024-07-29T08:43:08.731Z"
   },
   {
    "duration": 18,
    "start_time": "2024-07-29T08:43:08.745Z"
   },
   {
    "duration": 17,
    "start_time": "2024-07-29T08:43:08.765Z"
   },
   {
    "duration": 23,
    "start_time": "2024-07-29T08:43:08.783Z"
   },
   {
    "duration": 7,
    "start_time": "2024-07-29T08:43:08.807Z"
   },
   {
    "duration": 12,
    "start_time": "2024-07-29T08:43:08.816Z"
   },
   {
    "duration": 8,
    "start_time": "2024-07-29T08:43:08.829Z"
   },
   {
    "duration": 7,
    "start_time": "2024-07-29T08:43:08.839Z"
   },
   {
    "duration": 8,
    "start_time": "2024-07-29T08:43:08.848Z"
   },
   {
    "duration": 26,
    "start_time": "2024-07-29T08:43:08.858Z"
   },
   {
    "duration": 6,
    "start_time": "2024-07-29T08:43:08.886Z"
   },
   {
    "duration": 8,
    "start_time": "2024-07-29T08:43:08.893Z"
   },
   {
    "duration": 6,
    "start_time": "2024-07-29T08:43:08.902Z"
   },
   {
    "duration": 9,
    "start_time": "2024-07-29T08:43:08.909Z"
   },
   {
    "duration": 28,
    "start_time": "2024-07-29T08:43:08.919Z"
   },
   {
    "duration": 14,
    "start_time": "2024-07-29T08:43:08.949Z"
   },
   {
    "duration": 14,
    "start_time": "2024-07-29T08:44:07.346Z"
   },
   {
    "duration": 198,
    "start_time": "2024-07-29T08:44:39.303Z"
   },
   {
    "duration": 204,
    "start_time": "2024-07-29T08:46:34.519Z"
   },
   {
    "duration": 204,
    "start_time": "2024-07-29T08:49:02.118Z"
   },
   {
    "duration": 3,
    "start_time": "2024-07-29T08:50:48.606Z"
   },
   {
    "duration": 343,
    "start_time": "2024-07-29T08:56:35.197Z"
   },
   {
    "duration": 136,
    "start_time": "2024-07-29T08:57:37.115Z"
   },
   {
    "duration": 204,
    "start_time": "2024-07-29T08:58:21.744Z"
   },
   {
    "duration": 172,
    "start_time": "2024-07-29T09:18:15.282Z"
   },
   {
    "duration": 157,
    "start_time": "2024-07-29T09:19:44.331Z"
   },
   {
    "duration": 141,
    "start_time": "2024-07-29T09:19:55.895Z"
   },
   {
    "duration": 17,
    "start_time": "2024-07-29T09:25:50.732Z"
   },
   {
    "duration": 14,
    "start_time": "2024-07-29T09:25:55.056Z"
   },
   {
    "duration": 141,
    "start_time": "2024-07-29T09:26:11.296Z"
   },
   {
    "duration": 170,
    "start_time": "2024-07-29T09:29:07.103Z"
   },
   {
    "duration": 188,
    "start_time": "2024-07-29T09:29:30.585Z"
   },
   {
    "duration": 154,
    "start_time": "2024-07-29T09:30:06.167Z"
   },
   {
    "duration": 3,
    "start_time": "2024-07-29T09:33:14.635Z"
   },
   {
    "duration": 203,
    "start_time": "2024-07-29T09:34:16.713Z"
   },
   {
    "duration": 195,
    "start_time": "2024-07-29T09:34:26.984Z"
   },
   {
    "duration": 211,
    "start_time": "2024-07-29T09:35:22.284Z"
   },
   {
    "duration": 294,
    "start_time": "2024-07-29T09:40:23.536Z"
   },
   {
    "duration": 8,
    "start_time": "2024-07-29T09:40:40.175Z"
   },
   {
    "duration": 2,
    "start_time": "2024-07-29T09:45:51.460Z"
   },
   {
    "duration": 217,
    "start_time": "2024-07-29T09:46:53.224Z"
   },
   {
    "duration": 10,
    "start_time": "2024-07-29T09:47:10.675Z"
   },
   {
    "duration": 10,
    "start_time": "2024-07-29T10:06:08.595Z"
   },
   {
    "duration": 12,
    "start_time": "2024-07-29T10:06:23.427Z"
   },
   {
    "duration": 9,
    "start_time": "2024-07-29T10:07:49.862Z"
   },
   {
    "duration": 8,
    "start_time": "2024-07-29T10:08:04.743Z"
   },
   {
    "duration": 8,
    "start_time": "2024-07-29T10:08:16.550Z"
   },
   {
    "duration": 10,
    "start_time": "2024-07-29T10:08:37.186Z"
   },
   {
    "duration": 15,
    "start_time": "2024-07-29T10:08:46.803Z"
   },
   {
    "duration": 9,
    "start_time": "2024-07-29T10:38:32.707Z"
   },
   {
    "duration": 12,
    "start_time": "2024-07-29T10:38:42.955Z"
   },
   {
    "duration": 13,
    "start_time": "2024-07-29T10:38:52.991Z"
   },
   {
    "duration": 7,
    "start_time": "2024-07-29T10:39:13.479Z"
   },
   {
    "duration": 16,
    "start_time": "2024-07-29T10:39:23.795Z"
   },
   {
    "duration": 6,
    "start_time": "2024-07-29T10:39:49.935Z"
   },
   {
    "duration": 54,
    "start_time": "2024-07-29T10:39:50.395Z"
   },
   {
    "duration": 8,
    "start_time": "2024-07-29T10:39:54.123Z"
   },
   {
    "duration": 222,
    "start_time": "2024-07-29T10:46:35.587Z"
   },
   {
    "duration": 149,
    "start_time": "2024-07-29T10:47:54.239Z"
   },
   {
    "duration": 145,
    "start_time": "2024-07-29T10:48:05.227Z"
   },
   {
    "duration": 193,
    "start_time": "2024-07-29T10:49:38.775Z"
   },
   {
    "duration": 193,
    "start_time": "2024-07-29T10:51:02.315Z"
   },
   {
    "duration": 178,
    "start_time": "2024-07-29T10:52:46.983Z"
   },
   {
    "duration": 184,
    "start_time": "2024-07-29T10:53:44.483Z"
   },
   {
    "duration": 192,
    "start_time": "2024-07-29T10:54:08.163Z"
   },
   {
    "duration": 172,
    "start_time": "2024-07-29T10:54:43.591Z"
   },
   {
    "duration": 240,
    "start_time": "2024-07-29T10:54:48.336Z"
   },
   {
    "duration": 197,
    "start_time": "2024-07-29T10:55:17.600Z"
   },
   {
    "duration": 160,
    "start_time": "2024-07-29T10:56:42.528Z"
   },
   {
    "duration": 177,
    "start_time": "2024-07-29T10:57:26.855Z"
   },
   {
    "duration": 216,
    "start_time": "2024-07-29T10:57:35.771Z"
   },
   {
    "duration": 198,
    "start_time": "2024-07-29T10:58:41.655Z"
   },
   {
    "duration": 224,
    "start_time": "2024-07-29T10:58:57.088Z"
   },
   {
    "duration": 180,
    "start_time": "2024-07-29T11:03:16.087Z"
   },
   {
    "duration": 665,
    "start_time": "2024-07-29T11:04:26.498Z"
   },
   {
    "duration": 30,
    "start_time": "2024-07-29T11:04:27.165Z"
   },
   {
    "duration": 29,
    "start_time": "2024-07-29T11:04:27.197Z"
   },
   {
    "duration": 15,
    "start_time": "2024-07-29T11:04:27.229Z"
   },
   {
    "duration": 12,
    "start_time": "2024-07-29T11:04:27.246Z"
   },
   {
    "duration": 13,
    "start_time": "2024-07-29T11:04:27.259Z"
   },
   {
    "duration": 10,
    "start_time": "2024-07-29T11:04:27.274Z"
   },
   {
    "duration": 18,
    "start_time": "2024-07-29T11:04:27.286Z"
   },
   {
    "duration": 10,
    "start_time": "2024-07-29T11:04:27.305Z"
   },
   {
    "duration": 13,
    "start_time": "2024-07-29T11:04:27.317Z"
   },
   {
    "duration": 8,
    "start_time": "2024-07-29T11:04:27.332Z"
   },
   {
    "duration": 5,
    "start_time": "2024-07-29T11:04:27.342Z"
   },
   {
    "duration": 9,
    "start_time": "2024-07-29T11:04:27.348Z"
   },
   {
    "duration": 32,
    "start_time": "2024-07-29T11:04:27.359Z"
   },
   {
    "duration": 10,
    "start_time": "2024-07-29T11:04:27.393Z"
   },
   {
    "duration": 28,
    "start_time": "2024-07-29T11:04:27.405Z"
   },
   {
    "duration": 5,
    "start_time": "2024-07-29T11:04:27.435Z"
   },
   {
    "duration": 6,
    "start_time": "2024-07-29T11:04:27.441Z"
   },
   {
    "duration": 9,
    "start_time": "2024-07-29T11:04:27.449Z"
   },
   {
    "duration": 26,
    "start_time": "2024-07-29T11:04:27.460Z"
   },
   {
    "duration": 235,
    "start_time": "2024-07-29T11:04:27.487Z"
   },
   {
    "duration": 180,
    "start_time": "2024-07-29T11:04:27.725Z"
   },
   {
    "duration": 213,
    "start_time": "2024-07-29T11:04:27.906Z"
   },
   {
    "duration": 236,
    "start_time": "2024-07-29T11:04:28.120Z"
   },
   {
    "duration": 9,
    "start_time": "2024-07-29T11:04:28.358Z"
   },
   {
    "duration": 288,
    "start_time": "2024-07-29T11:04:28.369Z"
   },
   {
    "duration": 8,
    "start_time": "2024-07-29T11:04:28.659Z"
   },
   {
    "duration": 24,
    "start_time": "2024-07-29T11:04:28.670Z"
   },
   {
    "duration": 11,
    "start_time": "2024-07-29T11:04:28.696Z"
   },
   {
    "duration": 13,
    "start_time": "2024-07-29T11:04:28.708Z"
   },
   {
    "duration": 7,
    "start_time": "2024-07-29T11:04:28.723Z"
   },
   {
    "duration": 5,
    "start_time": "2024-07-29T11:04:28.731Z"
   },
   {
    "duration": 228,
    "start_time": "2024-07-29T11:04:28.738Z"
   },
   {
    "duration": 212,
    "start_time": "2024-07-29T11:04:38.263Z"
   },
   {
    "duration": 214,
    "start_time": "2024-07-29T11:04:46.118Z"
   },
   {
    "duration": 210,
    "start_time": "2024-07-29T11:06:39.355Z"
   },
   {
    "duration": 710,
    "start_time": "2024-07-29T11:14:54.590Z"
   },
   {
    "duration": 30,
    "start_time": "2024-07-29T11:14:55.302Z"
   },
   {
    "duration": 29,
    "start_time": "2024-07-29T11:14:55.333Z"
   },
   {
    "duration": 16,
    "start_time": "2024-07-29T11:14:55.363Z"
   },
   {
    "duration": 15,
    "start_time": "2024-07-29T11:14:55.380Z"
   },
   {
    "duration": 15,
    "start_time": "2024-07-29T11:14:55.396Z"
   },
   {
    "duration": 16,
    "start_time": "2024-07-29T11:14:55.413Z"
   },
   {
    "duration": 11,
    "start_time": "2024-07-29T11:14:55.431Z"
   },
   {
    "duration": 41,
    "start_time": "2024-07-29T11:14:55.444Z"
   },
   {
    "duration": 13,
    "start_time": "2024-07-29T11:14:55.488Z"
   },
   {
    "duration": 10,
    "start_time": "2024-07-29T11:14:55.503Z"
   },
   {
    "duration": 4,
    "start_time": "2024-07-29T11:14:55.515Z"
   },
   {
    "duration": 12,
    "start_time": "2024-07-29T11:14:55.521Z"
   },
   {
    "duration": 26,
    "start_time": "2024-07-29T11:14:55.535Z"
   },
   {
    "duration": 6,
    "start_time": "2024-07-29T11:14:55.562Z"
   },
   {
    "duration": 9,
    "start_time": "2024-07-29T11:14:55.585Z"
   },
   {
    "duration": 8,
    "start_time": "2024-07-29T11:14:55.596Z"
   },
   {
    "duration": 5,
    "start_time": "2024-07-29T11:14:55.606Z"
   },
   {
    "duration": 6,
    "start_time": "2024-07-29T11:14:55.612Z"
   },
   {
    "duration": 8,
    "start_time": "2024-07-29T11:14:55.619Z"
   },
   {
    "duration": 277,
    "start_time": "2024-07-29T11:14:55.628Z"
   },
   {
    "duration": 169,
    "start_time": "2024-07-29T11:14:55.907Z"
   },
   {
    "duration": 221,
    "start_time": "2024-07-29T11:14:56.077Z"
   },
   {
    "duration": 231,
    "start_time": "2024-07-29T11:14:56.300Z"
   },
   {
    "duration": 8,
    "start_time": "2024-07-29T11:14:56.533Z"
   },
   {
    "duration": 279,
    "start_time": "2024-07-29T11:14:56.542Z"
   },
   {
    "duration": 8,
    "start_time": "2024-07-29T11:14:56.822Z"
   },
   {
    "duration": 8,
    "start_time": "2024-07-29T11:14:56.832Z"
   },
   {
    "duration": 7,
    "start_time": "2024-07-29T11:14:56.842Z"
   },
   {
    "duration": 11,
    "start_time": "2024-07-29T11:14:56.850Z"
   },
   {
    "duration": 9,
    "start_time": "2024-07-29T11:14:56.885Z"
   },
   {
    "duration": 7,
    "start_time": "2024-07-29T11:14:56.896Z"
   },
   {
    "duration": 225,
    "start_time": "2024-07-29T11:14:56.905Z"
   },
   {
    "duration": 213,
    "start_time": "2024-07-29T11:14:57.132Z"
   },
   {
    "duration": 23,
    "start_time": "2024-07-29T11:38:13.071Z"
   },
   {
    "duration": 27,
    "start_time": "2024-07-29T11:38:39.879Z"
   },
   {
    "duration": 603,
    "start_time": "2024-07-29T11:39:44.839Z"
   },
   {
    "duration": 30,
    "start_time": "2024-07-29T11:39:45.445Z"
   },
   {
    "duration": 38,
    "start_time": "2024-07-29T11:39:45.476Z"
   },
   {
    "duration": 16,
    "start_time": "2024-07-29T11:39:45.516Z"
   },
   {
    "duration": 13,
    "start_time": "2024-07-29T11:39:45.534Z"
   },
   {
    "duration": 19,
    "start_time": "2024-07-29T11:39:45.548Z"
   },
   {
    "duration": 22,
    "start_time": "2024-07-29T11:39:45.569Z"
   },
   {
    "duration": 25,
    "start_time": "2024-07-29T11:39:45.592Z"
   },
   {
    "duration": 23,
    "start_time": "2024-07-29T11:39:45.618Z"
   },
   {
    "duration": 12,
    "start_time": "2024-07-29T11:39:45.642Z"
   },
   {
    "duration": 9,
    "start_time": "2024-07-29T11:39:45.656Z"
   },
   {
    "duration": 12,
    "start_time": "2024-07-29T11:39:45.666Z"
   },
   {
    "duration": 11,
    "start_time": "2024-07-29T11:39:45.680Z"
   },
   {
    "duration": 17,
    "start_time": "2024-07-29T11:39:45.694Z"
   },
   {
    "duration": 6,
    "start_time": "2024-07-29T11:39:45.713Z"
   },
   {
    "duration": 8,
    "start_time": "2024-07-29T11:39:45.721Z"
   },
   {
    "duration": 10,
    "start_time": "2024-07-29T11:39:45.730Z"
   },
   {
    "duration": 6,
    "start_time": "2024-07-29T11:39:45.742Z"
   },
   {
    "duration": 21,
    "start_time": "2024-07-29T11:39:45.749Z"
   },
   {
    "duration": 21,
    "start_time": "2024-07-29T11:39:45.771Z"
   },
   {
    "duration": 250,
    "start_time": "2024-07-29T11:39:45.794Z"
   },
   {
    "duration": 176,
    "start_time": "2024-07-29T11:39:46.046Z"
   },
   {
    "duration": 222,
    "start_time": "2024-07-29T11:39:46.223Z"
   },
   {
    "duration": 238,
    "start_time": "2024-07-29T11:39:46.447Z"
   },
   {
    "duration": 11,
    "start_time": "2024-07-29T11:39:46.687Z"
   },
   {
    "duration": 278,
    "start_time": "2024-07-29T11:39:46.700Z"
   },
   {
    "duration": 15,
    "start_time": "2024-07-29T11:39:46.979Z"
   },
   {
    "duration": 10,
    "start_time": "2024-07-29T11:39:46.995Z"
   },
   {
    "duration": 20,
    "start_time": "2024-07-29T11:39:47.006Z"
   },
   {
    "duration": 24,
    "start_time": "2024-07-29T11:39:47.027Z"
   },
   {
    "duration": 20,
    "start_time": "2024-07-29T11:39:47.053Z"
   },
   {
    "duration": 5,
    "start_time": "2024-07-29T11:39:47.074Z"
   },
   {
    "duration": 200,
    "start_time": "2024-07-29T11:39:47.080Z"
   },
   {
    "duration": 204,
    "start_time": "2024-07-29T11:39:47.286Z"
   },
   {
    "duration": 25,
    "start_time": "2024-07-29T11:39:47.493Z"
   },
   {
    "duration": 14,
    "start_time": "2024-07-29T11:40:36.804Z"
   },
   {
    "duration": 21,
    "start_time": "2024-07-29T11:40:42.651Z"
   },
   {
    "duration": 5,
    "start_time": "2024-07-29T11:41:51.996Z"
   },
   {
    "duration": 18,
    "start_time": "2024-07-29T11:41:55.580Z"
   },
   {
    "duration": 791,
    "start_time": "2024-07-30T06:46:02.705Z"
   },
   {
    "duration": 74,
    "start_time": "2024-07-30T06:46:03.498Z"
   },
   {
    "duration": 158,
    "start_time": "2024-07-30T06:46:03.573Z"
   },
   {
    "duration": 65,
    "start_time": "2024-07-30T06:46:03.733Z"
   },
   {
    "duration": 12,
    "start_time": "2024-07-30T06:46:03.800Z"
   },
   {
    "duration": 12,
    "start_time": "2024-07-30T06:46:03.814Z"
   },
   {
    "duration": 13,
    "start_time": "2024-07-30T06:46:03.827Z"
   },
   {
    "duration": 11,
    "start_time": "2024-07-30T06:46:03.842Z"
   },
   {
    "duration": 18,
    "start_time": "2024-07-30T06:46:03.855Z"
   },
   {
    "duration": 9,
    "start_time": "2024-07-30T06:46:03.877Z"
   },
   {
    "duration": 9,
    "start_time": "2024-07-30T06:46:03.888Z"
   },
   {
    "duration": 7,
    "start_time": "2024-07-30T06:46:03.899Z"
   },
   {
    "duration": 13,
    "start_time": "2024-07-30T06:46:03.908Z"
   },
   {
    "duration": 12,
    "start_time": "2024-07-30T06:46:03.923Z"
   },
   {
    "duration": 6,
    "start_time": "2024-07-30T06:46:03.966Z"
   },
   {
    "duration": 15,
    "start_time": "2024-07-30T06:46:03.974Z"
   },
   {
    "duration": 6,
    "start_time": "2024-07-30T06:46:03.992Z"
   },
   {
    "duration": 23,
    "start_time": "2024-07-30T06:46:04.000Z"
   },
   {
    "duration": 10,
    "start_time": "2024-07-30T06:46:04.025Z"
   },
   {
    "duration": 8,
    "start_time": "2024-07-30T06:46:04.036Z"
   },
   {
    "duration": 226,
    "start_time": "2024-07-30T06:46:04.046Z"
   },
   {
    "duration": 162,
    "start_time": "2024-07-30T06:46:04.274Z"
   },
   {
    "duration": 206,
    "start_time": "2024-07-30T06:46:04.438Z"
   },
   {
    "duration": 215,
    "start_time": "2024-07-30T06:46:04.645Z"
   },
   {
    "duration": 9,
    "start_time": "2024-07-30T06:46:04.864Z"
   },
   {
    "duration": 268,
    "start_time": "2024-07-30T06:46:04.874Z"
   },
   {
    "duration": 9,
    "start_time": "2024-07-30T06:46:05.143Z"
   },
   {
    "duration": 10,
    "start_time": "2024-07-30T06:46:05.164Z"
   },
   {
    "duration": 9,
    "start_time": "2024-07-30T06:46:05.176Z"
   },
   {
    "duration": 11,
    "start_time": "2024-07-30T06:46:05.186Z"
   },
   {
    "duration": 9,
    "start_time": "2024-07-30T06:46:05.199Z"
   },
   {
    "duration": 7,
    "start_time": "2024-07-30T06:46:05.210Z"
   },
   {
    "duration": 224,
    "start_time": "2024-07-30T06:46:05.219Z"
   },
   {
    "duration": 212,
    "start_time": "2024-07-30T06:46:05.444Z"
   },
   {
    "duration": 24,
    "start_time": "2024-07-30T06:46:05.657Z"
   },
   {
    "duration": 2,
    "start_time": "2024-07-30T06:46:05.683Z"
   },
   {
    "duration": 5,
    "start_time": "2024-07-30T06:46:05.687Z"
   },
   {
    "duration": 64,
    "start_time": "2024-07-30T06:46:05.693Z"
   },
   {
    "duration": 35,
    "start_time": "2024-07-30T06:54:39.057Z"
   },
   {
    "duration": 31,
    "start_time": "2024-07-30T06:58:52.269Z"
   },
   {
    "duration": 377,
    "start_time": "2024-07-30T07:00:15.069Z"
   },
   {
    "duration": 31,
    "start_time": "2024-07-30T07:00:26.093Z"
   },
   {
    "duration": 269,
    "start_time": "2024-07-30T07:00:48.401Z"
   },
   {
    "duration": 33,
    "start_time": "2024-07-30T07:01:07.241Z"
   },
   {
    "duration": 243,
    "start_time": "2024-07-30T07:05:12.783Z"
   },
   {
    "duration": 646,
    "start_time": "2024-07-30T07:05:40.558Z"
   },
   {
    "duration": 29,
    "start_time": "2024-07-30T07:05:41.206Z"
   },
   {
    "duration": 36,
    "start_time": "2024-07-30T07:05:41.237Z"
   },
   {
    "duration": 15,
    "start_time": "2024-07-30T07:05:41.274Z"
   },
   {
    "duration": 11,
    "start_time": "2024-07-30T07:05:41.291Z"
   },
   {
    "duration": 17,
    "start_time": "2024-07-30T07:05:41.303Z"
   },
   {
    "duration": 16,
    "start_time": "2024-07-30T07:05:41.322Z"
   },
   {
    "duration": 21,
    "start_time": "2024-07-30T07:05:41.340Z"
   },
   {
    "duration": 7,
    "start_time": "2024-07-30T07:05:41.362Z"
   },
   {
    "duration": 10,
    "start_time": "2024-07-30T07:05:41.370Z"
   },
   {
    "duration": 6,
    "start_time": "2024-07-30T07:05:41.381Z"
   },
   {
    "duration": 4,
    "start_time": "2024-07-30T07:05:41.389Z"
   },
   {
    "duration": 15,
    "start_time": "2024-07-30T07:05:41.395Z"
   },
   {
    "duration": 10,
    "start_time": "2024-07-30T07:05:41.413Z"
   },
   {
    "duration": 42,
    "start_time": "2024-07-30T07:05:41.424Z"
   },
   {
    "duration": 6,
    "start_time": "2024-07-30T07:05:41.467Z"
   },
   {
    "duration": 6,
    "start_time": "2024-07-30T07:05:41.475Z"
   },
   {
    "duration": 5,
    "start_time": "2024-07-30T07:05:41.482Z"
   },
   {
    "duration": 5,
    "start_time": "2024-07-30T07:05:41.488Z"
   },
   {
    "duration": 8,
    "start_time": "2024-07-30T07:05:41.494Z"
   },
   {
    "duration": 256,
    "start_time": "2024-07-30T07:05:41.504Z"
   },
   {
    "duration": 161,
    "start_time": "2024-07-30T07:05:41.762Z"
   },
   {
    "duration": 215,
    "start_time": "2024-07-30T07:05:41.925Z"
   },
   {
    "duration": 273,
    "start_time": "2024-07-30T07:05:42.141Z"
   },
   {
    "duration": 10,
    "start_time": "2024-07-30T07:05:42.415Z"
   },
   {
    "duration": 296,
    "start_time": "2024-07-30T07:05:42.426Z"
   },
   {
    "duration": 9,
    "start_time": "2024-07-30T07:05:42.724Z"
   },
   {
    "duration": 10,
    "start_time": "2024-07-30T07:05:42.734Z"
   },
   {
    "duration": 9,
    "start_time": "2024-07-30T07:05:42.765Z"
   },
   {
    "duration": 12,
    "start_time": "2024-07-30T07:05:42.775Z"
   },
   {
    "duration": 20,
    "start_time": "2024-07-30T07:05:42.788Z"
   },
   {
    "duration": 15,
    "start_time": "2024-07-30T07:05:42.809Z"
   },
   {
    "duration": 205,
    "start_time": "2024-07-30T07:05:42.825Z"
   },
   {
    "duration": 220,
    "start_time": "2024-07-30T07:05:43.032Z"
   },
   {
    "duration": 1077,
    "start_time": "2024-07-30T07:05:43.291Z"
   },
   {
    "duration": 0,
    "start_time": "2024-07-30T07:05:44.370Z"
   },
   {
    "duration": 42,
    "start_time": "2024-07-30T07:05:49.719Z"
   },
   {
    "duration": 22,
    "start_time": "2024-07-30T07:10:10.362Z"
   },
   {
    "duration": 26,
    "start_time": "2024-07-30T07:10:24.633Z"
   },
   {
    "duration": 27,
    "start_time": "2024-07-30T07:11:16.029Z"
   },
   {
    "duration": 913,
    "start_time": "2024-07-30T07:11:22.789Z"
   },
   {
    "duration": 4,
    "start_time": "2024-07-30T07:11:39.705Z"
   },
   {
    "duration": 15,
    "start_time": "2024-07-30T07:11:45.456Z"
   },
   {
    "duration": 15,
    "start_time": "2024-07-30T07:15:15.482Z"
   },
   {
    "duration": 126,
    "start_time": "2024-07-30T07:18:09.850Z"
   },
   {
    "duration": 11,
    "start_time": "2024-07-30T07:23:39.870Z"
   },
   {
    "duration": 13,
    "start_time": "2024-07-30T07:25:33.281Z"
   },
   {
    "duration": 271,
    "start_time": "2024-07-30T07:27:25.714Z"
   },
   {
    "duration": 42,
    "start_time": "2024-07-30T07:31:55.785Z"
   },
   {
    "duration": 299,
    "start_time": "2024-07-30T07:32:16.630Z"
   },
   {
    "duration": 28,
    "start_time": "2024-07-30T07:32:29.229Z"
   },
   {
    "duration": 9,
    "start_time": "2024-07-30T07:33:04.685Z"
   },
   {
    "duration": 63,
    "start_time": "2024-07-30T07:33:11.829Z"
   },
   {
    "duration": 79,
    "start_time": "2024-07-30T07:34:49.497Z"
   },
   {
    "duration": 43,
    "start_time": "2024-07-30T07:35:30.173Z"
   },
   {
    "duration": 42,
    "start_time": "2024-07-30T07:35:41.037Z"
   },
   {
    "duration": 44,
    "start_time": "2024-07-30T07:35:44.910Z"
   },
   {
    "duration": 6,
    "start_time": "2024-07-30T07:37:24.501Z"
   },
   {
    "duration": 13,
    "start_time": "2024-07-30T07:37:35.605Z"
   },
   {
    "duration": 3,
    "start_time": "2024-07-30T07:39:45.104Z"
   },
   {
    "duration": 1101,
    "start_time": "2024-07-30T07:42:26.729Z"
   },
   {
    "duration": 28,
    "start_time": "2024-07-30T07:42:27.832Z"
   },
   {
    "duration": 28,
    "start_time": "2024-07-30T07:42:27.861Z"
   },
   {
    "duration": 16,
    "start_time": "2024-07-30T07:42:27.891Z"
   },
   {
    "duration": 32,
    "start_time": "2024-07-30T07:42:27.909Z"
   },
   {
    "duration": 10,
    "start_time": "2024-07-30T07:42:27.943Z"
   },
   {
    "duration": 84,
    "start_time": "2024-07-30T07:42:27.955Z"
   },
   {
    "duration": 33,
    "start_time": "2024-07-30T07:42:28.040Z"
   },
   {
    "duration": 7,
    "start_time": "2024-07-30T07:42:28.075Z"
   },
   {
    "duration": 9,
    "start_time": "2024-07-30T07:42:28.086Z"
   },
   {
    "duration": 9,
    "start_time": "2024-07-30T07:42:28.096Z"
   },
   {
    "duration": 5,
    "start_time": "2024-07-30T07:42:28.107Z"
   },
   {
    "duration": 9,
    "start_time": "2024-07-30T07:42:28.113Z"
   },
   {
    "duration": 49,
    "start_time": "2024-07-30T07:42:28.123Z"
   },
   {
    "duration": 6,
    "start_time": "2024-07-30T07:42:28.174Z"
   },
   {
    "duration": 6,
    "start_time": "2024-07-30T07:42:28.181Z"
   },
   {
    "duration": 5,
    "start_time": "2024-07-30T07:42:28.189Z"
   },
   {
    "duration": 5,
    "start_time": "2024-07-30T07:42:28.195Z"
   },
   {
    "duration": 6,
    "start_time": "2024-07-30T07:42:28.201Z"
   },
   {
    "duration": 8,
    "start_time": "2024-07-30T07:42:28.208Z"
   },
   {
    "duration": 206,
    "start_time": "2024-07-30T07:42:28.264Z"
   },
   {
    "duration": 153,
    "start_time": "2024-07-30T07:42:28.472Z"
   },
   {
    "duration": 193,
    "start_time": "2024-07-30T07:42:28.627Z"
   },
   {
    "duration": 217,
    "start_time": "2024-07-30T07:42:28.822Z"
   },
   {
    "duration": 9,
    "start_time": "2024-07-30T07:42:29.041Z"
   },
   {
    "duration": 231,
    "start_time": "2024-07-30T07:42:29.052Z"
   },
   {
    "duration": 11,
    "start_time": "2024-07-30T07:42:29.284Z"
   },
   {
    "duration": 9,
    "start_time": "2024-07-30T07:42:29.299Z"
   },
   {
    "duration": 10,
    "start_time": "2024-07-30T07:42:29.310Z"
   },
   {
    "duration": 48,
    "start_time": "2024-07-30T07:42:29.322Z"
   },
   {
    "duration": 11,
    "start_time": "2024-07-30T07:42:29.371Z"
   },
   {
    "duration": 5,
    "start_time": "2024-07-30T07:42:29.384Z"
   },
   {
    "duration": 222,
    "start_time": "2024-07-30T07:42:29.391Z"
   },
   {
    "duration": 199,
    "start_time": "2024-07-30T07:42:29.615Z"
   },
   {
    "duration": 56,
    "start_time": "2024-07-30T07:42:29.816Z"
   },
   {
    "duration": 3,
    "start_time": "2024-07-30T07:42:29.874Z"
   },
   {
    "duration": 30,
    "start_time": "2024-07-30T07:42:29.879Z"
   },
   {
    "duration": 120,
    "start_time": "2024-07-30T07:42:29.911Z"
   },
   {
    "duration": 15,
    "start_time": "2024-07-30T07:58:14.666Z"
   },
   {
    "duration": 15,
    "start_time": "2024-07-30T07:58:18.073Z"
   },
   {
    "duration": 97,
    "start_time": "2024-07-30T08:01:22.698Z"
   },
   {
    "duration": 5,
    "start_time": "2024-07-30T08:01:32.885Z"
   },
   {
    "duration": 10,
    "start_time": "2024-07-30T08:10:09.697Z"
   },
   {
    "duration": 6,
    "start_time": "2024-07-30T08:10:22.229Z"
   },
   {
    "duration": 5,
    "start_time": "2024-07-30T08:10:44.654Z"
   },
   {
    "duration": 958,
    "start_time": "2024-07-30T08:14:56.758Z"
   },
   {
    "duration": 15,
    "start_time": "2024-07-30T08:15:06.478Z"
   },
   {
    "duration": 49,
    "start_time": "2024-07-30T08:15:13.214Z"
   },
   {
    "duration": 21,
    "start_time": "2024-07-30T08:15:16.890Z"
   },
   {
    "duration": 12,
    "start_time": "2024-07-30T08:15:54.574Z"
   },
   {
    "duration": 15,
    "start_time": "2024-07-30T08:16:10.934Z"
   },
   {
    "duration": 14,
    "start_time": "2024-07-30T08:16:25.765Z"
   },
   {
    "duration": 12,
    "start_time": "2024-07-30T08:17:06.297Z"
   },
   {
    "duration": 16,
    "start_time": "2024-07-30T08:17:24.997Z"
   },
   {
    "duration": 5,
    "start_time": "2024-07-30T08:17:51.878Z"
   },
   {
    "duration": 19,
    "start_time": "2024-07-30T08:18:05.565Z"
   },
   {
    "duration": 14,
    "start_time": "2024-07-30T08:18:28.970Z"
   },
   {
    "duration": 5,
    "start_time": "2024-07-30T08:20:36.954Z"
   },
   {
    "duration": 85,
    "start_time": "2024-07-30T08:23:03.347Z"
   },
   {
    "duration": 6,
    "start_time": "2024-07-30T08:23:15.390Z"
   },
   {
    "duration": 1098,
    "start_time": "2024-07-30T10:34:38.149Z"
   },
   {
    "duration": 24,
    "start_time": "2024-07-30T10:34:39.249Z"
   },
   {
    "duration": 29,
    "start_time": "2024-07-30T10:34:39.275Z"
   },
   {
    "duration": 14,
    "start_time": "2024-07-30T10:34:39.306Z"
   },
   {
    "duration": 12,
    "start_time": "2024-07-30T10:34:39.322Z"
   },
   {
    "duration": 23,
    "start_time": "2024-07-30T10:34:39.336Z"
   },
   {
    "duration": 20,
    "start_time": "2024-07-30T10:34:39.361Z"
   },
   {
    "duration": 29,
    "start_time": "2024-07-30T10:34:39.382Z"
   },
   {
    "duration": 20,
    "start_time": "2024-07-30T10:34:39.413Z"
   },
   {
    "duration": 24,
    "start_time": "2024-07-30T10:34:39.434Z"
   },
   {
    "duration": 20,
    "start_time": "2024-07-30T10:34:39.460Z"
   },
   {
    "duration": 14,
    "start_time": "2024-07-30T10:34:39.482Z"
   },
   {
    "duration": 14,
    "start_time": "2024-07-30T10:34:39.498Z"
   },
   {
    "duration": 14,
    "start_time": "2024-07-30T10:34:39.515Z"
   },
   {
    "duration": 6,
    "start_time": "2024-07-30T10:34:39.531Z"
   },
   {
    "duration": 21,
    "start_time": "2024-07-30T10:34:39.539Z"
   },
   {
    "duration": 17,
    "start_time": "2024-07-30T10:34:39.561Z"
   },
   {
    "duration": 13,
    "start_time": "2024-07-30T10:34:39.579Z"
   },
   {
    "duration": 22,
    "start_time": "2024-07-30T10:34:39.593Z"
   },
   {
    "duration": 27,
    "start_time": "2024-07-30T10:34:39.616Z"
   },
   {
    "duration": 257,
    "start_time": "2024-07-30T10:34:39.644Z"
   },
   {
    "duration": 167,
    "start_time": "2024-07-30T10:34:39.902Z"
   },
   {
    "duration": 201,
    "start_time": "2024-07-30T10:34:40.071Z"
   },
   {
    "duration": 227,
    "start_time": "2024-07-30T10:34:40.274Z"
   },
   {
    "duration": 9,
    "start_time": "2024-07-30T10:34:40.503Z"
   },
   {
    "duration": 241,
    "start_time": "2024-07-30T10:34:40.513Z"
   },
   {
    "duration": 15,
    "start_time": "2024-07-30T10:34:40.756Z"
   },
   {
    "duration": 20,
    "start_time": "2024-07-30T10:34:40.772Z"
   },
   {
    "duration": 16,
    "start_time": "2024-07-30T10:34:40.793Z"
   },
   {
    "duration": 74,
    "start_time": "2024-07-30T10:34:40.810Z"
   },
   {
    "duration": 31,
    "start_time": "2024-07-30T10:34:40.886Z"
   },
   {
    "duration": 13,
    "start_time": "2024-07-30T10:34:40.919Z"
   },
   {
    "duration": 212,
    "start_time": "2024-07-30T10:34:40.934Z"
   },
   {
    "duration": 209,
    "start_time": "2024-07-30T10:34:41.148Z"
   },
   {
    "duration": 46,
    "start_time": "2024-07-30T10:34:41.364Z"
   },
   {
    "duration": 4,
    "start_time": "2024-07-30T10:34:41.411Z"
   },
   {
    "duration": 23,
    "start_time": "2024-07-30T10:34:41.416Z"
   },
   {
    "duration": 30,
    "start_time": "2024-07-30T10:34:41.440Z"
   },
   {
    "duration": 39,
    "start_time": "2024-07-30T10:34:41.472Z"
   },
   {
    "duration": 21,
    "start_time": "2024-07-30T10:34:41.513Z"
   },
   {
    "duration": 14,
    "start_time": "2024-07-30T10:34:41.537Z"
   },
   {
    "duration": 26,
    "start_time": "2024-07-30T10:34:41.553Z"
   },
   {
    "duration": 72,
    "start_time": "2024-07-30T10:34:41.581Z"
   },
   {
    "duration": 101,
    "start_time": "2024-07-30T10:35:27.804Z"
   },
   {
    "duration": 4,
    "start_time": "2024-07-30T10:35:33.269Z"
   },
   {
    "duration": 6,
    "start_time": "2024-07-30T10:35:38.789Z"
   },
   {
    "duration": 7,
    "start_time": "2024-07-30T10:35:45.737Z"
   },
   {
    "duration": 67,
    "start_time": "2024-07-30T10:53:22.706Z"
   },
   {
    "duration": 64,
    "start_time": "2024-07-30T10:53:54.485Z"
   },
   {
    "duration": 92,
    "start_time": "2024-07-30T10:54:01.125Z"
   },
   {
    "duration": 11,
    "start_time": "2024-07-30T10:54:10.093Z"
   },
   {
    "duration": 10,
    "start_time": "2024-07-30T10:54:18.433Z"
   },
   {
    "duration": 8,
    "start_time": "2024-07-30T10:54:24.745Z"
   },
   {
    "duration": 5,
    "start_time": "2024-07-30T10:54:34.786Z"
   },
   {
    "duration": 4,
    "start_time": "2024-07-30T10:54:56.069Z"
   },
   {
    "duration": 4,
    "start_time": "2024-07-30T10:55:21.901Z"
   },
   {
    "duration": 1148,
    "start_time": "2024-07-30T10:55:33.029Z"
   },
   {
    "duration": 25,
    "start_time": "2024-07-30T10:55:34.179Z"
   },
   {
    "duration": 27,
    "start_time": "2024-07-30T10:55:34.206Z"
   },
   {
    "duration": 13,
    "start_time": "2024-07-30T10:55:34.235Z"
   },
   {
    "duration": 15,
    "start_time": "2024-07-30T10:55:34.249Z"
   },
   {
    "duration": 11,
    "start_time": "2024-07-30T10:55:34.265Z"
   },
   {
    "duration": 29,
    "start_time": "2024-07-30T10:55:34.277Z"
   },
   {
    "duration": 65,
    "start_time": "2024-07-30T10:55:34.307Z"
   },
   {
    "duration": 7,
    "start_time": "2024-07-30T10:55:34.373Z"
   },
   {
    "duration": 17,
    "start_time": "2024-07-30T10:55:34.383Z"
   },
   {
    "duration": 7,
    "start_time": "2024-07-30T10:55:34.402Z"
   },
   {
    "duration": 7,
    "start_time": "2024-07-30T10:55:34.411Z"
   },
   {
    "duration": 12,
    "start_time": "2024-07-30T10:55:34.420Z"
   },
   {
    "duration": 38,
    "start_time": "2024-07-30T10:55:34.434Z"
   },
   {
    "duration": 76,
    "start_time": "2024-07-30T10:55:34.474Z"
   },
   {
    "duration": 20,
    "start_time": "2024-07-30T10:55:34.552Z"
   },
   {
    "duration": 73,
    "start_time": "2024-07-30T10:55:34.574Z"
   },
   {
    "duration": 9,
    "start_time": "2024-07-30T10:55:34.649Z"
   },
   {
    "duration": 9,
    "start_time": "2024-07-30T10:55:34.660Z"
   },
   {
    "duration": 11,
    "start_time": "2024-07-30T10:55:34.671Z"
   },
   {
    "duration": 213,
    "start_time": "2024-07-30T10:55:34.684Z"
   },
   {
    "duration": 186,
    "start_time": "2024-07-30T10:55:34.899Z"
   },
   {
    "duration": 199,
    "start_time": "2024-07-30T10:55:35.087Z"
   },
   {
    "duration": 222,
    "start_time": "2024-07-30T10:55:35.288Z"
   },
   {
    "duration": 9,
    "start_time": "2024-07-30T10:55:35.512Z"
   },
   {
    "duration": 230,
    "start_time": "2024-07-30T10:55:35.522Z"
   },
   {
    "duration": 16,
    "start_time": "2024-07-30T10:55:35.753Z"
   },
   {
    "duration": 8,
    "start_time": "2024-07-30T10:55:35.772Z"
   },
   {
    "duration": 17,
    "start_time": "2024-07-30T10:55:35.782Z"
   },
   {
    "duration": 13,
    "start_time": "2024-07-30T10:55:35.800Z"
   },
   {
    "duration": 16,
    "start_time": "2024-07-30T10:55:35.815Z"
   },
   {
    "duration": 40,
    "start_time": "2024-07-30T10:55:35.832Z"
   },
   {
    "duration": 200,
    "start_time": "2024-07-30T10:55:35.874Z"
   },
   {
    "duration": 190,
    "start_time": "2024-07-30T10:55:36.075Z"
   },
   {
    "duration": 43,
    "start_time": "2024-07-30T10:55:36.267Z"
   },
   {
    "duration": 4,
    "start_time": "2024-07-30T10:55:36.311Z"
   },
   {
    "duration": 14,
    "start_time": "2024-07-30T10:55:36.316Z"
   },
   {
    "duration": 33,
    "start_time": "2024-07-30T10:55:36.332Z"
   },
   {
    "duration": 5,
    "start_time": "2024-07-30T10:55:36.367Z"
   },
   {
    "duration": 21,
    "start_time": "2024-07-30T10:55:36.373Z"
   },
   {
    "duration": 11,
    "start_time": "2024-07-30T10:55:36.396Z"
   },
   {
    "duration": 19,
    "start_time": "2024-07-30T10:55:36.409Z"
   },
   {
    "duration": 4,
    "start_time": "2024-07-30T10:55:36.430Z"
   },
   {
    "duration": 4,
    "start_time": "2024-07-30T10:55:54.889Z"
   },
   {
    "duration": 157,
    "start_time": "2024-07-30T10:56:15.449Z"
   },
   {
    "duration": 245,
    "start_time": "2024-07-30T11:03:52.202Z"
   },
   {
    "duration": 251,
    "start_time": "2024-07-30T11:04:00.960Z"
   },
   {
    "duration": 275,
    "start_time": "2024-07-30T11:05:08.058Z"
   },
   {
    "duration": 146,
    "start_time": "2024-07-30T11:06:48.153Z"
   },
   {
    "duration": 308,
    "start_time": "2024-07-30T11:06:56.401Z"
   },
   {
    "duration": 264,
    "start_time": "2024-07-30T11:07:25.101Z"
   },
   {
    "duration": 255,
    "start_time": "2024-07-30T11:07:31.021Z"
   },
   {
    "duration": 243,
    "start_time": "2024-07-30T11:07:42.565Z"
   },
   {
    "duration": 143,
    "start_time": "2024-07-30T11:36:31.092Z"
   },
   {
    "duration": 1844,
    "start_time": "2024-07-30T11:36:35.477Z"
   },
   {
    "duration": 257,
    "start_time": "2024-07-30T11:37:42.230Z"
   },
   {
    "duration": 254,
    "start_time": "2024-07-30T11:37:53.008Z"
   },
   {
    "duration": 294,
    "start_time": "2024-07-30T11:38:06.153Z"
   },
   {
    "duration": 368,
    "start_time": "2024-07-30T11:38:11.613Z"
   },
   {
    "duration": 301,
    "start_time": "2024-07-30T11:38:16.905Z"
   },
   {
    "duration": 514,
    "start_time": "2024-07-30T11:38:47.326Z"
   },
   {
    "duration": 6,
    "start_time": "2024-07-30T11:45:01.346Z"
   },
   {
    "duration": 5,
    "start_time": "2024-07-30T11:45:09.067Z"
   },
   {
    "duration": 6,
    "start_time": "2024-07-30T11:47:43.357Z"
   },
   {
    "duration": 5,
    "start_time": "2024-07-30T11:47:49.287Z"
   },
   {
    "duration": 208,
    "start_time": "2024-07-30T11:48:01.995Z"
   },
   {
    "duration": 1133,
    "start_time": "2024-07-30T12:00:59.301Z"
   },
   {
    "duration": 30,
    "start_time": "2024-07-30T12:01:00.436Z"
   },
   {
    "duration": 90,
    "start_time": "2024-07-30T12:01:00.468Z"
   },
   {
    "duration": 90,
    "start_time": "2024-07-30T12:01:00.560Z"
   },
   {
    "duration": 42,
    "start_time": "2024-07-30T12:01:00.651Z"
   },
   {
    "duration": 81,
    "start_time": "2024-07-30T12:01:00.695Z"
   },
   {
    "duration": 309,
    "start_time": "2024-07-30T12:01:00.779Z"
   },
   {
    "duration": 197,
    "start_time": "2024-07-30T12:01:01.089Z"
   },
   {
    "duration": 211,
    "start_time": "2024-07-30T12:01:01.287Z"
   },
   {
    "duration": 64,
    "start_time": "2024-07-30T12:01:01.500Z"
   },
   {
    "duration": 79,
    "start_time": "2024-07-30T12:01:01.566Z"
   },
   {
    "duration": 71,
    "start_time": "2024-07-30T12:01:01.647Z"
   },
   {
    "duration": 101,
    "start_time": "2024-07-30T12:01:01.720Z"
   },
   {
    "duration": 64,
    "start_time": "2024-07-30T12:01:01.823Z"
   },
   {
    "duration": 26,
    "start_time": "2024-07-30T12:01:01.889Z"
   },
   {
    "duration": 29,
    "start_time": "2024-07-30T12:01:01.917Z"
   },
   {
    "duration": 30,
    "start_time": "2024-07-30T12:01:01.948Z"
   },
   {
    "duration": 18,
    "start_time": "2024-07-30T12:01:01.980Z"
   },
   {
    "duration": 51,
    "start_time": "2024-07-30T12:01:02.000Z"
   },
   {
    "duration": 44,
    "start_time": "2024-07-30T12:01:02.053Z"
   },
   {
    "duration": 277,
    "start_time": "2024-07-30T12:01:02.098Z"
   },
   {
    "duration": 160,
    "start_time": "2024-07-30T12:01:02.377Z"
   },
   {
    "duration": 253,
    "start_time": "2024-07-30T12:01:02.538Z"
   },
   {
    "duration": 282,
    "start_time": "2024-07-30T12:01:02.793Z"
   },
   {
    "duration": 9,
    "start_time": "2024-07-30T12:01:03.077Z"
   },
   {
    "duration": 238,
    "start_time": "2024-07-30T12:01:03.087Z"
   },
   {
    "duration": 16,
    "start_time": "2024-07-30T12:01:03.328Z"
   },
   {
    "duration": 48,
    "start_time": "2024-07-30T12:01:03.349Z"
   },
   {
    "duration": 34,
    "start_time": "2024-07-30T12:01:03.399Z"
   },
   {
    "duration": 21,
    "start_time": "2024-07-30T12:01:03.435Z"
   },
   {
    "duration": 21,
    "start_time": "2024-07-30T12:01:03.458Z"
   },
   {
    "duration": 22,
    "start_time": "2024-07-30T12:01:03.480Z"
   },
   {
    "duration": 224,
    "start_time": "2024-07-30T12:01:03.503Z"
   },
   {
    "duration": 229,
    "start_time": "2024-07-30T12:01:03.728Z"
   },
   {
    "duration": 50,
    "start_time": "2024-07-30T12:01:03.958Z"
   },
   {
    "duration": 4,
    "start_time": "2024-07-30T12:01:04.010Z"
   },
   {
    "duration": 24,
    "start_time": "2024-07-30T12:01:04.016Z"
   },
   {
    "duration": 5,
    "start_time": "2024-07-30T12:01:04.042Z"
   },
   {
    "duration": 7,
    "start_time": "2024-07-30T12:01:04.064Z"
   },
   {
    "duration": 24,
    "start_time": "2024-07-30T12:01:04.072Z"
   },
   {
    "duration": 12,
    "start_time": "2024-07-30T12:01:04.098Z"
   },
   {
    "duration": 9,
    "start_time": "2024-07-30T12:01:04.111Z"
   },
   {
    "duration": 313,
    "start_time": "2024-07-30T12:01:04.121Z"
   },
   {
    "duration": 5,
    "start_time": "2024-07-30T12:01:04.435Z"
   },
   {
    "duration": 294,
    "start_time": "2024-07-30T12:01:04.442Z"
   },
   {
    "duration": 1267,
    "start_time": "2024-07-30T14:03:08.886Z"
   },
   {
    "duration": 36,
    "start_time": "2024-07-30T14:03:10.163Z"
   },
   {
    "duration": 32,
    "start_time": "2024-07-30T14:03:10.201Z"
   },
   {
    "duration": 15,
    "start_time": "2024-07-30T14:03:10.236Z"
   },
   {
    "duration": 31,
    "start_time": "2024-07-30T14:03:10.253Z"
   },
   {
    "duration": 13,
    "start_time": "2024-07-30T14:03:10.285Z"
   },
   {
    "duration": 12,
    "start_time": "2024-07-30T14:03:10.300Z"
   },
   {
    "duration": 17,
    "start_time": "2024-07-30T14:03:10.314Z"
   },
   {
    "duration": 14,
    "start_time": "2024-07-30T14:03:10.333Z"
   },
   {
    "duration": 17,
    "start_time": "2024-07-30T14:03:10.354Z"
   },
   {
    "duration": 11,
    "start_time": "2024-07-30T14:03:10.373Z"
   },
   {
    "duration": 20,
    "start_time": "2024-07-30T14:03:10.385Z"
   },
   {
    "duration": 23,
    "start_time": "2024-07-30T14:03:10.407Z"
   },
   {
    "duration": 79,
    "start_time": "2024-07-30T14:03:10.432Z"
   },
   {
    "duration": 25,
    "start_time": "2024-07-30T14:03:10.512Z"
   },
   {
    "duration": 34,
    "start_time": "2024-07-30T14:03:10.539Z"
   },
   {
    "duration": 10,
    "start_time": "2024-07-30T14:03:10.575Z"
   },
   {
    "duration": 14,
    "start_time": "2024-07-30T14:03:10.586Z"
   },
   {
    "duration": 6,
    "start_time": "2024-07-30T14:03:10.602Z"
   },
   {
    "duration": 18,
    "start_time": "2024-07-30T14:03:10.610Z"
   },
   {
    "duration": 246,
    "start_time": "2024-07-30T14:03:10.630Z"
   },
   {
    "duration": 195,
    "start_time": "2024-07-30T14:03:10.877Z"
   },
   {
    "duration": 226,
    "start_time": "2024-07-30T14:03:11.074Z"
   },
   {
    "duration": 248,
    "start_time": "2024-07-30T14:03:11.302Z"
   },
   {
    "duration": 18,
    "start_time": "2024-07-30T14:03:11.555Z"
   },
   {
    "duration": 248,
    "start_time": "2024-07-30T14:03:11.575Z"
   },
   {
    "duration": 8,
    "start_time": "2024-07-30T14:03:11.825Z"
   },
   {
    "duration": 28,
    "start_time": "2024-07-30T14:03:11.837Z"
   },
   {
    "duration": 13,
    "start_time": "2024-07-30T14:03:11.867Z"
   },
   {
    "duration": 15,
    "start_time": "2024-07-30T14:03:11.882Z"
   },
   {
    "duration": 37,
    "start_time": "2024-07-30T14:03:11.899Z"
   },
   {
    "duration": 15,
    "start_time": "2024-07-30T14:03:11.937Z"
   },
   {
    "duration": 235,
    "start_time": "2024-07-30T14:03:11.953Z"
   },
   {
    "duration": 245,
    "start_time": "2024-07-30T14:03:12.190Z"
   },
   {
    "duration": 59,
    "start_time": "2024-07-30T14:03:12.437Z"
   },
   {
    "duration": 4,
    "start_time": "2024-07-30T14:03:12.498Z"
   },
   {
    "duration": 21,
    "start_time": "2024-07-30T14:03:12.504Z"
   },
   {
    "duration": 6,
    "start_time": "2024-07-30T14:03:12.527Z"
   },
   {
    "duration": 10,
    "start_time": "2024-07-30T14:03:12.561Z"
   },
   {
    "duration": 29,
    "start_time": "2024-07-30T14:03:12.572Z"
   },
   {
    "duration": 13,
    "start_time": "2024-07-30T14:03:12.602Z"
   },
   {
    "duration": 14,
    "start_time": "2024-07-30T14:03:12.616Z"
   },
   {
    "duration": 356,
    "start_time": "2024-07-30T14:03:12.632Z"
   },
   {
    "duration": 6,
    "start_time": "2024-07-30T14:03:12.990Z"
   },
   {
    "duration": 335,
    "start_time": "2024-07-30T14:03:12.997Z"
   },
   {
    "duration": 15,
    "start_time": "2024-07-30T14:10:29.724Z"
   },
   {
    "duration": 101,
    "start_time": "2024-07-30T14:11:31.948Z"
   },
   {
    "duration": 11,
    "start_time": "2024-07-30T14:11:35.321Z"
   },
   {
    "duration": 1200,
    "start_time": "2024-07-30T19:42:30.532Z"
   },
   {
    "duration": 109,
    "start_time": "2024-07-30T19:42:31.734Z"
   },
   {
    "duration": 186,
    "start_time": "2024-07-30T19:42:31.847Z"
   },
   {
    "duration": 77,
    "start_time": "2024-07-30T19:42:32.034Z"
   },
   {
    "duration": 11,
    "start_time": "2024-07-30T19:42:32.112Z"
   },
   {
    "duration": 13,
    "start_time": "2024-07-30T19:42:32.125Z"
   },
   {
    "duration": 8,
    "start_time": "2024-07-30T19:42:32.139Z"
   },
   {
    "duration": 12,
    "start_time": "2024-07-30T19:42:32.148Z"
   },
   {
    "duration": 15,
    "start_time": "2024-07-30T19:42:32.162Z"
   },
   {
    "duration": 8,
    "start_time": "2024-07-30T19:42:32.178Z"
   },
   {
    "duration": 6,
    "start_time": "2024-07-30T19:42:32.188Z"
   },
   {
    "duration": 4,
    "start_time": "2024-07-30T19:42:32.195Z"
   },
   {
    "duration": 7,
    "start_time": "2024-07-30T19:42:32.201Z"
   },
   {
    "duration": 10,
    "start_time": "2024-07-30T19:42:32.209Z"
   },
   {
    "duration": 5,
    "start_time": "2024-07-30T19:42:32.220Z"
   },
   {
    "duration": 6,
    "start_time": "2024-07-30T19:42:32.227Z"
   },
   {
    "duration": 6,
    "start_time": "2024-07-30T19:42:32.234Z"
   },
   {
    "duration": 9,
    "start_time": "2024-07-30T19:42:32.241Z"
   },
   {
    "duration": 34,
    "start_time": "2024-07-30T19:42:32.251Z"
   },
   {
    "duration": 26,
    "start_time": "2024-07-30T19:42:32.286Z"
   },
   {
    "duration": 217,
    "start_time": "2024-07-30T19:42:32.313Z"
   },
   {
    "duration": 143,
    "start_time": "2024-07-30T19:42:32.532Z"
   },
   {
    "duration": 184,
    "start_time": "2024-07-30T19:42:32.676Z"
   },
   {
    "duration": 190,
    "start_time": "2024-07-30T19:42:32.862Z"
   },
   {
    "duration": 7,
    "start_time": "2024-07-30T19:42:33.053Z"
   },
   {
    "duration": 223,
    "start_time": "2024-07-30T19:42:33.062Z"
   },
   {
    "duration": 7,
    "start_time": "2024-07-30T19:42:33.288Z"
   },
   {
    "duration": 9,
    "start_time": "2024-07-30T19:42:33.296Z"
   },
   {
    "duration": 6,
    "start_time": "2024-07-30T19:42:33.307Z"
   },
   {
    "duration": 41,
    "start_time": "2024-07-30T19:42:33.315Z"
   },
   {
    "duration": 32,
    "start_time": "2024-07-30T19:42:33.358Z"
   },
   {
    "duration": 12,
    "start_time": "2024-07-30T19:42:33.392Z"
   },
   {
    "duration": 186,
    "start_time": "2024-07-30T19:42:33.405Z"
   },
   {
    "duration": 171,
    "start_time": "2024-07-30T19:42:33.593Z"
   },
   {
    "duration": 45,
    "start_time": "2024-07-30T19:42:33.766Z"
   },
   {
    "duration": 3,
    "start_time": "2024-07-30T19:42:33.813Z"
   },
   {
    "duration": 22,
    "start_time": "2024-07-30T19:42:33.818Z"
   },
   {
    "duration": 5,
    "start_time": "2024-07-30T19:42:33.841Z"
   },
   {
    "duration": 20,
    "start_time": "2024-07-30T19:42:33.847Z"
   },
   {
    "duration": 14,
    "start_time": "2024-07-30T19:42:33.868Z"
   },
   {
    "duration": 10,
    "start_time": "2024-07-30T19:42:33.883Z"
   },
   {
    "duration": 4,
    "start_time": "2024-07-30T19:42:33.895Z"
   },
   {
    "duration": 295,
    "start_time": "2024-07-30T19:42:33.901Z"
   },
   {
    "duration": 5,
    "start_time": "2024-07-30T19:42:34.197Z"
   },
   {
    "duration": 266,
    "start_time": "2024-07-30T19:42:34.204Z"
   },
   {
    "duration": 42,
    "start_time": "2024-07-30T20:17:12.338Z"
   },
   {
    "duration": 11,
    "start_time": "2024-07-30T20:19:52.239Z"
   },
   {
    "duration": 12,
    "start_time": "2024-07-30T20:20:35.371Z"
   },
   {
    "duration": 44,
    "start_time": "2024-07-30T20:23:33.199Z"
   },
   {
    "duration": 172,
    "start_time": "2024-07-30T20:25:45.626Z"
   },
   {
    "duration": 183,
    "start_time": "2024-07-30T20:26:16.201Z"
   },
   {
    "duration": 178,
    "start_time": "2024-07-30T20:26:33.967Z"
   },
   {
    "duration": 42,
    "start_time": "2024-07-30T20:27:11.241Z"
   },
   {
    "duration": 7,
    "start_time": "2024-07-30T20:27:50.331Z"
   },
   {
    "duration": 49,
    "start_time": "2024-07-30T20:30:32.020Z"
   },
   {
    "duration": 1259,
    "start_time": "2024-07-31T05:33:30.703Z"
   },
   {
    "duration": 105,
    "start_time": "2024-07-31T05:33:31.963Z"
   },
   {
    "duration": 164,
    "start_time": "2024-07-31T05:33:32.070Z"
   },
   {
    "duration": 71,
    "start_time": "2024-07-31T05:33:32.236Z"
   },
   {
    "duration": 11,
    "start_time": "2024-07-31T05:33:32.309Z"
   },
   {
    "duration": 11,
    "start_time": "2024-07-31T05:33:32.321Z"
   },
   {
    "duration": 8,
    "start_time": "2024-07-31T05:33:32.333Z"
   },
   {
    "duration": 10,
    "start_time": "2024-07-31T05:33:32.343Z"
   },
   {
    "duration": 7,
    "start_time": "2024-07-31T05:33:32.354Z"
   },
   {
    "duration": 9,
    "start_time": "2024-07-31T05:33:32.363Z"
   },
   {
    "duration": 7,
    "start_time": "2024-07-31T05:33:32.396Z"
   },
   {
    "duration": 21,
    "start_time": "2024-07-31T05:33:32.405Z"
   },
   {
    "duration": 11,
    "start_time": "2024-07-31T05:33:32.428Z"
   },
   {
    "duration": 14,
    "start_time": "2024-07-31T05:33:32.441Z"
   },
   {
    "duration": 6,
    "start_time": "2024-07-31T05:33:32.456Z"
   },
   {
    "duration": 12,
    "start_time": "2024-07-31T05:33:32.463Z"
   },
   {
    "duration": 11,
    "start_time": "2024-07-31T05:33:32.476Z"
   },
   {
    "duration": 10,
    "start_time": "2024-07-31T05:33:32.488Z"
   },
   {
    "duration": 8,
    "start_time": "2024-07-31T05:33:32.499Z"
   },
   {
    "duration": 9,
    "start_time": "2024-07-31T05:33:32.508Z"
   },
   {
    "duration": 226,
    "start_time": "2024-07-31T05:33:32.519Z"
   },
   {
    "duration": 11,
    "start_time": "2024-07-31T05:33:32.747Z"
   },
   {
    "duration": 154,
    "start_time": "2024-07-31T05:33:32.760Z"
   },
   {
    "duration": 192,
    "start_time": "2024-07-31T05:33:32.915Z"
   },
   {
    "duration": 8,
    "start_time": "2024-07-31T05:33:33.108Z"
   },
   {
    "duration": 220,
    "start_time": "2024-07-31T05:33:33.117Z"
   },
   {
    "duration": 9,
    "start_time": "2024-07-31T05:33:33.338Z"
   },
   {
    "duration": 234,
    "start_time": "2024-07-31T05:33:33.350Z"
   },
   {
    "duration": 12,
    "start_time": "2024-07-31T05:33:33.585Z"
   },
   {
    "duration": 8,
    "start_time": "2024-07-31T05:33:33.598Z"
   },
   {
    "duration": 8,
    "start_time": "2024-07-31T05:33:33.607Z"
   },
   {
    "duration": 14,
    "start_time": "2024-07-31T05:33:33.616Z"
   },
   {
    "duration": 16,
    "start_time": "2024-07-31T05:33:33.631Z"
   },
   {
    "duration": 12,
    "start_time": "2024-07-31T05:33:33.648Z"
   },
   {
    "duration": 207,
    "start_time": "2024-07-31T05:33:33.661Z"
   },
   {
    "duration": 183,
    "start_time": "2024-07-31T05:33:33.869Z"
   },
   {
    "duration": 55,
    "start_time": "2024-07-31T05:33:34.053Z"
   },
   {
    "duration": 3,
    "start_time": "2024-07-31T05:33:34.109Z"
   },
   {
    "duration": 14,
    "start_time": "2024-07-31T05:33:34.113Z"
   },
   {
    "duration": 4,
    "start_time": "2024-07-31T05:33:34.129Z"
   },
   {
    "duration": 6,
    "start_time": "2024-07-31T05:33:34.134Z"
   },
   {
    "duration": 11,
    "start_time": "2024-07-31T05:33:34.141Z"
   },
   {
    "duration": 10,
    "start_time": "2024-07-31T05:33:34.154Z"
   },
   {
    "duration": 34,
    "start_time": "2024-07-31T05:33:34.165Z"
   },
   {
    "duration": 305,
    "start_time": "2024-07-31T05:33:34.201Z"
   },
   {
    "duration": 5,
    "start_time": "2024-07-31T05:33:34.507Z"
   },
   {
    "duration": 277,
    "start_time": "2024-07-31T05:33:34.514Z"
   },
   {
    "duration": 2,
    "start_time": "2024-07-31T05:35:32.971Z"
   },
   {
    "duration": 12,
    "start_time": "2024-07-31T05:35:46.263Z"
   },
   {
    "duration": 3,
    "start_time": "2024-07-31T05:36:18.054Z"
   },
   {
    "duration": 108,
    "start_time": "2024-07-31T05:36:19.007Z"
   },
   {
    "duration": 3,
    "start_time": "2024-07-31T05:36:26.867Z"
   },
   {
    "duration": 3,
    "start_time": "2024-07-31T05:37:24.151Z"
   },
   {
    "duration": 23,
    "start_time": "2024-07-31T05:37:25.226Z"
   },
   {
    "duration": 45,
    "start_time": "2024-07-31T05:38:15.359Z"
   },
   {
    "duration": 44,
    "start_time": "2024-07-31T05:39:32.599Z"
   },
   {
    "duration": 26,
    "start_time": "2024-07-31T05:39:34.895Z"
   },
   {
    "duration": 8,
    "start_time": "2024-07-31T05:39:35.798Z"
   },
   {
    "duration": 10,
    "start_time": "2024-07-31T05:39:37.919Z"
   },
   {
    "duration": 7,
    "start_time": "2024-07-31T05:39:41.803Z"
   },
   {
    "duration": 10,
    "start_time": "2024-07-31T05:39:43.759Z"
   },
   {
    "duration": 47,
    "start_time": "2024-07-31T05:40:17.555Z"
   },
   {
    "duration": 3,
    "start_time": "2024-07-31T05:45:36.704Z"
   },
   {
    "duration": 8,
    "start_time": "2024-07-31T05:45:49.523Z"
   },
   {
    "duration": 4,
    "start_time": "2024-07-31T05:45:55.455Z"
   },
   {
    "duration": 4,
    "start_time": "2024-07-31T05:48:40.375Z"
   },
   {
    "duration": 127,
    "start_time": "2024-07-31T05:49:24.567Z"
   },
   {
    "duration": 9,
    "start_time": "2024-07-31T05:49:50.974Z"
   },
   {
    "duration": 9,
    "start_time": "2024-07-31T05:49:58.938Z"
   },
   {
    "duration": 1260,
    "start_time": "2024-07-31T05:50:16.091Z"
   },
   {
    "duration": 30,
    "start_time": "2024-07-31T05:50:17.353Z"
   },
   {
    "duration": 32,
    "start_time": "2024-07-31T05:50:17.384Z"
   },
   {
    "duration": 44,
    "start_time": "2024-07-31T05:50:17.418Z"
   },
   {
    "duration": 11,
    "start_time": "2024-07-31T05:50:17.463Z"
   },
   {
    "duration": 10,
    "start_time": "2024-07-31T05:50:17.475Z"
   },
   {
    "duration": 23,
    "start_time": "2024-07-31T05:50:17.486Z"
   },
   {
    "duration": 10,
    "start_time": "2024-07-31T05:50:17.510Z"
   },
   {
    "duration": 6,
    "start_time": "2024-07-31T05:50:17.521Z"
   },
   {
    "duration": 10,
    "start_time": "2024-07-31T05:50:17.529Z"
   },
   {
    "duration": 2,
    "start_time": "2024-07-31T05:50:17.540Z"
   },
   {
    "duration": 24,
    "start_time": "2024-07-31T05:50:17.544Z"
   },
   {
    "duration": 33,
    "start_time": "2024-07-31T05:50:17.569Z"
   },
   {
    "duration": 4,
    "start_time": "2024-07-31T05:50:17.604Z"
   },
   {
    "duration": 7,
    "start_time": "2024-07-31T05:50:17.610Z"
   },
   {
    "duration": 9,
    "start_time": "2024-07-31T05:50:17.619Z"
   },
   {
    "duration": 5,
    "start_time": "2024-07-31T05:50:17.629Z"
   },
   {
    "duration": 5,
    "start_time": "2024-07-31T05:50:17.635Z"
   },
   {
    "duration": 4,
    "start_time": "2024-07-31T05:50:17.642Z"
   },
   {
    "duration": 4,
    "start_time": "2024-07-31T05:50:17.647Z"
   },
   {
    "duration": 46,
    "start_time": "2024-07-31T05:50:17.652Z"
   },
   {
    "duration": 7,
    "start_time": "2024-07-31T05:50:17.700Z"
   },
   {
    "duration": 3,
    "start_time": "2024-07-31T05:50:17.709Z"
   },
   {
    "duration": 111,
    "start_time": "2024-07-31T05:50:17.713Z"
   },
   {
    "duration": 0,
    "start_time": "2024-07-31T05:50:17.826Z"
   },
   {
    "duration": 0,
    "start_time": "2024-07-31T05:50:17.827Z"
   },
   {
    "duration": 0,
    "start_time": "2024-07-31T05:50:17.828Z"
   },
   {
    "duration": 0,
    "start_time": "2024-07-31T05:50:17.829Z"
   },
   {
    "duration": 0,
    "start_time": "2024-07-31T05:50:17.830Z"
   },
   {
    "duration": 0,
    "start_time": "2024-07-31T05:50:17.831Z"
   },
   {
    "duration": 0,
    "start_time": "2024-07-31T05:50:17.832Z"
   },
   {
    "duration": 0,
    "start_time": "2024-07-31T05:50:17.833Z"
   },
   {
    "duration": 0,
    "start_time": "2024-07-31T05:50:17.834Z"
   },
   {
    "duration": 0,
    "start_time": "2024-07-31T05:50:17.835Z"
   },
   {
    "duration": 0,
    "start_time": "2024-07-31T05:50:17.836Z"
   },
   {
    "duration": 0,
    "start_time": "2024-07-31T05:50:17.836Z"
   },
   {
    "duration": 0,
    "start_time": "2024-07-31T05:50:17.837Z"
   },
   {
    "duration": 0,
    "start_time": "2024-07-31T05:50:17.838Z"
   },
   {
    "duration": 0,
    "start_time": "2024-07-31T05:50:17.839Z"
   },
   {
    "duration": 0,
    "start_time": "2024-07-31T05:50:17.840Z"
   },
   {
    "duration": 0,
    "start_time": "2024-07-31T05:50:17.841Z"
   },
   {
    "duration": 0,
    "start_time": "2024-07-31T05:50:17.842Z"
   },
   {
    "duration": 0,
    "start_time": "2024-07-31T05:50:17.843Z"
   },
   {
    "duration": 0,
    "start_time": "2024-07-31T05:50:17.844Z"
   },
   {
    "duration": 0,
    "start_time": "2024-07-31T05:50:17.845Z"
   },
   {
    "duration": 0,
    "start_time": "2024-07-31T05:50:17.846Z"
   },
   {
    "duration": 0,
    "start_time": "2024-07-31T05:50:17.847Z"
   },
   {
    "duration": 0,
    "start_time": "2024-07-31T05:50:17.848Z"
   },
   {
    "duration": 0,
    "start_time": "2024-07-31T05:50:17.848Z"
   },
   {
    "duration": 0,
    "start_time": "2024-07-31T05:50:17.849Z"
   },
   {
    "duration": 0,
    "start_time": "2024-07-31T05:50:17.850Z"
   },
   {
    "duration": 8,
    "start_time": "2024-07-31T05:51:03.491Z"
   },
   {
    "duration": 11,
    "start_time": "2024-07-31T05:51:55.727Z"
   },
   {
    "duration": 188,
    "start_time": "2024-07-31T05:52:27.970Z"
   },
   {
    "duration": 175,
    "start_time": "2024-07-31T05:53:02.523Z"
   },
   {
    "duration": 216,
    "start_time": "2024-07-31T05:56:36.543Z"
   },
   {
    "duration": 163,
    "start_time": "2024-07-31T05:56:56.423Z"
   },
   {
    "duration": 227,
    "start_time": "2024-07-31T05:57:05.207Z"
   },
   {
    "duration": 7,
    "start_time": "2024-07-31T05:59:31.166Z"
   },
   {
    "duration": 193,
    "start_time": "2024-07-31T05:59:40.782Z"
   },
   {
    "duration": 9,
    "start_time": "2024-07-31T05:59:59.862Z"
   },
   {
    "duration": 5,
    "start_time": "2024-07-31T06:01:54.554Z"
   },
   {
    "duration": 44,
    "start_time": "2024-07-31T06:04:28.650Z"
   },
   {
    "duration": 998,
    "start_time": "2024-07-31T06:04:50.446Z"
   },
   {
    "duration": 29,
    "start_time": "2024-07-31T06:04:51.445Z"
   },
   {
    "duration": 58,
    "start_time": "2024-07-31T06:04:51.476Z"
   },
   {
    "duration": 15,
    "start_time": "2024-07-31T06:04:51.536Z"
   },
   {
    "duration": 11,
    "start_time": "2024-07-31T06:04:51.553Z"
   },
   {
    "duration": 19,
    "start_time": "2024-07-31T06:04:51.565Z"
   },
   {
    "duration": 18,
    "start_time": "2024-07-31T06:04:51.586Z"
   },
   {
    "duration": 18,
    "start_time": "2024-07-31T06:04:51.606Z"
   },
   {
    "duration": 16,
    "start_time": "2024-07-31T06:04:51.627Z"
   },
   {
    "duration": 15,
    "start_time": "2024-07-31T06:04:51.646Z"
   },
   {
    "duration": 13,
    "start_time": "2024-07-31T06:04:51.663Z"
   },
   {
    "duration": 26,
    "start_time": "2024-07-31T06:04:51.678Z"
   },
   {
    "duration": 13,
    "start_time": "2024-07-31T06:04:51.706Z"
   },
   {
    "duration": 19,
    "start_time": "2024-07-31T06:04:51.721Z"
   },
   {
    "duration": 21,
    "start_time": "2024-07-31T06:04:51.741Z"
   },
   {
    "duration": 13,
    "start_time": "2024-07-31T06:04:51.763Z"
   },
   {
    "duration": 9,
    "start_time": "2024-07-31T06:04:51.778Z"
   },
   {
    "duration": 17,
    "start_time": "2024-07-31T06:04:51.789Z"
   },
   {
    "duration": 24,
    "start_time": "2024-07-31T06:04:51.807Z"
   },
   {
    "duration": 12,
    "start_time": "2024-07-31T06:04:51.833Z"
   },
   {
    "duration": 20,
    "start_time": "2024-07-31T06:04:51.846Z"
   },
   {
    "duration": 11,
    "start_time": "2024-07-31T06:04:51.868Z"
   },
   {
    "duration": 9,
    "start_time": "2024-07-31T06:04:51.881Z"
   },
   {
    "duration": 31,
    "start_time": "2024-07-31T06:04:51.891Z"
   },
   {
    "duration": 68,
    "start_time": "2024-07-31T06:04:51.923Z"
   },
   {
    "duration": 227,
    "start_time": "2024-07-31T06:04:51.993Z"
   },
   {
    "duration": 5,
    "start_time": "2024-07-31T06:04:52.222Z"
   },
   {
    "duration": 19,
    "start_time": "2024-07-31T06:04:52.231Z"
   },
   {
    "duration": 195,
    "start_time": "2024-07-31T06:04:52.252Z"
   },
   {
    "duration": 11,
    "start_time": "2024-07-31T06:04:52.449Z"
   },
   {
    "duration": 155,
    "start_time": "2024-07-31T06:04:52.462Z"
   },
   {
    "duration": 190,
    "start_time": "2024-07-31T06:04:52.619Z"
   },
   {
    "duration": 8,
    "start_time": "2024-07-31T06:04:52.811Z"
   },
   {
    "duration": 218,
    "start_time": "2024-07-31T06:04:52.820Z"
   },
   {
    "duration": 9,
    "start_time": "2024-07-31T06:04:53.039Z"
   },
   {
    "duration": 210,
    "start_time": "2024-07-31T06:04:53.049Z"
   },
   {
    "duration": 9,
    "start_time": "2024-07-31T06:04:53.260Z"
   },
   {
    "duration": 23,
    "start_time": "2024-07-31T06:04:53.270Z"
   },
   {
    "duration": 75,
    "start_time": "2024-07-31T06:04:53.294Z"
   },
   {
    "duration": 11,
    "start_time": "2024-07-31T06:04:53.371Z"
   },
   {
    "duration": 16,
    "start_time": "2024-07-31T06:04:53.383Z"
   },
   {
    "duration": 14,
    "start_time": "2024-07-31T06:04:53.400Z"
   },
   {
    "duration": 197,
    "start_time": "2024-07-31T06:04:53.416Z"
   },
   {
    "duration": 195,
    "start_time": "2024-07-31T06:04:53.615Z"
   },
   {
    "duration": 125,
    "start_time": "2024-07-31T06:04:53.812Z"
   },
   {
    "duration": 4,
    "start_time": "2024-07-31T06:04:53.939Z"
   },
   {
    "duration": 30,
    "start_time": "2024-07-31T06:04:53.945Z"
   },
   {
    "duration": 6,
    "start_time": "2024-07-31T06:04:53.976Z"
   },
   {
    "duration": 47,
    "start_time": "2024-07-31T06:04:53.983Z"
   },
   {
    "duration": 12,
    "start_time": "2024-07-31T06:04:54.031Z"
   },
   {
    "duration": 12,
    "start_time": "2024-07-31T06:04:54.045Z"
   },
   {
    "duration": 10,
    "start_time": "2024-07-31T06:04:54.058Z"
   },
   {
    "duration": 301,
    "start_time": "2024-07-31T06:04:54.069Z"
   },
   {
    "duration": 4,
    "start_time": "2024-07-31T06:04:54.372Z"
   },
   {
    "duration": 239,
    "start_time": "2024-07-31T06:04:54.378Z"
   },
   {
    "duration": 102,
    "start_time": "2024-07-31T06:07:05.226Z"
   },
   {
    "duration": 8,
    "start_time": "2024-07-31T06:07:17.126Z"
   },
   {
    "duration": 3,
    "start_time": "2024-07-31T06:07:20.206Z"
   },
   {
    "duration": 4,
    "start_time": "2024-07-31T06:07:25.790Z"
   },
   {
    "duration": 4,
    "start_time": "2024-07-31T06:07:40.166Z"
   },
   {
    "duration": 3,
    "start_time": "2024-07-31T06:07:49.730Z"
   },
   {
    "duration": 4,
    "start_time": "2024-07-31T06:08:23.418Z"
   },
   {
    "duration": 4,
    "start_time": "2024-07-31T06:09:05.278Z"
   },
   {
    "duration": 8,
    "start_time": "2024-07-31T06:11:17.410Z"
   },
   {
    "duration": 47,
    "start_time": "2024-07-31T06:12:10.134Z"
   },
   {
    "duration": 35,
    "start_time": "2024-07-31T06:13:25.379Z"
   },
   {
    "duration": 296,
    "start_time": "2024-07-31T06:13:41.710Z"
   },
   {
    "duration": 45,
    "start_time": "2024-07-31T06:13:54.259Z"
   },
   {
    "duration": 82,
    "start_time": "2024-07-31T06:14:32.999Z"
   },
   {
    "duration": 52,
    "start_time": "2024-07-31T06:15:03.588Z"
   },
   {
    "duration": 47,
    "start_time": "2024-07-31T06:15:52.151Z"
   },
   {
    "duration": 5,
    "start_time": "2024-07-31T06:18:42.279Z"
   },
   {
    "duration": 5,
    "start_time": "2024-07-31T06:19:28.543Z"
   },
   {
    "duration": 5,
    "start_time": "2024-07-31T06:20:04.899Z"
   },
   {
    "duration": 5,
    "start_time": "2024-07-31T06:20:12.266Z"
   },
   {
    "duration": 5,
    "start_time": "2024-07-31T06:22:18.775Z"
   },
   {
    "duration": 7,
    "start_time": "2024-07-31T06:26:25.330Z"
   },
   {
    "duration": 6,
    "start_time": "2024-07-31T06:30:06.492Z"
   },
   {
    "duration": 55,
    "start_time": "2024-07-31T06:30:25.098Z"
   },
   {
    "duration": 7,
    "start_time": "2024-07-31T06:32:30.786Z"
   },
   {
    "duration": 46,
    "start_time": "2024-07-31T06:35:00.866Z"
   },
   {
    "duration": 53,
    "start_time": "2024-07-31T06:37:50.066Z"
   },
   {
    "duration": 1159,
    "start_time": "2024-07-31T06:39:19.393Z"
   },
   {
    "duration": 30,
    "start_time": "2024-07-31T06:39:20.553Z"
   },
   {
    "duration": 35,
    "start_time": "2024-07-31T06:39:20.584Z"
   },
   {
    "duration": 15,
    "start_time": "2024-07-31T06:39:20.621Z"
   },
   {
    "duration": 10,
    "start_time": "2024-07-31T06:39:20.638Z"
   },
   {
    "duration": 23,
    "start_time": "2024-07-31T06:39:20.649Z"
   },
   {
    "duration": 38,
    "start_time": "2024-07-31T06:39:20.673Z"
   },
   {
    "duration": 18,
    "start_time": "2024-07-31T06:39:20.713Z"
   },
   {
    "duration": 7,
    "start_time": "2024-07-31T06:39:20.733Z"
   },
   {
    "duration": 16,
    "start_time": "2024-07-31T06:39:20.743Z"
   },
   {
    "duration": 10,
    "start_time": "2024-07-31T06:39:20.761Z"
   },
   {
    "duration": 40,
    "start_time": "2024-07-31T06:39:20.772Z"
   },
   {
    "duration": 13,
    "start_time": "2024-07-31T06:39:20.814Z"
   },
   {
    "duration": 11,
    "start_time": "2024-07-31T06:39:20.828Z"
   },
   {
    "duration": 15,
    "start_time": "2024-07-31T06:39:20.840Z"
   },
   {
    "duration": 21,
    "start_time": "2024-07-31T06:39:20.856Z"
   },
   {
    "duration": 16,
    "start_time": "2024-07-31T06:39:20.880Z"
   },
   {
    "duration": 8,
    "start_time": "2024-07-31T06:39:20.898Z"
   },
   {
    "duration": 7,
    "start_time": "2024-07-31T06:39:20.908Z"
   },
   {
    "duration": 20,
    "start_time": "2024-07-31T06:39:20.917Z"
   },
   {
    "duration": 7,
    "start_time": "2024-07-31T06:39:20.939Z"
   },
   {
    "duration": 16,
    "start_time": "2024-07-31T06:39:20.948Z"
   },
   {
    "duration": 20,
    "start_time": "2024-07-31T06:39:20.966Z"
   },
   {
    "duration": 14,
    "start_time": "2024-07-31T06:39:20.987Z"
   },
   {
    "duration": 11,
    "start_time": "2024-07-31T06:39:21.002Z"
   },
   {
    "duration": 204,
    "start_time": "2024-07-31T06:39:21.015Z"
   },
   {
    "duration": 5,
    "start_time": "2024-07-31T06:39:21.221Z"
   },
   {
    "duration": 8,
    "start_time": "2024-07-31T06:39:21.229Z"
   },
   {
    "duration": 206,
    "start_time": "2024-07-31T06:39:21.239Z"
   },
   {
    "duration": 12,
    "start_time": "2024-07-31T06:39:21.446Z"
   },
   {
    "duration": 179,
    "start_time": "2024-07-31T06:39:21.460Z"
   },
   {
    "duration": 214,
    "start_time": "2024-07-31T06:39:21.642Z"
   },
   {
    "duration": 8,
    "start_time": "2024-07-31T06:39:21.858Z"
   },
   {
    "duration": 239,
    "start_time": "2024-07-31T06:39:21.868Z"
   },
   {
    "duration": 8,
    "start_time": "2024-07-31T06:39:22.109Z"
   },
   {
    "duration": 213,
    "start_time": "2024-07-31T06:39:22.118Z"
   },
   {
    "duration": 9,
    "start_time": "2024-07-31T06:39:22.332Z"
   },
   {
    "duration": 21,
    "start_time": "2024-07-31T06:39:22.342Z"
   },
   {
    "duration": 8,
    "start_time": "2024-07-31T06:39:22.365Z"
   },
   {
    "duration": 25,
    "start_time": "2024-07-31T06:39:22.375Z"
   },
   {
    "duration": 12,
    "start_time": "2024-07-31T06:39:22.401Z"
   },
   {
    "duration": 6,
    "start_time": "2024-07-31T06:39:22.414Z"
   },
   {
    "duration": 3,
    "start_time": "2024-07-31T06:39:22.422Z"
   },
   {
    "duration": 20,
    "start_time": "2024-07-31T06:39:22.427Z"
   },
   {
    "duration": 9,
    "start_time": "2024-07-31T06:39:22.449Z"
   },
   {
    "duration": 15,
    "start_time": "2024-07-31T06:39:22.460Z"
   },
   {
    "duration": 29,
    "start_time": "2024-07-31T06:39:22.476Z"
   },
   {
    "duration": 195,
    "start_time": "2024-07-31T06:39:22.506Z"
   },
   {
    "duration": 189,
    "start_time": "2024-07-31T06:39:22.702Z"
   },
   {
    "duration": 136,
    "start_time": "2024-07-31T06:39:22.893Z"
   },
   {
    "duration": 1172,
    "start_time": "2024-07-31T06:39:23.031Z"
   },
   {
    "duration": 0,
    "start_time": "2024-07-31T06:39:24.205Z"
   },
   {
    "duration": 0,
    "start_time": "2024-07-31T06:39:24.206Z"
   },
   {
    "duration": 0,
    "start_time": "2024-07-31T06:39:24.207Z"
   },
   {
    "duration": 0,
    "start_time": "2024-07-31T06:39:24.208Z"
   },
   {
    "duration": 0,
    "start_time": "2024-07-31T06:39:24.209Z"
   },
   {
    "duration": 0,
    "start_time": "2024-07-31T06:39:24.210Z"
   },
   {
    "duration": 0,
    "start_time": "2024-07-31T06:39:24.211Z"
   },
   {
    "duration": 0,
    "start_time": "2024-07-31T06:39:24.212Z"
   },
   {
    "duration": 0,
    "start_time": "2024-07-31T06:39:24.213Z"
   },
   {
    "duration": 299,
    "start_time": "2024-07-31T06:39:59.373Z"
   },
   {
    "duration": 52,
    "start_time": "2024-07-31T06:40:14.678Z"
   },
   {
    "duration": 308,
    "start_time": "2024-07-31T06:40:43.306Z"
   },
   {
    "duration": 318,
    "start_time": "2024-07-31T06:41:06.373Z"
   },
   {
    "duration": 52,
    "start_time": "2024-07-31T06:41:21.302Z"
   },
   {
    "duration": 4,
    "start_time": "2024-07-31T06:41:25.005Z"
   },
   {
    "duration": 1073,
    "start_time": "2024-07-31T06:41:28.925Z"
   },
   {
    "duration": 29,
    "start_time": "2024-07-31T06:41:30.000Z"
   },
   {
    "duration": 35,
    "start_time": "2024-07-31T06:41:30.031Z"
   },
   {
    "duration": 16,
    "start_time": "2024-07-31T06:41:30.068Z"
   },
   {
    "duration": 38,
    "start_time": "2024-07-31T06:41:30.086Z"
   },
   {
    "duration": 39,
    "start_time": "2024-07-31T06:41:30.126Z"
   },
   {
    "duration": 71,
    "start_time": "2024-07-31T06:41:30.167Z"
   },
   {
    "duration": 40,
    "start_time": "2024-07-31T06:41:30.239Z"
   },
   {
    "duration": 60,
    "start_time": "2024-07-31T06:41:30.281Z"
   },
   {
    "duration": 66,
    "start_time": "2024-07-31T06:41:30.343Z"
   },
   {
    "duration": 48,
    "start_time": "2024-07-31T06:41:30.411Z"
   },
   {
    "duration": 55,
    "start_time": "2024-07-31T06:41:30.460Z"
   },
   {
    "duration": 15,
    "start_time": "2024-07-31T06:41:30.517Z"
   },
   {
    "duration": 40,
    "start_time": "2024-07-31T06:41:30.534Z"
   },
   {
    "duration": 53,
    "start_time": "2024-07-31T06:41:30.576Z"
   },
   {
    "duration": 49,
    "start_time": "2024-07-31T06:41:30.631Z"
   },
   {
    "duration": 36,
    "start_time": "2024-07-31T06:41:30.682Z"
   },
   {
    "duration": 47,
    "start_time": "2024-07-31T06:41:30.720Z"
   },
   {
    "duration": 36,
    "start_time": "2024-07-31T06:41:30.769Z"
   },
   {
    "duration": 45,
    "start_time": "2024-07-31T06:41:30.807Z"
   },
   {
    "duration": 37,
    "start_time": "2024-07-31T06:41:30.854Z"
   },
   {
    "duration": 41,
    "start_time": "2024-07-31T06:41:30.893Z"
   },
   {
    "duration": 31,
    "start_time": "2024-07-31T06:41:30.936Z"
   },
   {
    "duration": 42,
    "start_time": "2024-07-31T06:41:30.968Z"
   },
   {
    "duration": 53,
    "start_time": "2024-07-31T06:41:31.012Z"
   },
   {
    "duration": 216,
    "start_time": "2024-07-31T06:41:31.067Z"
   },
   {
    "duration": 12,
    "start_time": "2024-07-31T06:41:31.284Z"
   },
   {
    "duration": 113,
    "start_time": "2024-07-31T06:41:31.300Z"
   },
   {
    "duration": 254,
    "start_time": "2024-07-31T06:41:31.414Z"
   },
   {
    "duration": 12,
    "start_time": "2024-07-31T06:41:31.669Z"
   },
   {
    "duration": 169,
    "start_time": "2024-07-31T06:41:31.683Z"
   },
   {
    "duration": 202,
    "start_time": "2024-07-31T06:41:31.854Z"
   },
   {
    "duration": 7,
    "start_time": "2024-07-31T06:41:32.057Z"
   },
   {
    "duration": 215,
    "start_time": "2024-07-31T06:41:32.065Z"
   },
   {
    "duration": 17,
    "start_time": "2024-07-31T06:41:32.282Z"
   },
   {
    "duration": 241,
    "start_time": "2024-07-31T06:41:32.301Z"
   },
   {
    "duration": 9,
    "start_time": "2024-07-31T06:41:32.543Z"
   },
   {
    "duration": 8,
    "start_time": "2024-07-31T06:41:32.553Z"
   },
   {
    "duration": 7,
    "start_time": "2024-07-31T06:41:32.563Z"
   },
   {
    "duration": 34,
    "start_time": "2024-07-31T06:41:32.571Z"
   },
   {
    "duration": 5,
    "start_time": "2024-07-31T06:41:32.606Z"
   },
   {
    "duration": 4,
    "start_time": "2024-07-31T06:41:32.612Z"
   },
   {
    "duration": 4,
    "start_time": "2024-07-31T06:41:32.618Z"
   },
   {
    "duration": 5,
    "start_time": "2024-07-31T06:41:32.624Z"
   },
   {
    "duration": 11,
    "start_time": "2024-07-31T06:41:32.630Z"
   },
   {
    "duration": 22,
    "start_time": "2024-07-31T06:41:32.643Z"
   },
   {
    "duration": 38,
    "start_time": "2024-07-31T06:41:32.668Z"
   },
   {
    "duration": 193,
    "start_time": "2024-07-31T06:41:32.708Z"
   },
   {
    "duration": 184,
    "start_time": "2024-07-31T06:41:32.903Z"
   },
   {
    "duration": 127,
    "start_time": "2024-07-31T06:41:33.095Z"
   },
   {
    "duration": 3,
    "start_time": "2024-07-31T06:41:33.224Z"
   },
   {
    "duration": 14,
    "start_time": "2024-07-31T06:41:33.229Z"
   },
   {
    "duration": 11,
    "start_time": "2024-07-31T06:41:33.244Z"
   },
   {
    "duration": 5,
    "start_time": "2024-07-31T06:41:33.257Z"
   },
   {
    "duration": 11,
    "start_time": "2024-07-31T06:41:33.263Z"
   },
   {
    "duration": 12,
    "start_time": "2024-07-31T06:41:33.296Z"
   },
   {
    "duration": 6,
    "start_time": "2024-07-31T06:41:33.309Z"
   },
   {
    "duration": 354,
    "start_time": "2024-07-31T06:41:33.316Z"
   },
   {
    "duration": 4,
    "start_time": "2024-07-31T06:41:33.672Z"
   },
   {
    "duration": 205,
    "start_time": "2024-07-31T06:41:33.677Z"
   },
   {
    "duration": 1203,
    "start_time": "2024-07-31T09:56:02.523Z"
   },
   {
    "duration": 109,
    "start_time": "2024-07-31T09:56:03.728Z"
   },
   {
    "duration": 189,
    "start_time": "2024-07-31T09:56:03.838Z"
   },
   {
    "duration": 75,
    "start_time": "2024-07-31T09:56:04.030Z"
   },
   {
    "duration": 10,
    "start_time": "2024-07-31T09:56:04.107Z"
   },
   {
    "duration": 10,
    "start_time": "2024-07-31T09:56:04.118Z"
   },
   {
    "duration": 9,
    "start_time": "2024-07-31T09:56:04.129Z"
   },
   {
    "duration": 23,
    "start_time": "2024-07-31T09:56:04.140Z"
   },
   {
    "duration": 11,
    "start_time": "2024-07-31T09:56:04.165Z"
   },
   {
    "duration": 14,
    "start_time": "2024-07-31T09:56:04.178Z"
   },
   {
    "duration": 4,
    "start_time": "2024-07-31T09:56:04.194Z"
   },
   {
    "duration": 24,
    "start_time": "2024-07-31T09:56:04.200Z"
   },
   {
    "duration": 15,
    "start_time": "2024-07-31T09:56:04.225Z"
   },
   {
    "duration": 14,
    "start_time": "2024-07-31T09:56:04.242Z"
   },
   {
    "duration": 7,
    "start_time": "2024-07-31T09:56:04.257Z"
   },
   {
    "duration": 9,
    "start_time": "2024-07-31T09:56:04.266Z"
   },
   {
    "duration": 9,
    "start_time": "2024-07-31T09:56:04.276Z"
   },
   {
    "duration": 8,
    "start_time": "2024-07-31T09:56:04.286Z"
   },
   {
    "duration": 5,
    "start_time": "2024-07-31T09:56:04.295Z"
   },
   {
    "duration": 18,
    "start_time": "2024-07-31T09:56:04.301Z"
   },
   {
    "duration": 19,
    "start_time": "2024-07-31T09:56:04.320Z"
   },
   {
    "duration": 27,
    "start_time": "2024-07-31T09:56:04.340Z"
   },
   {
    "duration": 24,
    "start_time": "2024-07-31T09:56:04.369Z"
   },
   {
    "duration": 12,
    "start_time": "2024-07-31T09:56:04.394Z"
   },
   {
    "duration": 19,
    "start_time": "2024-07-31T09:56:04.408Z"
   },
   {
    "duration": 180,
    "start_time": "2024-07-31T09:56:04.428Z"
   },
   {
    "duration": 6,
    "start_time": "2024-07-31T09:56:04.609Z"
   },
   {
    "duration": 9,
    "start_time": "2024-07-31T09:56:04.618Z"
   },
   {
    "duration": 192,
    "start_time": "2024-07-31T09:56:04.629Z"
   },
   {
    "duration": 10,
    "start_time": "2024-07-31T09:56:04.823Z"
   },
   {
    "duration": 177,
    "start_time": "2024-07-31T09:56:04.835Z"
   },
   {
    "duration": 172,
    "start_time": "2024-07-31T09:56:05.013Z"
   },
   {
    "duration": 7,
    "start_time": "2024-07-31T09:56:05.186Z"
   },
   {
    "duration": 195,
    "start_time": "2024-07-31T09:56:05.195Z"
   },
   {
    "duration": 8,
    "start_time": "2024-07-31T09:56:05.391Z"
   },
   {
    "duration": 194,
    "start_time": "2024-07-31T09:56:05.400Z"
   },
   {
    "duration": 7,
    "start_time": "2024-07-31T09:56:05.596Z"
   },
   {
    "duration": 16,
    "start_time": "2024-07-31T09:56:05.604Z"
   },
   {
    "duration": 23,
    "start_time": "2024-07-31T09:56:05.621Z"
   },
   {
    "duration": 23,
    "start_time": "2024-07-31T09:56:05.646Z"
   },
   {
    "duration": 6,
    "start_time": "2024-07-31T09:56:05.670Z"
   },
   {
    "duration": 4,
    "start_time": "2024-07-31T09:56:05.677Z"
   },
   {
    "duration": 7,
    "start_time": "2024-07-31T09:56:05.683Z"
   },
   {
    "duration": 7,
    "start_time": "2024-07-31T09:56:05.691Z"
   },
   {
    "duration": 37,
    "start_time": "2024-07-31T09:56:05.699Z"
   },
   {
    "duration": 32,
    "start_time": "2024-07-31T09:56:05.738Z"
   },
   {
    "duration": 22,
    "start_time": "2024-07-31T09:56:05.772Z"
   },
   {
    "duration": 173,
    "start_time": "2024-07-31T09:56:05.796Z"
   },
   {
    "duration": 176,
    "start_time": "2024-07-31T09:56:05.970Z"
   },
   {
    "duration": 136,
    "start_time": "2024-07-31T09:56:06.148Z"
   },
   {
    "duration": 3,
    "start_time": "2024-07-31T09:56:06.286Z"
   },
   {
    "duration": 34,
    "start_time": "2024-07-31T09:56:06.291Z"
   },
   {
    "duration": 6,
    "start_time": "2024-07-31T09:56:06.327Z"
   },
   {
    "duration": 11,
    "start_time": "2024-07-31T09:56:06.334Z"
   },
   {
    "duration": 18,
    "start_time": "2024-07-31T09:56:06.347Z"
   },
   {
    "duration": 16,
    "start_time": "2024-07-31T09:56:06.366Z"
   },
   {
    "duration": 9,
    "start_time": "2024-07-31T09:56:06.384Z"
   },
   {
    "duration": 280,
    "start_time": "2024-07-31T09:56:06.394Z"
   },
   {
    "duration": 8,
    "start_time": "2024-07-31T09:56:06.675Z"
   },
   {
    "duration": 182,
    "start_time": "2024-07-31T09:56:06.685Z"
   },
   {
    "duration": 51,
    "start_time": "2024-07-31T10:20:16.118Z"
   },
   {
    "duration": 1378,
    "start_time": "2024-07-31T10:20:20.905Z"
   },
   {
    "duration": 74,
    "start_time": "2024-07-31T10:20:22.285Z"
   },
   {
    "duration": 161,
    "start_time": "2024-07-31T10:20:22.360Z"
   },
   {
    "duration": 68,
    "start_time": "2024-07-31T10:20:22.523Z"
   },
   {
    "duration": 13,
    "start_time": "2024-07-31T10:20:22.593Z"
   },
   {
    "duration": 17,
    "start_time": "2024-07-31T10:20:22.607Z"
   },
   {
    "duration": 9,
    "start_time": "2024-07-31T10:20:22.625Z"
   },
   {
    "duration": 14,
    "start_time": "2024-07-31T10:20:22.636Z"
   },
   {
    "duration": 6,
    "start_time": "2024-07-31T10:20:22.651Z"
   },
   {
    "duration": 25,
    "start_time": "2024-07-31T10:20:22.660Z"
   },
   {
    "duration": 4,
    "start_time": "2024-07-31T10:20:22.686Z"
   },
   {
    "duration": 28,
    "start_time": "2024-07-31T10:20:22.692Z"
   },
   {
    "duration": 13,
    "start_time": "2024-07-31T10:20:22.721Z"
   },
   {
    "duration": 6,
    "start_time": "2024-07-31T10:20:22.735Z"
   },
   {
    "duration": 14,
    "start_time": "2024-07-31T10:20:22.742Z"
   },
   {
    "duration": 32,
    "start_time": "2024-07-31T10:20:22.757Z"
   },
   {
    "duration": 5,
    "start_time": "2024-07-31T10:20:22.791Z"
   },
   {
    "duration": 7,
    "start_time": "2024-07-31T10:20:22.798Z"
   },
   {
    "duration": 5,
    "start_time": "2024-07-31T10:20:22.806Z"
   },
   {
    "duration": 8,
    "start_time": "2024-07-31T10:20:22.813Z"
   },
   {
    "duration": 6,
    "start_time": "2024-07-31T10:20:22.823Z"
   },
   {
    "duration": 16,
    "start_time": "2024-07-31T10:20:22.830Z"
   },
   {
    "duration": 36,
    "start_time": "2024-07-31T10:20:22.848Z"
   },
   {
    "duration": 12,
    "start_time": "2024-07-31T10:20:22.886Z"
   },
   {
    "duration": 40,
    "start_time": "2024-07-31T10:20:22.900Z"
   },
   {
    "duration": 223,
    "start_time": "2024-07-31T10:20:22.941Z"
   },
   {
    "duration": 221,
    "start_time": "2024-07-31T10:20:23.165Z"
   },
   {
    "duration": 14,
    "start_time": "2024-07-31T10:20:23.390Z"
   },
   {
    "duration": 203,
    "start_time": "2024-07-31T10:20:23.405Z"
   },
   {
    "duration": 219,
    "start_time": "2024-07-31T10:20:23.610Z"
   },
   {
    "duration": 9,
    "start_time": "2024-07-31T10:20:23.832Z"
   },
   {
    "duration": 295,
    "start_time": "2024-07-31T10:20:23.842Z"
   },
   {
    "duration": 9,
    "start_time": "2024-07-31T10:20:24.138Z"
   },
   {
    "duration": 235,
    "start_time": "2024-07-31T10:20:24.149Z"
   },
   {
    "duration": 8,
    "start_time": "2024-07-31T10:20:24.386Z"
   },
   {
    "duration": 10,
    "start_time": "2024-07-31T10:20:24.396Z"
   },
   {
    "duration": 9,
    "start_time": "2024-07-31T10:20:24.408Z"
   },
   {
    "duration": 13,
    "start_time": "2024-07-31T10:20:24.418Z"
   },
   {
    "duration": 4,
    "start_time": "2024-07-31T10:20:24.432Z"
   },
   {
    "duration": 4,
    "start_time": "2024-07-31T10:20:24.438Z"
   },
   {
    "duration": 41,
    "start_time": "2024-07-31T10:20:24.443Z"
   },
   {
    "duration": 9,
    "start_time": "2024-07-31T10:20:24.486Z"
   },
   {
    "duration": 31,
    "start_time": "2024-07-31T10:20:24.496Z"
   },
   {
    "duration": 17,
    "start_time": "2024-07-31T10:20:24.529Z"
   },
   {
    "duration": 14,
    "start_time": "2024-07-31T10:20:24.548Z"
   },
   {
    "duration": 214,
    "start_time": "2024-07-31T10:20:24.563Z"
   },
   {
    "duration": 274,
    "start_time": "2024-07-31T10:20:24.781Z"
   },
   {
    "duration": 66,
    "start_time": "2024-07-31T10:20:25.056Z"
   },
   {
    "duration": 4,
    "start_time": "2024-07-31T10:20:25.124Z"
   },
   {
    "duration": 24,
    "start_time": "2024-07-31T10:20:25.129Z"
   },
   {
    "duration": 8,
    "start_time": "2024-07-31T10:20:25.154Z"
   },
   {
    "duration": 23,
    "start_time": "2024-07-31T10:20:25.163Z"
   },
   {
    "duration": 25,
    "start_time": "2024-07-31T10:20:25.188Z"
   },
   {
    "duration": 14,
    "start_time": "2024-07-31T10:20:25.215Z"
   },
   {
    "duration": 10,
    "start_time": "2024-07-31T10:20:25.231Z"
   },
   {
    "duration": 357,
    "start_time": "2024-07-31T10:20:25.242Z"
   },
   {
    "duration": 5,
    "start_time": "2024-07-31T10:20:25.601Z"
   },
   {
    "duration": 240,
    "start_time": "2024-07-31T10:20:25.608Z"
   },
   {
    "duration": 126,
    "start_time": "2024-07-31T10:21:19.438Z"
   },
   {
    "duration": 76,
    "start_time": "2024-07-31T10:23:22.987Z"
   },
   {
    "duration": 6,
    "start_time": "2024-07-31T10:28:44.488Z"
   },
   {
    "duration": 6,
    "start_time": "2024-07-31T10:32:17.215Z"
   },
   {
    "duration": 5,
    "start_time": "2024-07-31T10:33:04.158Z"
   },
   {
    "duration": 5,
    "start_time": "2024-07-31T10:33:44.387Z"
   },
   {
    "duration": 6,
    "start_time": "2024-07-31T10:33:50.443Z"
   },
   {
    "duration": 65,
    "start_time": "2024-07-31T10:35:08.652Z"
   },
   {
    "duration": 5,
    "start_time": "2024-07-31T10:37:27.530Z"
   },
   {
    "duration": 6,
    "start_time": "2024-07-31T10:37:43.911Z"
   },
   {
    "duration": 83,
    "start_time": "2024-07-31T10:38:46.068Z"
   },
   {
    "duration": 1152,
    "start_time": "2024-07-31T10:43:10.946Z"
   },
   {
    "duration": 30,
    "start_time": "2024-07-31T10:43:12.101Z"
   },
   {
    "duration": 35,
    "start_time": "2024-07-31T10:43:12.133Z"
   },
   {
    "duration": 15,
    "start_time": "2024-07-31T10:43:12.170Z"
   },
   {
    "duration": 13,
    "start_time": "2024-07-31T10:43:12.186Z"
   },
   {
    "duration": 16,
    "start_time": "2024-07-31T10:43:12.200Z"
   },
   {
    "duration": 16,
    "start_time": "2024-07-31T10:43:12.217Z"
   },
   {
    "duration": 50,
    "start_time": "2024-07-31T10:43:12.234Z"
   },
   {
    "duration": 10,
    "start_time": "2024-07-31T10:43:12.287Z"
   },
   {
    "duration": 13,
    "start_time": "2024-07-31T10:43:12.300Z"
   },
   {
    "duration": 7,
    "start_time": "2024-07-31T10:43:12.314Z"
   },
   {
    "duration": 71,
    "start_time": "2024-07-31T10:43:12.323Z"
   },
   {
    "duration": 17,
    "start_time": "2024-07-31T10:43:12.396Z"
   },
   {
    "duration": 6,
    "start_time": "2024-07-31T10:43:12.416Z"
   },
   {
    "duration": 24,
    "start_time": "2024-07-31T10:43:12.423Z"
   },
   {
    "duration": 33,
    "start_time": "2024-07-31T10:43:12.449Z"
   },
   {
    "duration": 8,
    "start_time": "2024-07-31T10:43:12.485Z"
   },
   {
    "duration": 7,
    "start_time": "2024-07-31T10:43:12.494Z"
   },
   {
    "duration": 8,
    "start_time": "2024-07-31T10:43:12.502Z"
   },
   {
    "duration": 8,
    "start_time": "2024-07-31T10:43:12.512Z"
   },
   {
    "duration": 11,
    "start_time": "2024-07-31T10:43:12.521Z"
   },
   {
    "duration": 8,
    "start_time": "2024-07-31T10:43:12.534Z"
   },
   {
    "duration": 5,
    "start_time": "2024-07-31T10:43:12.544Z"
   },
   {
    "duration": 3,
    "start_time": "2024-07-31T10:43:12.550Z"
   },
   {
    "duration": 33,
    "start_time": "2024-07-31T10:43:12.555Z"
   },
   {
    "duration": 225,
    "start_time": "2024-07-31T10:43:12.589Z"
   },
   {
    "duration": 308,
    "start_time": "2024-07-31T10:43:12.816Z"
   },
   {
    "duration": 13,
    "start_time": "2024-07-31T10:43:13.128Z"
   },
   {
    "duration": 244,
    "start_time": "2024-07-31T10:43:13.143Z"
   },
   {
    "duration": 244,
    "start_time": "2024-07-31T10:43:13.389Z"
   },
   {
    "duration": 9,
    "start_time": "2024-07-31T10:43:13.635Z"
   },
   {
    "duration": 298,
    "start_time": "2024-07-31T10:43:13.646Z"
   },
   {
    "duration": 14,
    "start_time": "2024-07-31T10:43:13.946Z"
   },
   {
    "duration": 279,
    "start_time": "2024-07-31T10:43:13.962Z"
   },
   {
    "duration": 9,
    "start_time": "2024-07-31T10:43:14.242Z"
   },
   {
    "duration": 9,
    "start_time": "2024-07-31T10:43:14.252Z"
   },
   {
    "duration": 26,
    "start_time": "2024-07-31T10:43:14.263Z"
   },
   {
    "duration": 22,
    "start_time": "2024-07-31T10:43:14.291Z"
   },
   {
    "duration": 4,
    "start_time": "2024-07-31T10:43:14.316Z"
   },
   {
    "duration": 5,
    "start_time": "2024-07-31T10:43:14.322Z"
   },
   {
    "duration": 4,
    "start_time": "2024-07-31T10:43:14.329Z"
   },
   {
    "duration": 5,
    "start_time": "2024-07-31T10:43:14.335Z"
   },
   {
    "duration": 47,
    "start_time": "2024-07-31T10:43:14.341Z"
   },
   {
    "duration": 18,
    "start_time": "2024-07-31T10:43:14.390Z"
   },
   {
    "duration": 15,
    "start_time": "2024-07-31T10:43:14.410Z"
   },
   {
    "duration": 230,
    "start_time": "2024-07-31T10:43:14.427Z"
   },
   {
    "duration": 275,
    "start_time": "2024-07-31T10:43:14.659Z"
   },
   {
    "duration": 61,
    "start_time": "2024-07-31T10:43:14.935Z"
   },
   {
    "duration": 4,
    "start_time": "2024-07-31T10:43:14.998Z"
   },
   {
    "duration": 20,
    "start_time": "2024-07-31T10:43:15.003Z"
   },
   {
    "duration": 7,
    "start_time": "2024-07-31T10:43:15.025Z"
   },
   {
    "duration": 101,
    "start_time": "2024-07-31T10:43:15.034Z"
   },
   {
    "duration": 51,
    "start_time": "2024-07-31T10:43:15.137Z"
   },
   {
    "duration": 14,
    "start_time": "2024-07-31T10:43:15.190Z"
   },
   {
    "duration": 22,
    "start_time": "2024-07-31T10:43:15.206Z"
   },
   {
    "duration": 354,
    "start_time": "2024-07-31T10:43:15.230Z"
   },
   {
    "duration": 5,
    "start_time": "2024-07-31T10:43:15.586Z"
   },
   {
    "duration": 297,
    "start_time": "2024-07-31T10:43:15.592Z"
   },
   {
    "duration": 1011,
    "start_time": "2024-07-31T18:38:37.225Z"
   },
   {
    "duration": 31,
    "start_time": "2024-07-31T18:38:38.238Z"
   },
   {
    "duration": 32,
    "start_time": "2024-07-31T18:38:38.270Z"
   },
   {
    "duration": 16,
    "start_time": "2024-07-31T18:38:38.304Z"
   },
   {
    "duration": 11,
    "start_time": "2024-07-31T18:38:38.321Z"
   },
   {
    "duration": 29,
    "start_time": "2024-07-31T18:38:38.333Z"
   },
   {
    "duration": 13,
    "start_time": "2024-07-31T18:38:38.363Z"
   },
   {
    "duration": 40,
    "start_time": "2024-07-31T18:38:38.377Z"
   },
   {
    "duration": 11,
    "start_time": "2024-07-31T18:38:38.419Z"
   },
   {
    "duration": 10,
    "start_time": "2024-07-31T18:38:38.431Z"
   },
   {
    "duration": 10,
    "start_time": "2024-07-31T18:38:38.442Z"
   },
   {
    "duration": 24,
    "start_time": "2024-07-31T18:38:38.453Z"
   },
   {
    "duration": 31,
    "start_time": "2024-07-31T18:38:38.478Z"
   },
   {
    "duration": 10,
    "start_time": "2024-07-31T18:38:38.512Z"
   },
   {
    "duration": 7,
    "start_time": "2024-07-31T18:38:38.523Z"
   },
   {
    "duration": 9,
    "start_time": "2024-07-31T18:38:38.532Z"
   },
   {
    "duration": 6,
    "start_time": "2024-07-31T18:38:38.542Z"
   },
   {
    "duration": 12,
    "start_time": "2024-07-31T18:38:38.549Z"
   },
   {
    "duration": 8,
    "start_time": "2024-07-31T18:38:38.563Z"
   },
   {
    "duration": 8,
    "start_time": "2024-07-31T18:38:38.572Z"
   },
   {
    "duration": 13,
    "start_time": "2024-07-31T18:38:38.582Z"
   },
   {
    "duration": 8,
    "start_time": "2024-07-31T18:38:38.597Z"
   },
   {
    "duration": 5,
    "start_time": "2024-07-31T18:38:38.606Z"
   },
   {
    "duration": 4,
    "start_time": "2024-07-31T18:38:38.612Z"
   },
   {
    "duration": 7,
    "start_time": "2024-07-31T18:38:38.617Z"
   },
   {
    "duration": 207,
    "start_time": "2024-07-31T18:38:38.625Z"
   },
   {
    "duration": 177,
    "start_time": "2024-07-31T18:38:38.833Z"
   },
   {
    "duration": 11,
    "start_time": "2024-07-31T18:38:39.012Z"
   },
   {
    "duration": 144,
    "start_time": "2024-07-31T18:38:39.025Z"
   },
   {
    "duration": 177,
    "start_time": "2024-07-31T18:38:39.171Z"
   },
   {
    "duration": 7,
    "start_time": "2024-07-31T18:38:39.350Z"
   },
   {
    "duration": 198,
    "start_time": "2024-07-31T18:38:39.358Z"
   },
   {
    "duration": 7,
    "start_time": "2024-07-31T18:38:39.557Z"
   },
   {
    "duration": 195,
    "start_time": "2024-07-31T18:38:39.566Z"
   },
   {
    "duration": 7,
    "start_time": "2024-07-31T18:38:39.763Z"
   },
   {
    "duration": 7,
    "start_time": "2024-07-31T18:38:39.782Z"
   },
   {
    "duration": 14,
    "start_time": "2024-07-31T18:38:39.791Z"
   },
   {
    "duration": 11,
    "start_time": "2024-07-31T18:38:39.806Z"
   },
   {
    "duration": 6,
    "start_time": "2024-07-31T18:38:39.818Z"
   },
   {
    "duration": 4,
    "start_time": "2024-07-31T18:38:39.825Z"
   },
   {
    "duration": 4,
    "start_time": "2024-07-31T18:38:39.832Z"
   },
   {
    "duration": 4,
    "start_time": "2024-07-31T18:38:39.837Z"
   },
   {
    "duration": 8,
    "start_time": "2024-07-31T18:38:39.842Z"
   },
   {
    "duration": 44,
    "start_time": "2024-07-31T18:38:39.852Z"
   },
   {
    "duration": 13,
    "start_time": "2024-07-31T18:38:39.898Z"
   },
   {
    "duration": 182,
    "start_time": "2024-07-31T18:38:39.912Z"
   },
   {
    "duration": 196,
    "start_time": "2024-07-31T18:38:40.096Z"
   },
   {
    "duration": 129,
    "start_time": "2024-07-31T18:38:40.294Z"
   },
   {
    "duration": 3,
    "start_time": "2024-07-31T18:38:40.424Z"
   },
   {
    "duration": 15,
    "start_time": "2024-07-31T18:38:40.428Z"
   },
   {
    "duration": 5,
    "start_time": "2024-07-31T18:38:40.444Z"
   },
   {
    "duration": 14,
    "start_time": "2024-07-31T18:38:40.450Z"
   },
   {
    "duration": 23,
    "start_time": "2024-07-31T18:38:40.466Z"
   },
   {
    "duration": 12,
    "start_time": "2024-07-31T18:38:40.490Z"
   },
   {
    "duration": 7,
    "start_time": "2024-07-31T18:38:40.503Z"
   },
   {
    "duration": 280,
    "start_time": "2024-07-31T18:38:40.511Z"
   },
   {
    "duration": 4,
    "start_time": "2024-07-31T18:38:40.793Z"
   },
   {
    "duration": 201,
    "start_time": "2024-07-31T18:38:40.798Z"
   }
  ],
  "kernelspec": {
   "display_name": "Python 3 (ipykernel)",
   "language": "python",
   "name": "python3"
  },
  "language_info": {
   "codemirror_mode": {
    "name": "ipython",
    "version": 3
   },
   "file_extension": ".py",
   "mimetype": "text/x-python",
   "name": "python",
   "nbconvert_exporter": "python",
   "pygments_lexer": "ipython3",
   "version": "3.11.7"
  },
  "toc": {
   "base_numbering": 1,
   "nav_menu": {},
   "number_sections": true,
   "sideBar": true,
   "skip_h1_title": true,
   "title_cell": "Table of Contents",
   "title_sidebar": "Contents",
   "toc_cell": false,
   "toc_position": {},
   "toc_section_display": true,
   "toc_window_display": false
  }
 },
 "nbformat": 4,
 "nbformat_minor": 5
}
